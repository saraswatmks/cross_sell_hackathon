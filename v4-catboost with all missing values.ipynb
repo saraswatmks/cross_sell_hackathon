{
 "cells": [
  {
   "cell_type": "markdown",
   "metadata": {},
   "source": [
    "### remove value with >=99% missing\n"
   ]
  },
  {
   "cell_type": "code",
   "execution_count": 1,
   "metadata": {
    "collapsed": true
   },
   "outputs": [],
   "source": [
    "import pandas as pd\n",
    "import numpy as np\n",
    "from sklearn.preprocessing import LabelEncoder\n",
    "from sklearn.decomposition import TruncatedSVD, PCA, FastICA\n",
    "from sklearn.random_projection import GaussianRandomProjection, SparseRandomProjection\n",
    "from sklearn.ensemble import ExtraTreesClassifier\n",
    "from sklearn.metrics import roc_auc_score\n",
    "from sklearn.pipeline import make_pipeline, make_union"
   ]
  },
  {
   "cell_type": "code",
   "execution_count": 2,
   "metadata": {
    "collapsed": true
   },
   "outputs": [],
   "source": [
    "pd.set_option('display.max_columns', 1000)\n",
    "pd.set_option('display.max_rows', 10000)"
   ]
  },
  {
   "cell_type": "code",
   "execution_count": 3,
   "metadata": {
    "collapsed": false
   },
   "outputs": [
    {
     "name": "stderr",
     "output_type": "stream",
     "text": [
      "/home/manish/anaconda2/envs/py35/lib/python3.5/site-packages/IPython/core/interactiveshell.py:2717: DtypeWarning: Columns (8,11,12,13,14,15,16,17,18,19,21,23,26,28,29,30,32,82,83,85,91,269,325,326,327,328) have mixed types. Specify dtype option on import or set low_memory=False.\n",
      "  interactivity=interactivity, compiler=compiler, result=result)\n",
      "/home/manish/anaconda2/envs/py35/lib/python3.5/site-packages/IPython/core/interactiveshell.py:2717: DtypeWarning: Columns (8,11,12,13,14,15,16,17,18,19,26,28,29,30,82,83,85,91,269,325,326,327,328) have mixed types. Specify dtype option on import or set low_memory=False.\n",
      "  interactivity=interactivity, compiler=compiler, result=result)\n"
     ]
    }
   ],
   "source": [
    "with open('train_iI26erW/train.csv', 'r') as fp, open('test_plBmD8c.csv') as fg:\n",
    "    train = pd.read_csv(fp)\n",
    "    test = pd.read_csv(fg)"
   ]
  },
  {
   "cell_type": "code",
   "execution_count": 4,
   "metadata": {
    "collapsed": false
   },
   "outputs": [
    {
     "name": "stdout",
     "output_type": "stream",
     "text": [
      "(300000, 333)\n",
      "(200000, 332)\n"
     ]
    }
   ],
   "source": [
    "print(train.shape)\n",
    "print(test.shape)"
   ]
  },
  {
   "cell_type": "code",
   "execution_count": 5,
   "metadata": {
    "collapsed": true
   },
   "outputs": [],
   "source": [
    "## count no. of NA per row\n",
    "\n",
    "train['na_count'] = train.isnull().sum(axis=1)\n",
    "test['na_count'] = test.isnull().sum(axis=1)"
   ]
  },
  {
   "cell_type": "code",
   "execution_count": 6,
   "metadata": {
    "collapsed": false
   },
   "outputs": [],
   "source": [
    "## net balance after spending in mon 1\n",
    "addCols = [x for x in train.columns if 'CARD_' in x]\n",
    "train['add_spend_mon1'] = train[addCols].sum(axis = 1) \n",
    "test['add_spend_mon1'] = test[addCols].sum(axis = 1)\n",
    "\n",
    "train['add_spend_mon1'] = train['add_spend_mon1'].map(lambda x: x.count('Y'))\n",
    "test['add_spend_mon1'] = test['add_spend_mon1'].map(lambda x: x.count('Y'))"
   ]
  },
  {
   "cell_type": "code",
   "execution_count": 7,
   "metadata": {
    "collapsed": true
   },
   "outputs": [],
   "source": [
    "train['CLOSED_DATE'] = train['CLOSED_DATE'].astype(str)\n",
    "test['CLOSED_DATE'] = test['CLOSED_DATE'].astype(str)"
   ]
  },
  {
   "cell_type": "code",
   "execution_count": 8,
   "metadata": {
    "collapsed": false
   },
   "outputs": [],
   "source": [
    "def getDateFormat(val):\n",
    "    if not val == 'nan':\n",
    "        try:\n",
    "            a = datetime.strptime(val, '%d%b%Y')\n",
    "            b = a.strftime('%Y-%m-%d')\n",
    "            return b\n",
    "        except TypeError:\n",
    "            return np.nan\n",
    "    else:\n",
    "        return np.nan"
   ]
  },
  {
   "cell_type": "code",
   "execution_count": 9,
   "metadata": {
    "collapsed": false
   },
   "outputs": [],
   "source": [
    "from datetime import datetime\n",
    "\n",
    "train['closed_date_format'] = train['CLOSED_DATE'].map(getDateFormat)\n",
    "test['closed_date_format'] = test['CLOSED_DATE'].map(getDateFormat)\n",
    "\n",
    "train['maturity_gl_format'] = train['MATURITY_GL'].map(getDateFormat)\n",
    "test['maturity_gl_format'] = test['MATURITY_GL'].map(getDateFormat)\n",
    "\n",
    "train['maturity_lap_format'] = train['MATURITY_LAP'].map(getDateFormat)\n",
    "test['maturity_lap_format'] = test['MATURITY_LAP'].map(getDateFormat)\n",
    "\n",
    "train['maturity_las_format'] = train['MATURITY_LAS'].map(getDateFormat)\n",
    "test['maturity_las_format'] = test['MATURITY_LAS'].map(getDateFormat)"
   ]
  },
  {
   "cell_type": "code",
   "execution_count": 10,
   "metadata": {
    "collapsed": true
   },
   "outputs": [],
   "source": [
    "## drop date formats\n",
    "train.drop(['CLOSED_DATE','MATURITY_GL','MATURITY_LAP','MATURITY_LAS'], axis=1, inplace=True)\n",
    "test.drop(['CLOSED_DATE','MATURITY_GL','MATURITY_LAP','MATURITY_LAS'], axis=1, inplace=True)"
   ]
  },
  {
   "cell_type": "code",
   "execution_count": 11,
   "metadata": {
    "collapsed": false
   },
   "outputs": [],
   "source": [
    "## date features\n",
    "\n",
    "train['closed_date_format'] = pd.to_datetime(train['closed_date_format'])\n",
    "test['closed_date_format'] = pd.to_datetime(test['closed_date_format'])\n",
    "\n",
    "train['maturity_gl_format'] = pd.to_datetime(train['maturity_gl_format'])\n",
    "test['maturity_gl_format'] = pd.to_datetime(test['maturity_gl_format'])\n",
    "\n",
    "train['maturity_lap_format'] = pd.to_datetime(train['maturity_lap_format'])\n",
    "test['maturity_lap_format'] = pd.to_datetime(test['maturity_lap_format'])\n",
    "\n",
    "train['maturity_las_format'] = pd.to_datetime(train['maturity_las_format'])\n",
    "test['maturity_las_format'] = pd.to_datetime(test['maturity_las_format'])"
   ]
  },
  {
   "cell_type": "code",
   "execution_count": 12,
   "metadata": {
    "collapsed": true
   },
   "outputs": [],
   "source": [
    "train['closed_date_weekday'] = train['closed_date_format'].dt.weekday\n",
    "test['closed_date_weekday'] = test['closed_date_format'].dt.weekday\n",
    "\n",
    "train['closed_date_year'] = train['closed_date_format'].dt.year\n",
    "test['closed_date_year'] = test['closed_date_format'].dt.year\n",
    "\n",
    "train['closed_date_month'] = train['closed_date_format'].dt.month\n",
    "test['closed_date_month'] = test['closed_date_format'].dt.month\n",
    "\n",
    "train['closed_date_day'] = train['closed_date_format'].dt.day\n",
    "test['closed_date_day'] = test['closed_date_format'].dt.day\n",
    "\n",
    "#########################################################\n",
    "\n",
    "train['maturity_gl_weekday'] = train['maturity_gl_format'].dt.weekday\n",
    "test['maturity_gl_weekday'] = test['maturity_gl_format'].dt.weekday\n",
    "\n",
    "train['maturity_gl_year'] = train['maturity_gl_format'].dt.year\n",
    "test['maturity_gl_year'] = test['maturity_gl_format'].dt.year\n",
    "\n",
    "train['maturity_gl_month'] = train['maturity_gl_format'].dt.month\n",
    "test['maturity_gl_month'] = test['maturity_gl_format'].dt.month\n",
    "\n",
    "train['maturity_gl_day'] = train['maturity_gl_format'].dt.day\n",
    "test['maturity_gl_day'] = test['maturity_gl_format'].dt.day\n",
    "\n",
    "################################################################\n",
    "\n",
    "train['maturity_lap_weekday'] = train['maturity_lap_format'].dt.weekday\n",
    "test['maturity_lap_weekday'] = test['maturity_lap_format'].dt.weekday\n",
    "\n",
    "train['maturity_lap_year'] = train['maturity_lap_format'].dt.year\n",
    "test['maturity_lap_year'] = test['maturity_lap_format'].dt.year\n",
    "\n",
    "train['maturity_lap_month'] = train['maturity_lap_format'].dt.month\n",
    "test['maturity_lap_month'] = test['maturity_lap_format'].dt.month\n",
    "\n",
    "train['maturity_lap_day'] = train['maturity_lap_format'].dt.day\n",
    "test['maturity_lap_day'] = test['maturity_lap_format'].dt.day\n",
    "\n",
    "######################################################################\n",
    "\n",
    "train['maturity_las_weekday'] = train['maturity_las_format'].dt.weekday\n",
    "test['maturity_las_weekday'] = test['maturity_las_format'].dt.weekday\n",
    "\n",
    "train['maturity_las_year'] = train['maturity_las_format'].dt.year\n",
    "test['maturity_las_year'] = test['maturity_las_format'].dt.year\n",
    "\n",
    "train['maturity_las_month'] = train['maturity_las_format'].dt.month\n",
    "test['maturity_las_month'] = test['maturity_las_format'].dt.month\n",
    "\n",
    "train['maturity_las_day'] = train['maturity_las_format'].dt.day\n",
    "test['maturity_las_day'] = test['maturity_las_format'].dt.day\n",
    "\n",
    "######################################################################\n"
   ]
  },
  {
   "cell_type": "code",
   "execution_count": 13,
   "metadata": {
    "collapsed": false
   },
   "outputs": [],
   "source": [
    "formatCols = [x for x in train.columns if  '_format' in x]\n",
    "train.drop(formatCols, axis=1, inplace=True)\n",
    "test.drop(formatCols, axis=1, inplace=True)"
   ]
  },
  {
   "cell_type": "code",
   "execution_count": 14,
   "metadata": {
    "collapsed": true
   },
   "outputs": [],
   "source": [
    "train['net_emi_paid'] = train['HL_EMI'] / train['SCRUB_EMI']\n",
    "test['net_emi_paid'] = test['HL_EMI'] / test['SCRUB_EMI']\n",
    "\n",
    "train['total_salary_credited'] = train['SAL_MON_01'] + train['SAL_MON_02'] + train['SAL_MON_03']\n",
    "test['total_salary_credited'] = test['SAL_MON_01'] + test['SAL_MON_02'] + test['SAL_MON_03']"
   ]
  },
  {
   "cell_type": "code",
   "execution_count": 15,
   "metadata": {
    "collapsed": false
   },
   "outputs": [],
   "source": [
    "train['total_balance'] = train['EOP_MON_02'] + train['EOP_MON_03'] + train['EOP_BAL_MON_01']\n",
    "test['total_balance'] =  test['EOP_MON_02'] + test['EOP_MON_03'] + test['EOP_BAL_MON_01']"
   ]
  },
  {
   "cell_type": "code",
   "execution_count": 16,
   "metadata": {
    "collapsed": false
   },
   "outputs": [],
   "source": [
    "cardCols = [x for x in train.columns if 'CARD_' in x]\n",
    "\n",
    "for x in cardCols:\n",
    "    train[x] = train[x].map(lambda x: 1 if x == 'Y' else 0)\n",
    "    test[x] = test[x].map(lambda x: 1 if x == 'Y' else 0)"
   ]
  },
  {
   "cell_type": "code",
   "execution_count": 17,
   "metadata": {
    "collapsed": true
   },
   "outputs": [],
   "source": [
    "train['spent_sum'] = train[cardCols].sum(axis=1)\n",
    "test['spent_sum'] = test[cardCols].sum(axis=1)"
   ]
  },
  {
   "cell_type": "code",
   "execution_count": 18,
   "metadata": {
    "collapsed": false
   },
   "outputs": [],
   "source": [
    "dcount = [x for x in train.columns if 'D_COUNT' in x]\n",
    "ccount = [x for x in train.columns if 'C_COUNT' in x]\n",
    "\n",
    "train['debit_count'] = train[dcount].sum(axis=1)\n",
    "train['credit_count'] = train[ccount].sum(axis=1)\n",
    "\n",
    "test['debit_count'] = test[dcount].sum(axis=1)\n",
    "test['credit_count'] = test[ccount].sum(axis=1)"
   ]
  },
  {
   "cell_type": "code",
   "execution_count": 19,
   "metadata": {
    "collapsed": true
   },
   "outputs": [],
   "source": [
    "damount = [x for x in train.columns if 'D_AMT' in x]\n",
    "camount = [x for x in train.columns if 'C_AMT' in x]\n",
    "\n",
    "train['debit_amount'] = train[damount].sum(axis=1)\n",
    "train['credit_amount'] = train[camount].sum(axis=1)\n",
    "\n",
    "test['debit_amount'] = test[damount].sum(axis=1)\n",
    "test['credit_amount'] = test[camount].sum(axis=1)"
   ]
  },
  {
   "cell_type": "code",
   "execution_count": 20,
   "metadata": {
    "collapsed": false
   },
   "outputs": [],
   "source": [
    "train['DESIGNATION_FINAL'] = train['DESIGNATION_FINAL'].map(lambda x: np.nan if x == 'MISSING' else x)\n",
    "test['DESIGNATION_FINAL'] = test['DESIGNATION_FINAL'].map(lambda x: np.nan if x == 'MISSING' else x)"
   ]
  },
  {
   "cell_type": "code",
   "execution_count": 21,
   "metadata": {
    "collapsed": true
   },
   "outputs": [],
   "source": [
    "dest_tr = pd.get_dummies(train['DESIGNATION_FINAL'])\n",
    "det_te = pd.get_dummies(test['DESIGNATION_FINAL'])"
   ]
  },
  {
   "cell_type": "code",
   "execution_count": 22,
   "metadata": {
    "collapsed": true
   },
   "outputs": [],
   "source": [
    "train = pd.concat([train, dest_tr], axis=1)\n",
    "test = pd.concat([test, det_te], axis=1)"
   ]
  },
  {
   "cell_type": "code",
   "execution_count": 23,
   "metadata": {
    "collapsed": false
   },
   "outputs": [],
   "source": [
    "train.drop('DESIGNATION_FINAL', axis=1, inplace=True)\n",
    "test.drop('DESIGNATION_FINAL', axis=1, inplace=True)"
   ]
  },
  {
   "cell_type": "code",
   "execution_count": 24,
   "metadata": {
    "collapsed": true
   },
   "outputs": [],
   "source": [
    "ccspend = sorted([x for x in train.columns if 'CC_SPEND' in x])\n",
    "dcspend = sorted([x for x in train.columns if 'DC_SPEND' in x])"
   ]
  },
  {
   "cell_type": "code",
   "execution_count": 25,
   "metadata": {
    "collapsed": false
   },
   "outputs": [],
   "source": [
    "train['credit_spent'] = train['CC_SPEND_MON_01'] + train['CC_SPEND_MON_02'] + train['CC_SPEND_MON_03'] +train['CC_SPEND_MON_04'] + train['CC_SPEND_MON_05'] + train['CC_SPEND_MON_06'] \n",
    "test['credit_spent'] = test['CC_SPEND_MON_01'] + test['CC_SPEND_MON_02'] + test['CC_SPEND_MON_03'] + test['CC_SPEND_MON_04'] + test['CC_SPEND_MON_05'] + test['CC_SPEND_MON_06'] \n",
    "\n",
    "train['debit_spent'] = train['DC_SPEND_MON_01'] + train['DC_SPEND_MON_02'] + train['DC_SPEND_MON_03'] +train['DC_SPEND_MON_04'] + train['DC_SPEND_MON_05'] + train['DC_SPEND_MON_06'] \n",
    "test['debit_spent'] = test['DC_SPEND_MON_01'] + test['DC_SPEND_MON_02'] + test['DC_SPEND_MON_03'] +test['DC_SPEND_MON_04'] + test['DC_SPEND_MON_05'] + test['DC_SPEND_MON_06'] "
   ]
  },
  {
   "cell_type": "code",
   "execution_count": 26,
   "metadata": {
    "collapsed": true
   },
   "outputs": [],
   "source": [
    "cats= ['_ATM', '_CARE', '_ENT', '_HBY', '_HMD', '_HTL', '_JER', '_MED', '_RST', '_TRL']"
   ]
  },
  {
   "cell_type": "code",
   "execution_count": 27,
   "metadata": {
    "collapsed": true
   },
   "outputs": [],
   "source": [
    "## total sum by categories\n",
    "for i in ccspend:\n",
    "    for j in cats:\n",
    "        p = []\n",
    "        if i.endswith(j):\n",
    "            p.append(i)\n",
    "        train['cc_sum_'+j] = train[p].sum(axis=1)\n",
    "        test['cc_sum_'+j] = test[p].sum(axis=1)"
   ]
  },
  {
   "cell_type": "code",
   "execution_count": 28,
   "metadata": {
    "collapsed": true
   },
   "outputs": [],
   "source": [
    "## total sum by debit category\n",
    "for i in dcspend:\n",
    "    for j in cats:\n",
    "        p = []\n",
    "        if i.endswith(j):\n",
    "            p.append(i)\n",
    "        train['dc_sum_'+j] = train[p].sum(axis=1)\n",
    "        test['dc_sum_'+j] = test[p].sum(axis=1)"
   ]
  },
  {
   "cell_type": "code",
   "execution_count": 29,
   "metadata": {
    "collapsed": false
   },
   "outputs": [],
   "source": [
    "## total credit spent is greater than credit limit\n",
    "\n",
    "train['is_exceed_credit'] = train.apply(lambda row: 1 if (row['STMT_MON_01'] + row['STMT_MON_02'] + row['STMT_MON_03']) > row['CR_LIMIT'] else 0, axis=1)\n",
    "test['is_exceed_credit'] = test.apply(lambda row: 1 if (row['STMT_MON_01'] + row['STMT_MON_02'] + row['STMT_MON_03']) > row['CR_LIMIT'] else 0, axis =1)"
   ]
  },
  {
   "cell_type": "code",
   "execution_count": 30,
   "metadata": {
    "collapsed": true
   },
   "outputs": [],
   "source": [
    "## count live, closed loans\n",
    "liveLoan = [x for x in train.columns if 'SCRUB_LIVE' in x]\n",
    "closedLoan = [x for x in train.columns if 'SCRUB_CLOSED' in x]\n",
    "\n",
    "train['live_loan_count'] = train[liveLoan].sum(axis=1)\n",
    "train['closed_loan_count'] = train[closedLoan].sum(axis=1)\n",
    "\n",
    "test['live_loan_count'] = test[liveLoan].sum(axis=1)\n",
    "test['closed_loan_count'] = test[closedLoan].sum(axis=1)"
   ]
  },
  {
   "cell_type": "code",
   "execution_count": 31,
   "metadata": {
    "collapsed": true
   },
   "outputs": [],
   "source": [
    "txn_mon = [x for x in train.columns if 'TXN_MON' in x]\n",
    "txn_mon = txn_mon[:-1]"
   ]
  },
  {
   "cell_type": "code",
   "execution_count": 32,
   "metadata": {
    "collapsed": false
   },
   "outputs": [],
   "source": [
    "for c in txn_mon:\n",
    "    p = []\n",
    "    if 'CC_TXN' in c:\n",
    "        p.append(c)\n",
    "    train['total_credit_tran'] = train[p].sum(axis=1)\n",
    "    test['total_credit_tran'] = test[p].sum(axis=1)\n",
    "    \n",
    "for k in txn_mon:\n",
    "    j = []\n",
    "    if 'DC_TXN' in k:\n",
    "        j.append(c)\n",
    "    train['total_debit_tran'] = train[j].sum(axis=1)\n",
    "    test['total_debit_tran'] = test[j].sum(axis=1)"
   ]
  },
  {
   "cell_type": "code",
   "execution_count": 33,
   "metadata": {
    "collapsed": false
   },
   "outputs": [
    {
     "name": "stdout",
     "output_type": "stream",
     "text": [
      "(300000, 391)\n",
      "(200000, 390)\n"
     ]
    }
   ],
   "source": [
    "print(train.shape)\n",
    "print(test.shape)"
   ]
  },
  {
   "cell_type": "markdown",
   "metadata": {},
   "source": [
    "### one hot encoding"
   ]
  },
  {
   "cell_type": "code",
   "execution_count": 34,
   "metadata": {
    "collapsed": true
   },
   "outputs": [],
   "source": [
    "objCols = train.select_dtypes(include=['object']).columns"
   ]
  },
  {
   "cell_type": "code",
   "execution_count": 35,
   "metadata": {
    "collapsed": false
   },
   "outputs": [],
   "source": [
    "countDict = {}\n",
    "for x in objCols:\n",
    "    if train[x].nunique() > 2:\n",
    "        countDict[x] = train[x].nunique()\n",
    "        \n",
    "oneHotCols = list(countDict.keys())"
   ]
  },
  {
   "cell_type": "code",
   "execution_count": 36,
   "metadata": {
    "collapsed": false
   },
   "outputs": [],
   "source": [
    "## check if object columns in both datasets have same unique values\n",
    "\n",
    "for x in oneHotCols:\n",
    "    if train[x].nunique() != test[x].nunique():\n",
    "        set_train = set(train[x].unique())\n",
    "        set_test = set(test[x].unique())\n",
    "        \n",
    "        remove_train = set_train - set_test\n",
    "        remove_test = set_test - set_train\n",
    "        \n",
    "        remove = remove_train.union(remove_test)\n",
    "        \n",
    "        def filter_cat(x):\n",
    "            if x in remove:\n",
    "                return np.nan\n",
    "            return x\n",
    "        \n",
    "        train[x] = train[x].map(filter_cat)\n",
    "        test[x] = test[x].map(filter_cat)"
   ]
  },
  {
   "cell_type": "code",
   "execution_count": 37,
   "metadata": {
    "collapsed": true
   },
   "outputs": [],
   "source": [
    "oneHotCols = [x for x in oneHotCols if 'ZIP_CODE' not in x]"
   ]
  },
  {
   "cell_type": "code",
   "execution_count": 38,
   "metadata": {
    "collapsed": true
   },
   "outputs": [],
   "source": [
    "oneHot_train = pd.get_dummies(data=train[oneHotCols])\n",
    "oneHot_test = pd.get_dummies(data=test[oneHotCols])"
   ]
  },
  {
   "cell_type": "code",
   "execution_count": 39,
   "metadata": {
    "collapsed": false
   },
   "outputs": [
    {
     "name": "stdout",
     "output_type": "stream",
     "text": [
      "(300000, 221)\n",
      "(200000, 221)\n"
     ]
    }
   ],
   "source": [
    "print(oneHot_train.shape)\n",
    "print(oneHot_test.shape)"
   ]
  },
  {
   "cell_type": "code",
   "execution_count": 40,
   "metadata": {
    "collapsed": true
   },
   "outputs": [],
   "source": [
    "train = pd.concat([train, oneHot_train], axis=1)\n",
    "test = pd.concat([test, oneHot_test], axis=1)"
   ]
  },
  {
   "cell_type": "code",
   "execution_count": 41,
   "metadata": {
    "collapsed": false
   },
   "outputs": [],
   "source": [
    "train.drop(oneHotCols, axis=1, inplace=True)\n",
    "test.drop(oneHotCols, axis=1, inplace=True)"
   ]
  },
  {
   "cell_type": "code",
   "execution_count": 42,
   "metadata": {
    "collapsed": true
   },
   "outputs": [],
   "source": [
    "del oneHot_test, oneHot_train"
   ]
  },
  {
   "cell_type": "code",
   "execution_count": 43,
   "metadata": {
    "collapsed": false
   },
   "outputs": [
    {
     "data": {
      "text/plain": [
       "84"
      ]
     },
     "execution_count": 43,
     "metadata": {},
     "output_type": "execute_result"
    }
   ],
   "source": [
    "import gc\n",
    "gc.collect()"
   ]
  },
  {
   "cell_type": "code",
   "execution_count": 44,
   "metadata": {
    "collapsed": false
   },
   "outputs": [
    {
     "name": "stdout",
     "output_type": "stream",
     "text": [
      "(300000, 603)\n",
      "(200000, 602)\n"
     ]
    }
   ],
   "source": [
    "print(train.shape)\n",
    "print(test.shape)"
   ]
  },
  {
   "cell_type": "markdown",
   "metadata": {},
   "source": [
    "### label encoding"
   ]
  },
  {
   "cell_type": "code",
   "execution_count": 50,
   "metadata": {
    "collapsed": false
   },
   "outputs": [
    {
     "name": "stdout",
     "output_type": "stream",
     "text": [
      "RESPONDERS\n"
     ]
    }
   ],
   "source": [
    "for x in train.columns:\n",
    "    if x not in test.columns:\n",
    "        print(x)"
   ]
  },
  {
   "cell_type": "code",
   "execution_count": 51,
   "metadata": {
    "collapsed": false
   },
   "outputs": [],
   "source": [
    "for x in test.columns:\n",
    "    if x not in train.columns:\n",
    "        print(x)"
   ]
  },
  {
   "cell_type": "code",
   "execution_count": 47,
   "metadata": {
    "collapsed": true
   },
   "outputs": [],
   "source": [
    "train.drop(['NEFT_CC_CATEGORY_WEDDING','NEFT_DC_CATEGORY_RETURN'], axis=1, inplace=True)\n",
    "test.drop(['NEFT_CC_CATEGORY_CC_PAYMENT','NEFT_DC_CATEGORY_ADVANCE'], axis=1, inplace=True)"
   ]
  },
  {
   "cell_type": "markdown",
   "metadata": {},
   "source": [
    "### remove columns with missing values - then label encode"
   ]
  },
  {
   "cell_type": "code",
   "execution_count": 52,
   "metadata": {
    "collapsed": true
   },
   "outputs": [],
   "source": [
    "misCols = train.isnull().sum(axis=0)/train.shape[0]\n",
    "toremove = []\n",
    "\n",
    "for k, v in misCols.iteritems():\n",
    "    if v >= 0.99:\n",
    "        toremove.append(k)"
   ]
  },
  {
   "cell_type": "code",
   "execution_count": 53,
   "metadata": {
    "collapsed": false
   },
   "outputs": [
    {
     "data": {
      "text/plain": [
       "111"
      ]
     },
     "execution_count": 53,
     "metadata": {},
     "output_type": "execute_result"
    }
   ],
   "source": [
    "len(toremove)"
   ]
  },
  {
   "cell_type": "code",
   "execution_count": 55,
   "metadata": {
    "collapsed": true
   },
   "outputs": [],
   "source": [
    "train.drop('OCCUP_ALL_NEW', axis=1, inplace=True)\n",
    "test.drop('OCCUP_ALL_NEW', axis=1, inplace=True)"
   ]
  },
  {
   "cell_type": "code",
   "execution_count": 56,
   "metadata": {
    "collapsed": true
   },
   "outputs": [],
   "source": [
    "train.drop(toremove, inplace=True, axis=1)\n",
    "test.drop(toremove, inplace=True, axis=1)"
   ]
  },
  {
   "cell_type": "code",
   "execution_count": 57,
   "metadata": {
    "collapsed": false,
    "scrolled": true
   },
   "outputs": [],
   "source": [
    "for c in train.select_dtypes(include=['object']).columns:\n",
    "    if c not in ['CUSTOMER_ID','RESPONDERS']:\n",
    "        # print(c)\n",
    "        lbl = LabelEncoder()\n",
    "        lbl.fit(list(train[c].values) + list(test[c].values))\n",
    "        train[c] = lbl.transform(list(train[c].values))\n",
    "        test[c] = lbl.transform(list(test[c].values))"
   ]
  },
  {
   "cell_type": "code",
   "execution_count": 58,
   "metadata": {
    "collapsed": true
   },
   "outputs": [],
   "source": [
    "train.fillna(-1, inplace=True)\n",
    "test.fillna(-1, inplace=True)"
   ]
  },
  {
   "cell_type": "code",
   "execution_count": 59,
   "metadata": {
    "collapsed": true
   },
   "outputs": [],
   "source": [
    "train['RESPONDERS'] = train['RESPONDERS'].replace(to_replace = {'Y':1, 'N':0})\n",
    "target = train['RESPONDERS']"
   ]
  },
  {
   "cell_type": "code",
   "execution_count": null,
   "metadata": {
    "collapsed": true
   },
   "outputs": [],
   "source": [
    "### add pca features"
   ]
  },
  {
   "cell_type": "markdown",
   "metadata": {},
   "source": [
    "### Do PCA and get new features"
   ]
  },
  {
   "cell_type": "code",
   "execution_count": 61,
   "metadata": {
    "collapsed": true
   },
   "outputs": [],
   "source": [
    "feature_names = [x for x in train.columns if x not in ['CUSTOMER_ID','RESPONDERS']]"
   ]
  },
  {
   "cell_type": "code",
   "execution_count": 62,
   "metadata": {
    "collapsed": true
   },
   "outputs": [],
   "source": [
    "dim_train = train[feature_names]\n",
    "dim_test = test[feature_names]"
   ]
  },
  {
   "cell_type": "code",
   "execution_count": 63,
   "metadata": {
    "collapsed": true
   },
   "outputs": [],
   "source": [
    "from sklearn.preprocessing import StandardScaler"
   ]
  },
  {
   "cell_type": "code",
   "execution_count": 64,
   "metadata": {
    "collapsed": true
   },
   "outputs": [],
   "source": [
    "rb = StandardScaler()"
   ]
  },
  {
   "cell_type": "code",
   "execution_count": 65,
   "metadata": {
    "collapsed": true
   },
   "outputs": [],
   "source": [
    "dim_train = rb.fit_transform(dim_train)\n",
    "dim_test = rb.fit_transform(dim_test)"
   ]
  },
  {
   "cell_type": "code",
   "execution_count": 66,
   "metadata": {
    "collapsed": true
   },
   "outputs": [],
   "source": [
    "n_comp = 20"
   ]
  },
  {
   "cell_type": "code",
   "execution_count": 67,
   "metadata": {
    "collapsed": false
   },
   "outputs": [],
   "source": [
    "tsvd = TruncatedSVD(n_components=n_comp, random_state=42)\n",
    "tsvd_train = tsvd.fit_transform(dim_train)\n",
    "tsvd_test = tsvd.transform(dim_test)"
   ]
  },
  {
   "cell_type": "code",
   "execution_count": 68,
   "metadata": {
    "collapsed": true
   },
   "outputs": [],
   "source": [
    "pca = PCA(n_components=n_comp, random_state=420)\n",
    "pca_train = pca.fit_transform(dim_train)\n",
    "pca_test = pca.transform(dim_test)"
   ]
  },
  {
   "cell_type": "code",
   "execution_count": 69,
   "metadata": {
    "collapsed": true
   },
   "outputs": [],
   "source": [
    "ica = FastICA(n_components=n_comp, random_state=2030)\n",
    "ica_train = ica.fit_transform(dim_train)\n",
    "ica_test = ica.transform(dim_test)"
   ]
  },
  {
   "cell_type": "code",
   "execution_count": 70,
   "metadata": {
    "collapsed": true
   },
   "outputs": [],
   "source": [
    "grp = GaussianRandomProjection(n_components=n_comp, random_state=42)\n",
    "grp_train = grp.fit_transform(dim_train)\n",
    "grp_test = grp.transform(dim_test)"
   ]
  },
  {
   "cell_type": "code",
   "execution_count": 71,
   "metadata": {
    "collapsed": true
   },
   "outputs": [],
   "source": [
    "srp = SparseRandomProjection(n_components=n_comp, random_state=42)\n",
    "srp_train = srp.fit_transform(dim_train)\n",
    "srp_test = srp.transform(dim_test)"
   ]
  },
  {
   "cell_type": "code",
   "execution_count": 72,
   "metadata": {
    "collapsed": true
   },
   "outputs": [],
   "source": [
    "for i in range(1, n_comp + 1):\n",
    "    train['pca_' + str(i)] = pca_train[:,i-1]\n",
    "    test['pca_' + str(i)] = pca_test[:,i-1]\n",
    "    \n",
    "    train['tsvd_' + str(i)] = tsvd_train[:,i-1]\n",
    "    test['tsvd_' + str(i)] = tsvd_test[:,i-1]\n",
    "    \n",
    "    train['ica_' + str(i)] = ica_train[:,i-1]\n",
    "    test['ica_' + str(i)] = ica_test[:,i-1]\n",
    "    \n",
    "    train['grp_' + str(i)] = grp_train[:,i-1]\n",
    "    test['grp_' + str(i)] = grp_test[:,i-1]\n",
    "    \n",
    "    train['srp_' + str(i)] = srp_train[:,i-1]\n",
    "    test['srp_' + str(i)] = srp_test[:,i-1]"
   ]
  },
  {
   "cell_type": "code",
   "execution_count": 73,
   "metadata": {
    "collapsed": true
   },
   "outputs": [],
   "source": [
    "del dim_train, dim_test"
   ]
  },
  {
   "cell_type": "code",
   "execution_count": 74,
   "metadata": {
    "collapsed": false
   },
   "outputs": [
    {
     "name": "stdout",
     "output_type": "stream",
     "text": [
      "(300000, 589)\n",
      "(200000, 588)\n"
     ]
    }
   ],
   "source": [
    "print(train.shape)\n",
    "print(test.shape)"
   ]
  },
  {
   "cell_type": "code",
   "execution_count": 71,
   "metadata": {
    "collapsed": true
   },
   "outputs": [],
   "source": [
    "train.to_pickle('submissions/train_standard.pkl')\n",
    "test.to_pickle('submissions/test_standard.pkl')"
   ]
  },
  {
   "cell_type": "code",
   "execution_count": null,
   "metadata": {
    "collapsed": true
   },
   "outputs": [],
   "source": []
  },
  {
   "cell_type": "markdown",
   "metadata": {},
   "source": [
    "### CatBoost Model"
   ]
  },
  {
   "cell_type": "code",
   "execution_count": 76,
   "metadata": {
    "collapsed": true
   },
   "outputs": [],
   "source": [
    "trainX = train.drop(['CUSTOMER_ID','RESPONDERS'], axis=1)\n",
    "testX = test.drop('CUSTOMER_ID', axis=1)"
   ]
  },
  {
   "cell_type": "code",
   "execution_count": 78,
   "metadata": {
    "collapsed": true
   },
   "outputs": [],
   "source": [
    "catCols = [trainX.columns.get_loc(k) for k in trainX.columns if trainX[k].dtype != np.float64]"
   ]
  },
  {
   "cell_type": "code",
   "execution_count": 80,
   "metadata": {
    "collapsed": true
   },
   "outputs": [],
   "source": [
    "from sklearn.model_selection import train_test_split\n",
    "X_train, X_valid, y_train, y_valid = train_test_split(trainX, target, train_size = 0.7, random_state = 42)"
   ]
  },
  {
   "cell_type": "code",
   "execution_count": 82,
   "metadata": {
    "collapsed": true
   },
   "outputs": [],
   "source": [
    "from catboost import CatBoostClassifier"
   ]
  },
  {
   "cell_type": "code",
   "execution_count": 83,
   "metadata": {
    "collapsed": false
   },
   "outputs": [],
   "source": [
    "model = CatBoostClassifier(custom_loss=['AUC'], ## changed AUC to cross entropy \n",
    "                           eval_metric = \"AUC\",\n",
    "                           random_seed = 2017, \n",
    "                           learning_rate=0.1, \n",
    "                           iterations=1000, \n",
    "                           thread_count = 4,\n",
    "                           rsm = 0.8,\n",
    "                           depth = 5,\n",
    "                           od_wait = 40,\n",
    "                           od_type = 'Iter'\n",
    "                          )"
   ]
  },
  {
   "cell_type": "code",
   "execution_count": 84,
   "metadata": {
    "collapsed": false,
    "scrolled": true
   },
   "outputs": [
    {
     "name": "stdout",
     "output_type": "stream",
     "text": [
      "Borders generated\n",
      "feature 323 is redundant categorical feature, skipping it\n",
      "feature 352 is redundant categorical feature, skipping it\n",
      "feature 384 is redundant categorical feature, skipping it\n",
      "feature 441 is redundant categorical feature, skipping it\n",
      "feature 481 is redundant categorical feature, skipping it\n",
      "0:\tlearn 0.6863957151\ttest 0.682273962\tbestTest 0.682273962\tpassed: 18.4 sec\ttotal: 2m 56s\tremaining: 2d 56m 53s\n",
      "1:\tlearn 0.6863957151\ttest 0.682273962\tbestTest 0.682273962\tpassed: 1.7 sec\ttotal: 2m 58s\tremaining: 1d 41m 9s\n",
      "2:\tlearn 0.6863843752\ttest 0.682273962\tbestTest 0.682273962\tpassed: 15.8 sec\ttotal: 3m 13s\tremaining: 17h 53m 50s\n",
      "3:\tlearn 0.6864167713\ttest 0.6822976406\tbestTest 0.6822976406\tpassed: 21 sec\ttotal: 3m 34s\tremaining: 14h 51m 45s\n",
      "4:\tlearn 0.7079066362\ttest 0.7055840979\tbestTest 0.7055840979\tpassed: 7.61 sec\ttotal: 3m 42s\tremaining: 12h 17m 56s\n",
      "5:\tlearn 0.7079066362\ttest 0.7055840979\tbestTest 0.7055840979\tpassed: 1.31 sec\ttotal: 3m 43s\tremaining: 10h 17m 56s\n",
      "6:\tlearn 0.7173067574\ttest 0.7175526221\tbestTest 0.7175526221\tpassed: 19.1 sec\ttotal: 4m 2s\tremaining: 9h 34m 20s\n",
      "7:\tlearn 0.7173067574\ttest 0.7175526221\tbestTest 0.7175526221\tpassed: 1.58 sec\ttotal: 4m 4s\tremaining: 8h 25m 18s\n",
      "8:\tlearn 0.740925637\ttest 0.7431923971\tbestTest 0.7431923971\tpassed: 15.1 sec\ttotal: 4m 19s\tremaining: 7h 56m 27s\n",
      "9:\tlearn 0.7409242634\ttest 0.7431761347\tbestTest 0.7431923971\tpassed: 8.23 sec\ttotal: 4m 27s\tremaining: 7h 21m 57s\n",
      "10:\tlearn 0.7243782701\ttest 0.7078868901\tbestTest 0.7431923971\tpassed: 18.9 sec\ttotal: 4m 46s\tremaining: 7h 9m 41s\n",
      "11:\tlearn 0.7857482055\ttest 0.7807080703\tbestTest 0.7807080703\tpassed: 18.2 sec\ttotal: 5m 4s\tremaining: 6h 58m 29s\n",
      "12:\tlearn 0.7498415633\ttest 0.7421756127\tbestTest 0.7807080703\tpassed: 20.4 sec\ttotal: 5m 25s\tremaining: 6h 51m 42s\n",
      "13:\tlearn 0.7664677302\ttest 0.7603538899\tbestTest 0.7807080703\tpassed: 20.4 sec\ttotal: 5m 45s\tremaining: 6h 45m 49s\n",
      "14:\tlearn 0.7774300962\ttest 0.7716924626\tbestTest 0.7807080703\tpassed: 20 sec\ttotal: 6m 5s\tremaining: 6h 40m 14s\n",
      "15:\tlearn 0.7888100045\ttest 0.7870062222\tbestTest 0.7870062222\tpassed: 21.1 sec\ttotal: 6m 26s\tremaining: 6h 36m 29s\n",
      "16:\tlearn 0.7829788866\ttest 0.7756122007\tbestTest 0.7870062222\tpassed: 18.1 sec\ttotal: 6m 44s\tremaining: 6h 30m 11s\n",
      "17:\tlearn 0.7578607763\ttest 0.7549049961\tbestTest 0.7870062222\tpassed: 19.2 sec\ttotal: 7m 4s\tremaining: 6h 25m 36s\n",
      "18:\tlearn 0.7659733663\ttest 0.7630735302\tbestTest 0.7870062222\tpassed: 17.7 sec\ttotal: 7m 21s\tremaining: 6h 20m 11s\n",
      "19:\tlearn 0.7695891713\ttest 0.7661134823\tbestTest 0.7870062222\tpassed: 18.1 sec\ttotal: 7m 39s\tremaining: 6h 15m 34s\n",
      "20:\tlearn 0.7711785248\ttest 0.7678710867\tbestTest 0.7870062222\tpassed: 17.4 sec\ttotal: 7m 57s\tremaining: 6h 10m 52s\n",
      "21:\tlearn 0.7731429772\ttest 0.7695863196\tbestTest 0.7870062222\tpassed: 18.6 sec\ttotal: 8m 15s\tremaining: 6h 7m 24s\n",
      "22:\tlearn 0.7832575511\ttest 0.7835176143\tbestTest 0.7870062222\tpassed: 20.9 sec\ttotal: 8m 36s\tremaining: 6h 5m 52s\n",
      "23:\tlearn 0.786456705\ttest 0.7872617929\tbestTest 0.7872617929\tpassed: 17.4 sec\ttotal: 8m 54s\tremaining: 6h 2m 4s\n",
      "24:\tlearn 0.7898738603\ttest 0.7907973495\tbestTest 0.7907973495\tpassed: 19.5 sec\ttotal: 9m 13s\tremaining: 5h 59m 53s\n",
      "25:\tlearn 0.7933134802\ttest 0.7939832919\tbestTest 0.7939832919\tpassed: 18 sec\ttotal: 9m 31s\tremaining: 5h 56m 55s\n",
      "26:\tlearn 0.7801113745\ttest 0.771588064\tbestTest 0.7939832919\tpassed: 21 sec\ttotal: 9m 52s\tremaining: 5h 55m 58s\n",
      "27:\tlearn 0.7818728813\ttest 0.7716093831\tbestTest 0.7939832919\tpassed: 21.2 sec\ttotal: 10m 13s\tremaining: 5h 55m 10s\n",
      "28:\tlearn 0.7830447534\ttest 0.7729053668\tbestTest 0.7939832919\tpassed: 21.6 sec\ttotal: 10m 35s\tremaining: 5h 54m 38s\n",
      "29:\tlearn 0.7853031092\ttest 0.7748142768\tbestTest 0.7939832919\tpassed: 15.7 sec\ttotal: 10m 51s\tremaining: 5h 50m 55s\n",
      "30:\tlearn 0.7863031813\ttest 0.775131412\tbestTest 0.7939832919\tpassed: 18.4 sec\ttotal: 11m 9s\tremaining: 5h 48m 49s\n",
      "31:\tlearn 0.7863694199\ttest 0.7752921765\tbestTest 0.7939832919\tpassed: 18.5 sec\ttotal: 11m 28s\tremaining: 5h 46m 54s\n",
      "32:\tlearn 0.7872755822\ttest 0.7762483303\tbestTest 0.7939832919\tpassed: 16.5 sec\ttotal: 11m 44s\tremaining: 5h 44m 5s\n",
      "33:\tlearn 0.7839901695\ttest 0.7751695187\tbestTest 0.7939832919\tpassed: 29.5 sec\ttotal: 12m 14s\tremaining: 5h 47m 34s\n",
      "34:\tlearn 0.7843714649\ttest 0.7757902614\tbestTest 0.7939832919\tpassed: 21.4 sec\ttotal: 12m 35s\tremaining: 5h 47m 6s\n",
      "35:\tlearn 0.7847552441\ttest 0.7759769724\tbestTest 0.7939832919\tpassed: 20.7 sec\ttotal: 12m 56s\tremaining: 5h 46m 21s\n",
      "36:\tlearn 0.7855142068\ttest 0.7768912175\tbestTest 0.7939832919\tpassed: 15.4 sec\ttotal: 13m 11s\tremaining: 5h 43m 20s\n",
      "37:\tlearn 0.7865334346\ttest 0.7770744434\tbestTest 0.7939832919\tpassed: 20.6 sec\ttotal: 13m 32s\tremaining: 5h 42m 37s\n",
      "38:\tlearn 0.7875609783\ttest 0.7778654637\tbestTest 0.7939832919\tpassed: 15.8 sec\ttotal: 13m 47s\tremaining: 5h 39m 59s\n",
      "39:\tlearn 0.7882202533\ttest 0.7784303741\tbestTest 0.7939832919\tpassed: 19.7 sec\ttotal: 14m 7s\tremaining: 5h 39m 1s\n",
      "40:\tlearn 0.7899083217\ttest 0.7804465049\tbestTest 0.7939832919\tpassed: 13.6 sec\ttotal: 14m 21s\tremaining: 5h 35m 42s\n",
      "41:\tlearn 0.7905269588\ttest 0.7810927688\tbestTest 0.7939832919\tpassed: 20.2 sec\ttotal: 14m 41s\tremaining: 5h 35m 2s\n",
      "42:\tlearn 0.7911754653\ttest 0.781758159\tbestTest 0.7939832919\tpassed: 16.7 sec\ttotal: 14m 58s\tremaining: 5h 33m 5s\n",
      "43:\tlearn 0.7915426179\ttest 0.7821706048\tbestTest 0.7939832919\tpassed: 24.8 sec\ttotal: 15m 22s\tremaining: 5h 34m 9s\n",
      "44:\tlearn 0.7929004106\ttest 0.7830160318\tbestTest 0.7939832919\tpassed: 17.3 sec\ttotal: 15m 40s\tremaining: 5h 32m 30s\n",
      "45:\tlearn 0.7945092099\ttest 0.7849112265\tbestTest 0.7939832919\tpassed: 13.1 sec\ttotal: 15m 53s\tremaining: 5h 29m 27s\n",
      "46:\tlearn 0.7949465186\ttest 0.7852207829\tbestTest 0.7939832919\tpassed: 18.7 sec\ttotal: 16m 11s\tremaining: 5h 28m 25s\n",
      "47:\tlearn 0.7957466676\ttest 0.7861634132\tbestTest 0.7939832919\tpassed: 22.2 sec\ttotal: 16m 33s\tremaining: 5h 28m 33s\n",
      "48:\tlearn 0.7964514055\ttest 0.7865337377\tbestTest 0.7939832919\tpassed: 12 sec\ttotal: 16m 46s\tremaining: 5h 25m 24s\n",
      "49:\tlearn 0.7970302048\ttest 0.7869908394\tbestTest 0.7939832919\tpassed: 15.8 sec\ttotal: 17m 1s\tremaining: 5h 23m 35s\n",
      "50:\tlearn 0.7980788269\ttest 0.7875829926\tbestTest 0.7939832919\tpassed: 13.3 sec\ttotal: 17m 15s\tremaining: 5h 21m 1s\n",
      "51:\tlearn 0.7984336296\ttest 0.7878505028\tbestTest 0.7939832919\tpassed: 17.2 sec\ttotal: 17m 32s\tremaining: 5h 19m 44s\n",
      "52:\tlearn 0.7993020631\ttest 0.7883912842\tbestTest 0.7939832919\tpassed: 19.7 sec\ttotal: 17m 52s\tremaining: 5h 19m 14s\n",
      "53:\tlearn 0.7999248011\ttest 0.789139854\tbestTest 0.7939832919\tpassed: 18.1 sec\ttotal: 18m 10s\tremaining: 5h 18m 17s\n",
      "54:\tlearn 0.8005747947\ttest 0.7897374933\tbestTest 0.7939832919\tpassed: 15.3 sec\ttotal: 18m 25s\tremaining: 5h 16m 32s\n",
      "55:\tlearn 0.8008769569\ttest 0.7899950401\tbestTest 0.7939832919\tpassed: 16.3 sec\ttotal: 18m 41s\tremaining: 5h 15m 8s\n",
      "56:\tlearn 0.8012227468\ttest 0.7902667648\tbestTest 0.7939832919\tpassed: 12 sec\ttotal: 18m 53s\tremaining: 5h 12m 36s\n",
      "57:\tlearn 0.8019108826\ttest 0.7906123018\tbestTest 0.7939832919\tpassed: 14.8 sec\ttotal: 19m 8s\tremaining: 5h 10m 54s\n",
      "58:\tlearn 0.8027403413\ttest 0.7913429459\tbestTest 0.7939832919\tpassed: 14.5 sec\ttotal: 19m 23s\tremaining: 5h 9m 10s\n",
      "59:\tlearn 0.8011184945\ttest 0.7892490633\tbestTest 0.7939832919\tpassed: 17.3 sec\ttotal: 19m 40s\tremaining: 5h 8m 13s\n",
      "60:\tlearn 0.8011826285\ttest 0.789262345\tbestTest 0.7939832919\tpassed: 16.8 sec\ttotal: 19m 57s\tremaining: 5h 7m 9s\n",
      "61:\tlearn 0.8015839923\ttest 0.7897887234\tbestTest 0.7939832919\tpassed: 10.2 sec\ttotal: 20m 7s\tremaining: 5h 4m 27s\n",
      "62:\tlearn 0.8019814951\ttest 0.7899611938\tbestTest 0.7939832919\tpassed: 12.8 sec\ttotal: 20m 20s\tremaining: 5h 2m 28s\n",
      "63:\tlearn 0.8021549692\ttest 0.7900759643\tbestTest 0.7939832919\tpassed: 17.5 sec\ttotal: 20m 37s\tremaining: 5h 1m 40s\n",
      "64:\tlearn 0.8025399388\ttest 0.790200177\tbestTest 0.7939832919\tpassed: 16.7 sec\ttotal: 20m 54s\tremaining: 5h 43s\n",
      "65:\tlearn 0.8036530838\ttest 0.7904952427\tbestTest 0.7939832919\tpassed: 18.5 sec\ttotal: 21m 12s\tremaining: 5h 13s\n",
      "66:\tlearn 0.8039469568\ttest 0.7906484201\tbestTest 0.7939832919\tpassed: 14.6 sec\ttotal: 21m 27s\tremaining: 4h 58m 49s\n",
      "67:\tlearn 0.804079054\ttest 0.7908008554\tbestTest 0.7939832919\tpassed: 14.2 sec\ttotal: 21m 41s\tremaining: 4h 57m 21s\n",
      "68:\tlearn 0.8042922762\ttest 0.7909959915\tbestTest 0.7939832919\tpassed: 15 sec\ttotal: 21m 56s\tremaining: 4h 56m 6s\n",
      "69:\tlearn 0.804466603\ttest 0.7911201458\tbestTest 0.7939832919\tpassed: 11.4 sec\ttotal: 22m 8s\tremaining: 4h 54m 5s\n",
      "70:\tlearn 0.8051648417\ttest 0.7915184387\tbestTest 0.7939832919\tpassed: 18.8 sec\ttotal: 22m 26s\tremaining: 4h 53m 44s\n",
      "71:\tlearn 0.8054296706\ttest 0.7917702409\tbestTest 0.7939832919\tpassed: 12.2 sec\ttotal: 22m 39s\tremaining: 4h 51m 57s\n",
      "72:\tlearn 0.8056395682\ttest 0.7918113658\tbestTest 0.7939832919\tpassed: 11.2 sec\ttotal: 22m 50s\tremaining: 4h 50m 1s\n",
      "73:\tlearn 0.8071107915\ttest 0.7920206882\tbestTest 0.7939832919\tpassed: 16.1 sec\ttotal: 23m 6s\tremaining: 4h 49m 9s\n",
      "74:\tlearn 0.8073458209\ttest 0.7921606339\tbestTest 0.7939832919\tpassed: 13.4 sec\ttotal: 23m 19s\tremaining: 4h 47m 45s\n",
      "75:\tlearn 0.8081473012\ttest 0.792676978\tbestTest 0.7939832919\tpassed: 13.9 sec\ttotal: 23m 33s\tremaining: 4h 46m 28s\n",
      "76:\tlearn 0.8086107175\ttest 0.793117438\tbestTest 0.7939832919\tpassed: 15.3 sec\ttotal: 23m 49s\tremaining: 4h 45m 29s\n",
      "77:\tlearn 0.8087107644\ttest 0.793106374\tbestTest 0.7939832919\tpassed: 15.3 sec\ttotal: 24m 4s\tremaining: 4h 44m 33s\n",
      "78:\tlearn 0.8088531596\ttest 0.7932299531\tbestTest 0.7939832919\tpassed: 18.1 sec\ttotal: 24m 22s\tremaining: 4h 44m 9s\n",
      "79:\tlearn 0.8091925928\ttest 0.7935585441\tbestTest 0.7939832919\tpassed: 16.6 sec\ttotal: 24m 39s\tremaining: 4h 43m 29s\n",
      "80:\tlearn 0.8097054118\ttest 0.7938111508\tbestTest 0.7939832919\tpassed: 13.2 sec\ttotal: 24m 52s\tremaining: 4h 42m 10s\n",
      "81:\tlearn 0.810268426\ttest 0.7939430008\tbestTest 0.7939832919\tpassed: 12.8 sec\ttotal: 25m 5s\tremaining: 4h 40m 49s\n",
      "82:\tlearn 0.8106813376\ttest 0.7942672479\tbestTest 0.7942672479\tpassed: 11.5 sec\ttotal: 25m 16s\tremaining: 4h 39m 15s\n",
      "83:\tlearn 0.8109722653\ttest 0.7944491731\tbestTest 0.7944491731\tpassed: 13.9 sec\ttotal: 25m 30s\tremaining: 4h 38m 9s\n",
      "84:\tlearn 0.8110173356\ttest 0.7944376339\tbestTest 0.7944491731\tpassed: 14.7 sec\ttotal: 25m 45s\tremaining: 4h 37m 13s\n",
      "85:\tlearn 0.8110305493\ttest 0.7944382175\tbestTest 0.7944491731\tpassed: 18 sec\ttotal: 26m 3s\tremaining: 4h 36m 52s\n",
      "86:\tlearn 0.8113839895\ttest 0.7946559442\tbestTest 0.7946559442\tpassed: 15.6 sec\ttotal: 26m 18s\tremaining: 4h 36m 7s\n",
      "87:\tlearn 0.8118567911\ttest 0.7950755978\tbestTest 0.7950755978\tpassed: 16.6 sec\ttotal: 26m 35s\tremaining: 4h 35m 33s\n",
      "88:\tlearn 0.8118955373\ttest 0.7950721878\tbestTest 0.7950755978\tpassed: 15 sec\ttotal: 26m 50s\tremaining: 4h 34m 43s\n",
      "89:\tlearn 0.8129202744\ttest 0.7961777962\tbestTest 0.7961777962\tpassed: 19.1 sec\ttotal: 27m 9s\tremaining: 4h 34m 35s\n",
      "90:\tlearn 0.8130196497\ttest 0.7962506079\tbestTest 0.7962506079\tpassed: 13.4 sec\ttotal: 27m 22s\tremaining: 4h 33m 30s\n",
      "91:\tlearn 0.8130652647\ttest 0.7963547605\tbestTest 0.7963547605\tpassed: 17.6 sec\ttotal: 27m 40s\tremaining: 4h 33m 8s\n",
      "92:\tlearn 0.8134145596\ttest 0.7965335842\tbestTest 0.7965335842\tpassed: 11.5 sec\ttotal: 27m 51s\tremaining: 4h 31m 46s\n",
      "93:\tlearn 0.8135975466\ttest 0.7965485334\tbestTest 0.7965485334\tpassed: 15.6 sec\ttotal: 28m 7s\tremaining: 4h 31m 5s\n",
      "94:\tlearn 0.8136790523\ttest 0.7966973919\tbestTest 0.7966973919\tpassed: 3.48 sec\ttotal: 28m 11s\tremaining: 4h 28m 29s\n",
      "95:\tlearn 0.8138333849\ttest 0.7967557547\tbestTest 0.7967557547\tpassed: 13.7 sec\ttotal: 28m 24s\tremaining: 4h 27m 32s\n",
      "96:\tlearn 0.8139562356\ttest 0.7967322345\tbestTest 0.7967557547\tpassed: 13.8 sec\ttotal: 28m 38s\tremaining: 4h 26m 37s\n",
      "97:\tlearn 0.8142581433\ttest 0.7968726721\tbestTest 0.7968726721\tpassed: 14.7 sec\ttotal: 28m 53s\tremaining: 4h 25m 52s\n",
      "98:\tlearn 0.8143471204\ttest 0.7969519872\tbestTest 0.7969519872\tpassed: 16.2 sec\ttotal: 29m 9s\tremaining: 4h 25m 21s\n",
      "99:\tlearn 0.8145244809\ttest 0.7971686633\tbestTest 0.7971686633\tpassed: 16.7 sec\ttotal: 29m 26s\tremaining: 4h 24m 55s\n",
      "100:\tlearn 0.8146757294\ttest 0.7972205312\tbestTest 0.7972205312\tpassed: 12.6 sec\ttotal: 29m 38s\tremaining: 4h 23m 52s\n",
      "101:\tlearn 0.8149170599\ttest 0.7972699394\tbestTest 0.7972699394\tpassed: 12.4 sec\ttotal: 29m 51s\tremaining: 4h 22m 48s\n",
      "102:\tlearn 0.8150696671\ttest 0.79736663\tbestTest 0.79736663\tpassed: 13 sec\ttotal: 30m 4s\tremaining: 4h 21m 52s\n",
      "103:\tlearn 0.8152596595\ttest 0.7975325554\tbestTest 0.7975325554\tpassed: 11.3 sec\ttotal: 30m 15s\tremaining: 4h 20m 41s\n",
      "104:\tlearn 0.8152652712\ttest 0.7975276113\tbestTest 0.7975325554\tpassed: 13.1 sec\ttotal: 30m 28s\tremaining: 4h 19m 46s\n",
      "105:\tlearn 0.8153548286\ttest 0.7975696658\tbestTest 0.7975696658\tpassed: 13.7 sec\ttotal: 30m 42s\tremaining: 4h 18m 58s\n",
      "106:\tlearn 0.8156918708\ttest 0.7978462847\tbestTest 0.7978462847\tpassed: 11.9 sec\ttotal: 30m 54s\tremaining: 4h 17m 55s\n",
      "107:\tlearn 0.8157276872\ttest 0.7978301182\tbestTest 0.7978462847\tpassed: 11.3 sec\ttotal: 31m 5s\tremaining: 4h 16m 48s\n",
      "108:\tlearn 0.8158406443\ttest 0.7978440919\tbestTest 0.7978462847\tpassed: 13.4 sec\ttotal: 31m 19s\tremaining: 4h 15m 59s\n",
      "109:\tlearn 0.8166630272\ttest 0.7987664411\tbestTest 0.7987664411\tpassed: 16.5 sec\ttotal: 31m 35s\tremaining: 4h 15m 36s\n",
      "110:\tlearn 0.8170403271\ttest 0.7990240462\tbestTest 0.7990240462\tpassed: 19 sec\ttotal: 31m 54s\tremaining: 4h 15m 33s\n",
      "111:\tlearn 0.8177346275\ttest 0.7996094252\tbestTest 0.7996094252\tpassed: 17 sec\ttotal: 32m 11s\tremaining: 4h 15m 14s\n",
      "112:\tlearn 0.8178457843\ttest 0.7997243833\tbestTest 0.7997243833\tpassed: 14.6 sec\ttotal: 32m 26s\tremaining: 4h 14m 36s\n",
      "113:\tlearn 0.8179803408\ttest 0.7998042445\tbestTest 0.7998042445\tpassed: 12 sec\ttotal: 32m 38s\tremaining: 4h 13m 38s\n",
      "114:\tlearn 0.8183641994\ttest 0.8001115663\tbestTest 0.8001115663\tpassed: 10.7 sec\ttotal: 32m 48s\tremaining: 4h 12m 31s\n",
      "115:\tlearn 0.8184429972\ttest 0.8000632961\tbestTest 0.8001115663\tpassed: 17.3 sec\ttotal: 33m 6s\tremaining: 4h 12m 16s\n",
      "116:\tlearn 0.8189699108\ttest 0.8003462724\tbestTest 0.8003462724\tpassed: 10.8 sec\ttotal: 33m 16s\tremaining: 4h 11m 11s\n",
      "117:\tlearn 0.8192410149\ttest 0.8007880455\tbestTest 0.8007880455\tpassed: 17.1 sec\ttotal: 33m 34s\tremaining: 4h 10m 54s\n",
      "118:\tlearn 0.8193170113\ttest 0.8008099733\tbestTest 0.8008099733\tpassed: 13.5 sec\ttotal: 33m 47s\tremaining: 4h 10m 11s\n",
      "119:\tlearn 0.8195482864\ttest 0.8009779581\tbestTest 0.8009779581\tpassed: 15.9 sec\ttotal: 34m 3s\tremaining: 4h 9m 46s\n",
      "120:\tlearn 0.8196275435\ttest 0.8010250819\tbestTest 0.8010250819\tpassed: 17.9 sec\ttotal: 34m 21s\tremaining: 4h 9m 35s\n",
      "121:\tlearn 0.8203693112\ttest 0.8018265367\tbestTest 0.8018265367\tpassed: 16.2 sec\ttotal: 34m 37s\tremaining: 4h 9m 12s\n",
      "122:\tlearn 0.8205257387\ttest 0.8019670827\tbestTest 0.8019670827\tpassed: 15.2 sec\ttotal: 34m 52s\tremaining: 4h 8m 41s\n",
      "123:\tlearn 0.8207537219\ttest 0.8021347924\tbestTest 0.8021347924\tpassed: 12.8 sec\ttotal: 35m 5s\tremaining: 4h 7m 54s\n",
      "124:\tlearn 0.8218376885\ttest 0.8030361393\tbestTest 0.8030361393\tpassed: 16.4 sec\ttotal: 35m 21s\tremaining: 4h 7m 33s\n",
      "125:\tlearn 0.8220341639\ttest 0.8030879905\tbestTest 0.8030879905\tpassed: 11.3 sec\ttotal: 35m 33s\tremaining: 4h 6m 37s\n",
      "126:\tlearn 0.8223255338\ttest 0.803292944\tbestTest 0.803292944\tpassed: 15 sec\ttotal: 35m 48s\tremaining: 4h 6m 7s\n",
      "127:\tlearn 0.8224370788\ttest 0.8032331013\tbestTest 0.803292944\tpassed: 15.2 sec\ttotal: 36m 3s\tremaining: 4h 5m 38s\n",
      "128:\tlearn 0.8226649952\ttest 0.8034103575\tbestTest 0.8034103575\tpassed: 11.7 sec\ttotal: 36m 15s\tremaining: 4h 4m 46s\n",
      "129:\tlearn 0.822775211\ttest 0.8035320856\tbestTest 0.8035320856\tpassed: 17.6 sec\ttotal: 36m 32s\tremaining: 4h 4m 34s\n",
      "130:\tlearn 0.823113833\ttest 0.8036394482\tbestTest 0.8036394482\tpassed: 10.3 sec\ttotal: 36m 43s\tremaining: 4h 3m 34s\n",
      "131:\tlearn 0.8231827766\ttest 0.8035152021\tbestTest 0.8036394482\tpassed: 12.2 sec\ttotal: 36m 55s\tremaining: 4h 2m 47s\n",
      "132:\tlearn 0.8232204274\ttest 0.8035002612\tbestTest 0.8036394482\tpassed: 13.7 sec\ttotal: 37m 9s\tremaining: 4h 2m 10s\n",
      "133:\tlearn 0.8232454212\ttest 0.803505689\tbestTest 0.8036394482\tpassed: 19 sec\ttotal: 37m 28s\tremaining: 4h 2m 8s\n",
      "134:\tlearn 0.8233405191\ttest 0.8035087238\tbestTest 0.8036394482\tpassed: 11.7 sec\ttotal: 37m 39s\tremaining: 4h 1m 18s\n",
      "135:\tlearn 0.8235824373\ttest 0.8036208388\tbestTest 0.8036394482\tpassed: 11.9 sec\ttotal: 37m 51s\tremaining: 4h 31s\n",
      "136:\tlearn 0.8236641968\ttest 0.8036419328\tbestTest 0.8036419328\tpassed: 12.7 sec\ttotal: 38m 4s\tremaining: 3h 59m 49s\n",
      "137:\tlearn 0.823971685\ttest 0.8037500499\tbestTest 0.8037500499\tpassed: 10.8 sec\ttotal: 38m 15s\tremaining: 3h 58m 55s\n",
      "138:\tlearn 0.8240111585\ttest 0.8037587376\tbestTest 0.8037587376\tpassed: 17.7 sec\ttotal: 38m 32s\tremaining: 3h 58m 45s\n",
      "139:\tlearn 0.8240328291\ttest 0.8037679923\tbestTest 0.8037679923\tpassed: 17.2 sec\ttotal: 38m 49s\tremaining: 3h 58m 32s\n",
      "140:\tlearn 0.8241348389\ttest 0.8037733116\tbestTest 0.8037733116\tpassed: 14.9 sec\ttotal: 39m 4s\tremaining: 3h 58m 5s\n",
      "141:\tlearn 0.8242229373\ttest 0.8037687844\tbestTest 0.8037733116\tpassed: 13.8 sec\ttotal: 39m 18s\tremaining: 3h 57m 31s\n",
      "142:\tlearn 0.8245032456\ttest 0.803920536\tbestTest 0.803920536\tpassed: 12.8 sec\ttotal: 39m 31s\tremaining: 3h 56m 52s\n",
      "143:\tlearn 0.8249867593\ttest 0.804109298\tbestTest 0.804109298\tpassed: 13.5 sec\ttotal: 39m 44s\tremaining: 3h 56m 17s\n",
      "144:\tlearn 0.8252236105\ttest 0.8042007317\tbestTest 0.8042007317\tpassed: 12.4 sec\ttotal: 39m 57s\tremaining: 3h 55m 36s\n",
      "145:\tlearn 0.8253635999\ttest 0.8042125585\tbestTest 0.8042125585\tpassed: 14.9 sec\ttotal: 40m 12s\tremaining: 3h 55m 9s\n",
      "146:\tlearn 0.825552428\ttest 0.8042589069\tbestTest 0.8042589069\tpassed: 11.9 sec\ttotal: 40m 24s\tremaining: 3h 54m 26s\n",
      "147:\tlearn 0.8256584614\ttest 0.8043233311\tbestTest 0.8043233311\tpassed: 12.2 sec\ttotal: 40m 36s\tremaining: 3h 53m 45s\n",
      "148:\tlearn 0.8256793061\ttest 0.8043097117\tbestTest 0.8043233311\tpassed: 16.1 sec\ttotal: 40m 52s\tremaining: 3h 53m 26s\n",
      "149:\tlearn 0.8258206535\ttest 0.8042911732\tbestTest 0.8043233311\tpassed: 14.2 sec\ttotal: 41m 6s\tremaining: 3h 52m 57s\n",
      "150:\tlearn 0.8259623801\ttest 0.8043545719\tbestTest 0.8043545719\tpassed: 13.6 sec\ttotal: 41m 20s\tremaining: 3h 52m 24s\n",
      "151:\tlearn 0.8254442158\ttest 0.8037077202\tbestTest 0.8043545719\tpassed: 13.6 sec\ttotal: 41m 33s\tremaining: 3h 51m 52s\n",
      "152:\tlearn 0.8256005751\ttest 0.803838136\tbestTest 0.8043545719\tpassed: 12.1 sec\ttotal: 41m 45s\tremaining: 3h 51m 12s\n",
      "153:\tlearn 0.8257484982\ttest 0.8038754549\tbestTest 0.8043545719\tpassed: 14.6 sec\ttotal: 42m\tremaining: 3h 50m 46s\n",
      "154:\tlearn 0.8259311224\ttest 0.8039302659\tbestTest 0.8043545719\tpassed: 11.5 sec\ttotal: 42m 11s\tremaining: 3h 50m 3s\n",
      "155:\tlearn 0.826091293\ttest 0.8040520441\tbestTest 0.8043545719\tpassed: 11.5 sec\ttotal: 42m 23s\tremaining: 3h 49m 20s\n",
      "156:\tlearn 0.8261980359\ttest 0.8040835517\tbestTest 0.8043545719\tpassed: 12.9 sec\ttotal: 42m 36s\tremaining: 3h 48m 46s\n",
      "157:\tlearn 0.8264353724\ttest 0.8042823354\tbestTest 0.8043545719\tpassed: 11.1 sec\ttotal: 42m 47s\tremaining: 3h 48m 2s\n",
      "158:\tlearn 0.8265834499\ttest 0.8043594785\tbestTest 0.8043594785\tpassed: 11.8 sec\ttotal: 42m 59s\tremaining: 3h 47m 22s\n",
      "159:\tlearn 0.8265904731\ttest 0.8040686316\tbestTest 0.8043594785\tpassed: 13.9 sec\ttotal: 43m 13s\tremaining: 3h 46m 54s\n",
      "160:\tlearn 0.8266758614\ttest 0.8040204906\tbestTest 0.8043594785\tpassed: 11.4 sec\ttotal: 43m 24s\tremaining: 3h 46m 12s\n",
      "161:\tlearn 0.8267246036\ttest 0.8039945067\tbestTest 0.8043594785\tpassed: 15.6 sec\ttotal: 43m 40s\tremaining: 3h 45m 53s\n",
      "162:\tlearn 0.8268748465\ttest 0.8040224541\tbestTest 0.8043594785\tpassed: 12.2 sec\ttotal: 43m 52s\tremaining: 3h 45m 16s\n",
      "163:\tlearn 0.8270277973\ttest 0.8040370782\tbestTest 0.8043594785\tpassed: 14.3 sec\ttotal: 44m 6s\tremaining: 3h 44m 51s\n",
      "164:\tlearn 0.8272247833\ttest 0.8041499018\tbestTest 0.8043594785\tpassed: 11.2 sec\ttotal: 44m 17s\tremaining: 3h 44m 10s\n",
      "165:\tlearn 0.8273215687\ttest 0.8041675524\tbestTest 0.8043594785\tpassed: 14.1 sec\ttotal: 44m 31s\tremaining: 3h 43m 43s\n",
      "166:\tlearn 0.827782427\ttest 0.8044700135\tbestTest 0.8044700135\tpassed: 15.9 sec\ttotal: 44m 47s\tremaining: 3h 43m 26s\n",
      "167:\tlearn 0.828501848\ttest 0.8048260058\tbestTest 0.8048260058\tpassed: 13.6 sec\ttotal: 45m 1s\tremaining: 3h 42m 58s\n",
      "168:\tlearn 0.8286677862\ttest 0.8049190778\tbestTest 0.8049190778\tpassed: 11.6 sec\ttotal: 45m 13s\tremaining: 3h 42m 20s\n",
      "169:\tlearn 0.82894203\ttest 0.804952378\tbestTest 0.804952378\tpassed: 10.6 sec\ttotal: 45m 23s\tremaining: 3h 41m 37s\n",
      "170:\tlearn 0.8290350916\ttest 0.8049729134\tbestTest 0.8049729134\tpassed: 12.5 sec\ttotal: 45m 36s\tremaining: 3h 41m 4s\n",
      "171:\tlearn 0.8295135776\ttest 0.80513793\tbestTest 0.80513793\tpassed: 15.6 sec\ttotal: 45m 51s\tremaining: 3h 40m 46s\n",
      "172:\tlearn 0.8295641113\ttest 0.8051254321\tbestTest 0.80513793\tpassed: 11.1 sec\ttotal: 46m 2s\tremaining: 3h 40m 7s\n",
      "173:\tlearn 0.829608041\ttest 0.8050830607\tbestTest 0.80513793\tpassed: 16.8 sec\ttotal: 46m 19s\tremaining: 3h 39m 55s\n",
      "174:\tlearn 0.8298337312\ttest 0.8051693376\tbestTest 0.8051693376\tpassed: 13.5 sec\ttotal: 46m 33s\tremaining: 3h 39m 27s\n",
      "175:\tlearn 0.8300734973\ttest 0.8052606003\tbestTest 0.8052606003\tpassed: 14 sec\ttotal: 46m 47s\tremaining: 3h 39m 2s\n",
      "176:\tlearn 0.8302041846\ttest 0.8053650281\tbestTest 0.8053650281\tpassed: 12.1 sec\ttotal: 46m 59s\tremaining: 3h 38m 28s\n",
      "177:\tlearn 0.8302094401\ttest 0.8053638942\tbestTest 0.8053650281\tpassed: 16.6 sec\ttotal: 47m 15s\tremaining: 3h 38m 16s\n",
      "178:\tlearn 0.8308103895\ttest 0.8055659962\tbestTest 0.8055659962\tpassed: 16.2 sec\ttotal: 47m 32s\tremaining: 3h 38m 1s\n",
      "179:\tlearn 0.8310689455\ttest 0.8056606607\tbestTest 0.8056606607\tpassed: 16.2 sec\ttotal: 47m 48s\tremaining: 3h 37m 46s\n",
      "180:\tlearn 0.8313020105\ttest 0.8060366006\tbestTest 0.8060366006\tpassed: 17.9 sec\ttotal: 48m 6s\tremaining: 3h 37m 39s\n",
      "181:\tlearn 0.831588493\ttest 0.8061883689\tbestTest 0.8061883689\tpassed: 10.2 sec\ttotal: 48m 16s\tremaining: 3h 36m 58s\n",
      "182:\tlearn 0.8317086173\ttest 0.8064061456\tbestTest 0.8064061456\tpassed: 13.5 sec\ttotal: 48m 29s\tremaining: 3h 36m 31s\n",
      "183:\tlearn 0.831896569\ttest 0.80651721\tbestTest 0.80651721\tpassed: 14.6 sec\ttotal: 48m 44s\tremaining: 3h 36m 9s\n",
      "184:\tlearn 0.8319903073\ttest 0.80650886\tbestTest 0.80651721\tpassed: 15.5 sec\ttotal: 48m 59s\tremaining: 3h 35m 51s\n",
      "185:\tlearn 0.8321863033\ttest 0.8066216753\tbestTest 0.8066216753\tpassed: 12 sec\ttotal: 49m 11s\tremaining: 3h 35m 18s\n",
      "186:\tlearn 0.8324821258\ttest 0.806759745\tbestTest 0.806759745\tpassed: 14.1 sec\ttotal: 49m 26s\tremaining: 3h 34m 55s\n",
      "187:\tlearn 0.8326768766\ttest 0.8066905267\tbestTest 0.806759745\tpassed: 11 sec\ttotal: 49m 37s\tremaining: 3h 34m 18s\n",
      "188:\tlearn 0.8329022253\ttest 0.8066966715\tbestTest 0.806759745\tpassed: 14.8 sec\ttotal: 49m 51s\tremaining: 3h 33m 58s\n",
      "189:\tlearn 0.8329866163\ttest 0.8070568117\tbestTest 0.8070568117\tpassed: 13.8 sec\ttotal: 50m 5s\tremaining: 3h 33m 33s\n",
      "190:\tlearn 0.8332244278\ttest 0.8072417718\tbestTest 0.8072417718\tpassed: 15.1 sec\ttotal: 50m 20s\tremaining: 3h 33m 14s\n",
      "191:\tlearn 0.8334497172\ttest 0.8074168686\tbestTest 0.8074168686\tpassed: 10.8 sec\ttotal: 50m 31s\tremaining: 3h 32m 37s\n",
      "192:\tlearn 0.8335130802\ttest 0.8074459499\tbestTest 0.8074459499\tpassed: 11.4 sec\ttotal: 50m 42s\tremaining: 3h 32m 3s\n",
      "193:\tlearn 0.8336058197\ttest 0.8074648011\tbestTest 0.8074648011\tpassed: 12.7 sec\ttotal: 50m 55s\tremaining: 3h 31m 34s\n",
      "194:\tlearn 0.8337029732\ttest 0.8075559888\tbestTest 0.8075559888\tpassed: 13.3 sec\ttotal: 51m 8s\tremaining: 3h 31m 9s\n",
      "195:\tlearn 0.833839563\ttest 0.8075507279\tbestTest 0.8075559888\tpassed: 11.1 sec\ttotal: 51m 20s\tremaining: 3h 30m 34s\n",
      "196:\tlearn 0.8339256593\ttest 0.8076346119\tbestTest 0.8076346119\tpassed: 15.6 sec\ttotal: 51m 35s\tremaining: 3h 30m 17s\n",
      "197:\tlearn 0.8339868977\ttest 0.8076422574\tbestTest 0.8076422574\tpassed: 12.2 sec\ttotal: 51m 47s\tremaining: 3h 29m 48s\n",
      "198:\tlearn 0.8340201064\ttest 0.8076359542\tbestTest 0.8076422574\tpassed: 12.8 sec\ttotal: 52m\tremaining: 3h 29m 20s\n",
      "199:\tlearn 0.8340867435\ttest 0.8076246318\tbestTest 0.8076422574\tpassed: 11.9 sec\ttotal: 52m 12s\tremaining: 3h 28m 50s\n",
      "200:\tlearn 0.8342710114\ttest 0.8076947256\tbestTest 0.8076947256\tpassed: 13.9 sec\ttotal: 52m 26s\tremaining: 3h 28m 27s\n",
      "201:\tlearn 0.83449929\ttest 0.807776692\tbestTest 0.807776692\tpassed: 12.6 sec\ttotal: 52m 39s\tremaining: 3h 27m 59s\n",
      "202:\tlearn 0.8348115098\ttest 0.8077777258\tbestTest 0.8077777258\tpassed: 14.5 sec\ttotal: 52m 53s\tremaining: 3h 27m 39s\n",
      "203:\tlearn 0.8348588583\ttest 0.8077755247\tbestTest 0.8077777258\tpassed: 12.6 sec\ttotal: 53m 6s\tremaining: 3h 27m 12s\n",
      "204:\tlearn 0.834945322\ttest 0.8078514214\tbestTest 0.8078514214\tpassed: 14.1 sec\ttotal: 53m 20s\tremaining: 3h 26m 50s\n",
      "205:\tlearn 0.8351633759\ttest 0.8079269179\tbestTest 0.8079269179\tpassed: 15.7 sec\ttotal: 53m 35s\tremaining: 3h 26m 35s\n",
      "206:\tlearn 0.8353806285\ttest 0.8080494131\tbestTest 0.8080494131\tpassed: 13.4 sec\ttotal: 53m 49s\tremaining: 3h 26m 11s\n",
      "207:\tlearn 0.8354200871\ttest 0.8080125444\tbestTest 0.8080494131\tpassed: 17.6 sec\ttotal: 54m 6s\tremaining: 3h 26m 3s\n",
      "208:\tlearn 0.8355158929\ttest 0.8080864067\tbestTest 0.8080864067\tpassed: 12.3 sec\ttotal: 54m 19s\tremaining: 3h 25m 35s\n",
      "209:\tlearn 0.835642328\ttest 0.8081174724\tbestTest 0.8081174724\tpassed: 13.8 sec\ttotal: 54m 33s\tremaining: 3h 25m 12s\n",
      "210:\tlearn 0.8357948373\ttest 0.8082558173\tbestTest 0.8082558173\tpassed: 12.4 sec\ttotal: 54m 45s\tremaining: 3h 24m 45s\n",
      "211:\tlearn 0.835832457\ttest 0.8082653304\tbestTest 0.8082653304\tpassed: 11.2 sec\ttotal: 54m 56s\tremaining: 3h 24m 13s\n",
      "212:\tlearn 0.8360111236\ttest 0.8082674815\tbestTest 0.8082674815\tpassed: 13.7 sec\ttotal: 55m 10s\tremaining: 3h 23m 51s\n",
      "213:\tlearn 0.8361847632\ttest 0.8083013653\tbestTest 0.8083013653\tpassed: 12.9 sec\ttotal: 55m 23s\tremaining: 3h 23m 26s\n",
      "214:\tlearn 0.8362787584\ttest 0.8084349995\tbestTest 0.8084349995\tpassed: 14.8 sec\ttotal: 55m 38s\tremaining: 3h 23m 8s\n",
      "215:\tlearn 0.8363048474\ttest 0.8083972387\tbestTest 0.8084349995\tpassed: 17.6 sec\ttotal: 55m 55s\tremaining: 3h 23m\n",
      "216:\tlearn 0.8364903294\ttest 0.8084614879\tbestTest 0.8084614879\tpassed: 12 sec\ttotal: 56m 7s\tremaining: 3h 22m 31s\n",
      "217:\tlearn 0.8366419749\ttest 0.8084852915\tbestTest 0.8084852915\tpassed: 11.3 sec\ttotal: 56m 19s\tremaining: 3h 22m 1s\n",
      "218:\tlearn 0.836704195\ttest 0.8085005492\tbestTest 0.8085005492\tpassed: 11.1 sec\ttotal: 56m 30s\tremaining: 3h 21m 30s\n",
      "219:\tlearn 0.8368947322\ttest 0.8084965472\tbestTest 0.8085005492\tpassed: 12.2 sec\ttotal: 56m 42s\tremaining: 3h 21m 3s\n",
      "220:\tlearn 0.836924217\ttest 0.8084854333\tbestTest 0.8085005492\tpassed: 12.5 sec\ttotal: 56m 54s\tremaining: 3h 20m 37s\n",
      "221:\tlearn 0.8370943822\ttest 0.8085273628\tbestTest 0.8085273628\tpassed: 10.9 sec\ttotal: 57m 5s\tremaining: 3h 20m 5s\n",
      "222:\tlearn 0.8371774463\ttest 0.8085490404\tbestTest 0.8085490404\tpassed: 15 sec\ttotal: 57m 20s\tremaining: 3h 19m 49s\n",
      "223:\tlearn 0.8372743712\ttest 0.8085975066\tbestTest 0.8085975066\tpassed: 11.7 sec\ttotal: 57m 32s\tremaining: 3h 19m 20s\n",
      "224:\tlearn 0.8375131608\ttest 0.8086199179\tbestTest 0.8086199179\tpassed: 11.7 sec\ttotal: 57m 44s\tremaining: 3h 18m 52s\n",
      "225:\tlearn 0.8375202137\ttest 0.8086337749\tbestTest 0.8086337749\tpassed: 9.2 sec\ttotal: 57m 53s\tremaining: 3h 18m 15s\n",
      "226:\tlearn 0.8376857066\ttest 0.8086765965\tbestTest 0.8086765965\tpassed: 11.7 sec\ttotal: 58m 5s\tremaining: 3h 17m 48s\n",
      "227:\tlearn 0.8377252899\ttest 0.8086496079\tbestTest 0.8086765965\tpassed: 13.6 sec\ttotal: 58m 18s\tremaining: 3h 17m 26s\n",
      "228:\tlearn 0.8377960931\ttest 0.8086332163\tbestTest 0.8086765965\tpassed: 13.2 sec\ttotal: 58m 32s\tremaining: 3h 17m 4s\n",
      "229:\tlearn 0.8379534868\ttest 0.8087620063\tbestTest 0.8087620063\tpassed: 10.6 sec\ttotal: 58m 42s\tremaining: 3h 16m 33s\n",
      "230:\tlearn 0.8380460616\ttest 0.8088242377\tbestTest 0.8088242377\tpassed: 14.1 sec\ttotal: 58m 56s\tremaining: 3h 16m 13s\n",
      "231:\tlearn 0.8381070261\ttest 0.8088489919\tbestTest 0.8088489919\tpassed: 17.2 sec\ttotal: 59m 13s\tremaining: 3h 16m 4s\n",
      "232:\tlearn 0.8384220748\ttest 0.8091414229\tbestTest 0.8091414229\tpassed: 15.6 sec\ttotal: 59m 29s\tremaining: 3h 15m 50s\n",
      "233:\tlearn 0.8385283041\ttest 0.8091644762\tbestTest 0.8091644762\tpassed: 13.8 sec\ttotal: 59m 43s\tremaining: 3h 15m 30s\n",
      "234:\tlearn 0.8386945703\ttest 0.8092776001\tbestTest 0.8092776001\tpassed: 10.7 sec\ttotal: 59m 54s\tremaining: 3h 14m 59s\n",
      "235:\tlearn 0.838767202\ttest 0.8093239901\tbestTest 0.8093239901\tpassed: 14.1 sec\ttotal: 1h 8s\tremaining: 3h 14m 40s\n",
      "236:\tlearn 0.8388984013\ttest 0.8093881726\tbestTest 0.8093881726\tpassed: 13.6 sec\ttotal: 1h 21s\tremaining: 3h 14m 19s\n",
      "237:\tlearn 0.8390034566\ttest 0.8094056314\tbestTest 0.8094056314\tpassed: 17.7 sec\ttotal: 1h 39s\tremaining: 3h 14m 12s\n",
      "238:\tlearn 0.8391620911\ttest 0.8094637691\tbestTest 0.8094637691\tpassed: 16.1 sec\ttotal: 1h 55s\tremaining: 3h 13m 59s\n",
      "239:\tlearn 0.8393532754\ttest 0.8095083124\tbestTest 0.8095083124\tpassed: 12.2 sec\ttotal: 1h 1m 7s\tremaining: 3h 13m 34s\n",
      "240:\tlearn 0.8394014952\ttest 0.8094996747\tbestTest 0.8095083124\tpassed: 10.8 sec\ttotal: 1h 1m 18s\tremaining: 3h 13m 5s\n",
      "241:\tlearn 0.8394956862\ttest 0.8095217942\tbestTest 0.8095217942\tpassed: 12.7 sec\ttotal: 1h 1m 31s\tremaining: 3h 12m 41s\n",
      "242:\tlearn 0.8396116533\ttest 0.8095236868\tbestTest 0.8095236868\tpassed: 13.1 sec\ttotal: 1h 1m 44s\tremaining: 3h 12m 19s\n",
      "243:\tlearn 0.8396107138\ttest 0.8095213106\tbestTest 0.8095236868\tpassed: 15.8 sec\ttotal: 1h 2m\tremaining: 3h 12m 6s\n",
      "244:\tlearn 0.8397062643\ttest 0.8095072285\tbestTest 0.8095236868\tpassed: 15.7 sec\ttotal: 1h 2m 15s\tremaining: 3h 11m 52s\n",
      "245:\tlearn 0.8397912905\ttest 0.8096442144\tbestTest 0.8096442144\tpassed: 10.6 sec\ttotal: 1h 2m 26s\tremaining: 3h 11m 22s\n",
      "246:\tlearn 0.8398612626\ttest 0.8096724953\tbestTest 0.8096724953\tpassed: 11.8 sec\ttotal: 1h 2m 38s\tremaining: 3h 10m 57s\n",
      "247:\tlearn 0.8399431779\ttest 0.8098369409\tbestTest 0.8098369409\tpassed: 13.7 sec\ttotal: 1h 2m 51s\tremaining: 3h 10m 37s\n",
      "248:\tlearn 0.8399633747\ttest 0.8098366157\tbestTest 0.8098369409\tpassed: 15.1 sec\ttotal: 1h 3m 6s\tremaining: 3h 10m 21s\n",
      "249:\tlearn 0.8401482141\ttest 0.8098361155\tbestTest 0.8098369409\tpassed: 15.5 sec\ttotal: 1h 3m 22s\tremaining: 3h 10m 7s\n",
      "250:\tlearn 0.8402292493\ttest 0.8098073259\tbestTest 0.8098369409\tpassed: 11 sec\ttotal: 1h 3m 33s\tremaining: 3h 9m 39s\n",
      "251:\tlearn 0.8403403601\ttest 0.8098046246\tbestTest 0.8098369409\tpassed: 13.8 sec\ttotal: 1h 3m 47s\tremaining: 3h 9m 20s\n",
      "252:\tlearn 0.8403694264\ttest 0.8098097438\tbestTest 0.8098369409\tpassed: 13.9 sec\ttotal: 1h 4m 1s\tremaining: 3h 9m 1s\n",
      "253:\tlearn 0.8403836924\ttest 0.8098187901\tbestTest 0.8098369409\tpassed: 11.1 sec\ttotal: 1h 4m 12s\tremaining: 3h 8m 34s\n",
      "254:\tlearn 0.840474032\ttest 0.8098365324\tbestTest 0.8098369409\tpassed: 16.1 sec\ttotal: 1h 4m 28s\tremaining: 3h 8m 21s\n",
      "255:\tlearn 0.8405829136\ttest 0.8099166645\tbestTest 0.8099166645\tpassed: 11.6 sec\ttotal: 1h 4m 40s\tremaining: 3h 7m 56s\n",
      "256:\tlearn 0.8409460336\ttest 0.8101862923\tbestTest 0.8101862923\tpassed: 18.8 sec\ttotal: 1h 4m 58s\tremaining: 3h 7m 51s\n",
      "257:\tlearn 0.8410354263\ttest 0.8102565528\tbestTest 0.8102565528\tpassed: 20.5 sec\ttotal: 1h 5m 19s\tremaining: 3h 7m 51s\n",
      "258:\tlearn 0.8411353997\ttest 0.8102860427\tbestTest 0.8102860427\tpassed: 12.4 sec\ttotal: 1h 5m 31s\tremaining: 3h 7m 28s\n",
      "259:\tlearn 0.8411870421\ttest 0.8103021592\tbestTest 0.8103021592\tpassed: 16.1 sec\ttotal: 1h 5m 47s\tremaining: 3h 7m 16s\n",
      "260:\tlearn 0.8412872678\ttest 0.8102824743\tbestTest 0.8103021592\tpassed: 11.8 sec\ttotal: 1h 5m 59s\tremaining: 3h 6m 51s\n",
      "261:\tlearn 0.8413078268\ttest 0.810251617\tbestTest 0.8103021592\tpassed: 23 sec\ttotal: 1h 6m 22s\tremaining: 3h 6m 58s\n",
      "262:\tlearn 0.8414546219\ttest 0.8103648075\tbestTest 0.8103648075\tpassed: 16.2 sec\ttotal: 1h 6m 38s\tremaining: 3h 6m 46s\n",
      "263:\tlearn 0.84150939\ttest 0.8103980326\tbestTest 0.8103980326\tpassed: 14.1 sec\ttotal: 1h 6m 53s\tremaining: 3h 6m 27s\n",
      "264:\tlearn 0.8416340217\ttest 0.8105447484\tbestTest 0.8105447484\tpassed: 16.2 sec\ttotal: 1h 7m 9s\tremaining: 3h 6m 15s\n",
      "265:\tlearn 0.8416631014\ttest 0.8105378783\tbestTest 0.8105447484\tpassed: 13.6 sec\ttotal: 1h 7m 22s\tremaining: 3h 5m 55s\n",
      "266:\tlearn 0.8417280079\ttest 0.8105448151\tbestTest 0.8105448151\tpassed: 13.6 sec\ttotal: 1h 7m 36s\tremaining: 3h 5m 36s\n",
      "267:\tlearn 0.8418438355\ttest 0.8106103732\tbestTest 0.8106103732\tpassed: 12.9 sec\ttotal: 1h 7m 49s\tremaining: 3h 5m 14s\n",
      "268:\tlearn 0.8418694897\ttest 0.8106705869\tbestTest 0.8106705869\tpassed: 19.5 sec\ttotal: 1h 8m 8s\tremaining: 3h 5m 11s\n",
      "269:\tlearn 0.8420066079\ttest 0.8106656928\tbestTest 0.8106705869\tpassed: 15.8 sec\ttotal: 1h 8m 24s\tremaining: 3h 4m 57s\n",
      "270:\t"
     ]
    },
    {
     "ename": "KeyboardInterrupt",
     "evalue": "",
     "output_type": "error",
     "traceback": [
      "\u001b[0;31m---------------------------------------------------------------------------\u001b[0m",
      "\u001b[0;31mKeyboardInterrupt\u001b[0m                         Traceback (most recent call last)",
      "\u001b[0;32m<ipython-input-84-d63611cccfa1>\u001b[0m in \u001b[0;36m<module>\u001b[0;34m()\u001b[0m\n\u001b[0;32m----> 1\u001b[0;31m \u001b[0mmodel\u001b[0m\u001b[0;34m.\u001b[0m\u001b[0mfit\u001b[0m\u001b[0;34m(\u001b[0m\u001b[0mX_train\u001b[0m\u001b[0;34m,\u001b[0m \u001b[0my_train\u001b[0m\u001b[0;34m,\u001b[0m \u001b[0mcat_features\u001b[0m\u001b[0;34m=\u001b[0m\u001b[0mcatCols\u001b[0m\u001b[0;34m,\u001b[0m \u001b[0meval_set\u001b[0m\u001b[0;34m=\u001b[0m\u001b[0;34m(\u001b[0m\u001b[0mX_valid\u001b[0m\u001b[0;34m,\u001b[0m \u001b[0my_valid\u001b[0m\u001b[0;34m)\u001b[0m\u001b[0;34m,\u001b[0m \u001b[0mverbose\u001b[0m\u001b[0;34m=\u001b[0m\u001b[0;32mTrue\u001b[0m\u001b[0;34m,\u001b[0m \u001b[0muse_best_model\u001b[0m\u001b[0;34m=\u001b[0m\u001b[0;32mTrue\u001b[0m\u001b[0;34m)\u001b[0m\u001b[0;34m\u001b[0m\u001b[0m\n\u001b[0m",
      "\u001b[0;32m/home/manish/anaconda2/envs/py35/lib/python3.5/site-packages/catboost/core.py\u001b[0m in \u001b[0;36mfit\u001b[0;34m(self, X, y, cat_features, sample_weight, baseline, use_best_model, eval_set, verbose, plot)\u001b[0m\n\u001b[1;32m    963\u001b[0m         \u001b[0mmodel\u001b[0m \u001b[0;34m:\u001b[0m \u001b[0mCatBoost\u001b[0m\u001b[0;34m\u001b[0m\u001b[0m\n\u001b[1;32m    964\u001b[0m         \"\"\"\n\u001b[0;32m--> 965\u001b[0;31m         \u001b[0mself\u001b[0m\u001b[0;34m.\u001b[0m\u001b[0m_fit\u001b[0m\u001b[0;34m(\u001b[0m\u001b[0mX\u001b[0m\u001b[0;34m,\u001b[0m \u001b[0my\u001b[0m\u001b[0;34m,\u001b[0m \u001b[0mcat_features\u001b[0m\u001b[0;34m,\u001b[0m \u001b[0msample_weight\u001b[0m\u001b[0;34m,\u001b[0m \u001b[0mbaseline\u001b[0m\u001b[0;34m,\u001b[0m \u001b[0muse_best_model\u001b[0m\u001b[0;34m,\u001b[0m \u001b[0meval_set\u001b[0m\u001b[0;34m,\u001b[0m \u001b[0mverbose\u001b[0m\u001b[0;34m,\u001b[0m \u001b[0mplot\u001b[0m\u001b[0;34m)\u001b[0m\u001b[0;34m\u001b[0m\u001b[0m\n\u001b[0m\u001b[1;32m    966\u001b[0m         \u001b[0;32mif\u001b[0m \u001b[0my\u001b[0m \u001b[0;32mis\u001b[0m \u001b[0;32mnot\u001b[0m \u001b[0;32mNone\u001b[0m\u001b[0;34m:\u001b[0m\u001b[0;34m\u001b[0m\u001b[0m\n\u001b[1;32m    967\u001b[0m             \u001b[0msetattr\u001b[0m\u001b[0;34m(\u001b[0m\u001b[0mself\u001b[0m\u001b[0;34m,\u001b[0m \u001b[0;34m\"classes\"\u001b[0m\u001b[0;34m,\u001b[0m \u001b[0mnp\u001b[0m\u001b[0;34m.\u001b[0m\u001b[0munique\u001b[0m\u001b[0;34m(\u001b[0m\u001b[0my\u001b[0m\u001b[0;34m)\u001b[0m\u001b[0;34m)\u001b[0m\u001b[0;34m\u001b[0m\u001b[0m\n",
      "\u001b[0;32m/home/manish/anaconda2/envs/py35/lib/python3.5/site-packages/catboost/core.py\u001b[0m in \u001b[0;36m_fit\u001b[0;34m(self, X, y, cat_features, sample_weight, baseline, use_best_model, eval_set, verbose, plot)\u001b[0m\n\u001b[1;32m    422\u001b[0m                 \u001b[0;32mraise\u001b[0m \u001b[0mImportError\u001b[0m\u001b[0;34m(\u001b[0m\u001b[0mstr\u001b[0m\u001b[0;34m(\u001b[0m\u001b[0me\u001b[0m\u001b[0;34m)\u001b[0m\u001b[0;34m)\u001b[0m\u001b[0;34m\u001b[0m\u001b[0m\n\u001b[1;32m    423\u001b[0m         \u001b[0;32mwith\u001b[0m \u001b[0mlog_fixup\u001b[0m\u001b[0;34m(\u001b[0m\u001b[0;34m)\u001b[0m\u001b[0;34m:\u001b[0m\u001b[0;34m\u001b[0m\u001b[0m\n\u001b[0;32m--> 424\u001b[0;31m             \u001b[0mself\u001b[0m\u001b[0;34m.\u001b[0m\u001b[0m_train\u001b[0m\u001b[0;34m(\u001b[0m\u001b[0mX\u001b[0m\u001b[0;34m,\u001b[0m \u001b[0meval_set\u001b[0m\u001b[0;34m,\u001b[0m \u001b[0mparams\u001b[0m\u001b[0;34m)\u001b[0m\u001b[0;34m\u001b[0m\u001b[0m\n\u001b[0m\u001b[1;32m    425\u001b[0m         \u001b[0;32mif\u001b[0m \u001b[0mcalc_feature_importance\u001b[0m\u001b[0;34m:\u001b[0m\u001b[0;34m\u001b[0m\u001b[0m\n\u001b[1;32m    426\u001b[0m             \u001b[0msetattr\u001b[0m\u001b[0;34m(\u001b[0m\u001b[0mself\u001b[0m\u001b[0;34m,\u001b[0m \u001b[0;34m\"feature_importance\"\u001b[0m\u001b[0;34m,\u001b[0m \u001b[0mself\u001b[0m\u001b[0;34m.\u001b[0m\u001b[0mfeature_importances\u001b[0m\u001b[0;34m(\u001b[0m\u001b[0mX\u001b[0m\u001b[0;34m)\u001b[0m\u001b[0;34m)\u001b[0m\u001b[0;34m\u001b[0m\u001b[0m\n",
      "\u001b[0;32m_catboost.pyx\u001b[0m in \u001b[0;36m_catboost._CatBoostBase._train (/home/donskov/.ya/build/build_root/6d786f6630393533326272727668366a/catboost/python-package/catboost/_catboost.pyx.cpp:13659)\u001b[0;34m()\u001b[0m\n",
      "\u001b[0;32m_catboost.pyx\u001b[0m in \u001b[0;36m_catboost._CatBoost._train (/home/donskov/.ya/build/build_root/6d786f6630393533326272727668366a/catboost/python-package/catboost/_catboost.pyx.cpp:9728)\u001b[0;34m()\u001b[0m\n",
      "\u001b[0;32m_catboost.pyx\u001b[0m in \u001b[0;36m_catboost._CatBoost._train (/home/donskov/.ya/build/build_root/6d786f6630393533326272727668366a/catboost/python-package/catboost/_catboost.pyx.cpp:9522)\u001b[0;34m()\u001b[0m\n",
      "\u001b[0;31mKeyboardInterrupt\u001b[0m: "
     ]
    }
   ],
   "source": [
    "model.fit(X_train, y_train, cat_features=catCols, eval_set=(X_valid, y_valid), verbose=True, use_best_model=True)"
   ]
  },
  {
   "cell_type": "code",
   "execution_count": null,
   "metadata": {
    "collapsed": true
   },
   "outputs": [],
   "source": [
    "preds1 = model.predict_proba(testX)[:,1]"
   ]
  },
  {
   "cell_type": "code",
   "execution_count": null,
   "metadata": {
    "collapsed": true
   },
   "outputs": [],
   "source": []
  },
  {
   "cell_type": "code",
   "execution_count": null,
   "metadata": {
    "collapsed": true
   },
   "outputs": [],
   "source": []
  },
  {
   "cell_type": "code",
   "execution_count": null,
   "metadata": {
    "collapsed": true
   },
   "outputs": [],
   "source": []
  },
  {
   "cell_type": "code",
   "execution_count": null,
   "metadata": {
    "collapsed": true
   },
   "outputs": [],
   "source": []
  }
 ],
 "metadata": {
  "kernelspec": {
   "display_name": "Python 3",
   "language": "python",
   "name": "python3"
  },
  "language_info": {
   "codemirror_mode": {
    "name": "ipython",
    "version": 3
   },
   "file_extension": ".py",
   "mimetype": "text/x-python",
   "name": "python",
   "nbconvert_exporter": "python",
   "pygments_lexer": "ipython3",
   "version": "3.5.2"
  }
 },
 "nbformat": 4,
 "nbformat_minor": 2
}
