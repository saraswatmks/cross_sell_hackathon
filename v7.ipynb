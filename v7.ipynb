{
 "cells": [
  {
   "cell_type": "markdown",
   "metadata": {},
   "source": [
    "### Best score is coming at missing -999, non-normalised, > 96% dropping features : 66% something"
   ]
  },
  {
   "cell_type": "code",
   "execution_count": 1,
   "metadata": {
    "collapsed": true
   },
   "outputs": [],
   "source": [
    "import pandas as pd\n",
    "import numpy as np\n",
    "from sklearn.preprocessing import LabelEncoder\n",
    "from sklearn.decomposition import TruncatedSVD, PCA, FastICA\n",
    "from sklearn.random_projection import GaussianRandomProjection, SparseRandomProjection\n",
    "from sklearn.ensemble import ExtraTreesClassifier\n",
    "from sklearn.metrics import roc_auc_score\n",
    "from sklearn.pipeline import make_pipeline, make_union\n",
    "from sklearn.manifold import TSNE"
   ]
  },
  {
   "cell_type": "code",
   "execution_count": 2,
   "metadata": {
    "collapsed": true
   },
   "outputs": [],
   "source": [
    "pd.set_option('display.max_columns', 1000)\n",
    "pd.set_option('display.max_rows', 10000)"
   ]
  },
  {
   "cell_type": "code",
   "execution_count": 3,
   "metadata": {
    "collapsed": false
   },
   "outputs": [
    {
     "name": "stderr",
     "output_type": "stream",
     "text": [
      "/home/manish/anaconda2/envs/py35/lib/python3.5/site-packages/IPython/core/interactiveshell.py:2717: DtypeWarning: Columns (8,11,12,13,14,15,16,17,18,19,21,23,26,28,29,30,32,82,83,85,91,269,325,326,327,328) have mixed types. Specify dtype option on import or set low_memory=False.\n",
      "  interactivity=interactivity, compiler=compiler, result=result)\n",
      "/home/manish/anaconda2/envs/py35/lib/python3.5/site-packages/IPython/core/interactiveshell.py:2717: DtypeWarning: Columns (8,11,12,13,14,15,16,17,18,19,26,28,29,30,82,83,85,91,269,325,326,327,328) have mixed types. Specify dtype option on import or set low_memory=False.\n",
      "  interactivity=interactivity, compiler=compiler, result=result)\n"
     ]
    }
   ],
   "source": [
    "with open('train_iI26erW/train.csv', 'r') as fp, open('test_plBmD8c.csv') as fg:\n",
    "    train = pd.read_csv(fp)\n",
    "    test = pd.read_csv(fg)"
   ]
  },
  {
   "cell_type": "code",
   "execution_count": 4,
   "metadata": {
    "collapsed": false
   },
   "outputs": [
    {
     "name": "stdout",
     "output_type": "stream",
     "text": [
      "(300000, 333)\n",
      "(200000, 332)\n"
     ]
    }
   ],
   "source": [
    "print(train.shape)\n",
    "print(test.shape)"
   ]
  },
  {
   "cell_type": "code",
   "execution_count": 5,
   "metadata": {
    "collapsed": true
   },
   "outputs": [],
   "source": [
    "## set blank as na\n",
    "train = train.replace('', np.nan)\n",
    "test = test.replace('', np.nan)"
   ]
  },
  {
   "cell_type": "code",
   "execution_count": 6,
   "metadata": {
    "collapsed": true
   },
   "outputs": [],
   "source": [
    "## count no. of NA per row\n",
    "\n",
    "train['na_count'] = train.isnull().sum(axis=1)\n",
    "test['na_count'] = test.isnull().sum(axis=1)"
   ]
  },
  {
   "cell_type": "code",
   "execution_count": 7,
   "metadata": {
    "collapsed": false
   },
   "outputs": [],
   "source": [
    "## net balance after spending in mon 1\n",
    "addCols = [x for x in train.columns if 'CARD_' in x]\n",
    "train['add_spend_mon1'] = train[addCols].sum(axis = 1) \n",
    "test['add_spend_mon1'] = test[addCols].sum(axis = 1)\n",
    "\n",
    "train['add_spend_mon1'] = train['add_spend_mon1'].map(lambda x: x.count('Y'))\n",
    "test['add_spend_mon1'] = test['add_spend_mon1'].map(lambda x: x.count('Y'))"
   ]
  },
  {
   "cell_type": "code",
   "execution_count": 8,
   "metadata": {
    "collapsed": true
   },
   "outputs": [],
   "source": [
    "train['CLOSED_DATE'] = train['CLOSED_DATE'].astype(str)\n",
    "test['CLOSED_DATE'] = test['CLOSED_DATE'].astype(str)"
   ]
  },
  {
   "cell_type": "code",
   "execution_count": 9,
   "metadata": {
    "collapsed": false
   },
   "outputs": [],
   "source": [
    "def getDateFormat(val):\n",
    "    if not val == 'nan':\n",
    "        try:\n",
    "            a = datetime.strptime(val, '%d%b%Y')\n",
    "            b = a.strftime('%Y-%m-%d')\n",
    "            return b\n",
    "        except TypeError:\n",
    "            return np.nan\n",
    "    else:\n",
    "        return np.nan"
   ]
  },
  {
   "cell_type": "code",
   "execution_count": 10,
   "metadata": {
    "collapsed": false
   },
   "outputs": [],
   "source": [
    "from datetime import datetime\n",
    "\n",
    "train['closed_date_format'] = train['CLOSED_DATE'].map(getDateFormat)\n",
    "test['closed_date_format'] = test['CLOSED_DATE'].map(getDateFormat)\n",
    "\n",
    "train['maturity_gl_format'] = train['MATURITY_GL'].map(getDateFormat)\n",
    "test['maturity_gl_format'] = test['MATURITY_GL'].map(getDateFormat)\n",
    "\n",
    "train['maturity_lap_format'] = train['MATURITY_LAP'].map(getDateFormat)\n",
    "test['maturity_lap_format'] = test['MATURITY_LAP'].map(getDateFormat)\n",
    "\n",
    "train['maturity_las_format'] = train['MATURITY_LAS'].map(getDateFormat)\n",
    "test['maturity_las_format'] = test['MATURITY_LAS'].map(getDateFormat)"
   ]
  },
  {
   "cell_type": "code",
   "execution_count": 11,
   "metadata": {
    "collapsed": true
   },
   "outputs": [],
   "source": [
    "## drop date formats\n",
    "train.drop(['CLOSED_DATE','MATURITY_GL','MATURITY_LAP','MATURITY_LAS'], axis=1, inplace=True)\n",
    "test.drop(['CLOSED_DATE','MATURITY_GL','MATURITY_LAP','MATURITY_LAS'], axis=1, inplace=True)"
   ]
  },
  {
   "cell_type": "code",
   "execution_count": 12,
   "metadata": {
    "collapsed": false
   },
   "outputs": [],
   "source": [
    "## date features\n",
    "\n",
    "train['closed_date_format'] = pd.to_datetime(train['closed_date_format'])\n",
    "test['closed_date_format'] = pd.to_datetime(test['closed_date_format'])\n",
    "\n",
    "train['maturity_gl_format'] = pd.to_datetime(train['maturity_gl_format'])\n",
    "test['maturity_gl_format'] = pd.to_datetime(test['maturity_gl_format'])\n",
    "\n",
    "train['maturity_lap_format'] = pd.to_datetime(train['maturity_lap_format'])\n",
    "test['maturity_lap_format'] = pd.to_datetime(test['maturity_lap_format'])\n",
    "\n",
    "train['maturity_las_format'] = pd.to_datetime(train['maturity_las_format'])\n",
    "test['maturity_las_format'] = pd.to_datetime(test['maturity_las_format'])"
   ]
  },
  {
   "cell_type": "code",
   "execution_count": 13,
   "metadata": {
    "collapsed": true
   },
   "outputs": [],
   "source": [
    "train['closed_date_weekday'] = train['closed_date_format'].dt.weekday\n",
    "test['closed_date_weekday'] = test['closed_date_format'].dt.weekday\n",
    "\n",
    "train['closed_date_year'] = train['closed_date_format'].dt.year\n",
    "test['closed_date_year'] = test['closed_date_format'].dt.year\n",
    "\n",
    "train['closed_date_month'] = train['closed_date_format'].dt.month\n",
    "test['closed_date_month'] = test['closed_date_format'].dt.month\n",
    "\n",
    "train['closed_date_day'] = train['closed_date_format'].dt.day\n",
    "test['closed_date_day'] = test['closed_date_format'].dt.day\n",
    "\n",
    "#########################################################\n",
    "\n",
    "train['maturity_gl_weekday'] = train['maturity_gl_format'].dt.weekday\n",
    "test['maturity_gl_weekday'] = test['maturity_gl_format'].dt.weekday\n",
    "\n",
    "train['maturity_gl_year'] = train['maturity_gl_format'].dt.year\n",
    "test['maturity_gl_year'] = test['maturity_gl_format'].dt.year\n",
    "\n",
    "train['maturity_gl_month'] = train['maturity_gl_format'].dt.month\n",
    "test['maturity_gl_month'] = test['maturity_gl_format'].dt.month\n",
    "\n",
    "train['maturity_gl_day'] = train['maturity_gl_format'].dt.day\n",
    "test['maturity_gl_day'] = test['maturity_gl_format'].dt.day\n",
    "\n",
    "################################################################\n",
    "\n",
    "train['maturity_lap_weekday'] = train['maturity_lap_format'].dt.weekday\n",
    "test['maturity_lap_weekday'] = test['maturity_lap_format'].dt.weekday\n",
    "\n",
    "train['maturity_lap_year'] = train['maturity_lap_format'].dt.year\n",
    "test['maturity_lap_year'] = test['maturity_lap_format'].dt.year\n",
    "\n",
    "train['maturity_lap_month'] = train['maturity_lap_format'].dt.month\n",
    "test['maturity_lap_month'] = test['maturity_lap_format'].dt.month\n",
    "\n",
    "train['maturity_lap_day'] = train['maturity_lap_format'].dt.day\n",
    "test['maturity_lap_day'] = test['maturity_lap_format'].dt.day\n",
    "\n",
    "######################################################################\n",
    "\n",
    "train['maturity_las_weekday'] = train['maturity_las_format'].dt.weekday\n",
    "test['maturity_las_weekday'] = test['maturity_las_format'].dt.weekday\n",
    "\n",
    "train['maturity_las_year'] = train['maturity_las_format'].dt.year\n",
    "test['maturity_las_year'] = test['maturity_las_format'].dt.year\n",
    "\n",
    "train['maturity_las_month'] = train['maturity_las_format'].dt.month\n",
    "test['maturity_las_month'] = test['maturity_las_format'].dt.month\n",
    "\n",
    "train['maturity_las_day'] = train['maturity_las_format'].dt.day\n",
    "test['maturity_las_day'] = test['maturity_las_format'].dt.day\n",
    "\n",
    "######################################################################\n"
   ]
  },
  {
   "cell_type": "code",
   "execution_count": 14,
   "metadata": {
    "collapsed": false
   },
   "outputs": [],
   "source": [
    "formatCols = [x for x in train.columns if  '_format' in x]\n",
    "train.drop(formatCols, axis=1, inplace=True)\n",
    "test.drop(formatCols, axis=1, inplace=True)"
   ]
  },
  {
   "cell_type": "code",
   "execution_count": 15,
   "metadata": {
    "collapsed": true
   },
   "outputs": [],
   "source": [
    "train['net_emi_paid'] = train['HL_EMI'] / train['SCRUB_EMI']\n",
    "test['net_emi_paid'] = test['HL_EMI'] / test['SCRUB_EMI']\n",
    "\n",
    "train['total_salary_credited'] = train['SAL_MON_01'] + train['SAL_MON_02'] + train['SAL_MON_03']\n",
    "test['total_salary_credited'] = test['SAL_MON_01'] + test['SAL_MON_02'] + test['SAL_MON_03']"
   ]
  },
  {
   "cell_type": "code",
   "execution_count": 16,
   "metadata": {
    "collapsed": false
   },
   "outputs": [],
   "source": [
    "train['total_balance'] = train['EOP_MON_02'] + train['EOP_MON_03'] + train['EOP_BAL_MON_01']\n",
    "test['total_balance'] =  test['EOP_MON_02'] + test['EOP_MON_03'] + test['EOP_BAL_MON_01']"
   ]
  },
  {
   "cell_type": "code",
   "execution_count": 17,
   "metadata": {
    "collapsed": false
   },
   "outputs": [],
   "source": [
    "cardCols = [x for x in train.columns if 'CARD_' in x]\n",
    "\n",
    "for x in cardCols:\n",
    "    train[x] = train[x].map(lambda x: 1 if x == 'Y' else 0)\n",
    "    test[x] = test[x].map(lambda x: 1 if x == 'Y' else 0)"
   ]
  },
  {
   "cell_type": "code",
   "execution_count": 18,
   "metadata": {
    "collapsed": true
   },
   "outputs": [],
   "source": [
    "train['spent_sum'] = train[cardCols].sum(axis=1)\n",
    "test['spent_sum'] = test[cardCols].sum(axis=1)"
   ]
  },
  {
   "cell_type": "code",
   "execution_count": 19,
   "metadata": {
    "collapsed": false
   },
   "outputs": [],
   "source": [
    "dcount = [x for x in train.columns if 'D_COUNT' in x]\n",
    "ccount = [x for x in train.columns if 'C_COUNT' in x]\n",
    "\n",
    "train['debit_count'] = train[dcount].sum(axis=1)\n",
    "train['credit_count'] = train[ccount].sum(axis=1)\n",
    "\n",
    "test['debit_count'] = test[dcount].sum(axis=1)\n",
    "test['credit_count'] = test[ccount].sum(axis=1)"
   ]
  },
  {
   "cell_type": "code",
   "execution_count": 20,
   "metadata": {
    "collapsed": true
   },
   "outputs": [],
   "source": [
    "damount = [x for x in train.columns if 'D_AMT' in x]\n",
    "camount = [x for x in train.columns if 'C_AMT' in x]\n",
    "\n",
    "train['debit_amount'] = train[damount].sum(axis=1)\n",
    "train['credit_amount'] = train[camount].sum(axis=1)\n",
    "\n",
    "test['debit_amount'] = test[damount].sum(axis=1)\n",
    "test['credit_amount'] = test[camount].sum(axis=1)"
   ]
  },
  {
   "cell_type": "code",
   "execution_count": 21,
   "metadata": {
    "collapsed": false
   },
   "outputs": [],
   "source": [
    "train['DESIGNATION_FINAL'] = train['DESIGNATION_FINAL'].map(lambda x: np.nan if x == 'MISSING' else x)\n",
    "test['DESIGNATION_FINAL'] = test['DESIGNATION_FINAL'].map(lambda x: np.nan if x == 'MISSING' else x)"
   ]
  },
  {
   "cell_type": "code",
   "execution_count": 22,
   "metadata": {
    "collapsed": true
   },
   "outputs": [],
   "source": [
    "dest_tr = pd.get_dummies(train['DESIGNATION_FINAL'])\n",
    "det_te = pd.get_dummies(test['DESIGNATION_FINAL'])"
   ]
  },
  {
   "cell_type": "code",
   "execution_count": 23,
   "metadata": {
    "collapsed": true
   },
   "outputs": [],
   "source": [
    "train = pd.concat([train, dest_tr], axis=1)\n",
    "test = pd.concat([test, det_te], axis=1)"
   ]
  },
  {
   "cell_type": "code",
   "execution_count": 24,
   "metadata": {
    "collapsed": false
   },
   "outputs": [],
   "source": [
    "train.drop('DESIGNATION_FINAL', axis=1, inplace=True)\n",
    "test.drop('DESIGNATION_FINAL', axis=1, inplace=True)"
   ]
  },
  {
   "cell_type": "code",
   "execution_count": 25,
   "metadata": {
    "collapsed": true
   },
   "outputs": [],
   "source": [
    "ccspend = sorted([x for x in train.columns if 'CC_SPEND' in x])\n",
    "dcspend = sorted([x for x in train.columns if 'DC_SPEND' in x])"
   ]
  },
  {
   "cell_type": "code",
   "execution_count": 26,
   "metadata": {
    "collapsed": false
   },
   "outputs": [],
   "source": [
    "train['credit_spent'] = train['CC_SPEND_MON_01'] + train['CC_SPEND_MON_02'] + train['CC_SPEND_MON_03'] +train['CC_SPEND_MON_04'] + train['CC_SPEND_MON_05'] + train['CC_SPEND_MON_06'] \n",
    "test['credit_spent'] = test['CC_SPEND_MON_01'] + test['CC_SPEND_MON_02'] + test['CC_SPEND_MON_03'] + test['CC_SPEND_MON_04'] + test['CC_SPEND_MON_05'] + test['CC_SPEND_MON_06'] \n",
    "\n",
    "train['debit_spent'] = train['DC_SPEND_MON_01'] + train['DC_SPEND_MON_02'] + train['DC_SPEND_MON_03'] +train['DC_SPEND_MON_04'] + train['DC_SPEND_MON_05'] + train['DC_SPEND_MON_06'] \n",
    "test['debit_spent'] = test['DC_SPEND_MON_01'] + test['DC_SPEND_MON_02'] + test['DC_SPEND_MON_03'] +test['DC_SPEND_MON_04'] + test['DC_SPEND_MON_05'] + test['DC_SPEND_MON_06'] "
   ]
  },
  {
   "cell_type": "code",
   "execution_count": 27,
   "metadata": {
    "collapsed": true
   },
   "outputs": [],
   "source": [
    "cats= ['_ATM', '_CARE', '_ENT', '_HBY', '_HMD', '_HTL', '_JER', '_MED', '_RST', '_TRL']"
   ]
  },
  {
   "cell_type": "code",
   "execution_count": 28,
   "metadata": {
    "collapsed": true
   },
   "outputs": [],
   "source": [
    "## total sum by categories\n",
    "for i in ccspend:\n",
    "    for j in cats:\n",
    "        p = []\n",
    "        if i.endswith(j):\n",
    "            p.append(i)\n",
    "        train['cc_sum_'+j] = train[p].sum(axis=1)\n",
    "        test['cc_sum_'+j] = test[p].sum(axis=1)"
   ]
  },
  {
   "cell_type": "code",
   "execution_count": 29,
   "metadata": {
    "collapsed": true
   },
   "outputs": [],
   "source": [
    "## total sum by debit category\n",
    "for i in dcspend:\n",
    "    for j in cats:\n",
    "        p = []\n",
    "        if i.endswith(j):\n",
    "            p.append(i)\n",
    "        train['dc_sum_'+j] = train[p].sum(axis=1)\n",
    "        test['dc_sum_'+j] = test[p].sum(axis=1)"
   ]
  },
  {
   "cell_type": "code",
   "execution_count": 30,
   "metadata": {
    "collapsed": false
   },
   "outputs": [],
   "source": [
    "## total credit spent is greater than credit limit\n",
    "\n",
    "train['is_exceed_credit'] = train.apply(lambda row: 1 if (row['STMT_MON_01'] + row['STMT_MON_02'] + row['STMT_MON_03']) > row['CR_LIMIT'] else 0, axis=1)\n",
    "test['is_exceed_credit'] = test.apply(lambda row: 1 if (row['STMT_MON_01'] + row['STMT_MON_02'] + row['STMT_MON_03']) > row['CR_LIMIT'] else 0, axis =1)"
   ]
  },
  {
   "cell_type": "code",
   "execution_count": 31,
   "metadata": {
    "collapsed": true
   },
   "outputs": [],
   "source": [
    "## count live, closed loans\n",
    "liveLoan = [x for x in train.columns if 'SCRUB_LIVE' in x]\n",
    "closedLoan = [x for x in train.columns if 'SCRUB_CLOSED' in x]\n",
    "\n",
    "train['live_loan_count'] = train[liveLoan].sum(axis=1)\n",
    "train['closed_loan_count'] = train[closedLoan].sum(axis=1)\n",
    "\n",
    "test['live_loan_count'] = test[liveLoan].sum(axis=1)\n",
    "test['closed_loan_count'] = test[closedLoan].sum(axis=1)"
   ]
  },
  {
   "cell_type": "code",
   "execution_count": 32,
   "metadata": {
    "collapsed": true
   },
   "outputs": [],
   "source": [
    "txn_mon = [x for x in train.columns if 'TXN_MON' in x]\n",
    "txn_mon = txn_mon[:-1]"
   ]
  },
  {
   "cell_type": "code",
   "execution_count": 33,
   "metadata": {
    "collapsed": false
   },
   "outputs": [],
   "source": [
    "for c in txn_mon:\n",
    "    p = []\n",
    "    if 'CC_TXN' in c:\n",
    "        p.append(c)\n",
    "    train['total_credit_tran'] = train[p].sum(axis=1)\n",
    "    test['total_credit_tran'] = test[p].sum(axis=1)\n",
    "    \n",
    "for k in txn_mon:\n",
    "    j = []\n",
    "    if 'DC_TXN' in k:\n",
    "        j.append(c)\n",
    "    train['total_debit_tran'] = train[j].sum(axis=1)\n",
    "    test['total_debit_tran'] = test[j].sum(axis=1)"
   ]
  },
  {
   "cell_type": "code",
   "execution_count": 34,
   "metadata": {
    "collapsed": false
   },
   "outputs": [
    {
     "name": "stdout",
     "output_type": "stream",
     "text": [
      "(300000, 391)\n",
      "(200000, 390)\n"
     ]
    }
   ],
   "source": [
    "print(train.shape)\n",
    "print(test.shape)"
   ]
  },
  {
   "cell_type": "markdown",
   "metadata": {},
   "source": [
    "### one hot encoding - no one hot encoding this time"
   ]
  },
  {
   "cell_type": "code",
   "execution_count": 35,
   "metadata": {
    "collapsed": true
   },
   "outputs": [],
   "source": [
    "objCols = train.select_dtypes(include=['object']).columns"
   ]
  },
  {
   "cell_type": "code",
   "execution_count": 36,
   "metadata": {
    "collapsed": false
   },
   "outputs": [],
   "source": [
    "countDict = {}\n",
    "for x in objCols:\n",
    "    if train[x].nunique() > 2:\n",
    "        countDict[x] = train[x].nunique()\n",
    "        \n",
    "oneHotCols = list(countDict.keys())"
   ]
  },
  {
   "cell_type": "code",
   "execution_count": 37,
   "metadata": {
    "collapsed": false
   },
   "outputs": [],
   "source": [
    "## check if object columns in both datasets have same unique values\n",
    "\n",
    "for x in oneHotCols:\n",
    "    if train[x].nunique() != test[x].nunique():\n",
    "        set_train = set(train[x].unique())\n",
    "        set_test = set(test[x].unique())\n",
    "        \n",
    "        remove_train = set_train - set_test\n",
    "        remove_test = set_test - set_train\n",
    "        \n",
    "        remove = remove_train.union(remove_test)\n",
    "        \n",
    "        def filter_cat(x):\n",
    "            if x in remove:\n",
    "                return np.nan\n",
    "            return x\n",
    "        \n",
    "        train[x] = train[x].map(filter_cat)\n",
    "        test[x] = test[x].map(filter_cat)"
   ]
  },
  {
   "cell_type": "code",
   "execution_count": 38,
   "metadata": {
    "collapsed": false
   },
   "outputs": [
    {
     "data": {
      "text/plain": [
       "0"
      ]
     },
     "execution_count": 38,
     "metadata": {},
     "output_type": "execute_result"
    }
   ],
   "source": [
    "import gc\n",
    "gc.collect()"
   ]
  },
  {
   "cell_type": "code",
   "execution_count": 39,
   "metadata": {
    "collapsed": false
   },
   "outputs": [
    {
     "name": "stdout",
     "output_type": "stream",
     "text": [
      "(300000, 391)\n",
      "(200000, 390)\n"
     ]
    }
   ],
   "source": [
    "print(train.shape)\n",
    "print(test.shape)"
   ]
  },
  {
   "cell_type": "markdown",
   "metadata": {},
   "source": [
    "### label encoding"
   ]
  },
  {
   "cell_type": "code",
   "execution_count": 40,
   "metadata": {
    "collapsed": false
   },
   "outputs": [
    {
     "name": "stdout",
     "output_type": "stream",
     "text": [
      "RESPONDERS\n"
     ]
    }
   ],
   "source": [
    "for x in train.columns:\n",
    "    if x not in test.columns:\n",
    "        print(x)"
   ]
  },
  {
   "cell_type": "code",
   "execution_count": 41,
   "metadata": {
    "collapsed": false
   },
   "outputs": [],
   "source": [
    "for x in test.columns:\n",
    "    if x not in train.columns:\n",
    "        print(x)"
   ]
  },
  {
   "cell_type": "markdown",
   "metadata": {},
   "source": [
    "### remove columns with missing values - then label encode"
   ]
  },
  {
   "cell_type": "code",
   "execution_count": 44,
   "metadata": {
    "collapsed": true
   },
   "outputs": [],
   "source": [
    "misCols = train.isnull().sum(axis=0)/train.shape[0]\n",
    "toremove = []\n",
    "\n",
    "for k, v in misCols.iteritems():\n",
    "    if v == 1:\n",
    "        toremove.append(k)"
   ]
  },
  {
   "cell_type": "code",
   "execution_count": 45,
   "metadata": {
    "collapsed": false
   },
   "outputs": [
    {
     "data": {
      "text/plain": [
       "7"
      ]
     },
     "execution_count": 45,
     "metadata": {},
     "output_type": "execute_result"
    }
   ],
   "source": [
    "len(toremove)"
   ]
  },
  {
   "cell_type": "code",
   "execution_count": 46,
   "metadata": {
    "collapsed": true
   },
   "outputs": [],
   "source": [
    "train.drop('OCCUP_ALL_NEW', axis=1, inplace=True)\n",
    "test.drop('OCCUP_ALL_NEW', axis=1, inplace=True)"
   ]
  },
  {
   "cell_type": "code",
   "execution_count": 47,
   "metadata": {
    "collapsed": true
   },
   "outputs": [],
   "source": [
    "train.drop(toremove, inplace=True, axis=1)\n",
    "test.drop(toremove, inplace=True, axis=1)"
   ]
  },
  {
   "cell_type": "code",
   "execution_count": 51,
   "metadata": {
    "collapsed": false
   },
   "outputs": [
    {
     "data": {
      "text/html": [
       "<div>\n",
       "<table border=\"1\" class=\"dataframe\">\n",
       "  <thead>\n",
       "    <tr style=\"text-align: right;\">\n",
       "      <th></th>\n",
       "      <th>CUSTOMER_ID</th>\n",
       "      <th>ACT_TYPE</th>\n",
       "      <th>GENDER</th>\n",
       "      <th>LEGAL_ENTITY</th>\n",
       "      <th>AGE</th>\n",
       "      <th>N_CASA_MAX_BALANCE_MTD</th>\n",
       "      <th>N_CASA_MIN_BALANCE_MTD</th>\n",
       "      <th>BL_TAG</th>\n",
       "      <th>TWL_TAG</th>\n",
       "      <th>PL_TAG</th>\n",
       "      <th>AL_CNC_TAG</th>\n",
       "      <th>AGRI_TAG</th>\n",
       "      <th>CE_TAG</th>\n",
       "      <th>CV_TAG</th>\n",
       "      <th>EDU_TAG</th>\n",
       "      <th>TL_TAG</th>\n",
       "      <th>OTHER_LOANS_TAG</th>\n",
       "      <th>LAP_TAG</th>\n",
       "      <th>LAS_TAG</th>\n",
       "      <th>BBG_TAG</th>\n",
       "      <th>HL_TAG</th>\n",
       "      <th>GL_TAG</th>\n",
       "      <th>AL_CLOSED</th>\n",
       "      <th>PL_CLOSED</th>\n",
       "      <th>BL_CLOSED</th>\n",
       "      <th>TWL_CLOSED</th>\n",
       "      <th>CV_CLOSED</th>\n",
       "      <th>LAP_CLOSED</th>\n",
       "      <th>LAS_CLOSED</th>\n",
       "      <th>BBG_CLOSED</th>\n",
       "      <th>GL_CLOSED</th>\n",
       "      <th>CC_HOLD_MON_03</th>\n",
       "      <th>CC_HOLD_MON_02</th>\n",
       "      <th>CC_HOLD_MON_01</th>\n",
       "      <th>CC_ACTIVE_MON_03</th>\n",
       "      <th>CC_ACTIVE_MON_02</th>\n",
       "      <th>CC_ACTIVE_MON_01</th>\n",
       "      <th>CC_HOLD</th>\n",
       "      <th>CC_ACTIVE</th>\n",
       "      <th>DC_HOLD</th>\n",
       "      <th>DC_ACTIVE_MON_03</th>\n",
       "      <th>DC_ACTIVE_MON_02</th>\n",
       "      <th>DC_ACTIVE_MON_01</th>\n",
       "      <th>DC_ACTIVE</th>\n",
       "      <th>DC_SPEND_MON_03</th>\n",
       "      <th>DC_SPEND_MON_02</th>\n",
       "      <th>DC_SPEND_MON_01</th>\n",
       "      <th>CC_SPEND_MON_04</th>\n",
       "      <th>CC_SPEND_MON_01</th>\n",
       "      <th>CC_SPEND_MON_02</th>\n",
       "      <th>CC_SPEND_MON_03</th>\n",
       "      <th>DC_SPEND_MON_04</th>\n",
       "      <th>PM_FD_MON_01</th>\n",
       "      <th>CR_LIMIT</th>\n",
       "      <th>STMT_MON_03</th>\n",
       "      <th>STMT_MON_02</th>\n",
       "      <th>STMT_MON_01</th>\n",
       "      <th>COC_ELIGIBLE</th>\n",
       "      <th>LAP_SCRUB_LIVE</th>\n",
       "      <th>LAS_SCRUB_LIVE</th>\n",
       "      <th>PL_SCRUB_LIVE</th>\n",
       "      <th>GL_SCRUB_LIVE</th>\n",
       "      <th>TWL_SCRUB_LIVE</th>\n",
       "      <th>BL_SCRUB_LIVE</th>\n",
       "      <th>CEL_SCRUB_LIVE</th>\n",
       "      <th>TL_SCRUB_LIVE</th>\n",
       "      <th>AL_SCRUB_LIVE</th>\n",
       "      <th>LAP_SCRUB_CLOSED</th>\n",
       "      <th>LAS_SCRUB_CLOSED</th>\n",
       "      <th>PL_SCRUB_CLOSED</th>\n",
       "      <th>GL_SCRUB_CLOSED</th>\n",
       "      <th>TWL_SCRUB_CLOSED</th>\n",
       "      <th>BL_SCRUB_CLOSED</th>\n",
       "      <th>CEL_SCRUB_CLOSED</th>\n",
       "      <th>TL_SCRUB_CLOSED</th>\n",
       "      <th>AL_SCRUB_CLOSED</th>\n",
       "      <th>BTE_ACTIVE_MON_01</th>\n",
       "      <th>COC_ACTIVE_MON_01</th>\n",
       "      <th>PL2CC_ACTIVE_MON_01</th>\n",
       "      <th>MER_EMI_ACTIVE_MON_01</th>\n",
       "      <th>TRN_CON_DAE_ACTIVE_MON_01</th>\n",
       "      <th>BTE_CLOSED_MON_01</th>\n",
       "      <th>COC_CLOSED_MON_01</th>\n",
       "      <th>PL2CC_CLOSED_MON_01</th>\n",
       "      <th>TRN_CON_DAE_CLOSED_MON_01</th>\n",
       "      <th>EOP_BAL_MON_01</th>\n",
       "      <th>AMB_MON_04</th>\n",
       "      <th>AMB_MON_01</th>\n",
       "      <th>AMB_MON_02</th>\n",
       "      <th>AMB_MON_03</th>\n",
       "      <th>NB_MON_01_CNT</th>\n",
       "      <th>NB_MON_02_CNT</th>\n",
       "      <th>NB_MON_03_CNT</th>\n",
       "      <th>CDMAT_MON_01</th>\n",
       "      <th>CDMAT_MON_04</th>\n",
       "      <th>MF_MON_04</th>\n",
       "      <th>MF_MON_01</th>\n",
       "      <th>RD_MON_04</th>\n",
       "      <th>RD_MON_01</th>\n",
       "      <th>FD_MON_04</th>\n",
       "      <th>FD_MON_01</th>\n",
       "      <th>LI_MON_04</th>\n",
       "      <th>LI_MON_01</th>\n",
       "      <th>GI_MON_04</th>\n",
       "      <th>GI_MON_01</th>\n",
       "      <th>CC_TXN_MON_01</th>\n",
       "      <th>CC_SPEND_MON_06</th>\n",
       "      <th>CC_TXN_MON_06</th>\n",
       "      <th>CC_TXN_MON_03</th>\n",
       "      <th>CC_TXN_MON_02</th>\n",
       "      <th>CC_TXN_MON_04</th>\n",
       "      <th>CC_SPEND_MON_05</th>\n",
       "      <th>CC_TXN_MON_05</th>\n",
       "      <th>DC_TXN_MON_04</th>\n",
       "      <th>DC_TXN_MON_01</th>\n",
       "      <th>DC_SPEND_MON_06</th>\n",
       "      <th>DC_TXN_MON_06</th>\n",
       "      <th>DC_SPEND_MON_05</th>\n",
       "      <th>DC_TXN_MON_05</th>\n",
       "      <th>DC_TXN_MON_03</th>\n",
       "      <th>DC_TXN_MON_02</th>\n",
       "      <th>DC_SPEND_MON_04_ENT</th>\n",
       "      <th>DC_SPEND_MON_04_MED</th>\n",
       "      <th>DC_SPEND_MON_04_GRC</th>\n",
       "      <th>DC_SPEND_MON_04_HMD</th>\n",
       "      <th>DC_SPEND_MON_04_HBY</th>\n",
       "      <th>DC_SPEND_MON_04_CARE</th>\n",
       "      <th>DC_SPEND_MON_04_TRL</th>\n",
       "      <th>DC_SPEND_MON_04_RST</th>\n",
       "      <th>DC_SPEND_MON_04_JER</th>\n",
       "      <th>DC_SPEND_MON_04_HTL</th>\n",
       "      <th>DC_SPEND_MON_04_ATM</th>\n",
       "      <th>DC_SPEND_MON_03_ENT</th>\n",
       "      <th>DC_SPEND_MON_03_MED</th>\n",
       "      <th>DC_SPEND_MON_03_HMD</th>\n",
       "      <th>DC_SPEND_MON_03_HBY</th>\n",
       "      <th>DC_SPEND_MON_03_CARE</th>\n",
       "      <th>DC_SPEND_MON_03_TRL</th>\n",
       "      <th>DC_SPEND_MON_03_RST</th>\n",
       "      <th>DC_SPEND_MON_03_JER</th>\n",
       "      <th>DC_SPEND_MON_03_HTL</th>\n",
       "      <th>DC_SPEND_MON_03_ATM</th>\n",
       "      <th>DC_SPEND_MON_02_ENT</th>\n",
       "      <th>DC_SPEND_MON_02_MED</th>\n",
       "      <th>DC_SPEND_MON_02_HMD</th>\n",
       "      <th>DC_SPEND_MON_02_HBY</th>\n",
       "      <th>DC_SPEND_MON_02_CARE</th>\n",
       "      <th>DC_SPEND_MON_02_TRL</th>\n",
       "      <th>DC_SPEND_MON_02_RST</th>\n",
       "      <th>DC_SPEND_MON_02_JER</th>\n",
       "      <th>DC_SPEND_MON_02_HTL</th>\n",
       "      <th>DC_SPEND_MON_02_ATM</th>\n",
       "      <th>DC_SPEND_MON_01_ENT</th>\n",
       "      <th>DC_SPEND_MON_01_MED</th>\n",
       "      <th>DC_SPEND_MON_01_HMD</th>\n",
       "      <th>DC_SPEND_MON_01_HBY</th>\n",
       "      <th>DC_SPEND_MON_01_CARE</th>\n",
       "      <th>DC_SPEND_MON_01_TRL</th>\n",
       "      <th>DC_SPEND_MON_01_RST</th>\n",
       "      <th>DC_SPEND_MON_01_JER</th>\n",
       "      <th>DC_SPEND_MON_01_HTL</th>\n",
       "      <th>DC_SPEND_MON_01_ATM</th>\n",
       "      <th>DC_SPEND_MON_05_ENT</th>\n",
       "      <th>DC_SPEND_MON_05_MED</th>\n",
       "      <th>DC_SPEND_MON_05_HMD</th>\n",
       "      <th>DC_SPEND_MON_05_HBY</th>\n",
       "      <th>DC_SPEND_MON_05_CARE</th>\n",
       "      <th>DC_SPEND_MON_05_TRL</th>\n",
       "      <th>DC_SPEND_MON_05_RST</th>\n",
       "      <th>DC_SPEND_MON_05_JER</th>\n",
       "      <th>DC_SPEND_MON_05_HTL</th>\n",
       "      <th>DC_SPEND_MON_05_ATM</th>\n",
       "      <th>CC_SPEND_MON_04_ENT</th>\n",
       "      <th>CC_SPEND_MON_04_MED</th>\n",
       "      <th>CC_SPEND_MON_04_HMD</th>\n",
       "      <th>CC_SPEND_MON_04_HBY</th>\n",
       "      <th>CC_SPEND_MON_04_CARE</th>\n",
       "      <th>CC_SPEND_MON_04_TRL</th>\n",
       "      <th>CC_SPEND_MON_04_RST</th>\n",
       "      <th>CC_SPEND_MON_04_JER</th>\n",
       "      <th>CC_SPEND_MON_04_HTL</th>\n",
       "      <th>CC_SPEND_MON_04_ATM</th>\n",
       "      <th>CC_SPEND_MON_02_ENT</th>\n",
       "      <th>CC_SPEND_MON_02_MED</th>\n",
       "      <th>CC_SPEND_MON_02_HMD</th>\n",
       "      <th>CC_SPEND_MON_02_HBY</th>\n",
       "      <th>CC_SPEND_MON_02_CARE</th>\n",
       "      <th>CC_SPEND_MON_02_TRL</th>\n",
       "      <th>CC_SPEND_MON_02_RST</th>\n",
       "      <th>CC_SPEND_MON_02_JER</th>\n",
       "      <th>CC_SPEND_MON_02_HTL</th>\n",
       "      <th>CC_SPEND_MON_02_ATM</th>\n",
       "      <th>CC_SPEND_MON_01_ENT</th>\n",
       "      <th>CC_SPEND_MON_01_MED</th>\n",
       "      <th>CC_SPEND_MON_01_HMD</th>\n",
       "      <th>CC_SPEND_MON_01_HBY</th>\n",
       "      <th>CC_SPEND_MON_01_CARE</th>\n",
       "      <th>CC_SPEND_MON_01_TRL</th>\n",
       "      <th>CC_SPEND_MON_01_RST</th>\n",
       "      <th>CC_SPEND_MON_01_JER</th>\n",
       "      <th>CC_SPEND_MON_01_HTL</th>\n",
       "      <th>CC_SPEND_MON_01_ATM</th>\n",
       "      <th>FINANCE_MON_01</th>\n",
       "      <th>JOBS_MON_01</th>\n",
       "      <th>LIFESTYLE_MON_01</th>\n",
       "      <th>INMON_01KET_MON_01</th>\n",
       "      <th>TRAVEL_MON_01</th>\n",
       "      <th>CHANNEL_CLICK_DISP</th>\n",
       "      <th>TOP14_CITY</th>\n",
       "      <th>TOP9_CITY</th>\n",
       "      <th>PL2CC_ELIGIBLE</th>\n",
       "      <th>D_AMT_L3_MON_06</th>\n",
       "      <th>C_AMT_L3_MON_06</th>\n",
       "      <th>C_COUNT_L3_MON_06</th>\n",
       "      <th>D_COUNT_L3_MON_06</th>\n",
       "      <th>MAX_C_AMT_L3_MON_06</th>\n",
       "      <th>D_AMT_L3_MON_05</th>\n",
       "      <th>C_AMT_L3_MON_05</th>\n",
       "      <th>C_COUNT_L3_MON_05</th>\n",
       "      <th>D_COUNT_L3_MON_05</th>\n",
       "      <th>MAX_C_AMT_L3_MON_05</th>\n",
       "      <th>D_AMT_L3_MON_04</th>\n",
       "      <th>C_AMT_L3_MON_04</th>\n",
       "      <th>C_COUNT_L3_MON_04</th>\n",
       "      <th>D_COUNT_L3_MON_04</th>\n",
       "      <th>MAX_C_AMT_L3_MON_04</th>\n",
       "      <th>D_AMT_L3_MON_03</th>\n",
       "      <th>C_AMT_L3_MON_03</th>\n",
       "      <th>C_COUNT_L3_MON_03</th>\n",
       "      <th>D_COUNT_L3_MON_03</th>\n",
       "      <th>MAX_C_AMT_L3_MON_03</th>\n",
       "      <th>D_AMT_L3_MON_02</th>\n",
       "      <th>C_AMT_L3_MON_02</th>\n",
       "      <th>C_COUNT_L3_MON_02</th>\n",
       "      <th>D_COUNT_L3_MON_02</th>\n",
       "      <th>MAX_C_AMT_L3_MON_02</th>\n",
       "      <th>D_AMT_L3_MON_01</th>\n",
       "      <th>C_AMT_L3_MON_01</th>\n",
       "      <th>C_COUNT_L3_MON_01</th>\n",
       "      <th>D_COUNT_L3_MON_01</th>\n",
       "      <th>MAX_C_AMT_L3_MON_01</th>\n",
       "      <th>PA_PQ_TAG</th>\n",
       "      <th>NEFT_CC_AMOUNT</th>\n",
       "      <th>NEFT_CC_TXN</th>\n",
       "      <th>NEFT_CC_CATEGORY</th>\n",
       "      <th>NEFT_DC_AMOUNT</th>\n",
       "      <th>NEFT_DC_TXN</th>\n",
       "      <th>NEFT_DC_CATEGORY</th>\n",
       "      <th>TPT_DC_AMOUNT_MON_01</th>\n",
       "      <th>TPT_DC_TXN_MON_01</th>\n",
       "      <th>TPT_DC_CATEGORY_MON_01</th>\n",
       "      <th>TPT_CC_AMOUNT_MON_01</th>\n",
       "      <th>TPT_CC_TXN_MON_01</th>\n",
       "      <th>TPT_CC_CATEGORY_MON_01</th>\n",
       "      <th>IMPS_CC_AMOUNT_MON_01</th>\n",
       "      <th>IMPS_CC_TXN_MON_01</th>\n",
       "      <th>IMPS_CC_CATEGORY_MON_01</th>\n",
       "      <th>ZIP_CODE_FINAL</th>\n",
       "      <th>LAST_3MTHS_INQ</th>\n",
       "      <th>PREV_3MTHS_INQ</th>\n",
       "      <th>CAR_MON_03</th>\n",
       "      <th>CDL_MON_03</th>\n",
       "      <th>GL_MON_03</th>\n",
       "      <th>LAA_MON_03</th>\n",
       "      <th>LFP_MON_03</th>\n",
       "      <th>TWL_MON_03</th>\n",
       "      <th>PL_MON_03</th>\n",
       "      <th>CAR_MON_02</th>\n",
       "      <th>CDL_MON_02</th>\n",
       "      <th>GL_MON_02</th>\n",
       "      <th>LAA_MON_02</th>\n",
       "      <th>LFP_MON_02</th>\n",
       "      <th>TWL_MON_02</th>\n",
       "      <th>PL_MON_02</th>\n",
       "      <th>CAR_MON_01</th>\n",
       "      <th>CDL_MON_01</th>\n",
       "      <th>GL_MON_01</th>\n",
       "      <th>LAA_MON_01</th>\n",
       "      <th>LFP_MON_01</th>\n",
       "      <th>TWL_MON_01</th>\n",
       "      <th>PL_MON_01</th>\n",
       "      <th>CRED_NEED_SCORE</th>\n",
       "      <th>CC_SPEND_MON_03_ENT</th>\n",
       "      <th>CC_SPEND_MON_03_MED</th>\n",
       "      <th>CC_SPEND_MON_03_HMD</th>\n",
       "      <th>CC_SPEND_MON_03_HBY</th>\n",
       "      <th>CC_SPEND_MON_03_CARE</th>\n",
       "      <th>CC_SPEND_MON_03_TRL</th>\n",
       "      <th>CC_SPEND_MON_03_RST</th>\n",
       "      <th>CC_SPEND_MON_03_JER</th>\n",
       "      <th>CC_SPEND_MON_03_HTL</th>\n",
       "      <th>CC_SPEND_MON_03_ATM</th>\n",
       "      <th>CARD_AUTOMOBILE_MON_01</th>\n",
       "      <th>CARD_HOTEL_MON_01</th>\n",
       "      <th>CARD_JEWELLERY_MON_01</th>\n",
       "      <th>CARD_RESTAURANT_MON_01</th>\n",
       "      <th>CARD_TRAVEL_MON_01</th>\n",
       "      <th>CARD_PRSNL_CARE_MON_01</th>\n",
       "      <th>CARD_HOBBY_MON_01</th>\n",
       "      <th>CARD_HOME_DECOR_MON_01</th>\n",
       "      <th>CARD_MEDICAL_MON_01</th>\n",
       "      <th>CARD_ENTMNT_MON_01</th>\n",
       "      <th>SAL_MON_01</th>\n",
       "      <th>SAL_MON_02</th>\n",
       "      <th>SAL_MON_03</th>\n",
       "      <th>TOP_100_CORP</th>\n",
       "      <th>TOP_800_CORP</th>\n",
       "      <th>TOP_CORP_TAG</th>\n",
       "      <th>EOP_MON_02</th>\n",
       "      <th>EOP_MON_03</th>\n",
       "      <th>CREDIT_ACT</th>\n",
       "      <th>DEBIT_ACT</th>\n",
       "      <th>CEL_TAG</th>\n",
       "      <th>EL_TAG</th>\n",
       "      <th>AGL_TAG</th>\n",
       "      <th>CVL_TAG</th>\n",
       "      <th>AL_TAG</th>\n",
       "      <th>HL_EMI</th>\n",
       "      <th>SCRUB_EMI</th>\n",
       "      <th>RESPONDERS</th>\n",
       "      <th>na_count</th>\n",
       "      <th>add_spend_mon1</th>\n",
       "      <th>closed_date_weekday</th>\n",
       "      <th>closed_date_year</th>\n",
       "      <th>closed_date_month</th>\n",
       "      <th>closed_date_day</th>\n",
       "      <th>maturity_gl_weekday</th>\n",
       "      <th>maturity_gl_year</th>\n",
       "      <th>maturity_gl_month</th>\n",
       "      <th>maturity_gl_day</th>\n",
       "      <th>maturity_lap_weekday</th>\n",
       "      <th>maturity_lap_year</th>\n",
       "      <th>maturity_lap_month</th>\n",
       "      <th>maturity_lap_day</th>\n",
       "      <th>maturity_las_weekday</th>\n",
       "      <th>maturity_las_year</th>\n",
       "      <th>maturity_las_month</th>\n",
       "      <th>maturity_las_day</th>\n",
       "      <th>net_emi_paid</th>\n",
       "      <th>total_salary_credited</th>\n",
       "      <th>total_balance</th>\n",
       "      <th>spent_sum</th>\n",
       "      <th>debit_count</th>\n",
       "      <th>credit_count</th>\n",
       "      <th>debit_amount</th>\n",
       "      <th>credit_amount</th>\n",
       "      <th>DEVEP/PROG/ANALYST/ASSO</th>\n",
       "      <th>ENGINEER</th>\n",
       "      <th>EXECUTIVE</th>\n",
       "      <th>MANAGER</th>\n",
       "      <th>OFFICER</th>\n",
       "      <th>OTHERS</th>\n",
       "      <th>REMAING</th>\n",
       "      <th>SUP/TECH/OPR</th>\n",
       "      <th>TEACH/PROF/CONSULT</th>\n",
       "      <th>TOP_MANAG/DOC</th>\n",
       "      <th>credit_spent</th>\n",
       "      <th>debit_spent</th>\n",
       "      <th>cc_sum__ATM</th>\n",
       "      <th>cc_sum__CARE</th>\n",
       "      <th>cc_sum__ENT</th>\n",
       "      <th>cc_sum__HBY</th>\n",
       "      <th>cc_sum__HMD</th>\n",
       "      <th>cc_sum__HTL</th>\n",
       "      <th>cc_sum__JER</th>\n",
       "      <th>cc_sum__MED</th>\n",
       "      <th>cc_sum__RST</th>\n",
       "      <th>cc_sum__TRL</th>\n",
       "      <th>dc_sum__ATM</th>\n",
       "      <th>dc_sum__CARE</th>\n",
       "      <th>dc_sum__ENT</th>\n",
       "      <th>dc_sum__HBY</th>\n",
       "      <th>dc_sum__HMD</th>\n",
       "      <th>dc_sum__HTL</th>\n",
       "      <th>dc_sum__JER</th>\n",
       "      <th>dc_sum__MED</th>\n",
       "      <th>dc_sum__RST</th>\n",
       "      <th>dc_sum__TRL</th>\n",
       "      <th>is_exceed_credit</th>\n",
       "      <th>live_loan_count</th>\n",
       "      <th>closed_loan_count</th>\n",
       "      <th>total_credit_tran</th>\n",
       "      <th>total_debit_tran</th>\n",
       "    </tr>\n",
       "  </thead>\n",
       "  <tbody>\n",
       "    <tr>\n",
       "      <th>0</th>\n",
       "      <td>385793</td>\n",
       "      <td>0</td>\n",
       "      <td>1</td>\n",
       "      <td>1</td>\n",
       "      <td>21</td>\n",
       "      <td>0.00</td>\n",
       "      <td>0.00</td>\n",
       "      <td>1</td>\n",
       "      <td>1</td>\n",
       "      <td>1</td>\n",
       "      <td>1</td>\n",
       "      <td>1</td>\n",
       "      <td>1</td>\n",
       "      <td>1</td>\n",
       "      <td>1</td>\n",
       "      <td>1</td>\n",
       "      <td>1</td>\n",
       "      <td>1</td>\n",
       "      <td>1</td>\n",
       "      <td>1</td>\n",
       "      <td>1</td>\n",
       "      <td>1</td>\n",
       "      <td>1</td>\n",
       "      <td>1</td>\n",
       "      <td>1</td>\n",
       "      <td>1</td>\n",
       "      <td>1</td>\n",
       "      <td>1</td>\n",
       "      <td>1</td>\n",
       "      <td>1</td>\n",
       "      <td>NaN</td>\n",
       "      <td>NaN</td>\n",
       "      <td>NaN</td>\n",
       "      <td>NaN</td>\n",
       "      <td>NaN</td>\n",
       "      <td>NaN</td>\n",
       "      <td>NaN</td>\n",
       "      <td>N</td>\n",
       "      <td>N</td>\n",
       "      <td>Y</td>\n",
       "      <td>NaN</td>\n",
       "      <td>NaN</td>\n",
       "      <td>NaN</td>\n",
       "      <td>N</td>\n",
       "      <td>NaN</td>\n",
       "      <td>NaN</td>\n",
       "      <td>NaN</td>\n",
       "      <td>NaN</td>\n",
       "      <td>NaN</td>\n",
       "      <td>NaN</td>\n",
       "      <td>NaN</td>\n",
       "      <td>NaN</td>\n",
       "      <td>NaN</td>\n",
       "      <td>NaN</td>\n",
       "      <td>NaN</td>\n",
       "      <td>NaN</td>\n",
       "      <td>NaN</td>\n",
       "      <td>0</td>\n",
       "      <td>NaN</td>\n",
       "      <td>NaN</td>\n",
       "      <td>NaN</td>\n",
       "      <td>NaN</td>\n",
       "      <td>NaN</td>\n",
       "      <td>NaN</td>\n",
       "      <td>NaN</td>\n",
       "      <td>NaN</td>\n",
       "      <td>NaN</td>\n",
       "      <td>NaN</td>\n",
       "      <td>NaN</td>\n",
       "      <td>NaN</td>\n",
       "      <td>NaN</td>\n",
       "      <td>NaN</td>\n",
       "      <td>NaN</td>\n",
       "      <td>NaN</td>\n",
       "      <td>NaN</td>\n",
       "      <td>NaN</td>\n",
       "      <td>NaN</td>\n",
       "      <td>NaN</td>\n",
       "      <td>NaN</td>\n",
       "      <td>NaN</td>\n",
       "      <td>NaN</td>\n",
       "      <td>NaN</td>\n",
       "      <td>NaN</td>\n",
       "      <td>NaN</td>\n",
       "      <td>NaN</td>\n",
       "      <td>0.00</td>\n",
       "      <td>0.00</td>\n",
       "      <td>0.00</td>\n",
       "      <td>0.00</td>\n",
       "      <td>0.00</td>\n",
       "      <td>NaN</td>\n",
       "      <td>NaN</td>\n",
       "      <td>NaN</td>\n",
       "      <td>NaN</td>\n",
       "      <td>NaN</td>\n",
       "      <td>NaN</td>\n",
       "      <td>NaN</td>\n",
       "      <td>NaN</td>\n",
       "      <td>NaN</td>\n",
       "      <td>NaN</td>\n",
       "      <td>NaN</td>\n",
       "      <td>NaN</td>\n",
       "      <td>NaN</td>\n",
       "      <td>NaN</td>\n",
       "      <td>NaN</td>\n",
       "      <td>NaN</td>\n",
       "      <td>NaN</td>\n",
       "      <td>NaN</td>\n",
       "      <td>NaN</td>\n",
       "      <td>NaN</td>\n",
       "      <td>NaN</td>\n",
       "      <td>NaN</td>\n",
       "      <td>NaN</td>\n",
       "      <td>NaN</td>\n",
       "      <td>NaN</td>\n",
       "      <td>NaN</td>\n",
       "      <td>NaN</td>\n",
       "      <td>NaN</td>\n",
       "      <td>NaN</td>\n",
       "      <td>NaN</td>\n",
       "      <td>NaN</td>\n",
       "      <td>NaN</td>\n",
       "      <td>NaN</td>\n",
       "      <td>NaN</td>\n",
       "      <td>NaN</td>\n",
       "      <td>NaN</td>\n",
       "      <td>NaN</td>\n",
       "      <td>NaN</td>\n",
       "      <td>NaN</td>\n",
       "      <td>NaN</td>\n",
       "      <td>NaN</td>\n",
       "      <td>NaN</td>\n",
       "      <td>NaN</td>\n",
       "      <td>NaN</td>\n",
       "      <td>NaN</td>\n",
       "      <td>NaN</td>\n",
       "      <td>NaN</td>\n",
       "      <td>NaN</td>\n",
       "      <td>NaN</td>\n",
       "      <td>NaN</td>\n",
       "      <td>NaN</td>\n",
       "      <td>NaN</td>\n",
       "      <td>NaN</td>\n",
       "      <td>NaN</td>\n",
       "      <td>NaN</td>\n",
       "      <td>NaN</td>\n",
       "      <td>NaN</td>\n",
       "      <td>NaN</td>\n",
       "      <td>NaN</td>\n",
       "      <td>NaN</td>\n",
       "      <td>NaN</td>\n",
       "      <td>NaN</td>\n",
       "      <td>NaN</td>\n",
       "      <td>NaN</td>\n",
       "      <td>NaN</td>\n",
       "      <td>NaN</td>\n",
       "      <td>NaN</td>\n",
       "      <td>NaN</td>\n",
       "      <td>NaN</td>\n",
       "      <td>NaN</td>\n",
       "      <td>NaN</td>\n",
       "      <td>NaN</td>\n",
       "      <td>NaN</td>\n",
       "      <td>NaN</td>\n",
       "      <td>NaN</td>\n",
       "      <td>NaN</td>\n",
       "      <td>NaN</td>\n",
       "      <td>NaN</td>\n",
       "      <td>NaN</td>\n",
       "      <td>NaN</td>\n",
       "      <td>NaN</td>\n",
       "      <td>NaN</td>\n",
       "      <td>NaN</td>\n",
       "      <td>NaN</td>\n",
       "      <td>NaN</td>\n",
       "      <td>NaN</td>\n",
       "      <td>NaN</td>\n",
       "      <td>NaN</td>\n",
       "      <td>NaN</td>\n",
       "      <td>NaN</td>\n",
       "      <td>NaN</td>\n",
       "      <td>NaN</td>\n",
       "      <td>NaN</td>\n",
       "      <td>NaN</td>\n",
       "      <td>NaN</td>\n",
       "      <td>NaN</td>\n",
       "      <td>NaN</td>\n",
       "      <td>NaN</td>\n",
       "      <td>NaN</td>\n",
       "      <td>NaN</td>\n",
       "      <td>NaN</td>\n",
       "      <td>NaN</td>\n",
       "      <td>NaN</td>\n",
       "      <td>NaN</td>\n",
       "      <td>NaN</td>\n",
       "      <td>NaN</td>\n",
       "      <td>NaN</td>\n",
       "      <td>NaN</td>\n",
       "      <td>NaN</td>\n",
       "      <td>NaN</td>\n",
       "      <td>NaN</td>\n",
       "      <td>NaN</td>\n",
       "      <td>N</td>\n",
       "      <td>N</td>\n",
       "      <td>N</td>\n",
       "      <td>N</td>\n",
       "      <td>N</td>\n",
       "      <td>NONE</td>\n",
       "      <td>Y</td>\n",
       "      <td>Y</td>\n",
       "      <td>0</td>\n",
       "      <td>39.00</td>\n",
       "      <td>NaN</td>\n",
       "      <td>0.0</td>\n",
       "      <td>1.0</td>\n",
       "      <td>NaN</td>\n",
       "      <td>NaN</td>\n",
       "      <td>NaN</td>\n",
       "      <td>NaN</td>\n",
       "      <td>NaN</td>\n",
       "      <td>NaN</td>\n",
       "      <td>NaN</td>\n",
       "      <td>NaN</td>\n",
       "      <td>NaN</td>\n",
       "      <td>NaN</td>\n",
       "      <td>NaN</td>\n",
       "      <td>NaN</td>\n",
       "      <td>NaN</td>\n",
       "      <td>NaN</td>\n",
       "      <td>NaN</td>\n",
       "      <td>NaN</td>\n",
       "      <td>NaN</td>\n",
       "      <td>NaN</td>\n",
       "      <td>NaN</td>\n",
       "      <td>NaN</td>\n",
       "      <td>NaN</td>\n",
       "      <td>NaN</td>\n",
       "      <td>NaN</td>\n",
       "      <td>NaN</td>\n",
       "      <td>NaN</td>\n",
       "      <td>NaN</td>\n",
       "      <td>NaN</td>\n",
       "      <td>NaN</td>\n",
       "      <td>NaN</td>\n",
       "      <td>NO_NEFT_TXN</td>\n",
       "      <td>NaN</td>\n",
       "      <td>NaN</td>\n",
       "      <td>NO_NEFT_TXN</td>\n",
       "      <td>NaN</td>\n",
       "      <td>NaN</td>\n",
       "      <td>NO_TPT_TXN</td>\n",
       "      <td>NaN</td>\n",
       "      <td>NaN</td>\n",
       "      <td>NO_TPT_TXN</td>\n",
       "      <td>NaN</td>\n",
       "      <td>NaN</td>\n",
       "      <td>NO_IMPS_TXN</td>\n",
       "      <td>400606.0</td>\n",
       "      <td>NaN</td>\n",
       "      <td>NaN</td>\n",
       "      <td>NaN</td>\n",
       "      <td>NaN</td>\n",
       "      <td>NaN</td>\n",
       "      <td>NaN</td>\n",
       "      <td>NaN</td>\n",
       "      <td>NaN</td>\n",
       "      <td>NaN</td>\n",
       "      <td>NaN</td>\n",
       "      <td>NaN</td>\n",
       "      <td>NaN</td>\n",
       "      <td>NaN</td>\n",
       "      <td>NaN</td>\n",
       "      <td>NaN</td>\n",
       "      <td>NaN</td>\n",
       "      <td>NaN</td>\n",
       "      <td>NaN</td>\n",
       "      <td>NaN</td>\n",
       "      <td>NaN</td>\n",
       "      <td>NaN</td>\n",
       "      <td>NaN</td>\n",
       "      <td>NaN</td>\n",
       "      <td>NaN</td>\n",
       "      <td>NaN</td>\n",
       "      <td>NaN</td>\n",
       "      <td>NaN</td>\n",
       "      <td>NaN</td>\n",
       "      <td>NaN</td>\n",
       "      <td>NaN</td>\n",
       "      <td>NaN</td>\n",
       "      <td>NaN</td>\n",
       "      <td>NaN</td>\n",
       "      <td>NaN</td>\n",
       "      <td>0</td>\n",
       "      <td>0</td>\n",
       "      <td>0</td>\n",
       "      <td>0</td>\n",
       "      <td>0</td>\n",
       "      <td>0</td>\n",
       "      <td>0</td>\n",
       "      <td>0</td>\n",
       "      <td>0</td>\n",
       "      <td>0</td>\n",
       "      <td>0.0</td>\n",
       "      <td>0.0</td>\n",
       "      <td>0.0</td>\n",
       "      <td>NaN</td>\n",
       "      <td>NaN</td>\n",
       "      <td>NONE</td>\n",
       "      <td>0.00</td>\n",
       "      <td>0.00</td>\n",
       "      <td>NaN</td>\n",
       "      <td>NaN</td>\n",
       "      <td>NaN</td>\n",
       "      <td>NaN</td>\n",
       "      <td>NaN</td>\n",
       "      <td>NaN</td>\n",
       "      <td>NaN</td>\n",
       "      <td>NaN</td>\n",
       "      <td>0.000000</td>\n",
       "      <td>N</td>\n",
       "      <td>278</td>\n",
       "      <td>0</td>\n",
       "      <td>NaN</td>\n",
       "      <td>NaN</td>\n",
       "      <td>NaN</td>\n",
       "      <td>NaN</td>\n",
       "      <td>NaN</td>\n",
       "      <td>NaN</td>\n",
       "      <td>NaN</td>\n",
       "      <td>NaN</td>\n",
       "      <td>NaN</td>\n",
       "      <td>NaN</td>\n",
       "      <td>NaN</td>\n",
       "      <td>NaN</td>\n",
       "      <td>NaN</td>\n",
       "      <td>NaN</td>\n",
       "      <td>NaN</td>\n",
       "      <td>NaN</td>\n",
       "      <td>NaN</td>\n",
       "      <td>0.0</td>\n",
       "      <td>0.00</td>\n",
       "      <td>0</td>\n",
       "      <td>1.0</td>\n",
       "      <td>0.0</td>\n",
       "      <td>39.00</td>\n",
       "      <td>0.00</td>\n",
       "      <td>0</td>\n",
       "      <td>0</td>\n",
       "      <td>0</td>\n",
       "      <td>0</td>\n",
       "      <td>0</td>\n",
       "      <td>0</td>\n",
       "      <td>0</td>\n",
       "      <td>0</td>\n",
       "      <td>0</td>\n",
       "      <td>0</td>\n",
       "      <td>NaN</td>\n",
       "      <td>NaN</td>\n",
       "      <td>0.0</td>\n",
       "      <td>0.0</td>\n",
       "      <td>0.0</td>\n",
       "      <td>0.0</td>\n",
       "      <td>0.0</td>\n",
       "      <td>0.0</td>\n",
       "      <td>0.0</td>\n",
       "      <td>0.0</td>\n",
       "      <td>0.0</td>\n",
       "      <td>0.0</td>\n",
       "      <td>0.0</td>\n",
       "      <td>0.0</td>\n",
       "      <td>0.0</td>\n",
       "      <td>0.0</td>\n",
       "      <td>0.0</td>\n",
       "      <td>0.0</td>\n",
       "      <td>0.0</td>\n",
       "      <td>0.0</td>\n",
       "      <td>0.0</td>\n",
       "      <td>0.0</td>\n",
       "      <td>0</td>\n",
       "      <td>0.0</td>\n",
       "      <td>0.0</td>\n",
       "      <td>0.0</td>\n",
       "      <td>0.0</td>\n",
       "    </tr>\n",
       "    <tr>\n",
       "      <th>1</th>\n",
       "      <td>286891</td>\n",
       "      <td>0</td>\n",
       "      <td>1</td>\n",
       "      <td>1</td>\n",
       "      <td>23</td>\n",
       "      <td>8243.77</td>\n",
       "      <td>7.77</td>\n",
       "      <td>1</td>\n",
       "      <td>1</td>\n",
       "      <td>1</td>\n",
       "      <td>1</td>\n",
       "      <td>1</td>\n",
       "      <td>1</td>\n",
       "      <td>1</td>\n",
       "      <td>1</td>\n",
       "      <td>1</td>\n",
       "      <td>1</td>\n",
       "      <td>1</td>\n",
       "      <td>1</td>\n",
       "      <td>1</td>\n",
       "      <td>1</td>\n",
       "      <td>1</td>\n",
       "      <td>1</td>\n",
       "      <td>1</td>\n",
       "      <td>1</td>\n",
       "      <td>1</td>\n",
       "      <td>1</td>\n",
       "      <td>1</td>\n",
       "      <td>1</td>\n",
       "      <td>1</td>\n",
       "      <td>NaN</td>\n",
       "      <td>NaN</td>\n",
       "      <td>NaN</td>\n",
       "      <td>NaN</td>\n",
       "      <td>NaN</td>\n",
       "      <td>NaN</td>\n",
       "      <td>NaN</td>\n",
       "      <td>N</td>\n",
       "      <td>N</td>\n",
       "      <td>Y</td>\n",
       "      <td>Y</td>\n",
       "      <td>Y</td>\n",
       "      <td>Y</td>\n",
       "      <td>Y</td>\n",
       "      <td>NaN</td>\n",
       "      <td>NaN</td>\n",
       "      <td>NaN</td>\n",
       "      <td>NaN</td>\n",
       "      <td>NaN</td>\n",
       "      <td>NaN</td>\n",
       "      <td>NaN</td>\n",
       "      <td>NaN</td>\n",
       "      <td>NaN</td>\n",
       "      <td>NaN</td>\n",
       "      <td>NaN</td>\n",
       "      <td>NaN</td>\n",
       "      <td>NaN</td>\n",
       "      <td>0</td>\n",
       "      <td>NaN</td>\n",
       "      <td>NaN</td>\n",
       "      <td>NaN</td>\n",
       "      <td>NaN</td>\n",
       "      <td>NaN</td>\n",
       "      <td>NaN</td>\n",
       "      <td>NaN</td>\n",
       "      <td>NaN</td>\n",
       "      <td>1.0</td>\n",
       "      <td>NaN</td>\n",
       "      <td>NaN</td>\n",
       "      <td>NaN</td>\n",
       "      <td>NaN</td>\n",
       "      <td>NaN</td>\n",
       "      <td>NaN</td>\n",
       "      <td>NaN</td>\n",
       "      <td>NaN</td>\n",
       "      <td>NaN</td>\n",
       "      <td>NaN</td>\n",
       "      <td>NaN</td>\n",
       "      <td>NaN</td>\n",
       "      <td>NaN</td>\n",
       "      <td>NaN</td>\n",
       "      <td>NaN</td>\n",
       "      <td>NaN</td>\n",
       "      <td>NaN</td>\n",
       "      <td>NaN</td>\n",
       "      <td>11.77</td>\n",
       "      <td>1417.26</td>\n",
       "      <td>300.51</td>\n",
       "      <td>593.06</td>\n",
       "      <td>418.09</td>\n",
       "      <td>NaN</td>\n",
       "      <td>NaN</td>\n",
       "      <td>NaN</td>\n",
       "      <td>NaN</td>\n",
       "      <td>NaN</td>\n",
       "      <td>NaN</td>\n",
       "      <td>NaN</td>\n",
       "      <td>NaN</td>\n",
       "      <td>NaN</td>\n",
       "      <td>NaN</td>\n",
       "      <td>NaN</td>\n",
       "      <td>NaN</td>\n",
       "      <td>NaN</td>\n",
       "      <td>NaN</td>\n",
       "      <td>NaN</td>\n",
       "      <td>NaN</td>\n",
       "      <td>NaN</td>\n",
       "      <td>NaN</td>\n",
       "      <td>NaN</td>\n",
       "      <td>NaN</td>\n",
       "      <td>NaN</td>\n",
       "      <td>NaN</td>\n",
       "      <td>NaN</td>\n",
       "      <td>8.0</td>\n",
       "      <td>5.0</td>\n",
       "      <td>504.0</td>\n",
       "      <td>7.0</td>\n",
       "      <td>631.0</td>\n",
       "      <td>13.0</td>\n",
       "      <td>12.0</td>\n",
       "      <td>1.0</td>\n",
       "      <td>NaN</td>\n",
       "      <td>NaN</td>\n",
       "      <td>NaN</td>\n",
       "      <td>NaN</td>\n",
       "      <td>NaN</td>\n",
       "      <td>NaN</td>\n",
       "      <td>NaN</td>\n",
       "      <td>NaN</td>\n",
       "      <td>NaN</td>\n",
       "      <td>NaN</td>\n",
       "      <td>NaN</td>\n",
       "      <td>NaN</td>\n",
       "      <td>NaN</td>\n",
       "      <td>NaN</td>\n",
       "      <td>NaN</td>\n",
       "      <td>NaN</td>\n",
       "      <td>NaN</td>\n",
       "      <td>NaN</td>\n",
       "      <td>NaN</td>\n",
       "      <td>NaN</td>\n",
       "      <td>NaN</td>\n",
       "      <td>NaN</td>\n",
       "      <td>NaN</td>\n",
       "      <td>NaN</td>\n",
       "      <td>NaN</td>\n",
       "      <td>NaN</td>\n",
       "      <td>NaN</td>\n",
       "      <td>NaN</td>\n",
       "      <td>NaN</td>\n",
       "      <td>NaN</td>\n",
       "      <td>NaN</td>\n",
       "      <td>NaN</td>\n",
       "      <td>NaN</td>\n",
       "      <td>NaN</td>\n",
       "      <td>NaN</td>\n",
       "      <td>NaN</td>\n",
       "      <td>NaN</td>\n",
       "      <td>NaN</td>\n",
       "      <td>NaN</td>\n",
       "      <td>NaN</td>\n",
       "      <td>NaN</td>\n",
       "      <td>NaN</td>\n",
       "      <td>NaN</td>\n",
       "      <td>NaN</td>\n",
       "      <td>NaN</td>\n",
       "      <td>NaN</td>\n",
       "      <td>NaN</td>\n",
       "      <td>NaN</td>\n",
       "      <td>NaN</td>\n",
       "      <td>NaN</td>\n",
       "      <td>NaN</td>\n",
       "      <td>NaN</td>\n",
       "      <td>NaN</td>\n",
       "      <td>NaN</td>\n",
       "      <td>NaN</td>\n",
       "      <td>NaN</td>\n",
       "      <td>NaN</td>\n",
       "      <td>NaN</td>\n",
       "      <td>NaN</td>\n",
       "      <td>NaN</td>\n",
       "      <td>NaN</td>\n",
       "      <td>NaN</td>\n",
       "      <td>NaN</td>\n",
       "      <td>NaN</td>\n",
       "      <td>NaN</td>\n",
       "      <td>NaN</td>\n",
       "      <td>NaN</td>\n",
       "      <td>NaN</td>\n",
       "      <td>NaN</td>\n",
       "      <td>NaN</td>\n",
       "      <td>NaN</td>\n",
       "      <td>NaN</td>\n",
       "      <td>NaN</td>\n",
       "      <td>NaN</td>\n",
       "      <td>NaN</td>\n",
       "      <td>NaN</td>\n",
       "      <td>NaN</td>\n",
       "      <td>NaN</td>\n",
       "      <td>NaN</td>\n",
       "      <td>NaN</td>\n",
       "      <td>NaN</td>\n",
       "      <td>N</td>\n",
       "      <td>N</td>\n",
       "      <td>N</td>\n",
       "      <td>N</td>\n",
       "      <td>N</td>\n",
       "      <td>NONE</td>\n",
       "      <td>Y</td>\n",
       "      <td>Y</td>\n",
       "      <td>0</td>\n",
       "      <td>17250.00</td>\n",
       "      <td>17870.00</td>\n",
       "      <td>3.0</td>\n",
       "      <td>19.0</td>\n",
       "      <td>7957.0</td>\n",
       "      <td>12965.50</td>\n",
       "      <td>12336.5</td>\n",
       "      <td>6.0</td>\n",
       "      <td>21.0</td>\n",
       "      <td>8011.0</td>\n",
       "      <td>23448.52</td>\n",
       "      <td>23457.0</td>\n",
       "      <td>4.0</td>\n",
       "      <td>12.0</td>\n",
       "      <td>12000.0</td>\n",
       "      <td>17161.73</td>\n",
       "      <td>17154.75</td>\n",
       "      <td>6.0</td>\n",
       "      <td>20.0</td>\n",
       "      <td>8144.0</td>\n",
       "      <td>8720.00</td>\n",
       "      <td>11733.75</td>\n",
       "      <td>4.0</td>\n",
       "      <td>3.0</td>\n",
       "      <td>7519.0</td>\n",
       "      <td>13763.00</td>\n",
       "      <td>10758.00</td>\n",
       "      <td>3.0</td>\n",
       "      <td>9.0</td>\n",
       "      <td>8240.0</td>\n",
       "      <td>NaN</td>\n",
       "      <td>NaN</td>\n",
       "      <td>NaN</td>\n",
       "      <td>NO_NEFT_TXN</td>\n",
       "      <td>NaN</td>\n",
       "      <td>NaN</td>\n",
       "      <td>NO_NEFT_TXN</td>\n",
       "      <td>NaN</td>\n",
       "      <td>NaN</td>\n",
       "      <td>NO_TPT_TXN</td>\n",
       "      <td>NaN</td>\n",
       "      <td>NaN</td>\n",
       "      <td>NO_TPT_TXN</td>\n",
       "      <td>NaN</td>\n",
       "      <td>NaN</td>\n",
       "      <td>NO_IMPS_TXN</td>\n",
       "      <td>600045.0</td>\n",
       "      <td>NaN</td>\n",
       "      <td>Y</td>\n",
       "      <td>NaN</td>\n",
       "      <td>NaN</td>\n",
       "      <td>NaN</td>\n",
       "      <td>NaN</td>\n",
       "      <td>NaN</td>\n",
       "      <td>NaN</td>\n",
       "      <td>NaN</td>\n",
       "      <td>NaN</td>\n",
       "      <td>NaN</td>\n",
       "      <td>NaN</td>\n",
       "      <td>NaN</td>\n",
       "      <td>NaN</td>\n",
       "      <td>NaN</td>\n",
       "      <td>NaN</td>\n",
       "      <td>NaN</td>\n",
       "      <td>NaN</td>\n",
       "      <td>NaN</td>\n",
       "      <td>NaN</td>\n",
       "      <td>NaN</td>\n",
       "      <td>NaN</td>\n",
       "      <td>NaN</td>\n",
       "      <td>NaN</td>\n",
       "      <td>NaN</td>\n",
       "      <td>NaN</td>\n",
       "      <td>NaN</td>\n",
       "      <td>NaN</td>\n",
       "      <td>NaN</td>\n",
       "      <td>NaN</td>\n",
       "      <td>NaN</td>\n",
       "      <td>NaN</td>\n",
       "      <td>NaN</td>\n",
       "      <td>NaN</td>\n",
       "      <td>0</td>\n",
       "      <td>0</td>\n",
       "      <td>0</td>\n",
       "      <td>0</td>\n",
       "      <td>0</td>\n",
       "      <td>0</td>\n",
       "      <td>0</td>\n",
       "      <td>0</td>\n",
       "      <td>0</td>\n",
       "      <td>0</td>\n",
       "      <td>10754.0</td>\n",
       "      <td>8733.0</td>\n",
       "      <td>17154.0</td>\n",
       "      <td>NaN</td>\n",
       "      <td>NaN</td>\n",
       "      <td>NONE</td>\n",
       "      <td>3016.77</td>\n",
       "      <td>3.02</td>\n",
       "      <td>Y</td>\n",
       "      <td>Y</td>\n",
       "      <td>NaN</td>\n",
       "      <td>NaN</td>\n",
       "      <td>NaN</td>\n",
       "      <td>NaN</td>\n",
       "      <td>NaN</td>\n",
       "      <td>NaN</td>\n",
       "      <td>0.000000</td>\n",
       "      <td>N</td>\n",
       "      <td>236</td>\n",
       "      <td>0</td>\n",
       "      <td>NaN</td>\n",
       "      <td>NaN</td>\n",
       "      <td>NaN</td>\n",
       "      <td>NaN</td>\n",
       "      <td>NaN</td>\n",
       "      <td>NaN</td>\n",
       "      <td>NaN</td>\n",
       "      <td>NaN</td>\n",
       "      <td>NaN</td>\n",
       "      <td>NaN</td>\n",
       "      <td>NaN</td>\n",
       "      <td>NaN</td>\n",
       "      <td>NaN</td>\n",
       "      <td>NaN</td>\n",
       "      <td>NaN</td>\n",
       "      <td>NaN</td>\n",
       "      <td>NaN</td>\n",
       "      <td>36641.0</td>\n",
       "      <td>3031.56</td>\n",
       "      <td>0</td>\n",
       "      <td>84.0</td>\n",
       "      <td>26.0</td>\n",
       "      <td>93308.75</td>\n",
       "      <td>145181.00</td>\n",
       "      <td>0</td>\n",
       "      <td>0</td>\n",
       "      <td>0</td>\n",
       "      <td>0</td>\n",
       "      <td>0</td>\n",
       "      <td>0</td>\n",
       "      <td>0</td>\n",
       "      <td>0</td>\n",
       "      <td>0</td>\n",
       "      <td>0</td>\n",
       "      <td>NaN</td>\n",
       "      <td>NaN</td>\n",
       "      <td>0.0</td>\n",
       "      <td>0.0</td>\n",
       "      <td>0.0</td>\n",
       "      <td>0.0</td>\n",
       "      <td>0.0</td>\n",
       "      <td>0.0</td>\n",
       "      <td>0.0</td>\n",
       "      <td>0.0</td>\n",
       "      <td>0.0</td>\n",
       "      <td>0.0</td>\n",
       "      <td>0.0</td>\n",
       "      <td>0.0</td>\n",
       "      <td>0.0</td>\n",
       "      <td>0.0</td>\n",
       "      <td>0.0</td>\n",
       "      <td>0.0</td>\n",
       "      <td>0.0</td>\n",
       "      <td>0.0</td>\n",
       "      <td>0.0</td>\n",
       "      <td>0.0</td>\n",
       "      <td>0</td>\n",
       "      <td>1.0</td>\n",
       "      <td>0.0</td>\n",
       "      <td>0.0</td>\n",
       "      <td>0.0</td>\n",
       "    </tr>\n",
       "    <tr>\n",
       "      <th>2</th>\n",
       "      <td>108751</td>\n",
       "      <td>0</td>\n",
       "      <td>1</td>\n",
       "      <td>1</td>\n",
       "      <td>41</td>\n",
       "      <td>26515.00</td>\n",
       "      <td>0.00</td>\n",
       "      <td>1</td>\n",
       "      <td>1</td>\n",
       "      <td>1</td>\n",
       "      <td>1</td>\n",
       "      <td>1</td>\n",
       "      <td>1</td>\n",
       "      <td>1</td>\n",
       "      <td>1</td>\n",
       "      <td>1</td>\n",
       "      <td>1</td>\n",
       "      <td>1</td>\n",
       "      <td>1</td>\n",
       "      <td>1</td>\n",
       "      <td>1</td>\n",
       "      <td>1</td>\n",
       "      <td>1</td>\n",
       "      <td>1</td>\n",
       "      <td>1</td>\n",
       "      <td>1</td>\n",
       "      <td>1</td>\n",
       "      <td>1</td>\n",
       "      <td>1</td>\n",
       "      <td>1</td>\n",
       "      <td>NaN</td>\n",
       "      <td>NaN</td>\n",
       "      <td>NaN</td>\n",
       "      <td>NaN</td>\n",
       "      <td>NaN</td>\n",
       "      <td>NaN</td>\n",
       "      <td>NaN</td>\n",
       "      <td>N</td>\n",
       "      <td>N</td>\n",
       "      <td>Y</td>\n",
       "      <td>NaN</td>\n",
       "      <td>NaN</td>\n",
       "      <td>NaN</td>\n",
       "      <td>N</td>\n",
       "      <td>NaN</td>\n",
       "      <td>NaN</td>\n",
       "      <td>NaN</td>\n",
       "      <td>NaN</td>\n",
       "      <td>NaN</td>\n",
       "      <td>NaN</td>\n",
       "      <td>NaN</td>\n",
       "      <td>NaN</td>\n",
       "      <td>NaN</td>\n",
       "      <td>NaN</td>\n",
       "      <td>NaN</td>\n",
       "      <td>NaN</td>\n",
       "      <td>NaN</td>\n",
       "      <td>0</td>\n",
       "      <td>NaN</td>\n",
       "      <td>NaN</td>\n",
       "      <td>NaN</td>\n",
       "      <td>NaN</td>\n",
       "      <td>NaN</td>\n",
       "      <td>NaN</td>\n",
       "      <td>NaN</td>\n",
       "      <td>NaN</td>\n",
       "      <td>NaN</td>\n",
       "      <td>NaN</td>\n",
       "      <td>NaN</td>\n",
       "      <td>NaN</td>\n",
       "      <td>NaN</td>\n",
       "      <td>NaN</td>\n",
       "      <td>NaN</td>\n",
       "      <td>NaN</td>\n",
       "      <td>NaN</td>\n",
       "      <td>NaN</td>\n",
       "      <td>NaN</td>\n",
       "      <td>NaN</td>\n",
       "      <td>NaN</td>\n",
       "      <td>NaN</td>\n",
       "      <td>NaN</td>\n",
       "      <td>NaN</td>\n",
       "      <td>NaN</td>\n",
       "      <td>NaN</td>\n",
       "      <td>NaN</td>\n",
       "      <td>26458.25</td>\n",
       "      <td>5354.65</td>\n",
       "      <td>6100.73</td>\n",
       "      <td>7955.82</td>\n",
       "      <td>11138.53</td>\n",
       "      <td>1.0</td>\n",
       "      <td>1.0</td>\n",
       "      <td>NaN</td>\n",
       "      <td>NaN</td>\n",
       "      <td>NaN</td>\n",
       "      <td>NaN</td>\n",
       "      <td>NaN</td>\n",
       "      <td>NaN</td>\n",
       "      <td>NaN</td>\n",
       "      <td>NaN</td>\n",
       "      <td>NaN</td>\n",
       "      <td>NaN</td>\n",
       "      <td>NaN</td>\n",
       "      <td>NaN</td>\n",
       "      <td>NaN</td>\n",
       "      <td>NaN</td>\n",
       "      <td>NaN</td>\n",
       "      <td>NaN</td>\n",
       "      <td>NaN</td>\n",
       "      <td>NaN</td>\n",
       "      <td>NaN</td>\n",
       "      <td>NaN</td>\n",
       "      <td>NaN</td>\n",
       "      <td>2.0</td>\n",
       "      <td>NaN</td>\n",
       "      <td>NaN</td>\n",
       "      <td>NaN</td>\n",
       "      <td>NaN</td>\n",
       "      <td>NaN</td>\n",
       "      <td>NaN</td>\n",
       "      <td>NaN</td>\n",
       "      <td>NaN</td>\n",
       "      <td>NaN</td>\n",
       "      <td>NaN</td>\n",
       "      <td>NaN</td>\n",
       "      <td>NaN</td>\n",
       "      <td>NaN</td>\n",
       "      <td>NaN</td>\n",
       "      <td>NaN</td>\n",
       "      <td>NaN</td>\n",
       "      <td>NaN</td>\n",
       "      <td>NaN</td>\n",
       "      <td>NaN</td>\n",
       "      <td>NaN</td>\n",
       "      <td>NaN</td>\n",
       "      <td>NaN</td>\n",
       "      <td>NaN</td>\n",
       "      <td>NaN</td>\n",
       "      <td>NaN</td>\n",
       "      <td>NaN</td>\n",
       "      <td>NaN</td>\n",
       "      <td>NaN</td>\n",
       "      <td>NaN</td>\n",
       "      <td>NaN</td>\n",
       "      <td>NaN</td>\n",
       "      <td>NaN</td>\n",
       "      <td>NaN</td>\n",
       "      <td>NaN</td>\n",
       "      <td>NaN</td>\n",
       "      <td>NaN</td>\n",
       "      <td>NaN</td>\n",
       "      <td>NaN</td>\n",
       "      <td>NaN</td>\n",
       "      <td>NaN</td>\n",
       "      <td>NaN</td>\n",
       "      <td>NaN</td>\n",
       "      <td>NaN</td>\n",
       "      <td>NaN</td>\n",
       "      <td>NaN</td>\n",
       "      <td>NaN</td>\n",
       "      <td>NaN</td>\n",
       "      <td>NaN</td>\n",
       "      <td>NaN</td>\n",
       "      <td>NaN</td>\n",
       "      <td>NaN</td>\n",
       "      <td>NaN</td>\n",
       "      <td>NaN</td>\n",
       "      <td>NaN</td>\n",
       "      <td>NaN</td>\n",
       "      <td>NaN</td>\n",
       "      <td>NaN</td>\n",
       "      <td>NaN</td>\n",
       "      <td>NaN</td>\n",
       "      <td>NaN</td>\n",
       "      <td>NaN</td>\n",
       "      <td>NaN</td>\n",
       "      <td>NaN</td>\n",
       "      <td>NaN</td>\n",
       "      <td>NaN</td>\n",
       "      <td>NaN</td>\n",
       "      <td>NaN</td>\n",
       "      <td>NaN</td>\n",
       "      <td>NaN</td>\n",
       "      <td>NaN</td>\n",
       "      <td>NaN</td>\n",
       "      <td>NaN</td>\n",
       "      <td>NaN</td>\n",
       "      <td>NaN</td>\n",
       "      <td>NaN</td>\n",
       "      <td>NaN</td>\n",
       "      <td>NaN</td>\n",
       "      <td>NaN</td>\n",
       "      <td>NaN</td>\n",
       "      <td>NaN</td>\n",
       "      <td>NaN</td>\n",
       "      <td>NaN</td>\n",
       "      <td>NaN</td>\n",
       "      <td>NaN</td>\n",
       "      <td>NaN</td>\n",
       "      <td>NaN</td>\n",
       "      <td>NaN</td>\n",
       "      <td>NaN</td>\n",
       "      <td>N</td>\n",
       "      <td>N</td>\n",
       "      <td>N</td>\n",
       "      <td>N</td>\n",
       "      <td>Y</td>\n",
       "      <td>NONE</td>\n",
       "      <td>N</td>\n",
       "      <td>N</td>\n",
       "      <td>0</td>\n",
       "      <td>39362.25</td>\n",
       "      <td>39125.00</td>\n",
       "      <td>2.0</td>\n",
       "      <td>8.0</td>\n",
       "      <td>28171.0</td>\n",
       "      <td>2005.75</td>\n",
       "      <td>31261.0</td>\n",
       "      <td>3.0</td>\n",
       "      <td>2.0</td>\n",
       "      <td>16171.0</td>\n",
       "      <td>29064.00</td>\n",
       "      <td>16197.0</td>\n",
       "      <td>2.0</td>\n",
       "      <td>3.0</td>\n",
       "      <td>16171.0</td>\n",
       "      <td>8727.25</td>\n",
       "      <td>7180.00</td>\n",
       "      <td>2.0</td>\n",
       "      <td>3.0</td>\n",
       "      <td>4680.0</td>\n",
       "      <td>36375.75</td>\n",
       "      <td>31516.00</td>\n",
       "      <td>2.0</td>\n",
       "      <td>4.0</td>\n",
       "      <td>16516.0</td>\n",
       "      <td>28520.75</td>\n",
       "      <td>44980.00</td>\n",
       "      <td>5.0</td>\n",
       "      <td>3.0</td>\n",
       "      <td>16516.0</td>\n",
       "      <td>NaN</td>\n",
       "      <td>NaN</td>\n",
       "      <td>NaN</td>\n",
       "      <td>NO_NEFT_TXN</td>\n",
       "      <td>26515.0</td>\n",
       "      <td>1.0</td>\n",
       "      <td>NOT_RELEVANT</td>\n",
       "      <td>NaN</td>\n",
       "      <td>NaN</td>\n",
       "      <td>NO_TPT_TXN</td>\n",
       "      <td>NaN</td>\n",
       "      <td>NaN</td>\n",
       "      <td>NO_TPT_TXN</td>\n",
       "      <td>NaN</td>\n",
       "      <td>NaN</td>\n",
       "      <td>NO_IMPS_TXN</td>\n",
       "      <td>122001</td>\n",
       "      <td>NaN</td>\n",
       "      <td>NaN</td>\n",
       "      <td>NaN</td>\n",
       "      <td>NaN</td>\n",
       "      <td>NaN</td>\n",
       "      <td>NaN</td>\n",
       "      <td>NaN</td>\n",
       "      <td>NaN</td>\n",
       "      <td>NaN</td>\n",
       "      <td>NaN</td>\n",
       "      <td>NaN</td>\n",
       "      <td>NaN</td>\n",
       "      <td>NaN</td>\n",
       "      <td>NaN</td>\n",
       "      <td>NaN</td>\n",
       "      <td>NaN</td>\n",
       "      <td>NaN</td>\n",
       "      <td>NaN</td>\n",
       "      <td>NaN</td>\n",
       "      <td>NaN</td>\n",
       "      <td>NaN</td>\n",
       "      <td>NaN</td>\n",
       "      <td>NaN</td>\n",
       "      <td>NaN</td>\n",
       "      <td>NaN</td>\n",
       "      <td>NaN</td>\n",
       "      <td>NaN</td>\n",
       "      <td>NaN</td>\n",
       "      <td>NaN</td>\n",
       "      <td>NaN</td>\n",
       "      <td>NaN</td>\n",
       "      <td>NaN</td>\n",
       "      <td>NaN</td>\n",
       "      <td>NaN</td>\n",
       "      <td>0</td>\n",
       "      <td>0</td>\n",
       "      <td>0</td>\n",
       "      <td>0</td>\n",
       "      <td>0</td>\n",
       "      <td>0</td>\n",
       "      <td>0</td>\n",
       "      <td>0</td>\n",
       "      <td>0</td>\n",
       "      <td>0</td>\n",
       "      <td>0.0</td>\n",
       "      <td>0.0</td>\n",
       "      <td>0.0</td>\n",
       "      <td>NaN</td>\n",
       "      <td>NaN</td>\n",
       "      <td>NONE</td>\n",
       "      <td>9999.00</td>\n",
       "      <td>14858.75</td>\n",
       "      <td>Y</td>\n",
       "      <td>Y</td>\n",
       "      <td>NaN</td>\n",
       "      <td>NaN</td>\n",
       "      <td>NaN</td>\n",
       "      <td>NaN</td>\n",
       "      <td>NaN</td>\n",
       "      <td>NaN</td>\n",
       "      <td>0.000000</td>\n",
       "      <td>N</td>\n",
       "      <td>244</td>\n",
       "      <td>0</td>\n",
       "      <td>NaN</td>\n",
       "      <td>NaN</td>\n",
       "      <td>NaN</td>\n",
       "      <td>NaN</td>\n",
       "      <td>NaN</td>\n",
       "      <td>NaN</td>\n",
       "      <td>NaN</td>\n",
       "      <td>NaN</td>\n",
       "      <td>NaN</td>\n",
       "      <td>NaN</td>\n",
       "      <td>NaN</td>\n",
       "      <td>NaN</td>\n",
       "      <td>NaN</td>\n",
       "      <td>NaN</td>\n",
       "      <td>NaN</td>\n",
       "      <td>NaN</td>\n",
       "      <td>NaN</td>\n",
       "      <td>0.0</td>\n",
       "      <td>51316.00</td>\n",
       "      <td>0</td>\n",
       "      <td>23.0</td>\n",
       "      <td>16.0</td>\n",
       "      <td>144055.75</td>\n",
       "      <td>268484.00</td>\n",
       "      <td>0</td>\n",
       "      <td>0</td>\n",
       "      <td>0</td>\n",
       "      <td>0</td>\n",
       "      <td>0</td>\n",
       "      <td>0</td>\n",
       "      <td>0</td>\n",
       "      <td>0</td>\n",
       "      <td>0</td>\n",
       "      <td>0</td>\n",
       "      <td>NaN</td>\n",
       "      <td>NaN</td>\n",
       "      <td>0.0</td>\n",
       "      <td>0.0</td>\n",
       "      <td>0.0</td>\n",
       "      <td>0.0</td>\n",
       "      <td>0.0</td>\n",
       "      <td>0.0</td>\n",
       "      <td>0.0</td>\n",
       "      <td>0.0</td>\n",
       "      <td>0.0</td>\n",
       "      <td>0.0</td>\n",
       "      <td>0.0</td>\n",
       "      <td>0.0</td>\n",
       "      <td>0.0</td>\n",
       "      <td>0.0</td>\n",
       "      <td>0.0</td>\n",
       "      <td>0.0</td>\n",
       "      <td>0.0</td>\n",
       "      <td>0.0</td>\n",
       "      <td>0.0</td>\n",
       "      <td>0.0</td>\n",
       "      <td>0</td>\n",
       "      <td>0.0</td>\n",
       "      <td>0.0</td>\n",
       "      <td>0.0</td>\n",
       "      <td>0.0</td>\n",
       "    </tr>\n",
       "    <tr>\n",
       "      <th>3</th>\n",
       "      <td>278651</td>\n",
       "      <td>0</td>\n",
       "      <td>1</td>\n",
       "      <td>1</td>\n",
       "      <td>28</td>\n",
       "      <td>65917.28</td>\n",
       "      <td>8270.28</td>\n",
       "      <td>1</td>\n",
       "      <td>1</td>\n",
       "      <td>0</td>\n",
       "      <td>1</td>\n",
       "      <td>1</td>\n",
       "      <td>1</td>\n",
       "      <td>1</td>\n",
       "      <td>1</td>\n",
       "      <td>1</td>\n",
       "      <td>1</td>\n",
       "      <td>1</td>\n",
       "      <td>1</td>\n",
       "      <td>1</td>\n",
       "      <td>1</td>\n",
       "      <td>1</td>\n",
       "      <td>1</td>\n",
       "      <td>1</td>\n",
       "      <td>1</td>\n",
       "      <td>1</td>\n",
       "      <td>1</td>\n",
       "      <td>1</td>\n",
       "      <td>1</td>\n",
       "      <td>1</td>\n",
       "      <td>NaN</td>\n",
       "      <td>Y</td>\n",
       "      <td>Y</td>\n",
       "      <td>Y</td>\n",
       "      <td>Y</td>\n",
       "      <td>NaN</td>\n",
       "      <td>Y</td>\n",
       "      <td>Y</td>\n",
       "      <td>Y</td>\n",
       "      <td>Y</td>\n",
       "      <td>Y</td>\n",
       "      <td>Y</td>\n",
       "      <td>Y</td>\n",
       "      <td>Y</td>\n",
       "      <td>10960.0</td>\n",
       "      <td>795.0</td>\n",
       "      <td>NaN</td>\n",
       "      <td>6782.0</td>\n",
       "      <td>NaN</td>\n",
       "      <td>NaN</td>\n",
       "      <td>22713.22</td>\n",
       "      <td>5340.0</td>\n",
       "      <td>NaN</td>\n",
       "      <td>62000.0</td>\n",
       "      <td>6051.22</td>\n",
       "      <td>22681.82</td>\n",
       "      <td>0.00</td>\n",
       "      <td>1</td>\n",
       "      <td>NaN</td>\n",
       "      <td>NaN</td>\n",
       "      <td>NaN</td>\n",
       "      <td>NaN</td>\n",
       "      <td>NaN</td>\n",
       "      <td>NaN</td>\n",
       "      <td>NaN</td>\n",
       "      <td>NaN</td>\n",
       "      <td>NaN</td>\n",
       "      <td>NaN</td>\n",
       "      <td>NaN</td>\n",
       "      <td>NaN</td>\n",
       "      <td>NaN</td>\n",
       "      <td>NaN</td>\n",
       "      <td>NaN</td>\n",
       "      <td>NaN</td>\n",
       "      <td>NaN</td>\n",
       "      <td>NaN</td>\n",
       "      <td>NaN</td>\n",
       "      <td>Y</td>\n",
       "      <td>NaN</td>\n",
       "      <td>NaN</td>\n",
       "      <td>NaN</td>\n",
       "      <td>NaN</td>\n",
       "      <td>NaN</td>\n",
       "      <td>NaN</td>\n",
       "      <td>NaN</td>\n",
       "      <td>65917.28</td>\n",
       "      <td>113120.39</td>\n",
       "      <td>35560.81</td>\n",
       "      <td>42686.93</td>\n",
       "      <td>61593.38</td>\n",
       "      <td>1.0</td>\n",
       "      <td>1.0</td>\n",
       "      <td>1.0</td>\n",
       "      <td>NaN</td>\n",
       "      <td>NaN</td>\n",
       "      <td>NaN</td>\n",
       "      <td>NaN</td>\n",
       "      <td>NaN</td>\n",
       "      <td>NaN</td>\n",
       "      <td>NaN</td>\n",
       "      <td>NaN</td>\n",
       "      <td>NaN</td>\n",
       "      <td>NaN</td>\n",
       "      <td>NaN</td>\n",
       "      <td>NaN</td>\n",
       "      <td>3.0</td>\n",
       "      <td>10935.00</td>\n",
       "      <td>5.0</td>\n",
       "      <td>15.0</td>\n",
       "      <td>NaN</td>\n",
       "      <td>9.0</td>\n",
       "      <td>803.00</td>\n",
       "      <td>4.0</td>\n",
       "      <td>2.0</td>\n",
       "      <td>6.0</td>\n",
       "      <td>NaN</td>\n",
       "      <td>NaN</td>\n",
       "      <td>1531.0</td>\n",
       "      <td>2.0</td>\n",
       "      <td>9.0</td>\n",
       "      <td>12.0</td>\n",
       "      <td>NaN</td>\n",
       "      <td>NaN</td>\n",
       "      <td>1330.0</td>\n",
       "      <td>NaN</td>\n",
       "      <td>5340.0</td>\n",
       "      <td>NaN</td>\n",
       "      <td>NaN</td>\n",
       "      <td>NaN</td>\n",
       "      <td>NaN</td>\n",
       "      <td>NaN</td>\n",
       "      <td>NaN</td>\n",
       "      <td>NaN</td>\n",
       "      <td>NaN</td>\n",
       "      <td>NaN</td>\n",
       "      <td>NaN</td>\n",
       "      <td>2900.0</td>\n",
       "      <td>NaN</td>\n",
       "      <td>NaN</td>\n",
       "      <td>NaN</td>\n",
       "      <td>NaN</td>\n",
       "      <td>NaN</td>\n",
       "      <td>NaN</td>\n",
       "      <td>NaN</td>\n",
       "      <td>NaN</td>\n",
       "      <td>NaN</td>\n",
       "      <td>NaN</td>\n",
       "      <td>NaN</td>\n",
       "      <td>NaN</td>\n",
       "      <td>NaN</td>\n",
       "      <td>NaN</td>\n",
       "      <td>NaN</td>\n",
       "      <td>NaN</td>\n",
       "      <td>8790.0</td>\n",
       "      <td>NaN</td>\n",
       "      <td>NaN</td>\n",
       "      <td>NaN</td>\n",
       "      <td>NaN</td>\n",
       "      <td>NaN</td>\n",
       "      <td>NaN</td>\n",
       "      <td>NaN</td>\n",
       "      <td>NaN</td>\n",
       "      <td>NaN</td>\n",
       "      <td>NaN</td>\n",
       "      <td>NaN</td>\n",
       "      <td>NaN</td>\n",
       "      <td>NaN</td>\n",
       "      <td>NaN</td>\n",
       "      <td>NaN</td>\n",
       "      <td>NaN</td>\n",
       "      <td>NaN</td>\n",
       "      <td>NaN</td>\n",
       "      <td>NaN</td>\n",
       "      <td>NaN</td>\n",
       "      <td>NaN</td>\n",
       "      <td>NaN</td>\n",
       "      <td>NaN</td>\n",
       "      <td>NaN</td>\n",
       "      <td>NaN</td>\n",
       "      <td>NaN</td>\n",
       "      <td>NaN</td>\n",
       "      <td>NaN</td>\n",
       "      <td>NaN</td>\n",
       "      <td>NaN</td>\n",
       "      <td>NaN</td>\n",
       "      <td>NaN</td>\n",
       "      <td>NaN</td>\n",
       "      <td>NaN</td>\n",
       "      <td>NaN</td>\n",
       "      <td>NaN</td>\n",
       "      <td>NaN</td>\n",
       "      <td>NaN</td>\n",
       "      <td>NaN</td>\n",
       "      <td>NaN</td>\n",
       "      <td>NaN</td>\n",
       "      <td>NaN</td>\n",
       "      <td>NaN</td>\n",
       "      <td>NaN</td>\n",
       "      <td>NaN</td>\n",
       "      <td>NaN</td>\n",
       "      <td>NaN</td>\n",
       "      <td>NaN</td>\n",
       "      <td>Y</td>\n",
       "      <td>N</td>\n",
       "      <td>N</td>\n",
       "      <td>N</td>\n",
       "      <td>N</td>\n",
       "      <td>NONE</td>\n",
       "      <td>N</td>\n",
       "      <td>N</td>\n",
       "      <td>0</td>\n",
       "      <td>128169.25</td>\n",
       "      <td>20152.03</td>\n",
       "      <td>2.0</td>\n",
       "      <td>20.0</td>\n",
       "      <td>19840.0</td>\n",
       "      <td>52325.00</td>\n",
       "      <td>19840.0</td>\n",
       "      <td>1.0</td>\n",
       "      <td>8.0</td>\n",
       "      <td>19840.0</td>\n",
       "      <td>69002.00</td>\n",
       "      <td>21526.0</td>\n",
       "      <td>2.0</td>\n",
       "      <td>9.0</td>\n",
       "      <td>19840.0</td>\n",
       "      <td>75750.25</td>\n",
       "      <td>19605.00</td>\n",
       "      <td>1.0</td>\n",
       "      <td>18.0</td>\n",
       "      <td>19605.0</td>\n",
       "      <td>37712.17</td>\n",
       "      <td>15200.00</td>\n",
       "      <td>1.0</td>\n",
       "      <td>17.0</td>\n",
       "      <td>15200.0</td>\n",
       "      <td>47158.82</td>\n",
       "      <td>85913.00</td>\n",
       "      <td>4.0</td>\n",
       "      <td>11.0</td>\n",
       "      <td>46500.0</td>\n",
       "      <td>NaN</td>\n",
       "      <td>NaN</td>\n",
       "      <td>NaN</td>\n",
       "      <td>NO_NEFT_TXN</td>\n",
       "      <td>NaN</td>\n",
       "      <td>NaN</td>\n",
       "      <td>NO_NEFT_TXN</td>\n",
       "      <td>NaN</td>\n",
       "      <td>NaN</td>\n",
       "      <td>NO_TPT_TXN</td>\n",
       "      <td>NaN</td>\n",
       "      <td>NaN</td>\n",
       "      <td>NO_TPT_TXN</td>\n",
       "      <td>NaN</td>\n",
       "      <td>NaN</td>\n",
       "      <td>NO_IMPS_TXN</td>\n",
       "      <td>NaN</td>\n",
       "      <td>NaN</td>\n",
       "      <td>NaN</td>\n",
       "      <td>NaN</td>\n",
       "      <td>NaN</td>\n",
       "      <td>NaN</td>\n",
       "      <td>NaN</td>\n",
       "      <td>NaN</td>\n",
       "      <td>NaN</td>\n",
       "      <td>NaN</td>\n",
       "      <td>NaN</td>\n",
       "      <td>NaN</td>\n",
       "      <td>NaN</td>\n",
       "      <td>NaN</td>\n",
       "      <td>NaN</td>\n",
       "      <td>NaN</td>\n",
       "      <td>NaN</td>\n",
       "      <td>NaN</td>\n",
       "      <td>NaN</td>\n",
       "      <td>NaN</td>\n",
       "      <td>NaN</td>\n",
       "      <td>NaN</td>\n",
       "      <td>NaN</td>\n",
       "      <td>NaN</td>\n",
       "      <td>0.247852</td>\n",
       "      <td>NaN</td>\n",
       "      <td>NaN</td>\n",
       "      <td>2558.0</td>\n",
       "      <td>NaN</td>\n",
       "      <td>NaN</td>\n",
       "      <td>NaN</td>\n",
       "      <td>NaN</td>\n",
       "      <td>8200.0</td>\n",
       "      <td>NaN</td>\n",
       "      <td>NaN</td>\n",
       "      <td>0</td>\n",
       "      <td>0</td>\n",
       "      <td>1</td>\n",
       "      <td>0</td>\n",
       "      <td>0</td>\n",
       "      <td>1</td>\n",
       "      <td>0</td>\n",
       "      <td>1</td>\n",
       "      <td>1</td>\n",
       "      <td>0</td>\n",
       "      <td>38952.0</td>\n",
       "      <td>15200.0</td>\n",
       "      <td>19605.0</td>\n",
       "      <td>NaN</td>\n",
       "      <td>NaN</td>\n",
       "      <td>NONE</td>\n",
       "      <td>27163.10</td>\n",
       "      <td>49675.27</td>\n",
       "      <td>Y</td>\n",
       "      <td>Y</td>\n",
       "      <td>NaN</td>\n",
       "      <td>NaN</td>\n",
       "      <td>NaN</td>\n",
       "      <td>NaN</td>\n",
       "      <td>NaN</td>\n",
       "      <td>NaN</td>\n",
       "      <td>0.000000</td>\n",
       "      <td>N</td>\n",
       "      <td>207</td>\n",
       "      <td>4</td>\n",
       "      <td>NaN</td>\n",
       "      <td>NaN</td>\n",
       "      <td>NaN</td>\n",
       "      <td>NaN</td>\n",
       "      <td>NaN</td>\n",
       "      <td>NaN</td>\n",
       "      <td>NaN</td>\n",
       "      <td>NaN</td>\n",
       "      <td>NaN</td>\n",
       "      <td>NaN</td>\n",
       "      <td>NaN</td>\n",
       "      <td>NaN</td>\n",
       "      <td>NaN</td>\n",
       "      <td>NaN</td>\n",
       "      <td>NaN</td>\n",
       "      <td>NaN</td>\n",
       "      <td>NaN</td>\n",
       "      <td>73757.0</td>\n",
       "      <td>142755.65</td>\n",
       "      <td>4</td>\n",
       "      <td>83.0</td>\n",
       "      <td>11.0</td>\n",
       "      <td>410117.49</td>\n",
       "      <td>323061.03</td>\n",
       "      <td>0</td>\n",
       "      <td>0</td>\n",
       "      <td>0</td>\n",
       "      <td>0</td>\n",
       "      <td>0</td>\n",
       "      <td>0</td>\n",
       "      <td>0</td>\n",
       "      <td>0</td>\n",
       "      <td>0</td>\n",
       "      <td>0</td>\n",
       "      <td>NaN</td>\n",
       "      <td>NaN</td>\n",
       "      <td>0.0</td>\n",
       "      <td>0.0</td>\n",
       "      <td>0.0</td>\n",
       "      <td>0.0</td>\n",
       "      <td>0.0</td>\n",
       "      <td>0.0</td>\n",
       "      <td>0.0</td>\n",
       "      <td>0.0</td>\n",
       "      <td>0.0</td>\n",
       "      <td>0.0</td>\n",
       "      <td>0.0</td>\n",
       "      <td>0.0</td>\n",
       "      <td>0.0</td>\n",
       "      <td>0.0</td>\n",
       "      <td>0.0</td>\n",
       "      <td>0.0</td>\n",
       "      <td>0.0</td>\n",
       "      <td>0.0</td>\n",
       "      <td>0.0</td>\n",
       "      <td>0.0</td>\n",
       "      <td>0</td>\n",
       "      <td>0.0</td>\n",
       "      <td>0.0</td>\n",
       "      <td>0.0</td>\n",
       "      <td>0.0</td>\n",
       "    </tr>\n",
       "    <tr>\n",
       "      <th>4</th>\n",
       "      <td>23637</td>\n",
       "      <td>0</td>\n",
       "      <td>1</td>\n",
       "      <td>1</td>\n",
       "      <td>34</td>\n",
       "      <td>22260.94</td>\n",
       "      <td>6060.94</td>\n",
       "      <td>1</td>\n",
       "      <td>1</td>\n",
       "      <td>1</td>\n",
       "      <td>1</td>\n",
       "      <td>1</td>\n",
       "      <td>1</td>\n",
       "      <td>1</td>\n",
       "      <td>1</td>\n",
       "      <td>1</td>\n",
       "      <td>1</td>\n",
       "      <td>1</td>\n",
       "      <td>1</td>\n",
       "      <td>1</td>\n",
       "      <td>1</td>\n",
       "      <td>1</td>\n",
       "      <td>1</td>\n",
       "      <td>1</td>\n",
       "      <td>1</td>\n",
       "      <td>1</td>\n",
       "      <td>1</td>\n",
       "      <td>1</td>\n",
       "      <td>1</td>\n",
       "      <td>1</td>\n",
       "      <td>NaN</td>\n",
       "      <td>Y</td>\n",
       "      <td>Y</td>\n",
       "      <td>Y</td>\n",
       "      <td>Y</td>\n",
       "      <td>Y</td>\n",
       "      <td>Y</td>\n",
       "      <td>Y</td>\n",
       "      <td>Y</td>\n",
       "      <td>Y</td>\n",
       "      <td>NaN</td>\n",
       "      <td>NaN</td>\n",
       "      <td>NaN</td>\n",
       "      <td>N</td>\n",
       "      <td>NaN</td>\n",
       "      <td>NaN</td>\n",
       "      <td>NaN</td>\n",
       "      <td>1199.0</td>\n",
       "      <td>NaN</td>\n",
       "      <td>NaN</td>\n",
       "      <td>NaN</td>\n",
       "      <td>NaN</td>\n",
       "      <td>NaN</td>\n",
       "      <td>88000.0</td>\n",
       "      <td>15660.04</td>\n",
       "      <td>21246.48</td>\n",
       "      <td>16483.54</td>\n",
       "      <td>0</td>\n",
       "      <td>NaN</td>\n",
       "      <td>NaN</td>\n",
       "      <td>NaN</td>\n",
       "      <td>NaN</td>\n",
       "      <td>NaN</td>\n",
       "      <td>NaN</td>\n",
       "      <td>NaN</td>\n",
       "      <td>NaN</td>\n",
       "      <td>NaN</td>\n",
       "      <td>NaN</td>\n",
       "      <td>NaN</td>\n",
       "      <td>NaN</td>\n",
       "      <td>NaN</td>\n",
       "      <td>NaN</td>\n",
       "      <td>NaN</td>\n",
       "      <td>NaN</td>\n",
       "      <td>NaN</td>\n",
       "      <td>NaN</td>\n",
       "      <td>NaN</td>\n",
       "      <td>Y</td>\n",
       "      <td>NaN</td>\n",
       "      <td>Y</td>\n",
       "      <td>NaN</td>\n",
       "      <td>NaN</td>\n",
       "      <td>Y</td>\n",
       "      <td>Y</td>\n",
       "      <td>Y</td>\n",
       "      <td>6172.94</td>\n",
       "      <td>9099.94</td>\n",
       "      <td>15858.71</td>\n",
       "      <td>14008.08</td>\n",
       "      <td>4570.73</td>\n",
       "      <td>1.0</td>\n",
       "      <td>NaN</td>\n",
       "      <td>1.0</td>\n",
       "      <td>NaN</td>\n",
       "      <td>NaN</td>\n",
       "      <td>NaN</td>\n",
       "      <td>NaN</td>\n",
       "      <td>NaN</td>\n",
       "      <td>NaN</td>\n",
       "      <td>NaN</td>\n",
       "      <td>NaN</td>\n",
       "      <td>NaN</td>\n",
       "      <td>NaN</td>\n",
       "      <td>NaN</td>\n",
       "      <td>NaN</td>\n",
       "      <td>11.0</td>\n",
       "      <td>15094.78</td>\n",
       "      <td>21.0</td>\n",
       "      <td>16.0</td>\n",
       "      <td>7.0</td>\n",
       "      <td>16.0</td>\n",
       "      <td>8333.35</td>\n",
       "      <td>13.0</td>\n",
       "      <td>NaN</td>\n",
       "      <td>NaN</td>\n",
       "      <td>NaN</td>\n",
       "      <td>NaN</td>\n",
       "      <td>380.0</td>\n",
       "      <td>1.0</td>\n",
       "      <td>NaN</td>\n",
       "      <td>NaN</td>\n",
       "      <td>NaN</td>\n",
       "      <td>NaN</td>\n",
       "      <td>NaN</td>\n",
       "      <td>NaN</td>\n",
       "      <td>NaN</td>\n",
       "      <td>NaN</td>\n",
       "      <td>NaN</td>\n",
       "      <td>NaN</td>\n",
       "      <td>NaN</td>\n",
       "      <td>NaN</td>\n",
       "      <td>NaN</td>\n",
       "      <td>NaN</td>\n",
       "      <td>NaN</td>\n",
       "      <td>NaN</td>\n",
       "      <td>NaN</td>\n",
       "      <td>NaN</td>\n",
       "      <td>NaN</td>\n",
       "      <td>NaN</td>\n",
       "      <td>NaN</td>\n",
       "      <td>NaN</td>\n",
       "      <td>NaN</td>\n",
       "      <td>NaN</td>\n",
       "      <td>NaN</td>\n",
       "      <td>NaN</td>\n",
       "      <td>NaN</td>\n",
       "      <td>NaN</td>\n",
       "      <td>NaN</td>\n",
       "      <td>NaN</td>\n",
       "      <td>NaN</td>\n",
       "      <td>NaN</td>\n",
       "      <td>NaN</td>\n",
       "      <td>NaN</td>\n",
       "      <td>NaN</td>\n",
       "      <td>NaN</td>\n",
       "      <td>NaN</td>\n",
       "      <td>NaN</td>\n",
       "      <td>NaN</td>\n",
       "      <td>NaN</td>\n",
       "      <td>NaN</td>\n",
       "      <td>NaN</td>\n",
       "      <td>NaN</td>\n",
       "      <td>NaN</td>\n",
       "      <td>NaN</td>\n",
       "      <td>NaN</td>\n",
       "      <td>NaN</td>\n",
       "      <td>NaN</td>\n",
       "      <td>NaN</td>\n",
       "      <td>380.0</td>\n",
       "      <td>NaN</td>\n",
       "      <td>NaN</td>\n",
       "      <td>NaN</td>\n",
       "      <td>NaN</td>\n",
       "      <td>NaN</td>\n",
       "      <td>NaN</td>\n",
       "      <td>1199.0</td>\n",
       "      <td>NaN</td>\n",
       "      <td>NaN</td>\n",
       "      <td>NaN</td>\n",
       "      <td>NaN</td>\n",
       "      <td>NaN</td>\n",
       "      <td>NaN</td>\n",
       "      <td>NaN</td>\n",
       "      <td>7776.0</td>\n",
       "      <td>NaN</td>\n",
       "      <td>NaN</td>\n",
       "      <td>NaN</td>\n",
       "      <td>NaN</td>\n",
       "      <td>NaN</td>\n",
       "      <td>NaN</td>\n",
       "      <td>NaN</td>\n",
       "      <td>NaN</td>\n",
       "      <td>NaN</td>\n",
       "      <td>NaN</td>\n",
       "      <td>NaN</td>\n",
       "      <td>NaN</td>\n",
       "      <td>NaN</td>\n",
       "      <td>NaN</td>\n",
       "      <td>NaN</td>\n",
       "      <td>NaN</td>\n",
       "      <td>NaN</td>\n",
       "      <td>NaN</td>\n",
       "      <td>N</td>\n",
       "      <td>N</td>\n",
       "      <td>N</td>\n",
       "      <td>N</td>\n",
       "      <td>N</td>\n",
       "      <td>NONE</td>\n",
       "      <td>N</td>\n",
       "      <td>N</td>\n",
       "      <td>0</td>\n",
       "      <td>18668.96</td>\n",
       "      <td>24565.91</td>\n",
       "      <td>4.0</td>\n",
       "      <td>7.0</td>\n",
       "      <td>14000.0</td>\n",
       "      <td>26931.60</td>\n",
       "      <td>29500.0</td>\n",
       "      <td>3.0</td>\n",
       "      <td>7.0</td>\n",
       "      <td>21500.0</td>\n",
       "      <td>13700.00</td>\n",
       "      <td>9264.0</td>\n",
       "      <td>4.0</td>\n",
       "      <td>1.0</td>\n",
       "      <td>5000.0</td>\n",
       "      <td>9817.25</td>\n",
       "      <td>6532.79</td>\n",
       "      <td>4.0</td>\n",
       "      <td>3.0</td>\n",
       "      <td>3580.0</td>\n",
       "      <td>37936.00</td>\n",
       "      <td>58018.00</td>\n",
       "      <td>4.0</td>\n",
       "      <td>5.0</td>\n",
       "      <td>29000.0</td>\n",
       "      <td>16200.00</td>\n",
       "      <td>1307.07</td>\n",
       "      <td>4.0</td>\n",
       "      <td>1.0</td>\n",
       "      <td>690.0</td>\n",
       "      <td>PQ_WITH_INCOME_20K</td>\n",
       "      <td>NaN</td>\n",
       "      <td>NaN</td>\n",
       "      <td>NO_NEFT_TXN</td>\n",
       "      <td>NaN</td>\n",
       "      <td>NaN</td>\n",
       "      <td>NO_NEFT_TXN</td>\n",
       "      <td>NaN</td>\n",
       "      <td>NaN</td>\n",
       "      <td>NO_TPT_TXN</td>\n",
       "      <td>NaN</td>\n",
       "      <td>NaN</td>\n",
       "      <td>NO_TPT_TXN</td>\n",
       "      <td>200.0</td>\n",
       "      <td>1.0</td>\n",
       "      <td>NOT_RELEVANT</td>\n",
       "      <td>122015</td>\n",
       "      <td>NaN</td>\n",
       "      <td>NaN</td>\n",
       "      <td>NaN</td>\n",
       "      <td>NaN</td>\n",
       "      <td>NaN</td>\n",
       "      <td>NaN</td>\n",
       "      <td>NaN</td>\n",
       "      <td>NaN</td>\n",
       "      <td>NaN</td>\n",
       "      <td>NaN</td>\n",
       "      <td>NaN</td>\n",
       "      <td>NaN</td>\n",
       "      <td>NaN</td>\n",
       "      <td>NaN</td>\n",
       "      <td>NaN</td>\n",
       "      <td>NaN</td>\n",
       "      <td>NaN</td>\n",
       "      <td>NaN</td>\n",
       "      <td>NaN</td>\n",
       "      <td>NaN</td>\n",
       "      <td>NaN</td>\n",
       "      <td>NaN</td>\n",
       "      <td>NaN</td>\n",
       "      <td>NaN</td>\n",
       "      <td>NaN</td>\n",
       "      <td>NaN</td>\n",
       "      <td>NaN</td>\n",
       "      <td>NaN</td>\n",
       "      <td>NaN</td>\n",
       "      <td>NaN</td>\n",
       "      <td>NaN</td>\n",
       "      <td>NaN</td>\n",
       "      <td>NaN</td>\n",
       "      <td>NaN</td>\n",
       "      <td>0</td>\n",
       "      <td>0</td>\n",
       "      <td>0</td>\n",
       "      <td>0</td>\n",
       "      <td>0</td>\n",
       "      <td>0</td>\n",
       "      <td>0</td>\n",
       "      <td>0</td>\n",
       "      <td>1</td>\n",
       "      <td>0</td>\n",
       "      <td>0.0</td>\n",
       "      <td>0.0</td>\n",
       "      <td>0.0</td>\n",
       "      <td>NaN</td>\n",
       "      <td>NaN</td>\n",
       "      <td>NONE</td>\n",
       "      <td>21065.87</td>\n",
       "      <td>983.87</td>\n",
       "      <td>Y</td>\n",
       "      <td>Y</td>\n",
       "      <td>NaN</td>\n",
       "      <td>NaN</td>\n",
       "      <td>NaN</td>\n",
       "      <td>NaN</td>\n",
       "      <td>NaN</td>\n",
       "      <td>NaN</td>\n",
       "      <td>251.758794</td>\n",
       "      <td>N</td>\n",
       "      <td>215</td>\n",
       "      <td>1</td>\n",
       "      <td>NaN</td>\n",
       "      <td>NaN</td>\n",
       "      <td>NaN</td>\n",
       "      <td>NaN</td>\n",
       "      <td>NaN</td>\n",
       "      <td>NaN</td>\n",
       "      <td>NaN</td>\n",
       "      <td>NaN</td>\n",
       "      <td>NaN</td>\n",
       "      <td>NaN</td>\n",
       "      <td>NaN</td>\n",
       "      <td>NaN</td>\n",
       "      <td>NaN</td>\n",
       "      <td>NaN</td>\n",
       "      <td>NaN</td>\n",
       "      <td>NaN</td>\n",
       "      <td>NaN</td>\n",
       "      <td>0.0</td>\n",
       "      <td>28222.68</td>\n",
       "      <td>1</td>\n",
       "      <td>24.0</td>\n",
       "      <td>23.0</td>\n",
       "      <td>123253.81</td>\n",
       "      <td>202957.77</td>\n",
       "      <td>0</td>\n",
       "      <td>1</td>\n",
       "      <td>0</td>\n",
       "      <td>0</td>\n",
       "      <td>0</td>\n",
       "      <td>0</td>\n",
       "      <td>0</td>\n",
       "      <td>0</td>\n",
       "      <td>0</td>\n",
       "      <td>0</td>\n",
       "      <td>NaN</td>\n",
       "      <td>NaN</td>\n",
       "      <td>0.0</td>\n",
       "      <td>0.0</td>\n",
       "      <td>0.0</td>\n",
       "      <td>0.0</td>\n",
       "      <td>0.0</td>\n",
       "      <td>0.0</td>\n",
       "      <td>0.0</td>\n",
       "      <td>0.0</td>\n",
       "      <td>0.0</td>\n",
       "      <td>0.0</td>\n",
       "      <td>0.0</td>\n",
       "      <td>0.0</td>\n",
       "      <td>0.0</td>\n",
       "      <td>0.0</td>\n",
       "      <td>0.0</td>\n",
       "      <td>0.0</td>\n",
       "      <td>0.0</td>\n",
       "      <td>0.0</td>\n",
       "      <td>0.0</td>\n",
       "      <td>0.0</td>\n",
       "      <td>0</td>\n",
       "      <td>0.0</td>\n",
       "      <td>0.0</td>\n",
       "      <td>0.0</td>\n",
       "      <td>0.0</td>\n",
       "    </tr>\n",
       "  </tbody>\n",
       "</table>\n",
       "</div>"
      ],
      "text/plain": [
       "   CUSTOMER_ID  ACT_TYPE  GENDER  LEGAL_ENTITY  AGE  N_CASA_MAX_BALANCE_MTD  \\\n",
       "0       385793         0       1             1   21                    0.00   \n",
       "1       286891         0       1             1   23                 8243.77   \n",
       "2       108751         0       1             1   41                26515.00   \n",
       "3       278651         0       1             1   28                65917.28   \n",
       "4        23637         0       1             1   34                22260.94   \n",
       "\n",
       "   N_CASA_MIN_BALANCE_MTD  BL_TAG  TWL_TAG  PL_TAG  AL_CNC_TAG  AGRI_TAG  \\\n",
       "0                    0.00       1        1       1           1         1   \n",
       "1                    7.77       1        1       1           1         1   \n",
       "2                    0.00       1        1       1           1         1   \n",
       "3                 8270.28       1        1       0           1         1   \n",
       "4                 6060.94       1        1       1           1         1   \n",
       "\n",
       "   CE_TAG  CV_TAG  EDU_TAG  TL_TAG  OTHER_LOANS_TAG  LAP_TAG  LAS_TAG  \\\n",
       "0       1       1        1       1                1        1        1   \n",
       "1       1       1        1       1                1        1        1   \n",
       "2       1       1        1       1                1        1        1   \n",
       "3       1       1        1       1                1        1        1   \n",
       "4       1       1        1       1                1        1        1   \n",
       "\n",
       "   BBG_TAG  HL_TAG  GL_TAG  AL_CLOSED  PL_CLOSED  BL_CLOSED  TWL_CLOSED  \\\n",
       "0        1       1       1          1          1          1           1   \n",
       "1        1       1       1          1          1          1           1   \n",
       "2        1       1       1          1          1          1           1   \n",
       "3        1       1       1          1          1          1           1   \n",
       "4        1       1       1          1          1          1           1   \n",
       "\n",
       "   CV_CLOSED  LAP_CLOSED  LAS_CLOSED  BBG_CLOSED GL_CLOSED CC_HOLD_MON_03  \\\n",
       "0          1           1           1           1       NaN            NaN   \n",
       "1          1           1           1           1       NaN            NaN   \n",
       "2          1           1           1           1       NaN            NaN   \n",
       "3          1           1           1           1       NaN              Y   \n",
       "4          1           1           1           1       NaN              Y   \n",
       "\n",
       "  CC_HOLD_MON_02 CC_HOLD_MON_01 CC_ACTIVE_MON_03 CC_ACTIVE_MON_02  \\\n",
       "0            NaN            NaN              NaN              NaN   \n",
       "1            NaN            NaN              NaN              NaN   \n",
       "2            NaN            NaN              NaN              NaN   \n",
       "3              Y              Y                Y              NaN   \n",
       "4              Y              Y                Y                Y   \n",
       "\n",
       "  CC_ACTIVE_MON_01 CC_HOLD CC_ACTIVE DC_HOLD DC_ACTIVE_MON_03  \\\n",
       "0              NaN       N         N       Y              NaN   \n",
       "1              NaN       N         N       Y                Y   \n",
       "2              NaN       N         N       Y              NaN   \n",
       "3                Y       Y         Y       Y                Y   \n",
       "4                Y       Y         Y       Y              NaN   \n",
       "\n",
       "  DC_ACTIVE_MON_02 DC_ACTIVE_MON_01 DC_ACTIVE  DC_SPEND_MON_03  \\\n",
       "0              NaN              NaN         N              NaN   \n",
       "1                Y                Y         Y              NaN   \n",
       "2              NaN              NaN         N              NaN   \n",
       "3                Y                Y         Y          10960.0   \n",
       "4              NaN              NaN         N              NaN   \n",
       "\n",
       "   DC_SPEND_MON_02  DC_SPEND_MON_01  CC_SPEND_MON_04  CC_SPEND_MON_01  \\\n",
       "0              NaN              NaN              NaN              NaN   \n",
       "1              NaN              NaN              NaN              NaN   \n",
       "2              NaN              NaN              NaN              NaN   \n",
       "3            795.0              NaN           6782.0              NaN   \n",
       "4              NaN              NaN           1199.0              NaN   \n",
       "\n",
       "   CC_SPEND_MON_02  CC_SPEND_MON_03  DC_SPEND_MON_04  PM_FD_MON_01  CR_LIMIT  \\\n",
       "0              NaN              NaN              NaN           NaN       NaN   \n",
       "1              NaN              NaN              NaN           NaN       NaN   \n",
       "2              NaN              NaN              NaN           NaN       NaN   \n",
       "3              NaN         22713.22           5340.0           NaN   62000.0   \n",
       "4              NaN              NaN              NaN           NaN   88000.0   \n",
       "\n",
       "   STMT_MON_03  STMT_MON_02  STMT_MON_01  COC_ELIGIBLE  LAP_SCRUB_LIVE  \\\n",
       "0          NaN          NaN          NaN             0             NaN   \n",
       "1          NaN          NaN          NaN             0             NaN   \n",
       "2          NaN          NaN          NaN             0             NaN   \n",
       "3      6051.22     22681.82         0.00             1             NaN   \n",
       "4     15660.04     21246.48     16483.54             0             NaN   \n",
       "\n",
       "   LAS_SCRUB_LIVE  PL_SCRUB_LIVE  GL_SCRUB_LIVE  TWL_SCRUB_LIVE  \\\n",
       "0             NaN            NaN            NaN             NaN   \n",
       "1             NaN            NaN            NaN             NaN   \n",
       "2             NaN            NaN            NaN             NaN   \n",
       "3             NaN            NaN            NaN             NaN   \n",
       "4             NaN            NaN            NaN             NaN   \n",
       "\n",
       "   BL_SCRUB_LIVE  CEL_SCRUB_LIVE  TL_SCRUB_LIVE  AL_SCRUB_LIVE  \\\n",
       "0            NaN             NaN            NaN            NaN   \n",
       "1            NaN             NaN            NaN            1.0   \n",
       "2            NaN             NaN            NaN            NaN   \n",
       "3            NaN             NaN            NaN            NaN   \n",
       "4            NaN             NaN            NaN            NaN   \n",
       "\n",
       "   LAP_SCRUB_CLOSED  LAS_SCRUB_CLOSED  PL_SCRUB_CLOSED  GL_SCRUB_CLOSED  \\\n",
       "0               NaN               NaN              NaN              NaN   \n",
       "1               NaN               NaN              NaN              NaN   \n",
       "2               NaN               NaN              NaN              NaN   \n",
       "3               NaN               NaN              NaN              NaN   \n",
       "4               NaN               NaN              NaN              NaN   \n",
       "\n",
       "   TWL_SCRUB_CLOSED  BL_SCRUB_CLOSED  CEL_SCRUB_CLOSED  TL_SCRUB_CLOSED  \\\n",
       "0               NaN              NaN               NaN              NaN   \n",
       "1               NaN              NaN               NaN              NaN   \n",
       "2               NaN              NaN               NaN              NaN   \n",
       "3               NaN              NaN               NaN              NaN   \n",
       "4               NaN              NaN               NaN              NaN   \n",
       "\n",
       "   AL_SCRUB_CLOSED BTE_ACTIVE_MON_01 COC_ACTIVE_MON_01 PL2CC_ACTIVE_MON_01  \\\n",
       "0              NaN               NaN               NaN                 NaN   \n",
       "1              NaN               NaN               NaN                 NaN   \n",
       "2              NaN               NaN               NaN                 NaN   \n",
       "3              NaN               NaN                 Y                 NaN   \n",
       "4              NaN               NaN                 Y                 NaN   \n",
       "\n",
       "  MER_EMI_ACTIVE_MON_01 TRN_CON_DAE_ACTIVE_MON_01 BTE_CLOSED_MON_01  \\\n",
       "0                   NaN                       NaN               NaN   \n",
       "1                   NaN                       NaN               NaN   \n",
       "2                   NaN                       NaN               NaN   \n",
       "3                   NaN                       NaN               NaN   \n",
       "4                     Y                       NaN               NaN   \n",
       "\n",
       "  COC_CLOSED_MON_01 PL2CC_CLOSED_MON_01 TRN_CON_DAE_CLOSED_MON_01  \\\n",
       "0               NaN                 NaN                       NaN   \n",
       "1               NaN                 NaN                       NaN   \n",
       "2               NaN                 NaN                       NaN   \n",
       "3               NaN                 NaN                       NaN   \n",
       "4                 Y                   Y                         Y   \n",
       "\n",
       "   EOP_BAL_MON_01  AMB_MON_04  AMB_MON_01  AMB_MON_02  AMB_MON_03  \\\n",
       "0            0.00        0.00        0.00        0.00        0.00   \n",
       "1           11.77     1417.26      300.51      593.06      418.09   \n",
       "2        26458.25     5354.65     6100.73     7955.82    11138.53   \n",
       "3        65917.28   113120.39    35560.81    42686.93    61593.38   \n",
       "4         6172.94     9099.94    15858.71    14008.08     4570.73   \n",
       "\n",
       "   NB_MON_01_CNT  NB_MON_02_CNT  NB_MON_03_CNT  CDMAT_MON_01  CDMAT_MON_04  \\\n",
       "0            NaN            NaN            NaN           NaN           NaN   \n",
       "1            NaN            NaN            NaN           NaN           NaN   \n",
       "2            1.0            1.0            NaN           NaN           NaN   \n",
       "3            1.0            1.0            1.0           NaN           NaN   \n",
       "4            1.0            NaN            1.0           NaN           NaN   \n",
       "\n",
       "   MF_MON_04  MF_MON_01  RD_MON_04  RD_MON_01  FD_MON_04  FD_MON_01  \\\n",
       "0        NaN        NaN        NaN        NaN        NaN        NaN   \n",
       "1        NaN        NaN        NaN        NaN        NaN        NaN   \n",
       "2        NaN        NaN        NaN        NaN        NaN        NaN   \n",
       "3        NaN        NaN        NaN        NaN        NaN        NaN   \n",
       "4        NaN        NaN        NaN        NaN        NaN        NaN   \n",
       "\n",
       "   LI_MON_04  LI_MON_01  GI_MON_04  GI_MON_01  CC_TXN_MON_01  CC_SPEND_MON_06  \\\n",
       "0        NaN        NaN        NaN        NaN            NaN              NaN   \n",
       "1        NaN        NaN        NaN        NaN            NaN              NaN   \n",
       "2        NaN        NaN        NaN        NaN            NaN              NaN   \n",
       "3        NaN        NaN        NaN        NaN            3.0         10935.00   \n",
       "4        NaN        NaN        NaN        NaN           11.0         15094.78   \n",
       "\n",
       "   CC_TXN_MON_06  CC_TXN_MON_03  CC_TXN_MON_02  CC_TXN_MON_04  \\\n",
       "0            NaN            NaN            NaN            NaN   \n",
       "1            NaN            NaN            NaN            NaN   \n",
       "2            NaN            NaN            NaN            NaN   \n",
       "3            5.0           15.0            NaN            9.0   \n",
       "4           21.0           16.0            7.0           16.0   \n",
       "\n",
       "   CC_SPEND_MON_05  CC_TXN_MON_05  DC_TXN_MON_04  DC_TXN_MON_01  \\\n",
       "0              NaN            NaN            NaN            NaN   \n",
       "1              NaN            NaN            8.0            5.0   \n",
       "2              NaN            NaN            2.0            NaN   \n",
       "3           803.00            4.0            2.0            6.0   \n",
       "4          8333.35           13.0            NaN            NaN   \n",
       "\n",
       "   DC_SPEND_MON_06  DC_TXN_MON_06  DC_SPEND_MON_05  DC_TXN_MON_05  \\\n",
       "0              NaN            NaN              NaN            NaN   \n",
       "1            504.0            7.0            631.0           13.0   \n",
       "2              NaN            NaN              NaN            NaN   \n",
       "3              NaN            NaN           1531.0            2.0   \n",
       "4              NaN            NaN            380.0            1.0   \n",
       "\n",
       "   DC_TXN_MON_03  DC_TXN_MON_02  DC_SPEND_MON_04_ENT  DC_SPEND_MON_04_MED  \\\n",
       "0            NaN            NaN                  NaN                  NaN   \n",
       "1           12.0            1.0                  NaN                  NaN   \n",
       "2            NaN            NaN                  NaN                  NaN   \n",
       "3            9.0           12.0                  NaN                  NaN   \n",
       "4            NaN            NaN                  NaN                  NaN   \n",
       "\n",
       "   DC_SPEND_MON_04_GRC  DC_SPEND_MON_04_HMD  DC_SPEND_MON_04_HBY  \\\n",
       "0                  NaN                  NaN                  NaN   \n",
       "1                  NaN                  NaN                  NaN   \n",
       "2                  NaN                  NaN                  NaN   \n",
       "3               1330.0                  NaN               5340.0   \n",
       "4                  NaN                  NaN                  NaN   \n",
       "\n",
       "   DC_SPEND_MON_04_CARE  DC_SPEND_MON_04_TRL  DC_SPEND_MON_04_RST  \\\n",
       "0                   NaN                  NaN                  NaN   \n",
       "1                   NaN                  NaN                  NaN   \n",
       "2                   NaN                  NaN                  NaN   \n",
       "3                   NaN                  NaN                  NaN   \n",
       "4                   NaN                  NaN                  NaN   \n",
       "\n",
       "   DC_SPEND_MON_04_JER  DC_SPEND_MON_04_HTL  DC_SPEND_MON_04_ATM  \\\n",
       "0                  NaN                  NaN                  NaN   \n",
       "1                  NaN                  NaN                  NaN   \n",
       "2                  NaN                  NaN                  NaN   \n",
       "3                  NaN                  NaN                  NaN   \n",
       "4                  NaN                  NaN                  NaN   \n",
       "\n",
       "   DC_SPEND_MON_03_ENT  DC_SPEND_MON_03_MED  DC_SPEND_MON_03_HMD  \\\n",
       "0                  NaN                  NaN                  NaN   \n",
       "1                  NaN                  NaN                  NaN   \n",
       "2                  NaN                  NaN                  NaN   \n",
       "3                  NaN                  NaN                  NaN   \n",
       "4                  NaN                  NaN                  NaN   \n",
       "\n",
       "   DC_SPEND_MON_03_HBY  DC_SPEND_MON_03_CARE  DC_SPEND_MON_03_TRL  \\\n",
       "0                  NaN                   NaN                  NaN   \n",
       "1                  NaN                   NaN                  NaN   \n",
       "2                  NaN                   NaN                  NaN   \n",
       "3                  NaN                2900.0                  NaN   \n",
       "4                  NaN                   NaN                  NaN   \n",
       "\n",
       "   DC_SPEND_MON_03_RST  DC_SPEND_MON_03_JER  DC_SPEND_MON_03_HTL  \\\n",
       "0                  NaN                  NaN                  NaN   \n",
       "1                  NaN                  NaN                  NaN   \n",
       "2                  NaN                  NaN                  NaN   \n",
       "3                  NaN                  NaN                  NaN   \n",
       "4                  NaN                  NaN                  NaN   \n",
       "\n",
       "   DC_SPEND_MON_03_ATM  DC_SPEND_MON_02_ENT  DC_SPEND_MON_02_MED  \\\n",
       "0                  NaN                  NaN                  NaN   \n",
       "1                  NaN                  NaN                  NaN   \n",
       "2                  NaN                  NaN                  NaN   \n",
       "3                  NaN                  NaN                  NaN   \n",
       "4                  NaN                  NaN                  NaN   \n",
       "\n",
       "   DC_SPEND_MON_02_HMD  DC_SPEND_MON_02_HBY  DC_SPEND_MON_02_CARE  \\\n",
       "0                  NaN                  NaN                   NaN   \n",
       "1                  NaN                  NaN                   NaN   \n",
       "2                  NaN                  NaN                   NaN   \n",
       "3                  NaN                  NaN                   NaN   \n",
       "4                  NaN                  NaN                   NaN   \n",
       "\n",
       "   DC_SPEND_MON_02_TRL  DC_SPEND_MON_02_RST  DC_SPEND_MON_02_JER  \\\n",
       "0                  NaN                  NaN                  NaN   \n",
       "1                  NaN                  NaN                  NaN   \n",
       "2                  NaN                  NaN                  NaN   \n",
       "3                  NaN                  NaN                  NaN   \n",
       "4                  NaN                  NaN                  NaN   \n",
       "\n",
       "   DC_SPEND_MON_02_HTL  DC_SPEND_MON_02_ATM  DC_SPEND_MON_01_ENT  \\\n",
       "0                  NaN                  NaN                  NaN   \n",
       "1                  NaN                  NaN                  NaN   \n",
       "2                  NaN                  NaN                  NaN   \n",
       "3                  NaN                  NaN                  NaN   \n",
       "4                  NaN                  NaN                  NaN   \n",
       "\n",
       "   DC_SPEND_MON_01_MED  DC_SPEND_MON_01_HMD  DC_SPEND_MON_01_HBY  \\\n",
       "0                  NaN                  NaN                  NaN   \n",
       "1                  NaN                  NaN                  NaN   \n",
       "2                  NaN                  NaN                  NaN   \n",
       "3               8790.0                  NaN                  NaN   \n",
       "4                  NaN                  NaN                  NaN   \n",
       "\n",
       "   DC_SPEND_MON_01_CARE  DC_SPEND_MON_01_TRL  DC_SPEND_MON_01_RST  \\\n",
       "0                   NaN                  NaN                  NaN   \n",
       "1                   NaN                  NaN                  NaN   \n",
       "2                   NaN                  NaN                  NaN   \n",
       "3                   NaN                  NaN                  NaN   \n",
       "4                   NaN                  NaN                  NaN   \n",
       "\n",
       "   DC_SPEND_MON_01_JER  DC_SPEND_MON_01_HTL  DC_SPEND_MON_01_ATM  \\\n",
       "0                  NaN                  NaN                  NaN   \n",
       "1                  NaN                  NaN                  NaN   \n",
       "2                  NaN                  NaN                  NaN   \n",
       "3                  NaN                  NaN                  NaN   \n",
       "4                  NaN                  NaN                  NaN   \n",
       "\n",
       "   DC_SPEND_MON_05_ENT  DC_SPEND_MON_05_MED  DC_SPEND_MON_05_HMD  \\\n",
       "0                  NaN                  NaN                  NaN   \n",
       "1                  NaN                  NaN                  NaN   \n",
       "2                  NaN                  NaN                  NaN   \n",
       "3                  NaN                  NaN                  NaN   \n",
       "4                  NaN                  NaN                  NaN   \n",
       "\n",
       "   DC_SPEND_MON_05_HBY  DC_SPEND_MON_05_CARE  DC_SPEND_MON_05_TRL  \\\n",
       "0                  NaN                   NaN                  NaN   \n",
       "1                  NaN                   NaN                  NaN   \n",
       "2                  NaN                   NaN                  NaN   \n",
       "3                  NaN                   NaN                  NaN   \n",
       "4                  NaN                   NaN                  NaN   \n",
       "\n",
       "   DC_SPEND_MON_05_RST  DC_SPEND_MON_05_JER  DC_SPEND_MON_05_HTL  \\\n",
       "0                  NaN                  NaN                  NaN   \n",
       "1                  NaN                  NaN                  NaN   \n",
       "2                  NaN                  NaN                  NaN   \n",
       "3                  NaN                  NaN                  NaN   \n",
       "4                380.0                  NaN                  NaN   \n",
       "\n",
       "   DC_SPEND_MON_05_ATM  CC_SPEND_MON_04_ENT  CC_SPEND_MON_04_MED  \\\n",
       "0                  NaN                  NaN                  NaN   \n",
       "1                  NaN                  NaN                  NaN   \n",
       "2                  NaN                  NaN                  NaN   \n",
       "3                  NaN                  NaN                  NaN   \n",
       "4                  NaN                  NaN                  NaN   \n",
       "\n",
       "   CC_SPEND_MON_04_HMD  CC_SPEND_MON_04_HBY  CC_SPEND_MON_04_CARE  \\\n",
       "0                  NaN                  NaN                   NaN   \n",
       "1                  NaN                  NaN                   NaN   \n",
       "2                  NaN                  NaN                   NaN   \n",
       "3                  NaN                  NaN                   NaN   \n",
       "4                  NaN               1199.0                   NaN   \n",
       "\n",
       "   CC_SPEND_MON_04_TRL  CC_SPEND_MON_04_RST  CC_SPEND_MON_04_JER  \\\n",
       "0                  NaN                  NaN                  NaN   \n",
       "1                  NaN                  NaN                  NaN   \n",
       "2                  NaN                  NaN                  NaN   \n",
       "3                  NaN                  NaN                  NaN   \n",
       "4                  NaN                  NaN                  NaN   \n",
       "\n",
       "   CC_SPEND_MON_04_HTL  CC_SPEND_MON_04_ATM  CC_SPEND_MON_02_ENT  \\\n",
       "0                  NaN                  NaN                  NaN   \n",
       "1                  NaN                  NaN                  NaN   \n",
       "2                  NaN                  NaN                  NaN   \n",
       "3                  NaN                  NaN                  NaN   \n",
       "4                  NaN                  NaN                  NaN   \n",
       "\n",
       "   CC_SPEND_MON_02_MED  CC_SPEND_MON_02_HMD  CC_SPEND_MON_02_HBY  \\\n",
       "0                  NaN                  NaN                  NaN   \n",
       "1                  NaN                  NaN                  NaN   \n",
       "2                  NaN                  NaN                  NaN   \n",
       "3                  NaN                  NaN                  NaN   \n",
       "4               7776.0                  NaN                  NaN   \n",
       "\n",
       "   CC_SPEND_MON_02_CARE  CC_SPEND_MON_02_TRL  CC_SPEND_MON_02_RST  \\\n",
       "0                   NaN                  NaN                  NaN   \n",
       "1                   NaN                  NaN                  NaN   \n",
       "2                   NaN                  NaN                  NaN   \n",
       "3                   NaN                  NaN                  NaN   \n",
       "4                   NaN                  NaN                  NaN   \n",
       "\n",
       "   CC_SPEND_MON_02_JER  CC_SPEND_MON_02_HTL  CC_SPEND_MON_02_ATM  \\\n",
       "0                  NaN                  NaN                  NaN   \n",
       "1                  NaN                  NaN                  NaN   \n",
       "2                  NaN                  NaN                  NaN   \n",
       "3                  NaN                  NaN                  NaN   \n",
       "4                  NaN                  NaN                  NaN   \n",
       "\n",
       "   CC_SPEND_MON_01_ENT  CC_SPEND_MON_01_MED  CC_SPEND_MON_01_HMD  \\\n",
       "0                  NaN                  NaN                  NaN   \n",
       "1                  NaN                  NaN                  NaN   \n",
       "2                  NaN                  NaN                  NaN   \n",
       "3                  NaN                  NaN                  NaN   \n",
       "4                  NaN                  NaN                  NaN   \n",
       "\n",
       "   CC_SPEND_MON_01_HBY  CC_SPEND_MON_01_CARE  CC_SPEND_MON_01_TRL  \\\n",
       "0                  NaN                   NaN                  NaN   \n",
       "1                  NaN                   NaN                  NaN   \n",
       "2                  NaN                   NaN                  NaN   \n",
       "3                  NaN                   NaN                  NaN   \n",
       "4                  NaN                   NaN                  NaN   \n",
       "\n",
       "   CC_SPEND_MON_01_RST  CC_SPEND_MON_01_JER  CC_SPEND_MON_01_HTL  \\\n",
       "0                  NaN                  NaN                  NaN   \n",
       "1                  NaN                  NaN                  NaN   \n",
       "2                  NaN                  NaN                  NaN   \n",
       "3                  NaN                  NaN                  NaN   \n",
       "4                  NaN                  NaN                  NaN   \n",
       "\n",
       "   CC_SPEND_MON_01_ATM FINANCE_MON_01 JOBS_MON_01 LIFESTYLE_MON_01  \\\n",
       "0                  NaN              N           N                N   \n",
       "1                  NaN              N           N                N   \n",
       "2                  NaN              N           N                N   \n",
       "3                  NaN              Y           N                N   \n",
       "4                  NaN              N           N                N   \n",
       "\n",
       "  INMON_01KET_MON_01 TRAVEL_MON_01 CHANNEL_CLICK_DISP TOP14_CITY TOP9_CITY  \\\n",
       "0                  N             N               NONE          Y         Y   \n",
       "1                  N             N               NONE          Y         Y   \n",
       "2                  N             Y               NONE          N         N   \n",
       "3                  N             N               NONE          N         N   \n",
       "4                  N             N               NONE          N         N   \n",
       "\n",
       "   PL2CC_ELIGIBLE  D_AMT_L3_MON_06  C_AMT_L3_MON_06  C_COUNT_L3_MON_06  \\\n",
       "0               0            39.00              NaN                0.0   \n",
       "1               0         17250.00         17870.00                3.0   \n",
       "2               0         39362.25         39125.00                2.0   \n",
       "3               0        128169.25         20152.03                2.0   \n",
       "4               0         18668.96         24565.91                4.0   \n",
       "\n",
       "   D_COUNT_L3_MON_06  MAX_C_AMT_L3_MON_06  D_AMT_L3_MON_05  C_AMT_L3_MON_05  \\\n",
       "0                1.0                  NaN              NaN              NaN   \n",
       "1               19.0               7957.0         12965.50          12336.5   \n",
       "2                8.0              28171.0          2005.75          31261.0   \n",
       "3               20.0              19840.0         52325.00          19840.0   \n",
       "4                7.0              14000.0         26931.60          29500.0   \n",
       "\n",
       "   C_COUNT_L3_MON_05  D_COUNT_L3_MON_05  MAX_C_AMT_L3_MON_05  D_AMT_L3_MON_04  \\\n",
       "0                NaN                NaN                  NaN              NaN   \n",
       "1                6.0               21.0               8011.0         23448.52   \n",
       "2                3.0                2.0              16171.0         29064.00   \n",
       "3                1.0                8.0              19840.0         69002.00   \n",
       "4                3.0                7.0              21500.0         13700.00   \n",
       "\n",
       "   C_AMT_L3_MON_04  C_COUNT_L3_MON_04  D_COUNT_L3_MON_04  MAX_C_AMT_L3_MON_04  \\\n",
       "0              NaN                NaN                NaN                  NaN   \n",
       "1          23457.0                4.0               12.0              12000.0   \n",
       "2          16197.0                2.0                3.0              16171.0   \n",
       "3          21526.0                2.0                9.0              19840.0   \n",
       "4           9264.0                4.0                1.0               5000.0   \n",
       "\n",
       "   D_AMT_L3_MON_03  C_AMT_L3_MON_03  C_COUNT_L3_MON_03  D_COUNT_L3_MON_03  \\\n",
       "0              NaN              NaN                NaN                NaN   \n",
       "1         17161.73         17154.75                6.0               20.0   \n",
       "2          8727.25          7180.00                2.0                3.0   \n",
       "3         75750.25         19605.00                1.0               18.0   \n",
       "4          9817.25          6532.79                4.0                3.0   \n",
       "\n",
       "   MAX_C_AMT_L3_MON_03  D_AMT_L3_MON_02  C_AMT_L3_MON_02  C_COUNT_L3_MON_02  \\\n",
       "0                  NaN              NaN              NaN                NaN   \n",
       "1               8144.0          8720.00         11733.75                4.0   \n",
       "2               4680.0         36375.75         31516.00                2.0   \n",
       "3              19605.0         37712.17         15200.00                1.0   \n",
       "4               3580.0         37936.00         58018.00                4.0   \n",
       "\n",
       "   D_COUNT_L3_MON_02  MAX_C_AMT_L3_MON_02  D_AMT_L3_MON_01  C_AMT_L3_MON_01  \\\n",
       "0                NaN                  NaN              NaN              NaN   \n",
       "1                3.0               7519.0         13763.00         10758.00   \n",
       "2                4.0              16516.0         28520.75         44980.00   \n",
       "3               17.0              15200.0         47158.82         85913.00   \n",
       "4                5.0              29000.0         16200.00          1307.07   \n",
       "\n",
       "   C_COUNT_L3_MON_01  D_COUNT_L3_MON_01  MAX_C_AMT_L3_MON_01  \\\n",
       "0                NaN                NaN                  NaN   \n",
       "1                3.0                9.0               8240.0   \n",
       "2                5.0                3.0              16516.0   \n",
       "3                4.0               11.0              46500.0   \n",
       "4                4.0                1.0                690.0   \n",
       "\n",
       "            PA_PQ_TAG  NEFT_CC_AMOUNT  NEFT_CC_TXN NEFT_CC_CATEGORY  \\\n",
       "0                 NaN             NaN          NaN      NO_NEFT_TXN   \n",
       "1                 NaN             NaN          NaN      NO_NEFT_TXN   \n",
       "2                 NaN             NaN          NaN      NO_NEFT_TXN   \n",
       "3                 NaN             NaN          NaN      NO_NEFT_TXN   \n",
       "4  PQ_WITH_INCOME_20K             NaN          NaN      NO_NEFT_TXN   \n",
       "\n",
       "   NEFT_DC_AMOUNT  NEFT_DC_TXN NEFT_DC_CATEGORY  TPT_DC_AMOUNT_MON_01  \\\n",
       "0             NaN          NaN      NO_NEFT_TXN                   NaN   \n",
       "1             NaN          NaN      NO_NEFT_TXN                   NaN   \n",
       "2         26515.0          1.0     NOT_RELEVANT                   NaN   \n",
       "3             NaN          NaN      NO_NEFT_TXN                   NaN   \n",
       "4             NaN          NaN      NO_NEFT_TXN                   NaN   \n",
       "\n",
       "   TPT_DC_TXN_MON_01 TPT_DC_CATEGORY_MON_01  TPT_CC_AMOUNT_MON_01  \\\n",
       "0                NaN             NO_TPT_TXN                   NaN   \n",
       "1                NaN             NO_TPT_TXN                   NaN   \n",
       "2                NaN             NO_TPT_TXN                   NaN   \n",
       "3                NaN             NO_TPT_TXN                   NaN   \n",
       "4                NaN             NO_TPT_TXN                   NaN   \n",
       "\n",
       "   TPT_CC_TXN_MON_01 TPT_CC_CATEGORY_MON_01  IMPS_CC_AMOUNT_MON_01  \\\n",
       "0                NaN             NO_TPT_TXN                    NaN   \n",
       "1                NaN             NO_TPT_TXN                    NaN   \n",
       "2                NaN             NO_TPT_TXN                    NaN   \n",
       "3                NaN             NO_TPT_TXN                    NaN   \n",
       "4                NaN             NO_TPT_TXN                  200.0   \n",
       "\n",
       "   IMPS_CC_TXN_MON_01 IMPS_CC_CATEGORY_MON_01 ZIP_CODE_FINAL LAST_3MTHS_INQ  \\\n",
       "0                 NaN             NO_IMPS_TXN       400606.0            NaN   \n",
       "1                 NaN             NO_IMPS_TXN       600045.0            NaN   \n",
       "2                 NaN             NO_IMPS_TXN         122001            NaN   \n",
       "3                 NaN             NO_IMPS_TXN            NaN            NaN   \n",
       "4                 1.0            NOT_RELEVANT         122015            NaN   \n",
       "\n",
       "  PREV_3MTHS_INQ  CAR_MON_03  CDL_MON_03  GL_MON_03  LAA_MON_03  LFP_MON_03  \\\n",
       "0            NaN         NaN         NaN        NaN         NaN         NaN   \n",
       "1              Y         NaN         NaN        NaN         NaN         NaN   \n",
       "2            NaN         NaN         NaN        NaN         NaN         NaN   \n",
       "3            NaN         NaN         NaN        NaN         NaN         NaN   \n",
       "4            NaN         NaN         NaN        NaN         NaN         NaN   \n",
       "\n",
       "   TWL_MON_03  PL_MON_03  CAR_MON_02  CDL_MON_02  GL_MON_02  LAA_MON_02  \\\n",
       "0         NaN        NaN         NaN         NaN        NaN         NaN   \n",
       "1         NaN        NaN         NaN         NaN        NaN         NaN   \n",
       "2         NaN        NaN         NaN         NaN        NaN         NaN   \n",
       "3         NaN        NaN         NaN         NaN        NaN         NaN   \n",
       "4         NaN        NaN         NaN         NaN        NaN         NaN   \n",
       "\n",
       "   LFP_MON_02  TWL_MON_02  PL_MON_02  CAR_MON_01  CDL_MON_01  GL_MON_01  \\\n",
       "0         NaN         NaN        NaN         NaN         NaN        NaN   \n",
       "1         NaN         NaN        NaN         NaN         NaN        NaN   \n",
       "2         NaN         NaN        NaN         NaN         NaN        NaN   \n",
       "3         NaN         NaN        NaN         NaN         NaN        NaN   \n",
       "4         NaN         NaN        NaN         NaN         NaN        NaN   \n",
       "\n",
       "   LAA_MON_01  LFP_MON_01  TWL_MON_01  PL_MON_01  CRED_NEED_SCORE  \\\n",
       "0         NaN         NaN         NaN        NaN              NaN   \n",
       "1         NaN         NaN         NaN        NaN              NaN   \n",
       "2         NaN         NaN         NaN        NaN              NaN   \n",
       "3         NaN         NaN         NaN        NaN         0.247852   \n",
       "4         NaN         NaN         NaN        NaN              NaN   \n",
       "\n",
       "   CC_SPEND_MON_03_ENT  CC_SPEND_MON_03_MED  CC_SPEND_MON_03_HMD  \\\n",
       "0                  NaN                  NaN                  NaN   \n",
       "1                  NaN                  NaN                  NaN   \n",
       "2                  NaN                  NaN                  NaN   \n",
       "3                  NaN                  NaN               2558.0   \n",
       "4                  NaN                  NaN                  NaN   \n",
       "\n",
       "   CC_SPEND_MON_03_HBY  CC_SPEND_MON_03_CARE  CC_SPEND_MON_03_TRL  \\\n",
       "0                  NaN                   NaN                  NaN   \n",
       "1                  NaN                   NaN                  NaN   \n",
       "2                  NaN                   NaN                  NaN   \n",
       "3                  NaN                   NaN                  NaN   \n",
       "4                  NaN                   NaN                  NaN   \n",
       "\n",
       "   CC_SPEND_MON_03_RST  CC_SPEND_MON_03_JER  CC_SPEND_MON_03_HTL  \\\n",
       "0                  NaN                  NaN                  NaN   \n",
       "1                  NaN                  NaN                  NaN   \n",
       "2                  NaN                  NaN                  NaN   \n",
       "3                  NaN               8200.0                  NaN   \n",
       "4                  NaN                  NaN                  NaN   \n",
       "\n",
       "   CC_SPEND_MON_03_ATM  CARD_AUTOMOBILE_MON_01  CARD_HOTEL_MON_01  \\\n",
       "0                  NaN                       0                  0   \n",
       "1                  NaN                       0                  0   \n",
       "2                  NaN                       0                  0   \n",
       "3                  NaN                       0                  0   \n",
       "4                  NaN                       0                  0   \n",
       "\n",
       "   CARD_JEWELLERY_MON_01  CARD_RESTAURANT_MON_01  CARD_TRAVEL_MON_01  \\\n",
       "0                      0                       0                   0   \n",
       "1                      0                       0                   0   \n",
       "2                      0                       0                   0   \n",
       "3                      1                       0                   0   \n",
       "4                      0                       0                   0   \n",
       "\n",
       "   CARD_PRSNL_CARE_MON_01  CARD_HOBBY_MON_01  CARD_HOME_DECOR_MON_01  \\\n",
       "0                       0                  0                       0   \n",
       "1                       0                  0                       0   \n",
       "2                       0                  0                       0   \n",
       "3                       1                  0                       1   \n",
       "4                       0                  0                       0   \n",
       "\n",
       "   CARD_MEDICAL_MON_01  CARD_ENTMNT_MON_01  SAL_MON_01  SAL_MON_02  \\\n",
       "0                    0                   0         0.0         0.0   \n",
       "1                    0                   0     10754.0      8733.0   \n",
       "2                    0                   0         0.0         0.0   \n",
       "3                    1                   0     38952.0     15200.0   \n",
       "4                    1                   0         0.0         0.0   \n",
       "\n",
       "   SAL_MON_03 TOP_100_CORP TOP_800_CORP TOP_CORP_TAG  EOP_MON_02  EOP_MON_03  \\\n",
       "0         0.0          NaN          NaN         NONE        0.00        0.00   \n",
       "1     17154.0          NaN          NaN         NONE     3016.77        3.02   \n",
       "2         0.0          NaN          NaN         NONE     9999.00    14858.75   \n",
       "3     19605.0          NaN          NaN         NONE    27163.10    49675.27   \n",
       "4         0.0          NaN          NaN         NONE    21065.87      983.87   \n",
       "\n",
       "  CREDIT_ACT DEBIT_ACT CEL_TAG EL_TAG AGL_TAG CVL_TAG AL_TAG  HL_EMI  \\\n",
       "0        NaN       NaN     NaN    NaN     NaN     NaN    NaN     NaN   \n",
       "1          Y         Y     NaN    NaN     NaN     NaN    NaN     NaN   \n",
       "2          Y         Y     NaN    NaN     NaN     NaN    NaN     NaN   \n",
       "3          Y         Y     NaN    NaN     NaN     NaN    NaN     NaN   \n",
       "4          Y         Y     NaN    NaN     NaN     NaN    NaN     NaN   \n",
       "\n",
       "    SCRUB_EMI RESPONDERS  na_count  add_spend_mon1  closed_date_weekday  \\\n",
       "0    0.000000          N       278               0                  NaN   \n",
       "1    0.000000          N       236               0                  NaN   \n",
       "2    0.000000          N       244               0                  NaN   \n",
       "3    0.000000          N       207               4                  NaN   \n",
       "4  251.758794          N       215               1                  NaN   \n",
       "\n",
       "   closed_date_year  closed_date_month  closed_date_day  maturity_gl_weekday  \\\n",
       "0               NaN                NaN              NaN                  NaN   \n",
       "1               NaN                NaN              NaN                  NaN   \n",
       "2               NaN                NaN              NaN                  NaN   \n",
       "3               NaN                NaN              NaN                  NaN   \n",
       "4               NaN                NaN              NaN                  NaN   \n",
       "\n",
       "   maturity_gl_year  maturity_gl_month  maturity_gl_day  maturity_lap_weekday  \\\n",
       "0               NaN                NaN              NaN                   NaN   \n",
       "1               NaN                NaN              NaN                   NaN   \n",
       "2               NaN                NaN              NaN                   NaN   \n",
       "3               NaN                NaN              NaN                   NaN   \n",
       "4               NaN                NaN              NaN                   NaN   \n",
       "\n",
       "   maturity_lap_year  maturity_lap_month  maturity_lap_day  \\\n",
       "0                NaN                 NaN               NaN   \n",
       "1                NaN                 NaN               NaN   \n",
       "2                NaN                 NaN               NaN   \n",
       "3                NaN                 NaN               NaN   \n",
       "4                NaN                 NaN               NaN   \n",
       "\n",
       "   maturity_las_weekday  maturity_las_year  maturity_las_month  \\\n",
       "0                   NaN                NaN                 NaN   \n",
       "1                   NaN                NaN                 NaN   \n",
       "2                   NaN                NaN                 NaN   \n",
       "3                   NaN                NaN                 NaN   \n",
       "4                   NaN                NaN                 NaN   \n",
       "\n",
       "   maturity_las_day  net_emi_paid  total_salary_credited  total_balance  \\\n",
       "0               NaN           NaN                    0.0           0.00   \n",
       "1               NaN           NaN                36641.0        3031.56   \n",
       "2               NaN           NaN                    0.0       51316.00   \n",
       "3               NaN           NaN                73757.0      142755.65   \n",
       "4               NaN           NaN                    0.0       28222.68   \n",
       "\n",
       "   spent_sum  debit_count  credit_count  debit_amount  credit_amount  \\\n",
       "0          0          1.0           0.0         39.00           0.00   \n",
       "1          0         84.0          26.0      93308.75      145181.00   \n",
       "2          0         23.0          16.0     144055.75      268484.00   \n",
       "3          4         83.0          11.0     410117.49      323061.03   \n",
       "4          1         24.0          23.0     123253.81      202957.77   \n",
       "\n",
       "   DEVEP/PROG/ANALYST/ASSO  ENGINEER  EXECUTIVE  MANAGER  OFFICER  OTHERS  \\\n",
       "0                        0         0          0        0        0       0   \n",
       "1                        0         0          0        0        0       0   \n",
       "2                        0         0          0        0        0       0   \n",
       "3                        0         0          0        0        0       0   \n",
       "4                        0         1          0        0        0       0   \n",
       "\n",
       "   REMAING  SUP/TECH/OPR  TEACH/PROF/CONSULT  TOP_MANAG/DOC  credit_spent  \\\n",
       "0        0             0                   0              0           NaN   \n",
       "1        0             0                   0              0           NaN   \n",
       "2        0             0                   0              0           NaN   \n",
       "3        0             0                   0              0           NaN   \n",
       "4        0             0                   0              0           NaN   \n",
       "\n",
       "   debit_spent  cc_sum__ATM  cc_sum__CARE  cc_sum__ENT  cc_sum__HBY  \\\n",
       "0          NaN          0.0           0.0          0.0          0.0   \n",
       "1          NaN          0.0           0.0          0.0          0.0   \n",
       "2          NaN          0.0           0.0          0.0          0.0   \n",
       "3          NaN          0.0           0.0          0.0          0.0   \n",
       "4          NaN          0.0           0.0          0.0          0.0   \n",
       "\n",
       "   cc_sum__HMD  cc_sum__HTL  cc_sum__JER  cc_sum__MED  cc_sum__RST  \\\n",
       "0          0.0          0.0          0.0          0.0          0.0   \n",
       "1          0.0          0.0          0.0          0.0          0.0   \n",
       "2          0.0          0.0          0.0          0.0          0.0   \n",
       "3          0.0          0.0          0.0          0.0          0.0   \n",
       "4          0.0          0.0          0.0          0.0          0.0   \n",
       "\n",
       "   cc_sum__TRL  dc_sum__ATM  dc_sum__CARE  dc_sum__ENT  dc_sum__HBY  \\\n",
       "0          0.0          0.0           0.0          0.0          0.0   \n",
       "1          0.0          0.0           0.0          0.0          0.0   \n",
       "2          0.0          0.0           0.0          0.0          0.0   \n",
       "3          0.0          0.0           0.0          0.0          0.0   \n",
       "4          0.0          0.0           0.0          0.0          0.0   \n",
       "\n",
       "   dc_sum__HMD  dc_sum__HTL  dc_sum__JER  dc_sum__MED  dc_sum__RST  \\\n",
       "0          0.0          0.0          0.0          0.0          0.0   \n",
       "1          0.0          0.0          0.0          0.0          0.0   \n",
       "2          0.0          0.0          0.0          0.0          0.0   \n",
       "3          0.0          0.0          0.0          0.0          0.0   \n",
       "4          0.0          0.0          0.0          0.0          0.0   \n",
       "\n",
       "   dc_sum__TRL  is_exceed_credit  live_loan_count  closed_loan_count  \\\n",
       "0          0.0                 0              0.0                0.0   \n",
       "1          0.0                 0              1.0                0.0   \n",
       "2          0.0                 0              0.0                0.0   \n",
       "3          0.0                 0              0.0                0.0   \n",
       "4          0.0                 0              0.0                0.0   \n",
       "\n",
       "   total_credit_tran  total_debit_tran  \n",
       "0                0.0               0.0  \n",
       "1                0.0               0.0  \n",
       "2                0.0               0.0  \n",
       "3                0.0               0.0  \n",
       "4                0.0               0.0  "
      ]
     },
     "execution_count": 51,
     "metadata": {},
     "output_type": "execute_result"
    }
   ],
   "source": [
    "train.head()"
   ]
  },
  {
   "cell_type": "code",
   "execution_count": 53,
   "metadata": {
    "collapsed": false
   },
   "outputs": [
    {
     "data": {
      "text/plain": [
       "float64    278\n",
       "object      51\n",
       "int64       44\n",
       "uint8       10\n",
       "dtype: int64"
      ]
     },
     "execution_count": 53,
     "metadata": {},
     "output_type": "execute_result"
    }
   ],
   "source": [
    "train.dtypes.value_counts()"
   ]
  },
  {
   "cell_type": "code",
   "execution_count": 55,
   "metadata": {
    "collapsed": false
   },
   "outputs": [],
   "source": [
    "colsint = train.select_dtypes(include=['uint8']).columns"
   ]
  },
  {
   "cell_type": "code",
   "execution_count": 60,
   "metadata": {
    "collapsed": false,
    "scrolled": true
   },
   "outputs": [
    {
     "name": "stdout",
     "output_type": "stream",
     "text": [
      "GL_CLOSED\n",
      "CC_HOLD_MON_03\n",
      "CC_HOLD_MON_02\n",
      "CC_HOLD_MON_01\n",
      "CC_ACTIVE_MON_03\n",
      "CC_ACTIVE_MON_02\n",
      "CC_ACTIVE_MON_01\n",
      "CC_HOLD\n",
      "CC_ACTIVE\n",
      "DC_HOLD\n",
      "DC_ACTIVE_MON_03\n",
      "DC_ACTIVE_MON_02\n",
      "DC_ACTIVE_MON_01\n",
      "DC_ACTIVE\n",
      "BTE_ACTIVE_MON_01\n",
      "COC_ACTIVE_MON_01\n",
      "PL2CC_ACTIVE_MON_01\n",
      "MER_EMI_ACTIVE_MON_01\n",
      "TRN_CON_DAE_ACTIVE_MON_01\n",
      "BTE_CLOSED_MON_01\n",
      "COC_CLOSED_MON_01\n",
      "PL2CC_CLOSED_MON_01\n",
      "TRN_CON_DAE_CLOSED_MON_01\n",
      "FINANCE_MON_01\n",
      "JOBS_MON_01\n",
      "LIFESTYLE_MON_01\n",
      "INMON_01KET_MON_01\n",
      "TRAVEL_MON_01\n",
      "CHANNEL_CLICK_DISP\n",
      "TOP14_CITY\n",
      "TOP9_CITY\n",
      "PA_PQ_TAG\n",
      "NEFT_CC_CATEGORY\n",
      "NEFT_DC_CATEGORY\n",
      "TPT_DC_CATEGORY_MON_01\n",
      "TPT_CC_CATEGORY_MON_01\n",
      "IMPS_CC_CATEGORY_MON_01\n",
      "ZIP_CODE_FINAL\n",
      "LAST_3MTHS_INQ\n",
      "PREV_3MTHS_INQ\n",
      "TOP_100_CORP\n",
      "TOP_800_CORP\n",
      "TOP_CORP_TAG\n",
      "CREDIT_ACT\n",
      "DEBIT_ACT\n",
      "CEL_TAG\n",
      "EL_TAG\n",
      "AGL_TAG\n",
      "CVL_TAG\n",
      "AL_TAG\n"
     ]
    }
   ],
   "source": [
    "for c in train.select_dtypes(include=['object']).columns:\n",
    "    if c not in ['CUSTOMER_ID','RESPONDERS'] + colsint.tolist():\n",
    "        print(c)\n",
    "        lbl = LabelEncoder()\n",
    "        lbl.fit(list(train[c].values) + list(test[c].values))\n",
    "        train[c] = lbl.transform(list(train[c].values))\n",
    "        test[c] = lbl.transform(list(test[c].values))"
   ]
  },
  {
   "cell_type": "code",
   "execution_count": 61,
   "metadata": {
    "collapsed": true
   },
   "outputs": [],
   "source": [
    "train.fillna(-1, inplace=True)\n",
    "test.fillna(-1, inplace=True)"
   ]
  },
  {
   "cell_type": "code",
   "execution_count": 74,
   "metadata": {
    "collapsed": true
   },
   "outputs": [],
   "source": [
    "for x in colsint:\n",
    "    train[x] = train[x].astype(np.int64)\n",
    "    test[x] = test[x].astype(np.int64)"
   ]
  },
  {
   "cell_type": "code",
   "execution_count": 85,
   "metadata": {
    "collapsed": false
   },
   "outputs": [
    {
     "name": "stderr",
     "output_type": "stream",
     "text": [
      "/home/manish/anaconda2/envs/py35/lib/python3.5/site-packages/pandas/core/indexing.py:141: SettingWithCopyWarning: \n",
      "A value is trying to be set on a copy of a slice from a DataFrame\n",
      "\n",
      "See the caveats in the documentation: http://pandas.pydata.org/pandas-docs/stable/indexing.html#indexing-view-versus-copy\n",
      "  self._setitem_with_indexer(indexer, value)\n"
     ]
    }
   ],
   "source": [
    "## remove outliers\n",
    "\n",
    "for x in train.columns:\n",
    "    if train[x].dtype == np.float64:\n",
    "        ulimit = np.percentile(train[x].values, 99.5)\n",
    "        llimit = np.percentile(train[x].values, 0.5)\n",
    "        train[x].ix[train[x]>ulimit] = ulimit\n",
    "        train[x].ix[train[x]<llimit] = llimit\n",
    "        \n",
    "        ulimit2 = np.percentile(test[x].values, 99.5)\n",
    "        llimit2 = np.percentile(test[x].values, 0.5)\n",
    "        test[x].ix[test[x]>ulimit2] = ulimit2\n",
    "        test[x].ix[test[x]<llimit2] = llimit2"
   ]
  },
  {
   "cell_type": "markdown",
   "metadata": {},
   "source": [
    "### Do PCA and get new features"
   ]
  },
  {
   "cell_type": "code",
   "execution_count": 86,
   "metadata": {
    "collapsed": true
   },
   "outputs": [],
   "source": [
    "feature_names = [x for x in train.columns if x not in ['CUSTOMER_ID','RESPONDERS']]"
   ]
  },
  {
   "cell_type": "code",
   "execution_count": 87,
   "metadata": {
    "collapsed": true
   },
   "outputs": [],
   "source": [
    "dim_train = train[feature_names]\n",
    "dim_test = test[feature_names]"
   ]
  },
  {
   "cell_type": "code",
   "execution_count": 88,
   "metadata": {
    "collapsed": true
   },
   "outputs": [],
   "source": [
    "from sklearn.preprocessing import MinMaxScaler"
   ]
  },
  {
   "cell_type": "code",
   "execution_count": 89,
   "metadata": {
    "collapsed": true
   },
   "outputs": [],
   "source": [
    "rb = MinMaxScaler()"
   ]
  },
  {
   "cell_type": "code",
   "execution_count": 90,
   "metadata": {
    "collapsed": false,
    "scrolled": true
   },
   "outputs": [],
   "source": [
    "scaler = rb.fit(dim_train)"
   ]
  },
  {
   "cell_type": "code",
   "execution_count": 91,
   "metadata": {
    "collapsed": false
   },
   "outputs": [],
   "source": [
    "dim_train = scaler.transform(dim_train)\n",
    "dim_test = scaler.transform(dim_test)"
   ]
  },
  {
   "cell_type": "code",
   "execution_count": 92,
   "metadata": {
    "collapsed": true
   },
   "outputs": [],
   "source": [
    "n_comp = 10"
   ]
  },
  {
   "cell_type": "code",
   "execution_count": 93,
   "metadata": {
    "collapsed": false
   },
   "outputs": [],
   "source": [
    "tsvd = TruncatedSVD(n_components=n_comp, random_state=42)\n",
    "tsvd_train = tsvd.fit_transform(dim_train)\n",
    "tsvd_test = tsvd.transform(dim_test)"
   ]
  },
  {
   "cell_type": "code",
   "execution_count": 94,
   "metadata": {
    "collapsed": true
   },
   "outputs": [],
   "source": [
    "pca = PCA(n_components=n_comp, random_state=420)\n",
    "pca_train = pca.fit_transform(dim_train)\n",
    "pca_test = pca.transform(dim_test)"
   ]
  },
  {
   "cell_type": "code",
   "execution_count": 95,
   "metadata": {
    "collapsed": true
   },
   "outputs": [],
   "source": [
    "ica = FastICA(n_components=n_comp, random_state=2030)\n",
    "ica_train = ica.fit_transform(dim_train)\n",
    "ica_test = ica.transform(dim_test)"
   ]
  },
  {
   "cell_type": "code",
   "execution_count": 96,
   "metadata": {
    "collapsed": true
   },
   "outputs": [],
   "source": [
    "grp = GaussianRandomProjection(n_components=n_comp, random_state=42)\n",
    "grp_train = grp.fit_transform(dim_train)\n",
    "grp_test = grp.transform(dim_test)"
   ]
  },
  {
   "cell_type": "code",
   "execution_count": 97,
   "metadata": {
    "collapsed": true
   },
   "outputs": [],
   "source": [
    "srp = SparseRandomProjection(n_components=n_comp, random_state=42)\n",
    "srp_train = srp.fit_transform(dim_train)\n",
    "srp_test = srp.transform(dim_test)"
   ]
  },
  {
   "cell_type": "code",
   "execution_count": 98,
   "metadata": {
    "collapsed": true
   },
   "outputs": [],
   "source": [
    "for i in range(1, n_comp + 1):\n",
    "    train['pca_' + str(i)] = pca_train[:,i-1]\n",
    "    test['pca_' + str(i)] = pca_test[:,i-1]\n",
    "    \n",
    "    train['tsvd_' + str(i)] = tsvd_train[:,i-1]\n",
    "    test['tsvd_' + str(i)] = tsvd_test[:,i-1]\n",
    "    \n",
    "    train['ica_' + str(i)] = ica_train[:,i-1]\n",
    "    test['ica_' + str(i)] = ica_test[:,i-1]\n",
    "    \n",
    "    train['grp_' + str(i)] = grp_train[:,i-1]\n",
    "    test['grp_' + str(i)] = grp_test[:,i-1]\n",
    "    \n",
    "    train['srp_' + str(i)] = srp_train[:,i-1]\n",
    "    test['srp_' + str(i)] = srp_test[:,i-1]\n",
    "    \n",
    "#     train['tsne_' + str(i)] = tsne_train[:,i-1]\n",
    "#     test['tsne_' + str(i)] = tsne_test[:,i-1]"
   ]
  },
  {
   "cell_type": "code",
   "execution_count": 99,
   "metadata": {
    "collapsed": true
   },
   "outputs": [],
   "source": [
    "del dim_train, dim_test"
   ]
  },
  {
   "cell_type": "code",
   "execution_count": 100,
   "metadata": {
    "collapsed": false
   },
   "outputs": [
    {
     "name": "stdout",
     "output_type": "stream",
     "text": [
      "(300000, 433)\n",
      "(200000, 432)\n"
     ]
    }
   ],
   "source": [
    "print(train.shape)\n",
    "print(test.shape)"
   ]
  },
  {
   "cell_type": "markdown",
   "metadata": {},
   "source": [
    "### Load Level 1 Preds"
   ]
  },
  {
   "cell_type": "code",
   "execution_count": 101,
   "metadata": {
    "collapsed": true
   },
   "outputs": [],
   "source": [
    "et_train = pd.read_csv('submissions/oof_preds/et_train.csv')\n",
    "et_test = pd.read_csv('submissions/oof_preds/et_test.csv')\n",
    "\n",
    "lgb_train = pd.read_csv('submissions/oof_preds/lgb_train1.csv')\n",
    "lgb_test = pd.read_csv('submissions/oof_preds/lgb_test1.csv')\n",
    "\n",
    "lr_train = pd.read_csv('submissions/oof_preds/xgb_LR_train.csv')\n",
    "lr_test = pd.read_csv('submissions/oof_preds/xgb_LR_test.csv')\n",
    "\n",
    "xg_train = pd.read_csv('submissions/oof_preds/xgb_XG_train.csv')\n",
    "xg_test = pd.read_csv('submissions/oof_preds/xgb_XG_test.csv')"
   ]
  },
  {
   "cell_type": "code",
   "execution_count": 102,
   "metadata": {
    "collapsed": true
   },
   "outputs": [],
   "source": [
    "train['et_pred'] = et_train['RESPONDERS']\n",
    "test['et_pred'] = et_test['RESPONDERS']\n",
    "\n",
    "train['lgb_pred'] = lgb_train['RESPONDERS']\n",
    "test['lgb_pred'] = lgb_test['RESPONDERS']\n",
    "\n",
    "train['lr_pred'] = lr_train['RESPONDERS']\n",
    "test['lr_pred'] = lr_test['RESPONDERS']\n",
    "\n",
    "train['xg_pred'] = xg_train['RESPONDERS']\n",
    "test['xg_pred'] = xg_test['RESPONDERS']"
   ]
  },
  {
   "cell_type": "code",
   "execution_count": 103,
   "metadata": {
    "collapsed": true
   },
   "outputs": [],
   "source": [
    "del et_train, et_test, lgb_train, lgb_test, lr_train, lr_test, xg_train, xg_test"
   ]
  },
  {
   "cell_type": "code",
   "execution_count": 104,
   "metadata": {
    "collapsed": false
   },
   "outputs": [
    {
     "name": "stdout",
     "output_type": "stream",
     "text": [
      "(300000, 437)\n",
      "(200000, 436)\n"
     ]
    }
   ],
   "source": [
    "print(train.shape)\n",
    "print(test.shape)"
   ]
  },
  {
   "cell_type": "markdown",
   "metadata": {},
   "source": [
    "##  Single XGB Model"
   ]
  },
  {
   "cell_type": "markdown",
   "metadata": {},
   "source": [
    "### XGB 1"
   ]
  },
  {
   "cell_type": "code",
   "execution_count": 105,
   "metadata": {
    "collapsed": false
   },
   "outputs": [
    {
     "name": "stderr",
     "output_type": "stream",
     "text": [
      "/home/manish/anaconda2/envs/py35/lib/python3.5/site-packages/sklearn/cross_validation.py:44: DeprecationWarning: This module was deprecated in version 0.18 in favor of the model_selection module into which all the refactored classes and functions are moved. Also note that the interface of the new CV iterators are different from that of this module. This module will be removed in 0.20.\n",
      "  \"This module will be removed in 0.20.\", DeprecationWarning)\n"
     ]
    }
   ],
   "source": [
    "import xgboost as xgb\n",
    "from sklearn.model_selection import train_test_split"
   ]
  },
  {
   "cell_type": "code",
   "execution_count": 106,
   "metadata": {
    "collapsed": true
   },
   "outputs": [],
   "source": [
    "target = train['RESPONDERS']\n",
    "target = target.map(lambda x: 1 if x == 'Y' else 0)"
   ]
  },
  {
   "cell_type": "code",
   "execution_count": 107,
   "metadata": {
    "collapsed": true
   },
   "outputs": [],
   "source": [
    "feature_names = [x for x in train.columns if x not in ['CUSTOMER_ID','RESPONDERS']]"
   ]
  },
  {
   "cell_type": "code",
   "execution_count": 108,
   "metadata": {
    "collapsed": true
   },
   "outputs": [],
   "source": [
    "X_train, X_valid, y_train, y_valid = train_test_split(train, target, test_size = 0.2, stratify = target)"
   ]
  },
  {
   "cell_type": "code",
   "execution_count": 109,
   "metadata": {
    "collapsed": true
   },
   "outputs": [],
   "source": [
    "params = {\"objective\": \"binary:logistic\",\n",
    "          \"booster\": \"gbtree\",\n",
    "          \"nthread\": 4,\n",
    "          \"eta\": 0.1, # 0.1\n",
    "          \"max_depth\": 5, # 7\n",
    "          \"subsample\": 0.8,\n",
    "          \"colsample_bytree\": 0.4,\n",
    "          \"min_child_weight\": 2**3,\n",
    "          \"seed\": 2016, \n",
    "          \"tree_method\": \"exact\",\n",
    "         \"eval_metric\":\"auc\"}"
   ]
  },
  {
   "cell_type": "code",
   "execution_count": 110,
   "metadata": {
    "collapsed": false
   },
   "outputs": [],
   "source": [
    "## normalised data\n",
    "dtrain = xgb.DMatrix(X_train[feature_names], y_train, missing=-1)\n",
    "dvalid = xgb.DMatrix(X_valid[feature_names], y_valid, missing=-1)\n",
    "dtest = xgb.DMatrix(test[feature_names], missing=-1)"
   ]
  },
  {
   "cell_type": "code",
   "execution_count": 111,
   "metadata": {
    "collapsed": true
   },
   "outputs": [],
   "source": [
    "watchlist = [(dtrain, 'train'),(dvalid, 'valid')]"
   ]
  },
  {
   "cell_type": "code",
   "execution_count": 112,
   "metadata": {
    "collapsed": false,
    "scrolled": true
   },
   "outputs": [
    {
     "name": "stdout",
     "output_type": "stream",
     "text": [
      "[0]\ttrain-auc:0.889137\tvalid-auc:0.878793\n",
      "Multiple eval metrics have been passed: 'valid-auc' will be used for early stopping.\n",
      "\n",
      "Will train until valid-auc hasn't improved in 40 rounds.\n",
      "[20]\ttrain-auc:0.902909\tvalid-auc:0.88871\n",
      "[40]\ttrain-auc:0.910611\tvalid-auc:0.891923\n",
      "[60]\ttrain-auc:0.918646\tvalid-auc:0.893932\n",
      "[80]\ttrain-auc:0.926169\tvalid-auc:0.895462\n",
      "[100]\ttrain-auc:0.930763\tvalid-auc:0.895339\n",
      "[120]\ttrain-auc:0.93403\tvalid-auc:0.895708\n",
      "[140]\ttrain-auc:0.937454\tvalid-auc:0.895367\n",
      "Stopping. Best iteration:\n",
      "[118]\ttrain-auc:0.933683\tvalid-auc:0.895949\n",
      "\n"
     ]
    }
   ],
   "source": [
    "clf1 = xgb.train(params, dtrain, num_boost_round=1000, evals=watchlist, maximize=True, verbose_eval=20, early_stopping_rounds=40)"
   ]
  },
  {
   "cell_type": "code",
   "execution_count": null,
   "metadata": {
    "collapsed": false
   },
   "outputs": [],
   "source": [
    "## important features sorted\n",
    "imp_feats = sorted(clf1.get_fscore(), key=lambda x: x[1], reverse=True)"
   ]
  },
  {
   "cell_type": "code",
   "execution_count": 113,
   "metadata": {
    "collapsed": false
   },
   "outputs": [],
   "source": [
    "preds1 = clf1.predict(dtest)"
   ]
  },
  {
   "cell_type": "code",
   "execution_count": 114,
   "metadata": {
    "collapsed": false
   },
   "outputs": [],
   "source": [
    "sub = pd.read_csv('sample_submission_ROqqAAN.csv')\n",
    "sub['CUSTOMER_ID'] = test['CUSTOMER_ID']\n",
    "sub['RESPONDERS'] = preds1"
   ]
  },
  {
   "cell_type": "code",
   "execution_count": 115,
   "metadata": {
    "collapsed": true
   },
   "outputs": [],
   "source": [
    "sub.to_csv('submissions/stack_six.csv', index=False) ## 0.68"
   ]
  },
  {
   "cell_type": "code",
   "execution_count": null,
   "metadata": {
    "collapsed": true
   },
   "outputs": [],
   "source": []
  },
  {
   "cell_type": "markdown",
   "metadata": {},
   "source": [
    "## export data for R Modeling"
   ]
  },
  {
   "cell_type": "code",
   "execution_count": 120,
   "metadata": {
    "collapsed": true
   },
   "outputs": [],
   "source": [
    "train.to_csv('submissions/train_final.csv', index=False)\n",
    "test.to_csv('submissions/test_final.csv', index=False)"
   ]
  },
  {
   "cell_type": "code",
   "execution_count": null,
   "metadata": {
    "collapsed": true
   },
   "outputs": [],
   "source": []
  },
  {
   "cell_type": "markdown",
   "metadata": {},
   "source": [
    "### XGB with imp. features"
   ]
  },
  {
   "cell_type": "code",
   "execution_count": null,
   "metadata": {
    "collapsed": false
   },
   "outputs": [],
   "source": [
    "len(imp_feats)"
   ]
  },
  {
   "cell_type": "code",
   "execution_count": null,
   "metadata": {
    "collapsed": true
   },
   "outputs": [],
   "source": [
    "top_250 = imp_feats[:250]"
   ]
  },
  {
   "cell_type": "code",
   "execution_count": null,
   "metadata": {
    "collapsed": true
   },
   "outputs": [],
   "source": [
    "top_350 = imp_feats[:350] ## no improvement"
   ]
  },
  {
   "cell_type": "code",
   "execution_count": null,
   "metadata": {
    "collapsed": true
   },
   "outputs": [],
   "source": [
    "dtrain = xgb.DMatrix(X_train[top_250], y_train, missing=-1)\n",
    "dvalid = xgb.DMatrix(X_valid[top_250], y_valid, missing=-1)\n",
    "dtest = xgb.DMatrix(test[top_250], missing=-1)"
   ]
  },
  {
   "cell_type": "code",
   "execution_count": null,
   "metadata": {
    "collapsed": true
   },
   "outputs": [],
   "source": [
    "params = {\"objective\": \"binary:logistic\",\n",
    "          \"booster\": \"gbtree\",\n",
    "          \"nthread\": 4,\n",
    "          \"eta\": 0.1, # 0.1\n",
    "          \"max_depth\": 5, # 7\n",
    "          \"subsample\": 0.8,\n",
    "          \"colsample_bytree\": 0.8,\n",
    "          \"min_child_weight\": 2,\n",
    "          \"seed\": 2016, \n",
    "          \"tree_method\": \"exact\",\n",
    "         \"eval_metric\":\"auc\"}"
   ]
  },
  {
   "cell_type": "code",
   "execution_count": null,
   "metadata": {
    "collapsed": false
   },
   "outputs": [],
   "source": [
    "tuned_params = {\"objective\": \"binary:logistic\",\n",
    "          \"booster\": \"gbtree\",\n",
    "          \"nthread\": 4,\n",
    "          \"eta\": 0.1, # 0.1\n",
    "          \"max_depth\": 6, # 7\n",
    "          \"subsample\": 1,\n",
    "          \"colsample_bytree\": 1,\n",
    "          \"min_child_weight\": 10,\n",
    "          \"seed\": 2017, \n",
    "          \"alpha\": 2**2,\n",
    "          #\"tree_method\": \"exact\",\n",
    "         \"eval_metric\":\"auc\"}"
   ]
  },
  {
   "cell_type": "code",
   "execution_count": null,
   "metadata": {
    "collapsed": true
   },
   "outputs": [],
   "source": [
    "watchlist = [(dtrain, 'train'),(dvalid, 'valid')]"
   ]
  },
  {
   "cell_type": "code",
   "execution_count": null,
   "metadata": {
    "collapsed": false,
    "scrolled": true
   },
   "outputs": [],
   "source": [
    "clf1 = xgb.train(tuned_params, dtrain, num_boost_round=10000, evals=watchlist, maximize=True, verbose_eval=20, early_stopping_rounds=40)"
   ]
  },
  {
   "cell_type": "code",
   "execution_count": null,
   "metadata": {
    "collapsed": true
   },
   "outputs": [],
   "source": [
    "preds1 = clf1.predict(dtest)\n",
    "sub = pd.read_csv('sample_submission_ROqqAAN.csv')\n",
    "sub['CUSTOMER_ID'] = test['CUSTOMER_ID']\n",
    "sub['RESPONDERS'] = preds1\n",
    "sub.to_csv('submissions/stack_two.csv', index=False)\n",
    "\n",
    "# By removing features, AUC has increased slightly. LB improved # ## 0.6775"
   ]
  },
  {
   "cell_type": "code",
   "execution_count": null,
   "metadata": {
    "collapsed": true
   },
   "outputs": [],
   "source": [
    "preds1 = clf1.predict(dtest)\n",
    "sub = pd.read_csv('sample_submission_ROqqAAN.csv')\n",
    "sub['CUSTOMER_ID'] = test['CUSTOMER_ID']\n",
    "sub['RESPONDERS'] = preds1\n",
    "sub.to_csv('submissions/stack_two.csv', index=False)\n"
   ]
  },
  {
   "cell_type": "code",
   "execution_count": null,
   "metadata": {
    "collapsed": true
   },
   "outputs": [],
   "source": []
  },
  {
   "cell_type": "markdown",
   "metadata": {},
   "source": [
    "### XGB with Logistic Regression - top 250"
   ]
  },
  {
   "cell_type": "code",
   "execution_count": null,
   "metadata": {
    "collapsed": true
   },
   "outputs": [],
   "source": [
    "## normalised data\n",
    "dtrain = xgb.DMatrix(X_train[top_250], y_train)\n",
    "dvalid = xgb.DMatrix(X_valid[top_250], y_valid)\n",
    "dtest = xgb.DMatrix(test[top_250])"
   ]
  },
  {
   "cell_type": "code",
   "execution_count": null,
   "metadata": {
    "collapsed": true
   },
   "outputs": [],
   "source": [
    "params = {\"objective\": \"binary:logistic\",\n",
    "          \"booster\": \"gblinear\",\n",
    "          \"nthread\": 4,\n",
    "          \"alpha\": 2**3,\n",
    "          \"lambda\": 2**4,\n",
    "         \"eval_metric\":\"auc\"}"
   ]
  },
  {
   "cell_type": "code",
   "execution_count": null,
   "metadata": {
    "collapsed": true
   },
   "outputs": [],
   "source": [
    "watchlist = [(dtrain, 'train'),(dvalid, 'valid')]"
   ]
  },
  {
   "cell_type": "code",
   "execution_count": null,
   "metadata": {
    "collapsed": false,
    "scrolled": true
   },
   "outputs": [],
   "source": [
    "clf1 = xgb.train(params, dtrain, num_boost_round=10000, evals=watchlist, maximize=True, verbose_eval=20, early_stopping_rounds=40)"
   ]
  },
  {
   "cell_type": "code",
   "execution_count": null,
   "metadata": {
    "collapsed": true
   },
   "outputs": [],
   "source": [
    "preds1 = clf1.predict(dtest)\n",
    "sub = pd.read_csv('sample_submission_ROqqAAN.csv')\n",
    "sub['CUSTOMER_ID'] = test['CUSTOMER_ID']\n",
    "sub['RESPONDERS'] = preds1"
   ]
  },
  {
   "cell_type": "code",
   "execution_count": null,
   "metadata": {
    "collapsed": true
   },
   "outputs": [],
   "source": [
    "sub.to_csv('submissions/stack_three.csv', index=False) ## 0.10"
   ]
  },
  {
   "cell_type": "code",
   "execution_count": null,
   "metadata": {
    "collapsed": true
   },
   "outputs": [],
   "source": []
  },
  {
   "cell_type": "code",
   "execution_count": null,
   "metadata": {
    "collapsed": true
   },
   "outputs": [],
   "source": []
  },
  {
   "cell_type": "code",
   "execution_count": null,
   "metadata": {
    "collapsed": true
   },
   "outputs": [],
   "source": []
  },
  {
   "cell_type": "code",
   "execution_count": null,
   "metadata": {
    "collapsed": true
   },
   "outputs": [],
   "source": []
  },
  {
   "cell_type": "code",
   "execution_count": null,
   "metadata": {
    "collapsed": true
   },
   "outputs": [],
   "source": []
  },
  {
   "cell_type": "code",
   "execution_count": null,
   "metadata": {
    "collapsed": true
   },
   "outputs": [],
   "source": []
  },
  {
   "cell_type": "markdown",
   "metadata": {},
   "source": [
    "### XGB SINGLE MODEL WITH WEIGHTS"
   ]
  },
  {
   "cell_type": "markdown",
   "metadata": {},
   "source": [
    "### XGB 2"
   ]
  },
  {
   "cell_type": "code",
   "execution_count": null,
   "metadata": {
    "collapsed": false
   },
   "outputs": [],
   "source": [
    "train['weights'] = train['RESPONDERS'].map(lambda x: 0.8 if x == 1 else 0)"
   ]
  },
  {
   "cell_type": "code",
   "execution_count": null,
   "metadata": {
    "collapsed": true
   },
   "outputs": [],
   "source": [
    "feature_names2 = [x for x in train.columns if x not in ['CUSTOMER_ID','RESPONDERS']]"
   ]
  },
  {
   "cell_type": "code",
   "execution_count": null,
   "metadata": {
    "collapsed": true
   },
   "outputs": [],
   "source": [
    "from sklearn.model_selection import train_test_split"
   ]
  },
  {
   "cell_type": "code",
   "execution_count": null,
   "metadata": {
    "collapsed": true
   },
   "outputs": [],
   "source": [
    "X_train, X_valid, y_train, y_valid = train_test_split(train, target, test_size = 0.3, stratify = target)"
   ]
  },
  {
   "cell_type": "code",
   "execution_count": null,
   "metadata": {
    "collapsed": true
   },
   "outputs": [],
   "source": [
    "params = {\"objective\": \"binary:logistic\",\n",
    "          \"booster\": \"gbtree\",\n",
    "          \"nthread\": 4,\n",
    "          \"eta\": 0.1, # 0.1\n",
    "          \"max_depth\": 5, # 7\n",
    "          \"subsample\": 0.8,\n",
    "          \"colsample_bytree\": 0.4,\n",
    "          \"min_child_weight\": 2**3,\n",
    "          \"seed\": 2016, \n",
    "          \"tree_method\": \"exact\",\n",
    "         \"eval_metric\":\"auc\"}"
   ]
  },
  {
   "cell_type": "code",
   "execution_count": null,
   "metadata": {
    "collapsed": false
   },
   "outputs": [],
   "source": [
    "dtrain = xgb.DMatrix(X_train[feature_names2], y_train, weight=weights)\n",
    "dvalid = xgb.DMatrix(X_valid[feature_names2], y_valid, weight=weights)\n",
    "dtest = xgb.DMatrix(test[feature_names])"
   ]
  },
  {
   "cell_type": "code",
   "execution_count": null,
   "metadata": {
    "collapsed": true
   },
   "outputs": [],
   "source": [
    "watchlist = [(dtrain, 'train'),(dvalid, 'valid')]"
   ]
  },
  {
   "cell_type": "code",
   "execution_count": null,
   "metadata": {
    "collapsed": false,
    "scrolled": true
   },
   "outputs": [],
   "source": [
    "clf1 = xgb.train(params, dtrain, num_boost_round=10000, evals=watchlist, maximize=True, verbose_eval=20, early_stopping_rounds=40)"
   ]
  },
  {
   "cell_type": "markdown",
   "metadata": {},
   "source": [
    "default params are giving lower score than tuned"
   ]
  },
  {
   "cell_type": "code",
   "execution_count": null,
   "metadata": {
    "collapsed": true
   },
   "outputs": [],
   "source": []
  },
  {
   "cell_type": "code",
   "execution_count": null,
   "metadata": {
    "collapsed": true
   },
   "outputs": [],
   "source": []
  },
  {
   "cell_type": "markdown",
   "metadata": {},
   "source": [
    "### EXTRA TREES"
   ]
  },
  {
   "cell_type": "code",
   "execution_count": null,
   "metadata": {
    "collapsed": true
   },
   "outputs": [],
   "source": [
    "train.drop('weights', axis=1, inplace=True)"
   ]
  },
  {
   "cell_type": "code",
   "execution_count": null,
   "metadata": {
    "collapsed": false
   },
   "outputs": [],
   "source": [
    "from sklearn.ensemble import ExtraTreesClassifier\n",
    "from sklearn.model_selection import cross_val_score\n",
    "from sklearn.metrics import roc_auc_score, make_scorer"
   ]
  },
  {
   "cell_type": "code",
   "execution_count": null,
   "metadata": {
    "collapsed": false
   },
   "outputs": [],
   "source": [
    "et = ExtraTreesClassifier(n_estimators=100, \n",
    "                          criterion = 'entropy', \n",
    "                          max_depth=10, \n",
    "                          max_features='auto',\n",
    "                          min_samples_split = 3,\n",
    "                          n_jobs = -1,\n",
    "                         random_state = 4343)\n",
    "                         #class_weight = {0:1, 1:10})"
   ]
  },
  {
   "cell_type": "code",
   "execution_count": null,
   "metadata": {
    "collapsed": false
   },
   "outputs": [],
   "source": [
    "feature_names2 = [x for x in feature_names2 if 'weights' not in x]"
   ]
  },
  {
   "cell_type": "code",
   "execution_count": null,
   "metadata": {
    "collapsed": false
   },
   "outputs": [],
   "source": [
    "cross_val_score(et, train[feature_names2], target, scoring=make_scorer(roc_auc_score), cv = 5)"
   ]
  },
  {
   "cell_type": "code",
   "execution_count": null,
   "metadata": {
    "collapsed": true
   },
   "outputs": [],
   "source": []
  },
  {
   "cell_type": "markdown",
   "metadata": {
    "collapsed": true
   },
   "source": [
    "### XGB Random Forest"
   ]
  },
  {
   "cell_type": "code",
   "execution_count": null,
   "metadata": {
    "collapsed": true
   },
   "outputs": [],
   "source": [
    "param_dart = {'booster': 'dart',\n",
    "         'max_depth': 5, 'learning_rate': 0.1,\n",
    "         'objective': 'binary:logistic',\n",
    "            'sample_type': 'uniform',\n",
    "         'normalize_type': 'tree',\n",
    "         'rate_drop': 0.1,\n",
    "         'skip_drop': 0.5,\n",
    "             'eval_metric':'auc'}"
   ]
  },
  {
   "cell_type": "code",
   "execution_count": null,
   "metadata": {
    "collapsed": true
   },
   "outputs": [],
   "source": [
    "param_forest = {'booster': 'dart',\n",
    "         'max_depth': 5, 'learning_rate': 0.1,\n",
    "         'objective': 'binary:logistic',\n",
    "            'sample_type': 'uniform',\n",
    "         'normalize_type': 'forest',\n",
    "         'rate_drop': 0.2,\n",
    "         'skip_drop': 0.6,\n",
    "             'eval_metric':'auc'}"
   ]
  },
  {
   "cell_type": "code",
   "execution_count": null,
   "metadata": {
    "collapsed": true
   },
   "outputs": [],
   "source": [
    "#dtrain = xgb.DMatrix(X_train[feature_names], y_train, missing=-999)\n",
    "#dvalid = xgb.DMatrix(X_valid[feature_names], y_valid, missing=-999)\n",
    "#dtest = xgb.DMatrix(test[feature_names], missing=-999)\n",
    "\n",
    "## normalised data\n",
    "dtrain = xgb.DMatrix(X_train[feature_names], y_train)\n",
    "dvalid = xgb.DMatrix(X_valid[feature_names], y_valid)\n",
    "dtest = xgb.DMatrix(test[feature_names])"
   ]
  },
  {
   "cell_type": "code",
   "execution_count": null,
   "metadata": {
    "collapsed": true
   },
   "outputs": [],
   "source": [
    "watchlist = [(dtrain, 'train'),(dvalid, 'valid')]"
   ]
  },
  {
   "cell_type": "code",
   "execution_count": null,
   "metadata": {
    "collapsed": false,
    "scrolled": true
   },
   "outputs": [],
   "source": [
    "clf1 = xgb.train(param_forest, dtrain, num_boost_round=1000, evals=watchlist, maximize=True, verbose_eval=20, early_stopping_rounds=40)"
   ]
  },
  {
   "cell_type": "code",
   "execution_count": null,
   "metadata": {
    "collapsed": true
   },
   "outputs": [],
   "source": [
    "preds1 = clf1.predict(dtest)\n",
    "sub = pd.read_csv('sample_submission_ROqqAAN.csv')\n",
    "sub['CUSTOMER_ID'] = test['CUSTOMER_ID']\n",
    "sub['RESPONDERS'] = preds1"
   ]
  },
  {
   "cell_type": "code",
   "execution_count": null,
   "metadata": {
    "collapsed": true
   },
   "outputs": [],
   "source": [
    "sub.to_csv('submissions/xgb_randomforest.csv', index=False) ## CV - 89.3244 | LB 0.651 ## type == 'tree'"
   ]
  },
  {
   "cell_type": "code",
   "execution_count": null,
   "metadata": {
    "collapsed": true
   },
   "outputs": [],
   "source": [
    "sub.to_csv('submissions/xgb_randomforest_forest.csv', index=False) ## CV - 89.3427 | LB 0.64629 ## type == 'forest'"
   ]
  },
  {
   "cell_type": "code",
   "execution_count": null,
   "metadata": {
    "collapsed": true
   },
   "outputs": [],
   "source": []
  },
  {
   "cell_type": "code",
   "execution_count": null,
   "metadata": {
    "collapsed": true
   },
   "outputs": [],
   "source": []
  },
  {
   "cell_type": "markdown",
   "metadata": {},
   "source": [
    "## Stacker - Random Forest - with scaled data"
   ]
  },
  {
   "cell_type": "code",
   "execution_count": null,
   "metadata": {
    "collapsed": true
   },
   "outputs": [],
   "source": [
    "nfolds = 10\n",
    "skf = StratifiedKFold(n_splits=nfolds, shuffle=True, random_state=9087)"
   ]
  },
  {
   "cell_type": "code",
   "execution_count": null,
   "metadata": {
    "collapsed": true
   },
   "outputs": [],
   "source": [
    "param_dart = {'booster': 'dart',\n",
    "         'max_depth': 5, 'learning_rate': 0.1,\n",
    "         'objective': 'binary:logistic',\n",
    "            'sample_type': 'uniform',\n",
    "         'normalize_type': 'tree',\n",
    "         'rate_drop': 0.1,\n",
    "         'skip_drop': 0.5,\n",
    "             'eval_metric':'auc'}"
   ]
  },
  {
   "cell_type": "code",
   "execution_count": null,
   "metadata": {
    "collapsed": true
   },
   "outputs": [],
   "source": [
    "oof_train = pd.DataFrame({'CUSTOMER_ID':train['CUSTOMER_ID'], 'RESPONDERS':0})\n",
    "allpredictions = pd.DataFrame()\n",
    "score = []"
   ]
  },
  {
   "cell_type": "code",
   "execution_count": null,
   "metadata": {
    "collapsed": false,
    "scrolled": true
   },
   "outputs": [],
   "source": [
    "## without upscaling\n",
    "\n",
    "increase = True\n",
    "for i, (train_index, test_index) in enumerate(skf.split(train, target)):\n",
    "    print('Fold %d/%d'%(i+1, nfolds))\n",
    "    X_train, X_valid = train.iloc[train_index], train.iloc[test_index]\n",
    "    y_train, y_valid = target.iloc[train_index], target.iloc[test_index]\n",
    "    \n",
    "#     if increase:\n",
    "#         pos = pd.Series(target == 1)\n",
    "\n",
    "#         X_train = pd.concat([X_train, X_train[pos]], axis=0)\n",
    "#         y_train = pd.concat([y_train, y_train.loc[pos]], axis=0)\n",
    "        \n",
    "#         idx = np.arange(len(X_train))\n",
    "#         np.random.shuffle(idx)\n",
    "#         X_train = X_train.iloc[idx]\n",
    "#         y_train = y_train.iloc[idx]\n",
    "    \n",
    "    dtrain = xgb.DMatrix(X_train[feature_names], label=y_train)\n",
    "    dvalid = xgb.DMatrix(X_valid[feature_names], label=y_valid)\n",
    "    \n",
    "    watchlist = [(dtrain, 'train'),(dvalid,'valid')]\n",
    "    \n",
    "    clf = xgb.train(param_dart,\n",
    "                    dtrain,\n",
    "                    num_boost_round=10000,\n",
    "                    evals=watchlist,\n",
    "                    early_stopping_rounds=40,\n",
    "                    verbose_eval=20,\n",
    "                    maximize = True)\n",
    "    \n",
    "    pred1 = clf.predict(dvalid)\n",
    "    oof_train.loc[test_index, 'RESPONDERS'] = pred1\n",
    "    \n",
    "    scr = roc_auc_score(y_valid, pred1)\n",
    "    dtest = xgb.DMatrix(test[feature_names])\n",
    "    preds2 = clf.predict(dtest)\n",
    "    \n",
    "    allpredictions['p'+str(i)] = preds2\n",
    "    score.append(scr)\n",
    "    \n",
    "    del X_train, X_valid, y_train, y_valid, clf, pred1, preds2, scr"
   ]
  },
  {
   "cell_type": "code",
   "execution_count": null,
   "metadata": {
    "collapsed": false
   },
   "outputs": [],
   "source": [
    "np.mean(score)"
   ]
  },
  {
   "cell_type": "code",
   "execution_count": null,
   "metadata": {
    "collapsed": true
   },
   "outputs": [],
   "source": [
    "oof_train.to_csv('submissions/oof_preds/xgb_train1.csv', index=False)"
   ]
  },
  {
   "cell_type": "code",
   "execution_count": null,
   "metadata": {
    "collapsed": false
   },
   "outputs": [],
   "source": [
    "allpredictions.head()"
   ]
  },
  {
   "cell_type": "code",
   "execution_count": null,
   "metadata": {
    "collapsed": true
   },
   "outputs": [],
   "source": [
    "sub = pd.read_csv('sample_submission_ROqqAAN.csv')\n",
    "sub['CUSTOMER_ID'] = test['CUSTOMER_ID']\n",
    "sub['RESPONDERS'] = allpredictions.mean(axis=1).values"
   ]
  },
  {
   "cell_type": "code",
   "execution_count": null,
   "metadata": {
    "collapsed": true
   },
   "outputs": [],
   "source": [
    "sub.to_csv('submissions/xgb_bagging_seven.csv', index=False) # 0.58"
   ]
  },
  {
   "cell_type": "code",
   "execution_count": null,
   "metadata": {
    "collapsed": true
   },
   "outputs": [],
   "source": []
  },
  {
   "cell_type": "code",
   "execution_count": null,
   "metadata": {
    "collapsed": false
   },
   "outputs": [],
   "source": [
    "train.shape"
   ]
  },
  {
   "cell_type": "code",
   "execution_count": null,
   "metadata": {
    "collapsed": false,
    "scrolled": true
   },
   "outputs": [],
   "source": [
    "test.shape"
   ]
  },
  {
   "cell_type": "code",
   "execution_count": null,
   "metadata": {
    "collapsed": true
   },
   "outputs": [],
   "source": []
  },
  {
   "cell_type": "markdown",
   "metadata": {},
   "source": [
    "### XGB 2 - remove zero variance features"
   ]
  },
  {
   "cell_type": "code",
   "execution_count": null,
   "metadata": {
    "collapsed": false
   },
   "outputs": [],
   "source": [
    "## remove zero variance columns\n",
    "var_check = pd.DataFrame(columns=['name','variance'])\n",
    "\n",
    "for i, c in enumerate(train.columns):\n",
    "    if c not in ['CUSTOMER_ID','RESPONDERS']:\n",
    "        var_check.loc[i, 'name'] = c\n",
    "        var_check.loc[i, 'variance'] = train[c].var()\n",
    "        \n",
    "var_check.sort_values('variance', ascending=True).reset_index(drop=True)"
   ]
  },
  {
   "cell_type": "code",
   "execution_count": null,
   "metadata": {
    "collapsed": false,
    "scrolled": true
   },
   "outputs": [],
   "source": [
    "cols_to_use = var_check[var_check['variance'] > 1]['name'].tolist() ## remove columns with variance lesser than zero"
   ]
  },
  {
   "cell_type": "code",
   "execution_count": null,
   "metadata": {
    "collapsed": true
   },
   "outputs": [],
   "source": [
    "params = {\"objective\": \"binary:logistic\",\n",
    "          \"booster\": \"gbtree\",\n",
    "          \"nthread\": 4,\n",
    "          \"eta\": 0.1,\n",
    "          \"max_depth\": 5,\n",
    "          \"subsample\": 0.8,\n",
    "          \"colsample_bytree\": 0.3,\n",
    "          \"min_child_weight\": 0,\n",
    "          \"seed\": 2017, \n",
    "          \"tree_method\": \"exact\",\n",
    "         \"eval_metric\":\"auc\"}"
   ]
  },
  {
   "cell_type": "code",
   "execution_count": null,
   "metadata": {
    "collapsed": true
   },
   "outputs": [],
   "source": [
    "dtrain = xgb.DMatrix(X_train[cols_to_use], y_train, missing=-1)\n",
    "dvalid = xgb.DMatrix(X_valid[cols_to_use], y_valid, missing=-1)\n",
    "dtest = xgb.DMatrix(test[cols_to_use], missing=-1)"
   ]
  },
  {
   "cell_type": "code",
   "execution_count": null,
   "metadata": {
    "collapsed": true
   },
   "outputs": [],
   "source": [
    "watchlist = [(dtrain, 'train'),(dvalid, 'valid')]"
   ]
  },
  {
   "cell_type": "code",
   "execution_count": null,
   "metadata": {
    "collapsed": false
   },
   "outputs": [],
   "source": [
    "clf1 = xgb.train(params, dtrain, num_boost_round=10000, evals=watchlist, maximize=True, verbose_eval=20, early_stopping_rounds=40)"
   ]
  },
  {
   "cell_type": "code",
   "execution_count": null,
   "metadata": {
    "collapsed": false
   },
   "outputs": [],
   "source": [
    "preds1 = clf1.predict(dtest)"
   ]
  },
  {
   "cell_type": "code",
   "execution_count": null,
   "metadata": {
    "collapsed": false
   },
   "outputs": [],
   "source": [
    "sub = pd.read_csv('sample_submission_ROqqAAN.csv')\n",
    "sub['CUSTOMER_ID'] = test['CUSTOMER_ID']\n",
    "sub['RESPONDERS'] = preds1"
   ]
  },
  {
   "cell_type": "code",
   "execution_count": null,
   "metadata": {
    "collapsed": true
   },
   "outputs": [],
   "source": [
    "sub.to_csv('submissions/xgb_single_three.csv', index=False) ## 54 - score dropping."
   ]
  },
  {
   "cell_type": "code",
   "execution_count": null,
   "metadata": {
    "collapsed": true
   },
   "outputs": [],
   "source": []
  },
  {
   "cell_type": "markdown",
   "metadata": {},
   "source": [
    "### XGB BAGGED"
   ]
  },
  {
   "cell_type": "code",
   "execution_count": null,
   "metadata": {
    "collapsed": true
   },
   "outputs": [],
   "source": [
    "oof_train = pd.DataFrame({'CUSTOMER_ID':train['CUSTOMER_ID'], 'RESPONDERS':0})\n",
    "allpredictions = pd.DataFrame()\n",
    "score = []"
   ]
  },
  {
   "cell_type": "code",
   "execution_count": null,
   "metadata": {
    "collapsed": false
   },
   "outputs": [],
   "source": [
    "from sklearn.model_selection import StratifiedKFold\n",
    "nfolds = 7\n",
    "skf = StratifiedKFold(n_splits=nfolds, random_state=42)"
   ]
  },
  {
   "cell_type": "code",
   "execution_count": null,
   "metadata": {
    "collapsed": false,
    "scrolled": true
   },
   "outputs": [],
   "source": [
    "increase = True\n",
    "for i, (train_index, test_index) in enumerate(skf.split(train, target)):\n",
    "    print('Fold %d/%d'%(i+1, nfolds))\n",
    "    X_train, X_valid = train.iloc[train_index], train.iloc[test_index]\n",
    "    y_train, y_valid = target.iloc[train_index], target.iloc[test_index]\n",
    "    \n",
    "    if increase:\n",
    "        pos = pd.Series(target == 1)\n",
    "\n",
    "        X_train = pd.concat([X_train, X_train[pos]], axis=0)\n",
    "        y_train = pd.concat([y_train, y_train.loc[pos]], axis=0)\n",
    "        \n",
    "        idx = np.arange(len(X_train))\n",
    "        np.random.shuffle(idx)\n",
    "        X_train = X_train.iloc[idx]\n",
    "        y_train = y_train.iloc[idx]\n",
    "    \n",
    "    dtrain = xgb.DMatrix(X_train[top_250], label=y_train, missing=-1)\n",
    "    dvalid = xgb.DMatrix(X_valid[top_250], label=y_valid, missing = -1)\n",
    "    \n",
    "    watchlist = [(dtrain, 'train'),(dvalid,'valid')]\n",
    "    \n",
    "    clf = xgb.train(params,\n",
    "                    dtrain,\n",
    "                    num_boost_round=10000,\n",
    "                    evals=watchlist,\n",
    "                    early_stopping_rounds=40,\n",
    "                    verbose_eval=20,\n",
    "                    maximize = True)\n",
    "    \n",
    "    pred1 = clf.predict(dvalid)\n",
    "    oof_train.loc[test_index, 'RESPONDERS'] = pred1\n",
    "    \n",
    "    scr = roc_auc_score(y_valid, pred1)\n",
    "    dtest = xgb.DMatrix(test[top_250], missing= - 1)\n",
    "    preds2 = clf.predict(dtest)\n",
    "    \n",
    "    allpredictions['p'+str(i)] = preds2\n",
    "    score.append(scr)\n",
    "    \n",
    "    del X_train, X_valid, y_train, y_valid, clf, pred1"
   ]
  },
  {
   "cell_type": "code",
   "execution_count": null,
   "metadata": {
    "collapsed": true
   },
   "outputs": [],
   "source": [
    "sub = pd.read_csv('sample_submission_ROqqAAN.csv')\n",
    "sub['CUSTOMER_ID'] = test['CUSTOMER_ID']\n",
    "sub['RESPONDERS'] = allpredictions.mean(axis=1).values"
   ]
  },
  {
   "cell_type": "code",
   "execution_count": null,
   "metadata": {
    "collapsed": true
   },
   "outputs": [],
   "source": [
    "sub.to_csv('submissions/stack_bagged_four.csv', index=False)"
   ]
  },
  {
   "cell_type": "code",
   "execution_count": null,
   "metadata": {
    "collapsed": true
   },
   "outputs": [],
   "source": []
  },
  {
   "cell_type": "markdown",
   "metadata": {},
   "source": [
    "## Features for Thanish"
   ]
  },
  {
   "cell_type": "code",
   "execution_count": null,
   "metadata": {
    "collapsed": true
   },
   "outputs": [],
   "source": [
    "imp_train = train[top_250]\n",
    "imp_test = test[top_250]"
   ]
  },
  {
   "cell_type": "code",
   "execution_count": null,
   "metadata": {
    "collapsed": false
   },
   "outputs": [],
   "source": [
    "top_100 = imp_feats[:100]"
   ]
  },
  {
   "cell_type": "code",
   "execution_count": null,
   "metadata": {
    "collapsed": true
   },
   "outputs": [],
   "source": [
    "imp_train = train[top_100]\n",
    "imp_test = test[top_100]"
   ]
  },
  {
   "cell_type": "code",
   "execution_count": null,
   "metadata": {
    "collapsed": true
   },
   "outputs": [],
   "source": [
    "imp_train.to_csv('submissions/train_100.csv', index=False)\n",
    "imp_test.to_csv('submissions/test_100.csv', index=False)"
   ]
  },
  {
   "cell_type": "code",
   "execution_count": null,
   "metadata": {
    "collapsed": true
   },
   "outputs": [],
   "source": []
  },
  {
   "cell_type": "code",
   "execution_count": null,
   "metadata": {
    "collapsed": true
   },
   "outputs": [],
   "source": []
  },
  {
   "cell_type": "code",
   "execution_count": null,
   "metadata": {
    "collapsed": true
   },
   "outputs": [],
   "source": []
  },
  {
   "cell_type": "code",
   "execution_count": null,
   "metadata": {
    "collapsed": true
   },
   "outputs": [],
   "source": []
  },
  {
   "cell_type": "code",
   "execution_count": null,
   "metadata": {
    "collapsed": true
   },
   "outputs": [],
   "source": []
  },
  {
   "cell_type": "code",
   "execution_count": null,
   "metadata": {
    "collapsed": true
   },
   "outputs": [],
   "source": []
  },
  {
   "cell_type": "code",
   "execution_count": null,
   "metadata": {
    "collapsed": true
   },
   "outputs": [],
   "source": []
  }
 ],
 "metadata": {
  "kernelspec": {
   "display_name": "Python 3",
   "language": "python",
   "name": "python3"
  },
  "language_info": {
   "codemirror_mode": {
    "name": "ipython",
    "version": 3
   },
   "file_extension": ".py",
   "mimetype": "text/x-python",
   "name": "python",
   "nbconvert_exporter": "python",
   "pygments_lexer": "ipython3",
   "version": "3.5.2"
  }
 },
 "nbformat": 4,
 "nbformat_minor": 2
}
