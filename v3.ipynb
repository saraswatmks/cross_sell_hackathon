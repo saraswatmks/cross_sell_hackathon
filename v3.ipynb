{
 "cells": [
  {
   "cell_type": "code",
   "execution_count": 1,
   "metadata": {
    "collapsed": true
   },
   "outputs": [],
   "source": [
    "import pandas as pd\n",
    "import numpy as np\n",
    "from sklearn.preprocessing import LabelEncoder\n",
    "from sklearn.decomposition import TruncatedSVD, PCA, FastICA\n",
    "from sklearn.random_projection import GaussianRandomProjection, SparseRandomProjection\n",
    "from sklearn.ensemble import ExtraTreesClassifier\n",
    "from sklearn.metrics import roc_auc_score\n",
    "from sklearn.pipeline import make_pipeline, make_union"
   ]
  },
  {
   "cell_type": "code",
   "execution_count": 2,
   "metadata": {
    "collapsed": true
   },
   "outputs": [],
   "source": [
    "pd.set_option('display.max_columns', 1000)\n",
    "pd.set_option('display.max_rows', 10000)"
   ]
  },
  {
   "cell_type": "code",
   "execution_count": 3,
   "metadata": {
    "collapsed": true
   },
   "outputs": [
    {
     "name": "stderr",
     "output_type": "stream",
     "text": [
      "/home/manish/anaconda2/envs/py35/lib/python3.5/site-packages/IPython/core/interactiveshell.py:2717: DtypeWarning: Columns (8,11,12,13,14,15,16,17,18,19,21,23,26,28,29,30,32,82,83,85,91,269,325,326,327,328) have mixed types. Specify dtype option on import or set low_memory=False.\n",
      "  interactivity=interactivity, compiler=compiler, result=result)\n",
      "/home/manish/anaconda2/envs/py35/lib/python3.5/site-packages/IPython/core/interactiveshell.py:2717: DtypeWarning: Columns (8,11,12,13,14,15,16,17,18,19,26,28,29,30,82,83,85,91,269,325,326,327,328) have mixed types. Specify dtype option on import or set low_memory=False.\n",
      "  interactivity=interactivity, compiler=compiler, result=result)\n"
     ]
    }
   ],
   "source": [
    "with open('train_iI26erW/train.csv', 'r') as fp, open('test_plBmD8c.csv') as fg:\n",
    "    train = pd.read_csv(fp)\n",
    "    test = pd.read_csv(fg)"
   ]
  },
  {
   "cell_type": "code",
   "execution_count": 4,
   "metadata": {
    "collapsed": true
   },
   "outputs": [],
   "source": [
    "misCols = train.isnull().sum(axis=0)/train.shape[0]\n",
    "\n",
    "toremove = []\n",
    "\n",
    "for k, v in misCols.iteritems():\n",
    "    if v >= 0.9:\n",
    "        toremove.append(k)\n",
    "        \n",
    "train.drop(toremove, inplace=True, axis=1)\n",
    "test.drop(toremove, inplace=True, axis=1)"
   ]
  },
  {
   "cell_type": "code",
   "execution_count": 7,
   "metadata": {
    "collapsed": false
   },
   "outputs": [],
   "source": [
    "train.fillna(-1, inplace=True)\n",
    "test.fillna(-1, inplace=True)"
   ]
  },
  {
   "cell_type": "code",
   "execution_count": 14,
   "metadata": {
    "collapsed": true
   },
   "outputs": [],
   "source": [
    "for c in train.columns:\n",
    "    if train[c].dtype == 'object' and c not in ['CUSTOMER_ID','RESPONDERS']:\n",
    "        lbl = LabelEncoder()\n",
    "        lbl.fit(list(train[c].values) + list(test[c].values))\n",
    "        train[c] = lbl.transform(list(train[c].values))\n",
    "        test[c] = lbl.transform(list(test[c].values))"
   ]
  },
  {
   "cell_type": "code",
   "execution_count": 15,
   "metadata": {
    "collapsed": false
   },
   "outputs": [
    {
     "data": {
      "text/html": [
       "<div>\n",
       "<table border=\"1\" class=\"dataframe\">\n",
       "  <thead>\n",
       "    <tr style=\"text-align: right;\">\n",
       "      <th></th>\n",
       "      <th>CUSTOMER_ID</th>\n",
       "      <th>ACT_TYPE</th>\n",
       "      <th>GENDER</th>\n",
       "      <th>LEGAL_ENTITY</th>\n",
       "      <th>OCCUP_ALL_NEW</th>\n",
       "      <th>AGE</th>\n",
       "      <th>N_CASA_MAX_BALANCE_MTD</th>\n",
       "      <th>N_CASA_MIN_BALANCE_MTD</th>\n",
       "      <th>CC_HOLD_MON_03</th>\n",
       "      <th>CC_HOLD_MON_02</th>\n",
       "      <th>CC_HOLD_MON_01</th>\n",
       "      <th>CC_ACTIVE_MON_03</th>\n",
       "      <th>CC_ACTIVE_MON_02</th>\n",
       "      <th>CC_ACTIVE_MON_01</th>\n",
       "      <th>CC_HOLD</th>\n",
       "      <th>CC_ACTIVE</th>\n",
       "      <th>DC_HOLD</th>\n",
       "      <th>DC_ACTIVE_MON_03</th>\n",
       "      <th>DC_ACTIVE_MON_02</th>\n",
       "      <th>DC_ACTIVE_MON_01</th>\n",
       "      <th>DC_ACTIVE</th>\n",
       "      <th>DC_SPEND_MON_03</th>\n",
       "      <th>DC_SPEND_MON_02</th>\n",
       "      <th>DC_SPEND_MON_01</th>\n",
       "      <th>DC_SPEND_MON_04</th>\n",
       "      <th>CR_LIMIT</th>\n",
       "      <th>STMT_MON_03</th>\n",
       "      <th>STMT_MON_02</th>\n",
       "      <th>STMT_MON_01</th>\n",
       "      <th>COC_ELIGIBLE</th>\n",
       "      <th>EOP_BAL_MON_01</th>\n",
       "      <th>AMB_MON_04</th>\n",
       "      <th>AMB_MON_01</th>\n",
       "      <th>AMB_MON_02</th>\n",
       "      <th>AMB_MON_03</th>\n",
       "      <th>NB_MON_01_CNT</th>\n",
       "      <th>NB_MON_02_CNT</th>\n",
       "      <th>NB_MON_03_CNT</th>\n",
       "      <th>CC_TXN_MON_01</th>\n",
       "      <th>CC_SPEND_MON_06</th>\n",
       "      <th>CC_TXN_MON_06</th>\n",
       "      <th>CC_TXN_MON_03</th>\n",
       "      <th>CC_TXN_MON_02</th>\n",
       "      <th>CC_TXN_MON_04</th>\n",
       "      <th>CC_SPEND_MON_05</th>\n",
       "      <th>CC_TXN_MON_05</th>\n",
       "      <th>DC_TXN_MON_04</th>\n",
       "      <th>DC_TXN_MON_01</th>\n",
       "      <th>DC_SPEND_MON_06</th>\n",
       "      <th>DC_TXN_MON_06</th>\n",
       "      <th>DC_SPEND_MON_05</th>\n",
       "      <th>DC_TXN_MON_05</th>\n",
       "      <th>DC_TXN_MON_03</th>\n",
       "      <th>DC_TXN_MON_02</th>\n",
       "      <th>DC_SPEND_MON_04_GRC</th>\n",
       "      <th>DC_SPEND_MON_04_RST</th>\n",
       "      <th>FINANCE_MON_01</th>\n",
       "      <th>JOBS_MON_01</th>\n",
       "      <th>LIFESTYLE_MON_01</th>\n",
       "      <th>INMON_01KET_MON_01</th>\n",
       "      <th>TRAVEL_MON_01</th>\n",
       "      <th>CHANNEL_CLICK_DISP</th>\n",
       "      <th>DESIGNATION_FINAL</th>\n",
       "      <th>TOP14_CITY</th>\n",
       "      <th>TOP9_CITY</th>\n",
       "      <th>PL2CC_ELIGIBLE</th>\n",
       "      <th>D_AMT_L3_MON_06</th>\n",
       "      <th>C_AMT_L3_MON_06</th>\n",
       "      <th>C_COUNT_L3_MON_06</th>\n",
       "      <th>D_COUNT_L3_MON_06</th>\n",
       "      <th>MAX_C_AMT_L3_MON_06</th>\n",
       "      <th>D_AMT_L3_MON_05</th>\n",
       "      <th>C_AMT_L3_MON_05</th>\n",
       "      <th>C_COUNT_L3_MON_05</th>\n",
       "      <th>D_COUNT_L3_MON_05</th>\n",
       "      <th>MAX_C_AMT_L3_MON_05</th>\n",
       "      <th>D_AMT_L3_MON_04</th>\n",
       "      <th>C_AMT_L3_MON_04</th>\n",
       "      <th>C_COUNT_L3_MON_04</th>\n",
       "      <th>D_COUNT_L3_MON_04</th>\n",
       "      <th>MAX_C_AMT_L3_MON_04</th>\n",
       "      <th>D_AMT_L3_MON_03</th>\n",
       "      <th>C_AMT_L3_MON_03</th>\n",
       "      <th>C_COUNT_L3_MON_03</th>\n",
       "      <th>D_COUNT_L3_MON_03</th>\n",
       "      <th>MAX_C_AMT_L3_MON_03</th>\n",
       "      <th>D_AMT_L3_MON_02</th>\n",
       "      <th>C_AMT_L3_MON_02</th>\n",
       "      <th>C_COUNT_L3_MON_02</th>\n",
       "      <th>D_COUNT_L3_MON_02</th>\n",
       "      <th>MAX_C_AMT_L3_MON_02</th>\n",
       "      <th>D_AMT_L3_MON_01</th>\n",
       "      <th>C_AMT_L3_MON_01</th>\n",
       "      <th>C_COUNT_L3_MON_01</th>\n",
       "      <th>D_COUNT_L3_MON_01</th>\n",
       "      <th>MAX_C_AMT_L3_MON_01</th>\n",
       "      <th>PA_PQ_TAG</th>\n",
       "      <th>NEFT_CC_AMOUNT</th>\n",
       "      <th>NEFT_CC_TXN</th>\n",
       "      <th>NEFT_CC_CATEGORY</th>\n",
       "      <th>NEFT_DC_AMOUNT</th>\n",
       "      <th>NEFT_DC_TXN</th>\n",
       "      <th>NEFT_DC_CATEGORY</th>\n",
       "      <th>TPT_DC_CATEGORY_MON_01</th>\n",
       "      <th>TPT_CC_CATEGORY_MON_01</th>\n",
       "      <th>IMPS_CC_CATEGORY_MON_01</th>\n",
       "      <th>ZIP_CODE_FINAL</th>\n",
       "      <th>CRED_NEED_SCORE</th>\n",
       "      <th>CARD_AUTOMOBILE_MON_01</th>\n",
       "      <th>CARD_HOTEL_MON_01</th>\n",
       "      <th>CARD_JEWELLERY_MON_01</th>\n",
       "      <th>CARD_RESTAURANT_MON_01</th>\n",
       "      <th>CARD_TRAVEL_MON_01</th>\n",
       "      <th>CARD_PRSNL_CARE_MON_01</th>\n",
       "      <th>CARD_HOBBY_MON_01</th>\n",
       "      <th>CARD_HOME_DECOR_MON_01</th>\n",
       "      <th>CARD_MEDICAL_MON_01</th>\n",
       "      <th>CARD_ENTMNT_MON_01</th>\n",
       "      <th>SAL_MON_01</th>\n",
       "      <th>SAL_MON_02</th>\n",
       "      <th>SAL_MON_03</th>\n",
       "      <th>TOP_CORP_TAG</th>\n",
       "      <th>EOP_MON_02</th>\n",
       "      <th>EOP_MON_03</th>\n",
       "      <th>CREDIT_ACT</th>\n",
       "      <th>DEBIT_ACT</th>\n",
       "      <th>SCRUB_EMI</th>\n",
       "      <th>RESPONDERS</th>\n",
       "    </tr>\n",
       "  </thead>\n",
       "  <tbody>\n",
       "    <tr>\n",
       "      <th>0</th>\n",
       "      <td>385793</td>\n",
       "      <td>0</td>\n",
       "      <td>2</td>\n",
       "      <td>2</td>\n",
       "      <td>0</td>\n",
       "      <td>21</td>\n",
       "      <td>0.00</td>\n",
       "      <td>0.00</td>\n",
       "      <td>0</td>\n",
       "      <td>0</td>\n",
       "      <td>0</td>\n",
       "      <td>0</td>\n",
       "      <td>0</td>\n",
       "      <td>0</td>\n",
       "      <td>0</td>\n",
       "      <td>0</td>\n",
       "      <td>1</td>\n",
       "      <td>0</td>\n",
       "      <td>0</td>\n",
       "      <td>0</td>\n",
       "      <td>0</td>\n",
       "      <td>-1.0</td>\n",
       "      <td>-1.0</td>\n",
       "      <td>-1.0</td>\n",
       "      <td>-1.0</td>\n",
       "      <td>-1.0</td>\n",
       "      <td>-1.00</td>\n",
       "      <td>-1.00</td>\n",
       "      <td>-1.00</td>\n",
       "      <td>0</td>\n",
       "      <td>0.00</td>\n",
       "      <td>0.00</td>\n",
       "      <td>0.00</td>\n",
       "      <td>0.00</td>\n",
       "      <td>0.00</td>\n",
       "      <td>-1.0</td>\n",
       "      <td>-1.0</td>\n",
       "      <td>-1.0</td>\n",
       "      <td>-1.0</td>\n",
       "      <td>-1.00</td>\n",
       "      <td>-1.0</td>\n",
       "      <td>-1.0</td>\n",
       "      <td>-1.0</td>\n",
       "      <td>-1.0</td>\n",
       "      <td>-1.00</td>\n",
       "      <td>-1.0</td>\n",
       "      <td>-1.0</td>\n",
       "      <td>-1.0</td>\n",
       "      <td>-1.0</td>\n",
       "      <td>-1.0</td>\n",
       "      <td>-1.0</td>\n",
       "      <td>-1.0</td>\n",
       "      <td>-1.0</td>\n",
       "      <td>-1.0</td>\n",
       "      <td>-1.0</td>\n",
       "      <td>-1.0</td>\n",
       "      <td>0</td>\n",
       "      <td>0</td>\n",
       "      <td>0</td>\n",
       "      <td>0</td>\n",
       "      <td>0</td>\n",
       "      <td>2</td>\n",
       "      <td>4</td>\n",
       "      <td>1</td>\n",
       "      <td>1</td>\n",
       "      <td>0</td>\n",
       "      <td>39.00</td>\n",
       "      <td>-1.00</td>\n",
       "      <td>0.0</td>\n",
       "      <td>1.0</td>\n",
       "      <td>-1.0</td>\n",
       "      <td>-1.00</td>\n",
       "      <td>-1.0</td>\n",
       "      <td>-1.0</td>\n",
       "      <td>-1.0</td>\n",
       "      <td>-1.0</td>\n",
       "      <td>-1.00</td>\n",
       "      <td>-1.0</td>\n",
       "      <td>-1.0</td>\n",
       "      <td>-1.0</td>\n",
       "      <td>-1.0</td>\n",
       "      <td>-1.00</td>\n",
       "      <td>-1.00</td>\n",
       "      <td>-1.0</td>\n",
       "      <td>-1.0</td>\n",
       "      <td>-1.0</td>\n",
       "      <td>-1.00</td>\n",
       "      <td>-1.00</td>\n",
       "      <td>-1.0</td>\n",
       "      <td>-1.0</td>\n",
       "      <td>-1.0</td>\n",
       "      <td>-1.00</td>\n",
       "      <td>-1.00</td>\n",
       "      <td>-1.0</td>\n",
       "      <td>-1.0</td>\n",
       "      <td>-1.0</td>\n",
       "      <td>0</td>\n",
       "      <td>-1.0</td>\n",
       "      <td>-1.0</td>\n",
       "      <td>13</td>\n",
       "      <td>-1.0</td>\n",
       "      <td>-1.0</td>\n",
       "      <td>13</td>\n",
       "      <td>13</td>\n",
       "      <td>13</td>\n",
       "      <td>13</td>\n",
       "      <td>9960</td>\n",
       "      <td>-1.000000</td>\n",
       "      <td>0</td>\n",
       "      <td>0</td>\n",
       "      <td>0</td>\n",
       "      <td>0</td>\n",
       "      <td>0</td>\n",
       "      <td>0</td>\n",
       "      <td>0</td>\n",
       "      <td>0</td>\n",
       "      <td>0</td>\n",
       "      <td>0</td>\n",
       "      <td>0.0</td>\n",
       "      <td>0.0</td>\n",
       "      <td>0.0</td>\n",
       "      <td>0</td>\n",
       "      <td>0.00</td>\n",
       "      <td>0.00</td>\n",
       "      <td>0</td>\n",
       "      <td>0</td>\n",
       "      <td>0.000000</td>\n",
       "      <td>N</td>\n",
       "    </tr>\n",
       "    <tr>\n",
       "      <th>1</th>\n",
       "      <td>286891</td>\n",
       "      <td>0</td>\n",
       "      <td>2</td>\n",
       "      <td>2</td>\n",
       "      <td>0</td>\n",
       "      <td>23</td>\n",
       "      <td>8243.77</td>\n",
       "      <td>7.77</td>\n",
       "      <td>0</td>\n",
       "      <td>0</td>\n",
       "      <td>0</td>\n",
       "      <td>0</td>\n",
       "      <td>0</td>\n",
       "      <td>0</td>\n",
       "      <td>0</td>\n",
       "      <td>0</td>\n",
       "      <td>1</td>\n",
       "      <td>1</td>\n",
       "      <td>1</td>\n",
       "      <td>1</td>\n",
       "      <td>1</td>\n",
       "      <td>-1.0</td>\n",
       "      <td>-1.0</td>\n",
       "      <td>-1.0</td>\n",
       "      <td>-1.0</td>\n",
       "      <td>-1.0</td>\n",
       "      <td>-1.00</td>\n",
       "      <td>-1.00</td>\n",
       "      <td>-1.00</td>\n",
       "      <td>0</td>\n",
       "      <td>11.77</td>\n",
       "      <td>1417.26</td>\n",
       "      <td>300.51</td>\n",
       "      <td>593.06</td>\n",
       "      <td>418.09</td>\n",
       "      <td>-1.0</td>\n",
       "      <td>-1.0</td>\n",
       "      <td>-1.0</td>\n",
       "      <td>-1.0</td>\n",
       "      <td>-1.00</td>\n",
       "      <td>-1.0</td>\n",
       "      <td>-1.0</td>\n",
       "      <td>-1.0</td>\n",
       "      <td>-1.0</td>\n",
       "      <td>-1.00</td>\n",
       "      <td>-1.0</td>\n",
       "      <td>8.0</td>\n",
       "      <td>5.0</td>\n",
       "      <td>504.0</td>\n",
       "      <td>7.0</td>\n",
       "      <td>631.0</td>\n",
       "      <td>13.0</td>\n",
       "      <td>12.0</td>\n",
       "      <td>1.0</td>\n",
       "      <td>-1.0</td>\n",
       "      <td>-1.0</td>\n",
       "      <td>0</td>\n",
       "      <td>0</td>\n",
       "      <td>0</td>\n",
       "      <td>0</td>\n",
       "      <td>0</td>\n",
       "      <td>2</td>\n",
       "      <td>4</td>\n",
       "      <td>1</td>\n",
       "      <td>1</td>\n",
       "      <td>0</td>\n",
       "      <td>17250.00</td>\n",
       "      <td>17870.00</td>\n",
       "      <td>3.0</td>\n",
       "      <td>19.0</td>\n",
       "      <td>7957.0</td>\n",
       "      <td>12965.50</td>\n",
       "      <td>12336.5</td>\n",
       "      <td>6.0</td>\n",
       "      <td>21.0</td>\n",
       "      <td>8011.0</td>\n",
       "      <td>23448.52</td>\n",
       "      <td>23457.0</td>\n",
       "      <td>4.0</td>\n",
       "      <td>12.0</td>\n",
       "      <td>12000.0</td>\n",
       "      <td>17161.73</td>\n",
       "      <td>17154.75</td>\n",
       "      <td>6.0</td>\n",
       "      <td>20.0</td>\n",
       "      <td>8144.0</td>\n",
       "      <td>8720.00</td>\n",
       "      <td>11733.75</td>\n",
       "      <td>4.0</td>\n",
       "      <td>3.0</td>\n",
       "      <td>7519.0</td>\n",
       "      <td>13763.00</td>\n",
       "      <td>10758.00</td>\n",
       "      <td>3.0</td>\n",
       "      <td>9.0</td>\n",
       "      <td>8240.0</td>\n",
       "      <td>0</td>\n",
       "      <td>-1.0</td>\n",
       "      <td>-1.0</td>\n",
       "      <td>13</td>\n",
       "      <td>-1.0</td>\n",
       "      <td>-1.0</td>\n",
       "      <td>13</td>\n",
       "      <td>13</td>\n",
       "      <td>13</td>\n",
       "      <td>13</td>\n",
       "      <td>19110</td>\n",
       "      <td>-1.000000</td>\n",
       "      <td>0</td>\n",
       "      <td>0</td>\n",
       "      <td>0</td>\n",
       "      <td>0</td>\n",
       "      <td>0</td>\n",
       "      <td>0</td>\n",
       "      <td>0</td>\n",
       "      <td>0</td>\n",
       "      <td>0</td>\n",
       "      <td>0</td>\n",
       "      <td>10754.0</td>\n",
       "      <td>8733.0</td>\n",
       "      <td>17154.0</td>\n",
       "      <td>0</td>\n",
       "      <td>3016.77</td>\n",
       "      <td>3.02</td>\n",
       "      <td>1</td>\n",
       "      <td>1</td>\n",
       "      <td>0.000000</td>\n",
       "      <td>N</td>\n",
       "    </tr>\n",
       "    <tr>\n",
       "      <th>2</th>\n",
       "      <td>108751</td>\n",
       "      <td>0</td>\n",
       "      <td>2</td>\n",
       "      <td>2</td>\n",
       "      <td>0</td>\n",
       "      <td>41</td>\n",
       "      <td>26515.00</td>\n",
       "      <td>0.00</td>\n",
       "      <td>0</td>\n",
       "      <td>0</td>\n",
       "      <td>0</td>\n",
       "      <td>0</td>\n",
       "      <td>0</td>\n",
       "      <td>0</td>\n",
       "      <td>0</td>\n",
       "      <td>0</td>\n",
       "      <td>1</td>\n",
       "      <td>0</td>\n",
       "      <td>0</td>\n",
       "      <td>0</td>\n",
       "      <td>0</td>\n",
       "      <td>-1.0</td>\n",
       "      <td>-1.0</td>\n",
       "      <td>-1.0</td>\n",
       "      <td>-1.0</td>\n",
       "      <td>-1.0</td>\n",
       "      <td>-1.00</td>\n",
       "      <td>-1.00</td>\n",
       "      <td>-1.00</td>\n",
       "      <td>0</td>\n",
       "      <td>26458.25</td>\n",
       "      <td>5354.65</td>\n",
       "      <td>6100.73</td>\n",
       "      <td>7955.82</td>\n",
       "      <td>11138.53</td>\n",
       "      <td>1.0</td>\n",
       "      <td>1.0</td>\n",
       "      <td>-1.0</td>\n",
       "      <td>-1.0</td>\n",
       "      <td>-1.00</td>\n",
       "      <td>-1.0</td>\n",
       "      <td>-1.0</td>\n",
       "      <td>-1.0</td>\n",
       "      <td>-1.0</td>\n",
       "      <td>-1.00</td>\n",
       "      <td>-1.0</td>\n",
       "      <td>2.0</td>\n",
       "      <td>-1.0</td>\n",
       "      <td>-1.0</td>\n",
       "      <td>-1.0</td>\n",
       "      <td>-1.0</td>\n",
       "      <td>-1.0</td>\n",
       "      <td>-1.0</td>\n",
       "      <td>-1.0</td>\n",
       "      <td>-1.0</td>\n",
       "      <td>-1.0</td>\n",
       "      <td>0</td>\n",
       "      <td>0</td>\n",
       "      <td>0</td>\n",
       "      <td>0</td>\n",
       "      <td>1</td>\n",
       "      <td>2</td>\n",
       "      <td>4</td>\n",
       "      <td>0</td>\n",
       "      <td>0</td>\n",
       "      <td>0</td>\n",
       "      <td>39362.25</td>\n",
       "      <td>39125.00</td>\n",
       "      <td>2.0</td>\n",
       "      <td>8.0</td>\n",
       "      <td>28171.0</td>\n",
       "      <td>2005.75</td>\n",
       "      <td>31261.0</td>\n",
       "      <td>3.0</td>\n",
       "      <td>2.0</td>\n",
       "      <td>16171.0</td>\n",
       "      <td>29064.00</td>\n",
       "      <td>16197.0</td>\n",
       "      <td>2.0</td>\n",
       "      <td>3.0</td>\n",
       "      <td>16171.0</td>\n",
       "      <td>8727.25</td>\n",
       "      <td>7180.00</td>\n",
       "      <td>2.0</td>\n",
       "      <td>3.0</td>\n",
       "      <td>4680.0</td>\n",
       "      <td>36375.75</td>\n",
       "      <td>31516.00</td>\n",
       "      <td>2.0</td>\n",
       "      <td>4.0</td>\n",
       "      <td>16516.0</td>\n",
       "      <td>28520.75</td>\n",
       "      <td>44980.00</td>\n",
       "      <td>5.0</td>\n",
       "      <td>3.0</td>\n",
       "      <td>16516.0</td>\n",
       "      <td>0</td>\n",
       "      <td>-1.0</td>\n",
       "      <td>-1.0</td>\n",
       "      <td>13</td>\n",
       "      <td>26515.0</td>\n",
       "      <td>1.0</td>\n",
       "      <td>12</td>\n",
       "      <td>13</td>\n",
       "      <td>13</td>\n",
       "      <td>13</td>\n",
       "      <td>298</td>\n",
       "      <td>-1.000000</td>\n",
       "      <td>0</td>\n",
       "      <td>0</td>\n",
       "      <td>0</td>\n",
       "      <td>0</td>\n",
       "      <td>0</td>\n",
       "      <td>0</td>\n",
       "      <td>0</td>\n",
       "      <td>0</td>\n",
       "      <td>0</td>\n",
       "      <td>0</td>\n",
       "      <td>0.0</td>\n",
       "      <td>0.0</td>\n",
       "      <td>0.0</td>\n",
       "      <td>0</td>\n",
       "      <td>9999.00</td>\n",
       "      <td>14858.75</td>\n",
       "      <td>1</td>\n",
       "      <td>1</td>\n",
       "      <td>0.000000</td>\n",
       "      <td>N</td>\n",
       "    </tr>\n",
       "    <tr>\n",
       "      <th>3</th>\n",
       "      <td>278651</td>\n",
       "      <td>0</td>\n",
       "      <td>2</td>\n",
       "      <td>2</td>\n",
       "      <td>0</td>\n",
       "      <td>28</td>\n",
       "      <td>65917.28</td>\n",
       "      <td>8270.28</td>\n",
       "      <td>1</td>\n",
       "      <td>1</td>\n",
       "      <td>1</td>\n",
       "      <td>1</td>\n",
       "      <td>0</td>\n",
       "      <td>1</td>\n",
       "      <td>1</td>\n",
       "      <td>1</td>\n",
       "      <td>1</td>\n",
       "      <td>1</td>\n",
       "      <td>1</td>\n",
       "      <td>1</td>\n",
       "      <td>1</td>\n",
       "      <td>10960.0</td>\n",
       "      <td>795.0</td>\n",
       "      <td>-1.0</td>\n",
       "      <td>5340.0</td>\n",
       "      <td>62000.0</td>\n",
       "      <td>6051.22</td>\n",
       "      <td>22681.82</td>\n",
       "      <td>0.00</td>\n",
       "      <td>1</td>\n",
       "      <td>65917.28</td>\n",
       "      <td>113120.39</td>\n",
       "      <td>35560.81</td>\n",
       "      <td>42686.93</td>\n",
       "      <td>61593.38</td>\n",
       "      <td>1.0</td>\n",
       "      <td>1.0</td>\n",
       "      <td>1.0</td>\n",
       "      <td>3.0</td>\n",
       "      <td>10935.00</td>\n",
       "      <td>5.0</td>\n",
       "      <td>15.0</td>\n",
       "      <td>-1.0</td>\n",
       "      <td>9.0</td>\n",
       "      <td>803.00</td>\n",
       "      <td>4.0</td>\n",
       "      <td>2.0</td>\n",
       "      <td>6.0</td>\n",
       "      <td>-1.0</td>\n",
       "      <td>-1.0</td>\n",
       "      <td>1531.0</td>\n",
       "      <td>2.0</td>\n",
       "      <td>9.0</td>\n",
       "      <td>12.0</td>\n",
       "      <td>1330.0</td>\n",
       "      <td>-1.0</td>\n",
       "      <td>1</td>\n",
       "      <td>0</td>\n",
       "      <td>0</td>\n",
       "      <td>0</td>\n",
       "      <td>0</td>\n",
       "      <td>2</td>\n",
       "      <td>4</td>\n",
       "      <td>0</td>\n",
       "      <td>0</td>\n",
       "      <td>0</td>\n",
       "      <td>128169.25</td>\n",
       "      <td>20152.03</td>\n",
       "      <td>2.0</td>\n",
       "      <td>20.0</td>\n",
       "      <td>19840.0</td>\n",
       "      <td>52325.00</td>\n",
       "      <td>19840.0</td>\n",
       "      <td>1.0</td>\n",
       "      <td>8.0</td>\n",
       "      <td>19840.0</td>\n",
       "      <td>69002.00</td>\n",
       "      <td>21526.0</td>\n",
       "      <td>2.0</td>\n",
       "      <td>9.0</td>\n",
       "      <td>19840.0</td>\n",
       "      <td>75750.25</td>\n",
       "      <td>19605.00</td>\n",
       "      <td>1.0</td>\n",
       "      <td>18.0</td>\n",
       "      <td>19605.0</td>\n",
       "      <td>37712.17</td>\n",
       "      <td>15200.00</td>\n",
       "      <td>1.0</td>\n",
       "      <td>17.0</td>\n",
       "      <td>15200.0</td>\n",
       "      <td>47158.82</td>\n",
       "      <td>85913.00</td>\n",
       "      <td>4.0</td>\n",
       "      <td>11.0</td>\n",
       "      <td>46500.0</td>\n",
       "      <td>0</td>\n",
       "      <td>-1.0</td>\n",
       "      <td>-1.0</td>\n",
       "      <td>13</td>\n",
       "      <td>-1.0</td>\n",
       "      <td>-1.0</td>\n",
       "      <td>13</td>\n",
       "      <td>13</td>\n",
       "      <td>13</td>\n",
       "      <td>13</td>\n",
       "      <td>6843</td>\n",
       "      <td>0.247852</td>\n",
       "      <td>0</td>\n",
       "      <td>0</td>\n",
       "      <td>1</td>\n",
       "      <td>0</td>\n",
       "      <td>0</td>\n",
       "      <td>1</td>\n",
       "      <td>0</td>\n",
       "      <td>1</td>\n",
       "      <td>1</td>\n",
       "      <td>0</td>\n",
       "      <td>38952.0</td>\n",
       "      <td>15200.0</td>\n",
       "      <td>19605.0</td>\n",
       "      <td>0</td>\n",
       "      <td>27163.10</td>\n",
       "      <td>49675.27</td>\n",
       "      <td>1</td>\n",
       "      <td>1</td>\n",
       "      <td>0.000000</td>\n",
       "      <td>N</td>\n",
       "    </tr>\n",
       "    <tr>\n",
       "      <th>4</th>\n",
       "      <td>23637</td>\n",
       "      <td>0</td>\n",
       "      <td>2</td>\n",
       "      <td>2</td>\n",
       "      <td>0</td>\n",
       "      <td>34</td>\n",
       "      <td>22260.94</td>\n",
       "      <td>6060.94</td>\n",
       "      <td>1</td>\n",
       "      <td>1</td>\n",
       "      <td>1</td>\n",
       "      <td>1</td>\n",
       "      <td>1</td>\n",
       "      <td>1</td>\n",
       "      <td>1</td>\n",
       "      <td>1</td>\n",
       "      <td>1</td>\n",
       "      <td>0</td>\n",
       "      <td>0</td>\n",
       "      <td>0</td>\n",
       "      <td>0</td>\n",
       "      <td>-1.0</td>\n",
       "      <td>-1.0</td>\n",
       "      <td>-1.0</td>\n",
       "      <td>-1.0</td>\n",
       "      <td>88000.0</td>\n",
       "      <td>15660.04</td>\n",
       "      <td>21246.48</td>\n",
       "      <td>16483.54</td>\n",
       "      <td>0</td>\n",
       "      <td>6172.94</td>\n",
       "      <td>9099.94</td>\n",
       "      <td>15858.71</td>\n",
       "      <td>14008.08</td>\n",
       "      <td>4570.73</td>\n",
       "      <td>1.0</td>\n",
       "      <td>-1.0</td>\n",
       "      <td>1.0</td>\n",
       "      <td>11.0</td>\n",
       "      <td>15094.78</td>\n",
       "      <td>21.0</td>\n",
       "      <td>16.0</td>\n",
       "      <td>7.0</td>\n",
       "      <td>16.0</td>\n",
       "      <td>8333.35</td>\n",
       "      <td>13.0</td>\n",
       "      <td>-1.0</td>\n",
       "      <td>-1.0</td>\n",
       "      <td>-1.0</td>\n",
       "      <td>-1.0</td>\n",
       "      <td>380.0</td>\n",
       "      <td>1.0</td>\n",
       "      <td>-1.0</td>\n",
       "      <td>-1.0</td>\n",
       "      <td>-1.0</td>\n",
       "      <td>-1.0</td>\n",
       "      <td>0</td>\n",
       "      <td>0</td>\n",
       "      <td>0</td>\n",
       "      <td>0</td>\n",
       "      <td>0</td>\n",
       "      <td>2</td>\n",
       "      <td>1</td>\n",
       "      <td>0</td>\n",
       "      <td>0</td>\n",
       "      <td>0</td>\n",
       "      <td>18668.96</td>\n",
       "      <td>24565.91</td>\n",
       "      <td>4.0</td>\n",
       "      <td>7.0</td>\n",
       "      <td>14000.0</td>\n",
       "      <td>26931.60</td>\n",
       "      <td>29500.0</td>\n",
       "      <td>3.0</td>\n",
       "      <td>7.0</td>\n",
       "      <td>21500.0</td>\n",
       "      <td>13700.00</td>\n",
       "      <td>9264.0</td>\n",
       "      <td>4.0</td>\n",
       "      <td>1.0</td>\n",
       "      <td>5000.0</td>\n",
       "      <td>9817.25</td>\n",
       "      <td>6532.79</td>\n",
       "      <td>4.0</td>\n",
       "      <td>3.0</td>\n",
       "      <td>3580.0</td>\n",
       "      <td>37936.00</td>\n",
       "      <td>58018.00</td>\n",
       "      <td>4.0</td>\n",
       "      <td>5.0</td>\n",
       "      <td>29000.0</td>\n",
       "      <td>16200.00</td>\n",
       "      <td>1307.07</td>\n",
       "      <td>4.0</td>\n",
       "      <td>1.0</td>\n",
       "      <td>690.0</td>\n",
       "      <td>52</td>\n",
       "      <td>-1.0</td>\n",
       "      <td>-1.0</td>\n",
       "      <td>13</td>\n",
       "      <td>-1.0</td>\n",
       "      <td>-1.0</td>\n",
       "      <td>13</td>\n",
       "      <td>13</td>\n",
       "      <td>13</td>\n",
       "      <td>12</td>\n",
       "      <td>324</td>\n",
       "      <td>-1.000000</td>\n",
       "      <td>0</td>\n",
       "      <td>0</td>\n",
       "      <td>0</td>\n",
       "      <td>0</td>\n",
       "      <td>0</td>\n",
       "      <td>0</td>\n",
       "      <td>0</td>\n",
       "      <td>0</td>\n",
       "      <td>1</td>\n",
       "      <td>0</td>\n",
       "      <td>0.0</td>\n",
       "      <td>0.0</td>\n",
       "      <td>0.0</td>\n",
       "      <td>0</td>\n",
       "      <td>21065.87</td>\n",
       "      <td>983.87</td>\n",
       "      <td>1</td>\n",
       "      <td>1</td>\n",
       "      <td>251.758794</td>\n",
       "      <td>N</td>\n",
       "    </tr>\n",
       "  </tbody>\n",
       "</table>\n",
       "</div>"
      ],
      "text/plain": [
       "   CUSTOMER_ID  ACT_TYPE  GENDER  LEGAL_ENTITY  OCCUP_ALL_NEW  AGE  \\\n",
       "0       385793         0       2             2              0   21   \n",
       "1       286891         0       2             2              0   23   \n",
       "2       108751         0       2             2              0   41   \n",
       "3       278651         0       2             2              0   28   \n",
       "4        23637         0       2             2              0   34   \n",
       "\n",
       "   N_CASA_MAX_BALANCE_MTD  N_CASA_MIN_BALANCE_MTD  CC_HOLD_MON_03  \\\n",
       "0                    0.00                    0.00               0   \n",
       "1                 8243.77                    7.77               0   \n",
       "2                26515.00                    0.00               0   \n",
       "3                65917.28                 8270.28               1   \n",
       "4                22260.94                 6060.94               1   \n",
       "\n",
       "   CC_HOLD_MON_02  CC_HOLD_MON_01  CC_ACTIVE_MON_03  CC_ACTIVE_MON_02  \\\n",
       "0               0               0                 0                 0   \n",
       "1               0               0                 0                 0   \n",
       "2               0               0                 0                 0   \n",
       "3               1               1                 1                 0   \n",
       "4               1               1                 1                 1   \n",
       "\n",
       "   CC_ACTIVE_MON_01  CC_HOLD  CC_ACTIVE  DC_HOLD  DC_ACTIVE_MON_03  \\\n",
       "0                 0        0          0        1                 0   \n",
       "1                 0        0          0        1                 1   \n",
       "2                 0        0          0        1                 0   \n",
       "3                 1        1          1        1                 1   \n",
       "4                 1        1          1        1                 0   \n",
       "\n",
       "   DC_ACTIVE_MON_02  DC_ACTIVE_MON_01  DC_ACTIVE  DC_SPEND_MON_03  \\\n",
       "0                 0                 0          0             -1.0   \n",
       "1                 1                 1          1             -1.0   \n",
       "2                 0                 0          0             -1.0   \n",
       "3                 1                 1          1          10960.0   \n",
       "4                 0                 0          0             -1.0   \n",
       "\n",
       "   DC_SPEND_MON_02  DC_SPEND_MON_01  DC_SPEND_MON_04  CR_LIMIT  STMT_MON_03  \\\n",
       "0             -1.0             -1.0             -1.0      -1.0        -1.00   \n",
       "1             -1.0             -1.0             -1.0      -1.0        -1.00   \n",
       "2             -1.0             -1.0             -1.0      -1.0        -1.00   \n",
       "3            795.0             -1.0           5340.0   62000.0      6051.22   \n",
       "4             -1.0             -1.0             -1.0   88000.0     15660.04   \n",
       "\n",
       "   STMT_MON_02  STMT_MON_01  COC_ELIGIBLE  EOP_BAL_MON_01  AMB_MON_04  \\\n",
       "0        -1.00        -1.00             0            0.00        0.00   \n",
       "1        -1.00        -1.00             0           11.77     1417.26   \n",
       "2        -1.00        -1.00             0        26458.25     5354.65   \n",
       "3     22681.82         0.00             1        65917.28   113120.39   \n",
       "4     21246.48     16483.54             0         6172.94     9099.94   \n",
       "\n",
       "   AMB_MON_01  AMB_MON_02  AMB_MON_03  NB_MON_01_CNT  NB_MON_02_CNT  \\\n",
       "0        0.00        0.00        0.00           -1.0           -1.0   \n",
       "1      300.51      593.06      418.09           -1.0           -1.0   \n",
       "2     6100.73     7955.82    11138.53            1.0            1.0   \n",
       "3    35560.81    42686.93    61593.38            1.0            1.0   \n",
       "4    15858.71    14008.08     4570.73            1.0           -1.0   \n",
       "\n",
       "   NB_MON_03_CNT  CC_TXN_MON_01  CC_SPEND_MON_06  CC_TXN_MON_06  \\\n",
       "0           -1.0           -1.0            -1.00           -1.0   \n",
       "1           -1.0           -1.0            -1.00           -1.0   \n",
       "2           -1.0           -1.0            -1.00           -1.0   \n",
       "3            1.0            3.0         10935.00            5.0   \n",
       "4            1.0           11.0         15094.78           21.0   \n",
       "\n",
       "   CC_TXN_MON_03  CC_TXN_MON_02  CC_TXN_MON_04  CC_SPEND_MON_05  \\\n",
       "0           -1.0           -1.0           -1.0            -1.00   \n",
       "1           -1.0           -1.0           -1.0            -1.00   \n",
       "2           -1.0           -1.0           -1.0            -1.00   \n",
       "3           15.0           -1.0            9.0           803.00   \n",
       "4           16.0            7.0           16.0          8333.35   \n",
       "\n",
       "   CC_TXN_MON_05  DC_TXN_MON_04  DC_TXN_MON_01  DC_SPEND_MON_06  \\\n",
       "0           -1.0           -1.0           -1.0             -1.0   \n",
       "1           -1.0            8.0            5.0            504.0   \n",
       "2           -1.0            2.0           -1.0             -1.0   \n",
       "3            4.0            2.0            6.0             -1.0   \n",
       "4           13.0           -1.0           -1.0             -1.0   \n",
       "\n",
       "   DC_TXN_MON_06  DC_SPEND_MON_05  DC_TXN_MON_05  DC_TXN_MON_03  \\\n",
       "0           -1.0             -1.0           -1.0           -1.0   \n",
       "1            7.0            631.0           13.0           12.0   \n",
       "2           -1.0             -1.0           -1.0           -1.0   \n",
       "3           -1.0           1531.0            2.0            9.0   \n",
       "4           -1.0            380.0            1.0           -1.0   \n",
       "\n",
       "   DC_TXN_MON_02  DC_SPEND_MON_04_GRC  DC_SPEND_MON_04_RST  FINANCE_MON_01  \\\n",
       "0           -1.0                 -1.0                 -1.0               0   \n",
       "1            1.0                 -1.0                 -1.0               0   \n",
       "2           -1.0                 -1.0                 -1.0               0   \n",
       "3           12.0               1330.0                 -1.0               1   \n",
       "4           -1.0                 -1.0                 -1.0               0   \n",
       "\n",
       "   JOBS_MON_01  LIFESTYLE_MON_01  INMON_01KET_MON_01  TRAVEL_MON_01  \\\n",
       "0            0                 0                   0              0   \n",
       "1            0                 0                   0              0   \n",
       "2            0                 0                   0              1   \n",
       "3            0                 0                   0              0   \n",
       "4            0                 0                   0              0   \n",
       "\n",
       "   CHANNEL_CLICK_DISP  DESIGNATION_FINAL  TOP14_CITY  TOP9_CITY  \\\n",
       "0                   2                  4           1          1   \n",
       "1                   2                  4           1          1   \n",
       "2                   2                  4           0          0   \n",
       "3                   2                  4           0          0   \n",
       "4                   2                  1           0          0   \n",
       "\n",
       "   PL2CC_ELIGIBLE  D_AMT_L3_MON_06  C_AMT_L3_MON_06  C_COUNT_L3_MON_06  \\\n",
       "0               0            39.00            -1.00                0.0   \n",
       "1               0         17250.00         17870.00                3.0   \n",
       "2               0         39362.25         39125.00                2.0   \n",
       "3               0        128169.25         20152.03                2.0   \n",
       "4               0         18668.96         24565.91                4.0   \n",
       "\n",
       "   D_COUNT_L3_MON_06  MAX_C_AMT_L3_MON_06  D_AMT_L3_MON_05  C_AMT_L3_MON_05  \\\n",
       "0                1.0                 -1.0            -1.00             -1.0   \n",
       "1               19.0               7957.0         12965.50          12336.5   \n",
       "2                8.0              28171.0          2005.75          31261.0   \n",
       "3               20.0              19840.0         52325.00          19840.0   \n",
       "4                7.0              14000.0         26931.60          29500.0   \n",
       "\n",
       "   C_COUNT_L3_MON_05  D_COUNT_L3_MON_05  MAX_C_AMT_L3_MON_05  D_AMT_L3_MON_04  \\\n",
       "0               -1.0               -1.0                 -1.0            -1.00   \n",
       "1                6.0               21.0               8011.0         23448.52   \n",
       "2                3.0                2.0              16171.0         29064.00   \n",
       "3                1.0                8.0              19840.0         69002.00   \n",
       "4                3.0                7.0              21500.0         13700.00   \n",
       "\n",
       "   C_AMT_L3_MON_04  C_COUNT_L3_MON_04  D_COUNT_L3_MON_04  MAX_C_AMT_L3_MON_04  \\\n",
       "0             -1.0               -1.0               -1.0                 -1.0   \n",
       "1          23457.0                4.0               12.0              12000.0   \n",
       "2          16197.0                2.0                3.0              16171.0   \n",
       "3          21526.0                2.0                9.0              19840.0   \n",
       "4           9264.0                4.0                1.0               5000.0   \n",
       "\n",
       "   D_AMT_L3_MON_03  C_AMT_L3_MON_03  C_COUNT_L3_MON_03  D_COUNT_L3_MON_03  \\\n",
       "0            -1.00            -1.00               -1.0               -1.0   \n",
       "1         17161.73         17154.75                6.0               20.0   \n",
       "2          8727.25          7180.00                2.0                3.0   \n",
       "3         75750.25         19605.00                1.0               18.0   \n",
       "4          9817.25          6532.79                4.0                3.0   \n",
       "\n",
       "   MAX_C_AMT_L3_MON_03  D_AMT_L3_MON_02  C_AMT_L3_MON_02  C_COUNT_L3_MON_02  \\\n",
       "0                 -1.0            -1.00            -1.00               -1.0   \n",
       "1               8144.0          8720.00         11733.75                4.0   \n",
       "2               4680.0         36375.75         31516.00                2.0   \n",
       "3              19605.0         37712.17         15200.00                1.0   \n",
       "4               3580.0         37936.00         58018.00                4.0   \n",
       "\n",
       "   D_COUNT_L3_MON_02  MAX_C_AMT_L3_MON_02  D_AMT_L3_MON_01  C_AMT_L3_MON_01  \\\n",
       "0               -1.0                 -1.0            -1.00            -1.00   \n",
       "1                3.0               7519.0         13763.00         10758.00   \n",
       "2                4.0              16516.0         28520.75         44980.00   \n",
       "3               17.0              15200.0         47158.82         85913.00   \n",
       "4                5.0              29000.0         16200.00          1307.07   \n",
       "\n",
       "   C_COUNT_L3_MON_01  D_COUNT_L3_MON_01  MAX_C_AMT_L3_MON_01  PA_PQ_TAG  \\\n",
       "0               -1.0               -1.0                 -1.0          0   \n",
       "1                3.0                9.0               8240.0          0   \n",
       "2                5.0                3.0              16516.0          0   \n",
       "3                4.0               11.0              46500.0          0   \n",
       "4                4.0                1.0                690.0         52   \n",
       "\n",
       "   NEFT_CC_AMOUNT  NEFT_CC_TXN  NEFT_CC_CATEGORY  NEFT_DC_AMOUNT  NEFT_DC_TXN  \\\n",
       "0            -1.0         -1.0                13            -1.0         -1.0   \n",
       "1            -1.0         -1.0                13            -1.0         -1.0   \n",
       "2            -1.0         -1.0                13         26515.0          1.0   \n",
       "3            -1.0         -1.0                13            -1.0         -1.0   \n",
       "4            -1.0         -1.0                13            -1.0         -1.0   \n",
       "\n",
       "   NEFT_DC_CATEGORY  TPT_DC_CATEGORY_MON_01  TPT_CC_CATEGORY_MON_01  \\\n",
       "0                13                      13                      13   \n",
       "1                13                      13                      13   \n",
       "2                12                      13                      13   \n",
       "3                13                      13                      13   \n",
       "4                13                      13                      13   \n",
       "\n",
       "   IMPS_CC_CATEGORY_MON_01  ZIP_CODE_FINAL  CRED_NEED_SCORE  \\\n",
       "0                       13            9960        -1.000000   \n",
       "1                       13           19110        -1.000000   \n",
       "2                       13             298        -1.000000   \n",
       "3                       13            6843         0.247852   \n",
       "4                       12             324        -1.000000   \n",
       "\n",
       "   CARD_AUTOMOBILE_MON_01  CARD_HOTEL_MON_01  CARD_JEWELLERY_MON_01  \\\n",
       "0                       0                  0                      0   \n",
       "1                       0                  0                      0   \n",
       "2                       0                  0                      0   \n",
       "3                       0                  0                      1   \n",
       "4                       0                  0                      0   \n",
       "\n",
       "   CARD_RESTAURANT_MON_01  CARD_TRAVEL_MON_01  CARD_PRSNL_CARE_MON_01  \\\n",
       "0                       0                   0                       0   \n",
       "1                       0                   0                       0   \n",
       "2                       0                   0                       0   \n",
       "3                       0                   0                       1   \n",
       "4                       0                   0                       0   \n",
       "\n",
       "   CARD_HOBBY_MON_01  CARD_HOME_DECOR_MON_01  CARD_MEDICAL_MON_01  \\\n",
       "0                  0                       0                    0   \n",
       "1                  0                       0                    0   \n",
       "2                  0                       0                    0   \n",
       "3                  0                       1                    1   \n",
       "4                  0                       0                    1   \n",
       "\n",
       "   CARD_ENTMNT_MON_01  SAL_MON_01  SAL_MON_02  SAL_MON_03  TOP_CORP_TAG  \\\n",
       "0                   0         0.0         0.0         0.0             0   \n",
       "1                   0     10754.0      8733.0     17154.0             0   \n",
       "2                   0         0.0         0.0         0.0             0   \n",
       "3                   0     38952.0     15200.0     19605.0             0   \n",
       "4                   0         0.0         0.0         0.0             0   \n",
       "\n",
       "   EOP_MON_02  EOP_MON_03  CREDIT_ACT  DEBIT_ACT   SCRUB_EMI RESPONDERS  \n",
       "0        0.00        0.00           0          0    0.000000          N  \n",
       "1     3016.77        3.02           1          1    0.000000          N  \n",
       "2     9999.00    14858.75           1          1    0.000000          N  \n",
       "3    27163.10    49675.27           1          1    0.000000          N  \n",
       "4    21065.87      983.87           1          1  251.758794          N  "
      ]
     },
     "execution_count": 15,
     "metadata": {},
     "output_type": "execute_result"
    }
   ],
   "source": [
    "train.head()"
   ]
  },
  {
   "cell_type": "code",
   "execution_count": 26,
   "metadata": {
    "collapsed": false
   },
   "outputs": [],
   "source": [
    "import xgboost as xgb\n",
    "from sklearn.model_selection import StratifiedKFold"
   ]
  },
  {
   "cell_type": "code",
   "execution_count": 31,
   "metadata": {
    "collapsed": true
   },
   "outputs": [],
   "source": [
    "train['RESPONDERS'] = train['RESPONDERS'].replace(to_replace = {'Y':1, 'N':0})\n",
    "target = train['RESPONDERS']"
   ]
  },
  {
   "cell_type": "code",
   "execution_count": 33,
   "metadata": {
    "collapsed": true
   },
   "outputs": [],
   "source": [
    "feature_names = [x for x in train.columns if x not in ['CUSTOMER_ID','RESPONDERS']]"
   ]
  },
  {
   "cell_type": "code",
   "execution_count": 83,
   "metadata": {
    "collapsed": true
   },
   "outputs": [],
   "source": [
    "nfolds = 7\n",
    "skf = StratifiedKFold(n_splits=nfolds, shuffle=True, random_state=9087)"
   ]
  },
  {
   "cell_type": "code",
   "execution_count": 68,
   "metadata": {
    "collapsed": true
   },
   "outputs": [],
   "source": [
    "params = {\"objective\": \"binary:logistic\",\n",
    "          \"booster\": \"gbtree\",\n",
    "          \"nthread\": 4,\n",
    "          \"eta\": 0.1,\n",
    "          \"max_depth\": 4,\n",
    "          \"subsample\": 0.9,\n",
    "          \"colsample_bytree\": 0.6,\n",
    "          \"min_child_weight\": 2*3,\n",
    "          \"seed\": 2016, \n",
    "          \"tree_method\": \"exact\",\n",
    "         \"eval_metric\":\"auc\"}"
   ]
  },
  {
   "cell_type": "code",
   "execution_count": 82,
   "metadata": {
    "collapsed": true
   },
   "outputs": [],
   "source": [
    "oof_train = pd.DataFrame({'CUSTOMER_ID':train['CUSTOMER_ID'], 'RESPONDERS':0})\n",
    "allpredictions = pd.DataFrame()\n",
    "score = []"
   ]
  },
  {
   "cell_type": "code",
   "execution_count": 84,
   "metadata": {
    "collapsed": false,
    "scrolled": true
   },
   "outputs": [
    {
     "name": "stdout",
     "output_type": "stream",
     "text": [
      "Fold 1/7\n"
     ]
    },
    {
     "name": "stderr",
     "output_type": "stream",
     "text": [
      "/home/manish/anaconda2/envs/py35/lib/python3.5/site-packages/ipykernel/__main__.py:10: UserWarning: Boolean Series key will be reindexed to match DataFrame index.\n"
     ]
    },
    {
     "name": "stdout",
     "output_type": "stream",
     "text": [
      "[0]\ttrain-auc:0.816296\tvalid-auc:0.818877\n",
      "Multiple eval metrics have been passed: 'valid-auc' will be used for early stopping.\n",
      "\n",
      "Will train until valid-auc hasn't improved in 40 rounds.\n",
      "[20]\ttrain-auc:0.864038\tvalid-auc:0.858376\n",
      "[40]\ttrain-auc:0.873\tvalid-auc:0.864849\n",
      "[60]\ttrain-auc:0.883539\tvalid-auc:0.870516\n",
      "[80]\ttrain-auc:0.891555\tvalid-auc:0.873721\n",
      "[100]\ttrain-auc:0.897471\tvalid-auc:0.875445\n",
      "[120]\ttrain-auc:0.902283\tvalid-auc:0.876385\n",
      "[140]\ttrain-auc:0.906198\tvalid-auc:0.876962\n",
      "[160]\ttrain-auc:0.910037\tvalid-auc:0.877803\n",
      "[180]\ttrain-auc:0.913406\tvalid-auc:0.878202\n",
      "[200]\ttrain-auc:0.917493\tvalid-auc:0.87854\n",
      "[220]\ttrain-auc:0.920292\tvalid-auc:0.878074\n",
      "[240]\ttrain-auc:0.923201\tvalid-auc:0.878276\n",
      "Stopping. Best iteration:\n",
      "[201]\ttrain-auc:0.9176\tvalid-auc:0.878599\n",
      "\n",
      "Fold 2/7\n",
      "[0]\ttrain-auc:0.816268\tvalid-auc:0.814429\n",
      "Multiple eval metrics have been passed: 'valid-auc' will be used for early stopping.\n",
      "\n",
      "Will train until valid-auc hasn't improved in 40 rounds.\n",
      "[20]\ttrain-auc:0.864213\tvalid-auc:0.866753\n",
      "[40]\ttrain-auc:0.872633\tvalid-auc:0.869668\n",
      "[60]\ttrain-auc:0.88286\tvalid-auc:0.873681\n",
      "[80]\ttrain-auc:0.890637\tvalid-auc:0.87623\n",
      "[100]\ttrain-auc:0.897061\tvalid-auc:0.878817\n",
      "[120]\ttrain-auc:0.901577\tvalid-auc:0.879601\n",
      "[140]\ttrain-auc:0.905147\tvalid-auc:0.879921\n",
      "[160]\ttrain-auc:0.90941\tvalid-auc:0.880135\n",
      "[180]\ttrain-auc:0.913588\tvalid-auc:0.881256\n",
      "[200]\ttrain-auc:0.916528\tvalid-auc:0.881365\n",
      "[220]\ttrain-auc:0.919804\tvalid-auc:0.881836\n",
      "[240]\ttrain-auc:0.921846\tvalid-auc:0.881911\n",
      "[260]\ttrain-auc:0.924667\tvalid-auc:0.881521\n",
      "Stopping. Best iteration:\n",
      "[233]\ttrain-auc:0.921323\tvalid-auc:0.88198\n",
      "\n",
      "Fold 3/7\n",
      "[0]\ttrain-auc:0.813834\tvalid-auc:0.821881\n",
      "Multiple eval metrics have been passed: 'valid-auc' will be used for early stopping.\n",
      "\n",
      "Will train until valid-auc hasn't improved in 40 rounds.\n",
      "[20]\ttrain-auc:0.865495\tvalid-auc:0.865764\n",
      "[40]\ttrain-auc:0.872984\tvalid-auc:0.869256\n",
      "[60]\ttrain-auc:0.883335\tvalid-auc:0.874979\n",
      "[80]\ttrain-auc:0.89119\tvalid-auc:0.87767\n",
      "[100]\ttrain-auc:0.897021\tvalid-auc:0.878976\n",
      "[120]\ttrain-auc:0.902616\tvalid-auc:0.879184\n",
      "[140]\ttrain-auc:0.906552\tvalid-auc:0.879462\n",
      "[160]\ttrain-auc:0.910182\tvalid-auc:0.880017\n",
      "[180]\ttrain-auc:0.913942\tvalid-auc:0.879453\n",
      "[200]\ttrain-auc:0.917294\tvalid-auc:0.879786\n",
      "Stopping. Best iteration:\n",
      "[161]\ttrain-auc:0.910462\tvalid-auc:0.880031\n",
      "\n",
      "Fold 4/7\n",
      "[0]\ttrain-auc:0.814157\tvalid-auc:0.807643\n",
      "Multiple eval metrics have been passed: 'valid-auc' will be used for early stopping.\n",
      "\n",
      "Will train until valid-auc hasn't improved in 40 rounds.\n",
      "[20]\ttrain-auc:0.865585\tvalid-auc:0.858323\n",
      "[40]\ttrain-auc:0.874025\tvalid-auc:0.863536\n",
      "[60]\ttrain-auc:0.884687\tvalid-auc:0.869472\n",
      "[80]\ttrain-auc:0.892175\tvalid-auc:0.871633\n",
      "[100]\ttrain-auc:0.898036\tvalid-auc:0.873248\n",
      "[120]\ttrain-auc:0.903563\tvalid-auc:0.87443\n",
      "[140]\ttrain-auc:0.907363\tvalid-auc:0.875075\n",
      "[160]\ttrain-auc:0.911322\tvalid-auc:0.875535\n",
      "[180]\ttrain-auc:0.914619\tvalid-auc:0.875834\n",
      "[200]\ttrain-auc:0.917838\tvalid-auc:0.875917\n",
      "[220]\ttrain-auc:0.920923\tvalid-auc:0.875853\n",
      "[240]\ttrain-auc:0.924409\tvalid-auc:0.875937\n",
      "Stopping. Best iteration:\n",
      "[207]\ttrain-auc:0.919044\tvalid-auc:0.876306\n",
      "\n",
      "Fold 5/7\n",
      "[0]\ttrain-auc:0.819216\tvalid-auc:0.789409\n",
      "Multiple eval metrics have been passed: 'valid-auc' will be used for early stopping.\n",
      "\n",
      "Will train until valid-auc hasn't improved in 40 rounds.\n",
      "[20]\ttrain-auc:0.868284\tvalid-auc:0.834839\n",
      "[40]\ttrain-auc:0.877211\tvalid-auc:0.84201\n",
      "[60]\ttrain-auc:0.886784\tvalid-auc:0.84774\n",
      "[80]\ttrain-auc:0.894615\tvalid-auc:0.850574\n",
      "[100]\ttrain-auc:0.900288\tvalid-auc:0.852607\n",
      "[120]\ttrain-auc:0.905731\tvalid-auc:0.852845\n",
      "[140]\ttrain-auc:0.910652\tvalid-auc:0.85442\n",
      "[160]\ttrain-auc:0.914169\tvalid-auc:0.855137\n",
      "[180]\ttrain-auc:0.917426\tvalid-auc:0.854899\n",
      "Stopping. Best iteration:\n",
      "[157]\ttrain-auc:0.913585\tvalid-auc:0.855294\n",
      "\n",
      "Fold 6/7\n",
      "[0]\ttrain-auc:0.815807\tvalid-auc:0.802338\n",
      "Multiple eval metrics have been passed: 'valid-auc' will be used for early stopping.\n",
      "\n",
      "Will train until valid-auc hasn't improved in 40 rounds.\n",
      "[20]\ttrain-auc:0.865249\tvalid-auc:0.858907\n",
      "[40]\ttrain-auc:0.873702\tvalid-auc:0.864339\n",
      "[60]\ttrain-auc:0.883016\tvalid-auc:0.867434\n",
      "[80]\ttrain-auc:0.890667\tvalid-auc:0.872648\n",
      "[100]\ttrain-auc:0.896771\tvalid-auc:0.874835\n",
      "[120]\ttrain-auc:0.901399\tvalid-auc:0.87616\n",
      "[140]\ttrain-auc:0.905196\tvalid-auc:0.877088\n",
      "[160]\ttrain-auc:0.908856\tvalid-auc:0.878191\n",
      "[180]\ttrain-auc:0.912734\tvalid-auc:0.879206\n",
      "[200]\ttrain-auc:0.915828\tvalid-auc:0.879495\n",
      "[220]\ttrain-auc:0.918802\tvalid-auc:0.879856\n",
      "[240]\ttrain-auc:0.921434\tvalid-auc:0.880154\n",
      "[260]\ttrain-auc:0.924005\tvalid-auc:0.880543\n",
      "[280]\ttrain-auc:0.926729\tvalid-auc:0.880248\n",
      "[300]\ttrain-auc:0.929609\tvalid-auc:0.880041\n",
      "Stopping. Best iteration:\n",
      "[271]\ttrain-auc:0.92555\tvalid-auc:0.880701\n",
      "\n",
      "Fold 7/7\n",
      "[0]\ttrain-auc:0.834448\tvalid-auc:0.833138\n",
      "Multiple eval metrics have been passed: 'valid-auc' will be used for early stopping.\n",
      "\n",
      "Will train until valid-auc hasn't improved in 40 rounds.\n",
      "[20]\ttrain-auc:0.863898\tvalid-auc:0.861439\n",
      "[40]\ttrain-auc:0.873686\tvalid-auc:0.866149\n",
      "[60]\ttrain-auc:0.883304\tvalid-auc:0.870387\n",
      "[80]\ttrain-auc:0.890999\tvalid-auc:0.873067\n",
      "[100]\ttrain-auc:0.897386\tvalid-auc:0.874258\n",
      "[120]\ttrain-auc:0.90285\tvalid-auc:0.87483\n",
      "[140]\ttrain-auc:0.907056\tvalid-auc:0.874912\n",
      "[160]\ttrain-auc:0.910626\tvalid-auc:0.875023\n",
      "[180]\ttrain-auc:0.913882\tvalid-auc:0.875278\n",
      "[200]\ttrain-auc:0.917336\tvalid-auc:0.874639\n",
      "Stopping. Best iteration:\n",
      "[165]\ttrain-auc:0.911576\tvalid-auc:0.875474\n",
      "\n"
     ]
    }
   ],
   "source": [
    "increase = True\n",
    "for i, (train_index, test_index) in enumerate(skf.split(train, target)):\n",
    "    print('Fold %d/%d'%(i+1, nfolds))\n",
    "    X_train, X_valid = train.iloc[train_index], train.iloc[test_index]\n",
    "    y_train, y_valid = target.iloc[train_index], target.iloc[test_index]\n",
    "    \n",
    "    if increase:\n",
    "        pos = pd.Series(target == 1)\n",
    "\n",
    "        X_train = pd.concat([X_train, X_train[pos]], axis=0)\n",
    "        y_train = pd.concat([y_train, y_train.loc[pos]], axis=0)\n",
    "        \n",
    "        idx = np.arange(len(X_train))\n",
    "        np.random.shuffle(idx)\n",
    "        X_train = X_train.iloc[idx]\n",
    "        y_train = y_train.iloc[idx]\n",
    "    \n",
    "    dtrain = xgb.DMatrix(X_train[feature_names], label=y_train, missing=-1)\n",
    "    dvalid = xgb.DMatrix(X_valid[feature_names], label=y_valid, missing = -1)\n",
    "    \n",
    "    watchlist = [(dtrain, 'train'),(dvalid,'valid')]\n",
    "    \n",
    "    clf = xgb.train(params,\n",
    "                    dtrain,\n",
    "                    num_boost_round=10000,\n",
    "                    evals=watchlist,\n",
    "                    early_stopping_rounds=40,\n",
    "                    verbose_eval=20,\n",
    "                    maximize = True)\n",
    "    \n",
    "    pred1 = clf.predict(dvalid)\n",
    "    oof_train.loc[test_index, 'RESPONDERS'] = pred1\n",
    "    \n",
    "    scr = roc_auc_score(y_valid, pred1)\n",
    "    dtest = xgb.DMatrix(test[feature_names], missing= - 1)\n",
    "    preds2 = clf.predict(dtest)\n",
    "    \n",
    "    allpredictions['p'+str(i)] = preds2\n",
    "    score.append(scr)\n",
    "    \n",
    "    del X_train, X_valid, y_train, y_valid, clf, pred1"
   ]
  },
  {
   "cell_type": "code",
   "execution_count": 85,
   "metadata": {
    "collapsed": false
   },
   "outputs": [
    {
     "data": {
      "text/plain": [
       "0.87486859626379154"
      ]
     },
     "execution_count": 85,
     "metadata": {},
     "output_type": "execute_result"
    }
   ],
   "source": [
    "np.mean(score)"
   ]
  },
  {
   "cell_type": "code",
   "execution_count": 87,
   "metadata": {
    "collapsed": true
   },
   "outputs": [],
   "source": [
    "oof_train.to_csv('submissions/oof_preds/xgb_train1.csv', index=False)"
   ]
  },
  {
   "cell_type": "code",
   "execution_count": 88,
   "metadata": {
    "collapsed": false
   },
   "outputs": [
    {
     "data": {
      "text/html": [
       "<div>\n",
       "<table border=\"1\" class=\"dataframe\">\n",
       "  <thead>\n",
       "    <tr style=\"text-align: right;\">\n",
       "      <th></th>\n",
       "      <th>p0</th>\n",
       "      <th>p1</th>\n",
       "      <th>p2</th>\n",
       "      <th>p3</th>\n",
       "      <th>p4</th>\n",
       "      <th>p5</th>\n",
       "      <th>p6</th>\n",
       "    </tr>\n",
       "  </thead>\n",
       "  <tbody>\n",
       "    <tr>\n",
       "      <th>0</th>\n",
       "      <td>0.010397</td>\n",
       "      <td>0.009606</td>\n",
       "      <td>0.009854</td>\n",
       "      <td>0.011680</td>\n",
       "      <td>0.007875</td>\n",
       "      <td>0.006835</td>\n",
       "      <td>0.016271</td>\n",
       "    </tr>\n",
       "    <tr>\n",
       "      <th>1</th>\n",
       "      <td>0.013806</td>\n",
       "      <td>0.010962</td>\n",
       "      <td>0.016313</td>\n",
       "      <td>0.011847</td>\n",
       "      <td>0.025325</td>\n",
       "      <td>0.015108</td>\n",
       "      <td>0.021205</td>\n",
       "    </tr>\n",
       "    <tr>\n",
       "      <th>2</th>\n",
       "      <td>0.001101</td>\n",
       "      <td>0.001163</td>\n",
       "      <td>0.001230</td>\n",
       "      <td>0.001291</td>\n",
       "      <td>0.001350</td>\n",
       "      <td>0.001239</td>\n",
       "      <td>0.001251</td>\n",
       "    </tr>\n",
       "    <tr>\n",
       "      <th>3</th>\n",
       "      <td>0.001208</td>\n",
       "      <td>0.001245</td>\n",
       "      <td>0.001334</td>\n",
       "      <td>0.001174</td>\n",
       "      <td>0.001164</td>\n",
       "      <td>0.001158</td>\n",
       "      <td>0.001206</td>\n",
       "    </tr>\n",
       "    <tr>\n",
       "      <th>4</th>\n",
       "      <td>0.025599</td>\n",
       "      <td>0.020299</td>\n",
       "      <td>0.031069</td>\n",
       "      <td>0.028825</td>\n",
       "      <td>0.015245</td>\n",
       "      <td>0.033325</td>\n",
       "      <td>0.023601</td>\n",
       "    </tr>\n",
       "  </tbody>\n",
       "</table>\n",
       "</div>"
      ],
      "text/plain": [
       "         p0        p1        p2        p3        p4        p5        p6\n",
       "0  0.010397  0.009606  0.009854  0.011680  0.007875  0.006835  0.016271\n",
       "1  0.013806  0.010962  0.016313  0.011847  0.025325  0.015108  0.021205\n",
       "2  0.001101  0.001163  0.001230  0.001291  0.001350  0.001239  0.001251\n",
       "3  0.001208  0.001245  0.001334  0.001174  0.001164  0.001158  0.001206\n",
       "4  0.025599  0.020299  0.031069  0.028825  0.015245  0.033325  0.023601"
      ]
     },
     "execution_count": 88,
     "metadata": {},
     "output_type": "execute_result"
    }
   ],
   "source": [
    "allpredictions.head()"
   ]
  },
  {
   "cell_type": "code",
   "execution_count": 89,
   "metadata": {
    "collapsed": true
   },
   "outputs": [],
   "source": [
    "sub = pd.read_csv('sample_submission_ROqqAAN.csv')\n",
    "sub['CUSTOMER_ID'] = test['CUSTOMER_ID']\n",
    "sub['RESPONDERS'] = allpredictions.mean(axis=1).values"
   ]
  },
  {
   "cell_type": "code",
   "execution_count": 90,
   "metadata": {
    "collapsed": true
   },
   "outputs": [],
   "source": [
    "sub.to_csv('submissions/xgb_bagging_seven.csv', index=False) # 0.58"
   ]
  },
  {
   "cell_type": "code",
   "execution_count": null,
   "metadata": {
    "collapsed": true
   },
   "outputs": [],
   "source": []
  },
  {
   "cell_type": "markdown",
   "metadata": {},
   "source": [
    "### Do PCA and get new features"
   ]
  },
  {
   "cell_type": "code",
   "execution_count": 93,
   "metadata": {
    "collapsed": true
   },
   "outputs": [],
   "source": [
    "dim_train = train[feature_names]\n",
    "dim_test = test[feature_names]"
   ]
  },
  {
   "cell_type": "code",
   "execution_count": 94,
   "metadata": {
    "collapsed": true
   },
   "outputs": [],
   "source": [
    "from sklearn.preprocessing import RobustScaler"
   ]
  },
  {
   "cell_type": "code",
   "execution_count": 95,
   "metadata": {
    "collapsed": true
   },
   "outputs": [],
   "source": [
    "rb = RobustScaler()"
   ]
  },
  {
   "cell_type": "code",
   "execution_count": 101,
   "metadata": {
    "collapsed": true
   },
   "outputs": [],
   "source": [
    "dim_train = rb.fit_transform(dim_train)\n",
    "dim_test = rb.fit_transform(dim_test)"
   ]
  },
  {
   "cell_type": "code",
   "execution_count": 91,
   "metadata": {
    "collapsed": true
   },
   "outputs": [],
   "source": [
    "n_comp = 5"
   ]
  },
  {
   "cell_type": "code",
   "execution_count": 105,
   "metadata": {
    "collapsed": true
   },
   "outputs": [],
   "source": [
    "tsvd = TruncatedSVD(n_components=n_comp, random_state=42)\n",
    "tsvd_train = tsvd.fit_transform(dim_train)\n",
    "tsvd_test = tsvd.transform(dim_test)"
   ]
  },
  {
   "cell_type": "code",
   "execution_count": 107,
   "metadata": {
    "collapsed": true
   },
   "outputs": [],
   "source": [
    "pca = PCA(n_components=n_comp, random_state=420)\n",
    "pca_train = pca.fit_transform(dim_train)\n",
    "pca_test = pca.transform(dim_test)"
   ]
  },
  {
   "cell_type": "code",
   "execution_count": 108,
   "metadata": {
    "collapsed": true
   },
   "outputs": [],
   "source": [
    "ica = FastICA(n_components=n_comp, random_state=2030)\n",
    "ica_train = ica.fit_transform(dim_train)\n",
    "ica_test = ica.transform(dim_test)"
   ]
  },
  {
   "cell_type": "code",
   "execution_count": 109,
   "metadata": {
    "collapsed": true
   },
   "outputs": [],
   "source": [
    "grp = GaussianRandomProjection(n_components=n_comp, random_state=42)\n",
    "grp_train = grp.fit_transform(dim_train)\n",
    "grp_test = grp.transform(dim_test)"
   ]
  },
  {
   "cell_type": "code",
   "execution_count": 110,
   "metadata": {
    "collapsed": true
   },
   "outputs": [],
   "source": [
    "srp = SparseRandomProjection(n_components=n_comp, random_state=42)\n",
    "srp_train = srp.fit_transform(dim_train)\n",
    "srp_test = srp.transform(dim_test)"
   ]
  },
  {
   "cell_type": "code",
   "execution_count": 111,
   "metadata": {
    "collapsed": true
   },
   "outputs": [],
   "source": [
    "for i in range(1, n_comp + 1):\n",
    "    train['pca_' + str(i)] = pca_train[:,i-1]\n",
    "    test['pca_' + str(i)] = pca_test[:,i-1]\n",
    "    \n",
    "    train['tsvd_' + str(i)] = tsvd_train[:,i-1]\n",
    "    test['tsvd_' + str(i)] = tsvd_test[:,i-1]\n",
    "    \n",
    "    train['ica_' + str(i)] = ica_train[:,i-1]\n",
    "    test['ica_' + str(i)] = ica_test[:,i-1]\n",
    "    \n",
    "    train['grp_' + str(i)] = grp_train[:,i-1]\n",
    "    test['grp_' + str(i)] = grp_test[:,i-1]\n",
    "    \n",
    "    train['srp_' + str(i)] = srp_train[:,i-1]\n",
    "    test['srp_' + str(i)] = srp_test[:,i-1]"
   ]
  },
  {
   "cell_type": "code",
   "execution_count": 112,
   "metadata": {
    "collapsed": false
   },
   "outputs": [
    {
     "data": {
      "text/plain": [
       "(300000, 153)"
      ]
     },
     "execution_count": 112,
     "metadata": {},
     "output_type": "execute_result"
    }
   ],
   "source": [
    "train.shape"
   ]
  },
  {
   "cell_type": "code",
   "execution_count": 113,
   "metadata": {
    "collapsed": false,
    "scrolled": true
   },
   "outputs": [
    {
     "data": {
      "text/plain": [
       "(200000, 152)"
      ]
     },
     "execution_count": 113,
     "metadata": {},
     "output_type": "execute_result"
    }
   ],
   "source": [
    "test.shape"
   ]
  },
  {
   "cell_type": "markdown",
   "metadata": {},
   "source": [
    "### XGB 1"
   ]
  },
  {
   "cell_type": "code",
   "execution_count": 120,
   "metadata": {
    "collapsed": true
   },
   "outputs": [],
   "source": [
    "from sklearn.model_selection import train_test_split"
   ]
  },
  {
   "cell_type": "code",
   "execution_count": 121,
   "metadata": {
    "collapsed": true
   },
   "outputs": [],
   "source": [
    "X_train, X_valid, y_train, y_valid = train_test_split(train, target, test_size = 0.3, stratify = target)"
   ]
  },
  {
   "cell_type": "code",
   "execution_count": 122,
   "metadata": {
    "collapsed": true
   },
   "outputs": [],
   "source": [
    "params = {\"objective\": \"binary:logistic\",\n",
    "          \"booster\": \"gbtree\",\n",
    "          \"nthread\": 4,\n",
    "          \"eta\": 0.1,\n",
    "          \"max_depth\": 4,\n",
    "          \"subsample\": 0.9,\n",
    "          \"colsample_bytree\": 0.6,\n",
    "          \"min_child_weight\": 2*3,\n",
    "          \"seed\": 2016, \n",
    "          \"tree_method\": \"exact\",\n",
    "         \"eval_metric\":\"auc\"}"
   ]
  },
  {
   "cell_type": "code",
   "execution_count": 171,
   "metadata": {
    "collapsed": true
   },
   "outputs": [],
   "source": [
    "dtrain = xgb.DMatrix(X_train[feature_names], y_train, missing=-1)\n",
    "dvalid = xgb.DMatrix(X_valid[feature_names], y_valid, missing=-1)\n",
    "dtest = xgb.DMatrix(test[feature_names], missing=-1)"
   ]
  },
  {
   "cell_type": "code",
   "execution_count": 126,
   "metadata": {
    "collapsed": true
   },
   "outputs": [],
   "source": [
    "watchlist = [(dtrain, 'train'),(dvalid, 'valid')]"
   ]
  },
  {
   "cell_type": "code",
   "execution_count": 127,
   "metadata": {
    "collapsed": false
   },
   "outputs": [
    {
     "name": "stdout",
     "output_type": "stream",
     "text": [
      "[0]\ttrain-auc:0.823539\tvalid-auc:0.82222\n",
      "Multiple eval metrics have been passed: 'valid-auc' will be used for early stopping.\n",
      "\n",
      "Will train until valid-auc hasn't improved in 40 rounds.\n",
      "[20]\ttrain-auc:0.865959\tvalid-auc:0.858904\n",
      "[40]\ttrain-auc:0.871839\tvalid-auc:0.861946\n",
      "[60]\ttrain-auc:0.881822\tvalid-auc:0.866571\n",
      "[80]\ttrain-auc:0.890338\tvalid-auc:0.86928\n",
      "[100]\ttrain-auc:0.897192\tvalid-auc:0.871136\n",
      "[120]\ttrain-auc:0.902828\tvalid-auc:0.872336\n",
      "[140]\ttrain-auc:0.90743\tvalid-auc:0.873333\n",
      "[160]\ttrain-auc:0.911658\tvalid-auc:0.873165\n",
      "[180]\ttrain-auc:0.916158\tvalid-auc:0.873491\n",
      "[200]\ttrain-auc:0.920118\tvalid-auc:0.873661\n",
      "[220]\ttrain-auc:0.92325\tvalid-auc:0.873668\n",
      "[240]\ttrain-auc:0.926623\tvalid-auc:0.873039\n",
      "Stopping. Best iteration:\n",
      "[208]\ttrain-auc:0.921646\tvalid-auc:0.8741\n",
      "\n"
     ]
    }
   ],
   "source": [
    "clf1 = xgb.train(params, dtrain, num_boost_round=10000, evals=watchlist, maximize=True, verbose_eval=20, early_stopping_rounds=40)"
   ]
  },
  {
   "cell_type": "code",
   "execution_count": 172,
   "metadata": {
    "collapsed": false
   },
   "outputs": [],
   "source": [
    "preds1 = clf1.predict(dtest)"
   ]
  },
  {
   "cell_type": "code",
   "execution_count": 174,
   "metadata": {
    "collapsed": false
   },
   "outputs": [],
   "source": [
    "sub = pd.read_csv('sample_submission_ROqqAAN.csv')\n",
    "sub['CUSTOMER_ID'] = test['CUSTOMER_ID']\n",
    "sub['RESPONDERS'] = preds1"
   ]
  },
  {
   "cell_type": "code",
   "execution_count": 175,
   "metadata": {
    "collapsed": true
   },
   "outputs": [],
   "source": [
    "sub.to_csv('submissions/xgb_single_two.csv', index=False) ## 0.5682"
   ]
  },
  {
   "cell_type": "code",
   "execution_count": null,
   "metadata": {
    "collapsed": true
   },
   "outputs": [],
   "source": []
  },
  {
   "cell_type": "markdown",
   "metadata": {},
   "source": [
    "### XGB 2 - remove zero variance features"
   ]
  },
  {
   "cell_type": "code",
   "execution_count": 161,
   "metadata": {
    "collapsed": false
   },
   "outputs": [],
   "source": [
    "## remove zero variance columns\n",
    "var_check = pd.DataFrame(columns=['name','variance'])\n",
    "\n",
    "for i, c in enumerate(train.columns):\n",
    "    if c not in ['CUSTOMER_ID','RESPONDERS']:\n",
    "        var_check.loc[i, 'name'] = c\n",
    "        var_check.loc[i, 'variance'] = train[c].var()\n",
    "        \n",
    "var_check.sort_values('variance', ascending=True).reset_index(drop=True)"
   ]
  },
  {
   "cell_type": "code",
   "execution_count": 169,
   "metadata": {
    "collapsed": false,
    "scrolled": true
   },
   "outputs": [],
   "source": [
    "cols_to_use = var_check[var_check['variance'] > 1]['name'].tolist() ## remove columns with variance lesser than zero"
   ]
  },
  {
   "cell_type": "code",
   "execution_count": 176,
   "metadata": {
    "collapsed": true
   },
   "outputs": [],
   "source": [
    "params = {\"objective\": \"binary:logistic\",\n",
    "          \"booster\": \"gbtree\",\n",
    "          \"nthread\": 4,\n",
    "          \"eta\": 0.1,\n",
    "          \"max_depth\": 5,\n",
    "          \"subsample\": 0.8,\n",
    "          \"colsample_bytree\": 0.3,\n",
    "          \"min_child_weight\": 0,\n",
    "          \"seed\": 2017, \n",
    "          \"tree_method\": \"exact\",\n",
    "         \"eval_metric\":\"auc\"}"
   ]
  },
  {
   "cell_type": "code",
   "execution_count": 177,
   "metadata": {
    "collapsed": true
   },
   "outputs": [],
   "source": [
    "dtrain = xgb.DMatrix(X_train[cols_to_use], y_train, missing=-1)\n",
    "dvalid = xgb.DMatrix(X_valid[cols_to_use], y_valid, missing=-1)\n",
    "dtest = xgb.DMatrix(test[cols_to_use], missing=-1)"
   ]
  },
  {
   "cell_type": "code",
   "execution_count": 178,
   "metadata": {
    "collapsed": true
   },
   "outputs": [],
   "source": [
    "watchlist = [(dtrain, 'train'),(dvalid, 'valid')]"
   ]
  },
  {
   "cell_type": "code",
   "execution_count": 179,
   "metadata": {
    "collapsed": false
   },
   "outputs": [
    {
     "name": "stdout",
     "output_type": "stream",
     "text": [
      "[0]\ttrain-auc:0.785563\tvalid-auc:0.779417\n",
      "Multiple eval metrics have been passed: 'valid-auc' will be used for early stopping.\n",
      "\n",
      "Will train until valid-auc hasn't improved in 40 rounds.\n",
      "[20]\ttrain-auc:0.869232\tvalid-auc:0.852376\n",
      "[40]\ttrain-auc:0.884828\tvalid-auc:0.862336\n",
      "[60]\ttrain-auc:0.897585\tvalid-auc:0.866906\n",
      "[80]\ttrain-auc:0.909083\tvalid-auc:0.86894\n",
      "[100]\ttrain-auc:0.918052\tvalid-auc:0.870188\n",
      "[120]\ttrain-auc:0.925934\tvalid-auc:0.87186\n",
      "[140]\ttrain-auc:0.931686\tvalid-auc:0.871643\n",
      "[160]\ttrain-auc:0.937222\tvalid-auc:0.871625\n",
      "Stopping. Best iteration:\n",
      "[127]\ttrain-auc:0.928259\tvalid-auc:0.872028\n",
      "\n"
     ]
    }
   ],
   "source": [
    "clf1 = xgb.train(params, dtrain, num_boost_round=10000, evals=watchlist, maximize=True, verbose_eval=20, early_stopping_rounds=40)"
   ]
  },
  {
   "cell_type": "code",
   "execution_count": 180,
   "metadata": {
    "collapsed": false
   },
   "outputs": [],
   "source": [
    "preds1 = clf1.predict(dtest)"
   ]
  },
  {
   "cell_type": "code",
   "execution_count": 181,
   "metadata": {
    "collapsed": false
   },
   "outputs": [],
   "source": [
    "sub = pd.read_csv('sample_submission_ROqqAAN.csv')\n",
    "sub['CUSTOMER_ID'] = test['CUSTOMER_ID']\n",
    "sub['RESPONDERS'] = preds1"
   ]
  },
  {
   "cell_type": "code",
   "execution_count": 182,
   "metadata": {
    "collapsed": true
   },
   "outputs": [],
   "source": [
    "sub.to_csv('submissions/xgb_single_three.csv', index=False) ## 54 - score dropping."
   ]
  },
  {
   "cell_type": "code",
   "execution_count": null,
   "metadata": {
    "collapsed": true
   },
   "outputs": [],
   "source": []
  },
  {
   "cell_type": "markdown",
   "metadata": {},
   "source": [
    "### XGB BAGGED"
   ]
  },
  {
   "cell_type": "code",
   "execution_count": 117,
   "metadata": {
    "collapsed": true
   },
   "outputs": [],
   "source": [
    "oof_train = pd.DataFrame({'CUSTOMER_ID':train['CUSTOMER_ID'], 'RESPONDERS':0})\n",
    "allpredictions = pd.DataFrame()\n",
    "score = []"
   ]
  },
  {
   "cell_type": "code",
   "execution_count": 118,
   "metadata": {
    "collapsed": false,
    "scrolled": true
   },
   "outputs": [
    {
     "name": "stdout",
     "output_type": "stream",
     "text": [
      "Fold 1/7\n"
     ]
    },
    {
     "name": "stderr",
     "output_type": "stream",
     "text": [
      "/home/manish/anaconda2/envs/py35/lib/python3.5/site-packages/ipykernel/__main__.py:10: UserWarning: Boolean Series key will be reindexed to match DataFrame index.\n"
     ]
    },
    {
     "name": "stdout",
     "output_type": "stream",
     "text": [
      "[0]\ttrain-auc:0.818001\tvalid-auc:0.812239\n",
      "Multiple eval metrics have been passed: 'valid-auc' will be used for early stopping.\n",
      "\n",
      "Will train until valid-auc hasn't improved in 40 rounds.\n",
      "[20]\ttrain-auc:0.86827\tvalid-auc:0.862023\n",
      "[40]\ttrain-auc:0.8741\tvalid-auc:0.865919\n",
      "[60]\ttrain-auc:0.880807\tvalid-auc:0.869118\n",
      "[80]\ttrain-auc:0.889309\tvalid-auc:0.873141\n",
      "[100]\ttrain-auc:0.896446\tvalid-auc:0.874864\n",
      "[120]\ttrain-auc:0.901552\tvalid-auc:0.876413\n",
      "[140]\ttrain-auc:0.906566\tvalid-auc:0.877953\n",
      "[160]\ttrain-auc:0.911221\tvalid-auc:0.878617\n",
      "[180]\ttrain-auc:0.915605\tvalid-auc:0.879051\n",
      "[200]\ttrain-auc:0.919098\tvalid-auc:0.878762\n",
      "[220]\ttrain-auc:0.922772\tvalid-auc:0.878656\n",
      "Stopping. Best iteration:\n",
      "[184]\ttrain-auc:0.91632\tvalid-auc:0.879062\n",
      "\n",
      "Fold 2/7\n",
      "[0]\ttrain-auc:0.81847\tvalid-auc:0.815435\n",
      "Multiple eval metrics have been passed: 'valid-auc' will be used for early stopping.\n",
      "\n",
      "Will train until valid-auc hasn't improved in 40 rounds.\n",
      "[20]\ttrain-auc:0.867088\tvalid-auc:0.866811\n",
      "[40]\ttrain-auc:0.87394\tvalid-auc:0.868168\n",
      "[60]\ttrain-auc:0.880871\tvalid-auc:0.871018\n",
      "[80]\ttrain-auc:0.888198\tvalid-auc:0.874824\n",
      "[100]\ttrain-auc:0.894507\tvalid-auc:0.877137\n",
      "[120]\ttrain-auc:0.900394\tvalid-auc:0.878931\n",
      "[140]\ttrain-auc:0.905229\tvalid-auc:0.879502\n",
      "[160]\ttrain-auc:0.909304\tvalid-auc:0.879928\n",
      "[180]\ttrain-auc:0.913072\tvalid-auc:0.880034\n",
      "[200]\ttrain-auc:0.916172\tvalid-auc:0.880347\n",
      "[220]\ttrain-auc:0.919401\tvalid-auc:0.880388\n",
      "[240]\ttrain-auc:0.92247\tvalid-auc:0.8804\n",
      "[260]\ttrain-auc:0.925868\tvalid-auc:0.880523\n",
      "Stopping. Best iteration:\n",
      "[229]\ttrain-auc:0.920698\tvalid-auc:0.880848\n",
      "\n",
      "Fold 3/7\n",
      "[0]\ttrain-auc:0.791199\tvalid-auc:0.797469\n",
      "Multiple eval metrics have been passed: 'valid-auc' will be used for early stopping.\n",
      "\n",
      "Will train until valid-auc hasn't improved in 40 rounds.\n",
      "[20]\ttrain-auc:0.865563\tvalid-auc:0.865545\n",
      "[40]\ttrain-auc:0.874513\tvalid-auc:0.869471\n",
      "[60]\ttrain-auc:0.882127\tvalid-auc:0.87256\n",
      "[80]\ttrain-auc:0.890391\tvalid-auc:0.876832\n",
      "[100]\ttrain-auc:0.896953\tvalid-auc:0.879065\n",
      "[120]\ttrain-auc:0.902252\tvalid-auc:0.879978\n",
      "[140]\ttrain-auc:0.9072\tvalid-auc:0.879746\n"
     ]
    },
    {
     "ename": "KeyboardInterrupt",
     "evalue": "",
     "output_type": "error",
     "traceback": [
      "\u001b[0;31m---------------------------------------------------------------------------\u001b[0m",
      "\u001b[0;31mKeyboardInterrupt\u001b[0m                         Traceback (most recent call last)",
      "\u001b[0;32m<ipython-input-118-d737d31cbf99>\u001b[0m in \u001b[0;36m<module>\u001b[0;34m()\u001b[0m\n\u001b[1;32m     27\u001b[0m                     \u001b[0mearly_stopping_rounds\u001b[0m\u001b[0;34m=\u001b[0m\u001b[0;36m40\u001b[0m\u001b[0;34m,\u001b[0m\u001b[0;34m\u001b[0m\u001b[0m\n\u001b[1;32m     28\u001b[0m                     \u001b[0mverbose_eval\u001b[0m\u001b[0;34m=\u001b[0m\u001b[0;36m20\u001b[0m\u001b[0;34m,\u001b[0m\u001b[0;34m\u001b[0m\u001b[0m\n\u001b[0;32m---> 29\u001b[0;31m                     maximize = True)\n\u001b[0m\u001b[1;32m     30\u001b[0m \u001b[0;34m\u001b[0m\u001b[0m\n\u001b[1;32m     31\u001b[0m     \u001b[0mpred1\u001b[0m \u001b[0;34m=\u001b[0m \u001b[0mclf\u001b[0m\u001b[0;34m.\u001b[0m\u001b[0mpredict\u001b[0m\u001b[0;34m(\u001b[0m\u001b[0mdvalid\u001b[0m\u001b[0;34m)\u001b[0m\u001b[0;34m\u001b[0m\u001b[0m\n",
      "\u001b[0;32m/home/manish/anaconda2/envs/py35/lib/python3.5/site-packages/xgboost/training.py\u001b[0m in \u001b[0;36mtrain\u001b[0;34m(params, dtrain, num_boost_round, evals, obj, feval, maximize, early_stopping_rounds, evals_result, verbose_eval, learning_rates, xgb_model, callbacks)\u001b[0m\n\u001b[1;32m    203\u001b[0m                            \u001b[0mevals\u001b[0m\u001b[0;34m=\u001b[0m\u001b[0mevals\u001b[0m\u001b[0;34m,\u001b[0m\u001b[0;34m\u001b[0m\u001b[0m\n\u001b[1;32m    204\u001b[0m                            \u001b[0mobj\u001b[0m\u001b[0;34m=\u001b[0m\u001b[0mobj\u001b[0m\u001b[0;34m,\u001b[0m \u001b[0mfeval\u001b[0m\u001b[0;34m=\u001b[0m\u001b[0mfeval\u001b[0m\u001b[0;34m,\u001b[0m\u001b[0;34m\u001b[0m\u001b[0m\n\u001b[0;32m--> 205\u001b[0;31m                            xgb_model=xgb_model, callbacks=callbacks)\n\u001b[0m\u001b[1;32m    206\u001b[0m \u001b[0;34m\u001b[0m\u001b[0m\n\u001b[1;32m    207\u001b[0m \u001b[0;34m\u001b[0m\u001b[0m\n",
      "\u001b[0;32m/home/manish/anaconda2/envs/py35/lib/python3.5/site-packages/xgboost/training.py\u001b[0m in \u001b[0;36m_train_internal\u001b[0;34m(params, dtrain, num_boost_round, evals, obj, feval, xgb_model, callbacks)\u001b[0m\n\u001b[1;32m     74\u001b[0m         \u001b[0;31m# Skip the first update if it is a recovery step.\u001b[0m\u001b[0;34m\u001b[0m\u001b[0;34m\u001b[0m\u001b[0m\n\u001b[1;32m     75\u001b[0m         \u001b[0;32mif\u001b[0m \u001b[0mversion\u001b[0m \u001b[0;34m%\u001b[0m \u001b[0;36m2\u001b[0m \u001b[0;34m==\u001b[0m \u001b[0;36m0\u001b[0m\u001b[0;34m:\u001b[0m\u001b[0;34m\u001b[0m\u001b[0m\n\u001b[0;32m---> 76\u001b[0;31m             \u001b[0mbst\u001b[0m\u001b[0;34m.\u001b[0m\u001b[0mupdate\u001b[0m\u001b[0;34m(\u001b[0m\u001b[0mdtrain\u001b[0m\u001b[0;34m,\u001b[0m \u001b[0mi\u001b[0m\u001b[0;34m,\u001b[0m \u001b[0mobj\u001b[0m\u001b[0;34m)\u001b[0m\u001b[0;34m\u001b[0m\u001b[0m\n\u001b[0m\u001b[1;32m     77\u001b[0m             \u001b[0mbst\u001b[0m\u001b[0;34m.\u001b[0m\u001b[0msave_rabit_checkpoint\u001b[0m\u001b[0;34m(\u001b[0m\u001b[0;34m)\u001b[0m\u001b[0;34m\u001b[0m\u001b[0m\n\u001b[1;32m     78\u001b[0m             \u001b[0mversion\u001b[0m \u001b[0;34m+=\u001b[0m \u001b[0;36m1\u001b[0m\u001b[0;34m\u001b[0m\u001b[0m\n",
      "\u001b[0;32m/home/manish/anaconda2/envs/py35/lib/python3.5/site-packages/xgboost/core.py\u001b[0m in \u001b[0;36mupdate\u001b[0;34m(self, dtrain, iteration, fobj)\u001b[0m\n\u001b[1;32m    804\u001b[0m \u001b[0;34m\u001b[0m\u001b[0m\n\u001b[1;32m    805\u001b[0m         \u001b[0;32mif\u001b[0m \u001b[0mfobj\u001b[0m \u001b[0;32mis\u001b[0m \u001b[0;32mNone\u001b[0m\u001b[0;34m:\u001b[0m\u001b[0;34m\u001b[0m\u001b[0m\n\u001b[0;32m--> 806\u001b[0;31m             \u001b[0m_check_call\u001b[0m\u001b[0;34m(\u001b[0m\u001b[0m_LIB\u001b[0m\u001b[0;34m.\u001b[0m\u001b[0mXGBoosterUpdateOneIter\u001b[0m\u001b[0;34m(\u001b[0m\u001b[0mself\u001b[0m\u001b[0;34m.\u001b[0m\u001b[0mhandle\u001b[0m\u001b[0;34m,\u001b[0m \u001b[0miteration\u001b[0m\u001b[0;34m,\u001b[0m \u001b[0mdtrain\u001b[0m\u001b[0;34m.\u001b[0m\u001b[0mhandle\u001b[0m\u001b[0;34m)\u001b[0m\u001b[0;34m)\u001b[0m\u001b[0;34m\u001b[0m\u001b[0m\n\u001b[0m\u001b[1;32m    807\u001b[0m         \u001b[0;32melse\u001b[0m\u001b[0;34m:\u001b[0m\u001b[0;34m\u001b[0m\u001b[0m\n\u001b[1;32m    808\u001b[0m             \u001b[0mpred\u001b[0m \u001b[0;34m=\u001b[0m \u001b[0mself\u001b[0m\u001b[0;34m.\u001b[0m\u001b[0mpredict\u001b[0m\u001b[0;34m(\u001b[0m\u001b[0mdtrain\u001b[0m\u001b[0;34m)\u001b[0m\u001b[0;34m\u001b[0m\u001b[0m\n",
      "\u001b[0;31mKeyboardInterrupt\u001b[0m: "
     ]
    }
   ],
   "source": [
    "increase = True\n",
    "for i, (train_index, test_index) in enumerate(skf.split(train, target)):\n",
    "    print('Fold %d/%d'%(i+1, nfolds))\n",
    "    X_train, X_valid = train.iloc[train_index], train.iloc[test_index]\n",
    "    y_train, y_valid = target.iloc[train_index], target.iloc[test_index]\n",
    "    \n",
    "    if increase:\n",
    "        pos = pd.Series(target == 1)\n",
    "\n",
    "        X_train = pd.concat([X_train, X_train[pos]], axis=0)\n",
    "        y_train = pd.concat([y_train, y_train.loc[pos]], axis=0)\n",
    "        \n",
    "        idx = np.arange(len(X_train))\n",
    "        np.random.shuffle(idx)\n",
    "        X_train = X_train.iloc[idx]\n",
    "        y_train = y_train.iloc[idx]\n",
    "    \n",
    "    dtrain = xgb.DMatrix(X_train[feature_names], label=y_train, missing=-1)\n",
    "    dvalid = xgb.DMatrix(X_valid[feature_names], label=y_valid, missing = -1)\n",
    "    \n",
    "    watchlist = [(dtrain, 'train'),(dvalid,'valid')]\n",
    "    \n",
    "    clf = xgb.train(params,\n",
    "                    dtrain,\n",
    "                    num_boost_round=10000,\n",
    "                    evals=watchlist,\n",
    "                    early_stopping_rounds=40,\n",
    "                    verbose_eval=20,\n",
    "                    maximize = True)\n",
    "    \n",
    "    pred1 = clf.predict(dvalid)\n",
    "    oof_train.loc[test_index, 'RESPONDERS'] = pred1\n",
    "    \n",
    "    scr = roc_auc_score(y_valid, pred1)\n",
    "    dtest = xgb.DMatrix(test[feature_names], missing= - 1)\n",
    "    preds2 = clf.predict(dtest)\n",
    "    \n",
    "    allpredictions['p'+str(i)] = preds2\n",
    "    score.append(scr)\n",
    "    \n",
    "    del X_train, X_valid, y_train, y_valid, clf, pred1"
   ]
  },
  {
   "cell_type": "code",
   "execution_count": 85,
   "metadata": {
    "collapsed": false
   },
   "outputs": [
    {
     "data": {
      "text/plain": [
       "0.87486859626379154"
      ]
     },
     "execution_count": 85,
     "metadata": {},
     "output_type": "execute_result"
    }
   ],
   "source": [
    "np.mean(score)"
   ]
  },
  {
   "cell_type": "code",
   "execution_count": 87,
   "metadata": {
    "collapsed": true
   },
   "outputs": [],
   "source": [
    "oof_train.to_csv('submissions/oof_preds/xgb_train1.csv', index=False)"
   ]
  },
  {
   "cell_type": "code",
   "execution_count": 88,
   "metadata": {
    "collapsed": false
   },
   "outputs": [
    {
     "data": {
      "text/html": [
       "<div>\n",
       "<table border=\"1\" class=\"dataframe\">\n",
       "  <thead>\n",
       "    <tr style=\"text-align: right;\">\n",
       "      <th></th>\n",
       "      <th>p0</th>\n",
       "      <th>p1</th>\n",
       "      <th>p2</th>\n",
       "      <th>p3</th>\n",
       "      <th>p4</th>\n",
       "      <th>p5</th>\n",
       "      <th>p6</th>\n",
       "    </tr>\n",
       "  </thead>\n",
       "  <tbody>\n",
       "    <tr>\n",
       "      <th>0</th>\n",
       "      <td>0.010397</td>\n",
       "      <td>0.009606</td>\n",
       "      <td>0.009854</td>\n",
       "      <td>0.011680</td>\n",
       "      <td>0.007875</td>\n",
       "      <td>0.006835</td>\n",
       "      <td>0.016271</td>\n",
       "    </tr>\n",
       "    <tr>\n",
       "      <th>1</th>\n",
       "      <td>0.013806</td>\n",
       "      <td>0.010962</td>\n",
       "      <td>0.016313</td>\n",
       "      <td>0.011847</td>\n",
       "      <td>0.025325</td>\n",
       "      <td>0.015108</td>\n",
       "      <td>0.021205</td>\n",
       "    </tr>\n",
       "    <tr>\n",
       "      <th>2</th>\n",
       "      <td>0.001101</td>\n",
       "      <td>0.001163</td>\n",
       "      <td>0.001230</td>\n",
       "      <td>0.001291</td>\n",
       "      <td>0.001350</td>\n",
       "      <td>0.001239</td>\n",
       "      <td>0.001251</td>\n",
       "    </tr>\n",
       "    <tr>\n",
       "      <th>3</th>\n",
       "      <td>0.001208</td>\n",
       "      <td>0.001245</td>\n",
       "      <td>0.001334</td>\n",
       "      <td>0.001174</td>\n",
       "      <td>0.001164</td>\n",
       "      <td>0.001158</td>\n",
       "      <td>0.001206</td>\n",
       "    </tr>\n",
       "    <tr>\n",
       "      <th>4</th>\n",
       "      <td>0.025599</td>\n",
       "      <td>0.020299</td>\n",
       "      <td>0.031069</td>\n",
       "      <td>0.028825</td>\n",
       "      <td>0.015245</td>\n",
       "      <td>0.033325</td>\n",
       "      <td>0.023601</td>\n",
       "    </tr>\n",
       "  </tbody>\n",
       "</table>\n",
       "</div>"
      ],
      "text/plain": [
       "         p0        p1        p2        p3        p4        p5        p6\n",
       "0  0.010397  0.009606  0.009854  0.011680  0.007875  0.006835  0.016271\n",
       "1  0.013806  0.010962  0.016313  0.011847  0.025325  0.015108  0.021205\n",
       "2  0.001101  0.001163  0.001230  0.001291  0.001350  0.001239  0.001251\n",
       "3  0.001208  0.001245  0.001334  0.001174  0.001164  0.001158  0.001206\n",
       "4  0.025599  0.020299  0.031069  0.028825  0.015245  0.033325  0.023601"
      ]
     },
     "execution_count": 88,
     "metadata": {},
     "output_type": "execute_result"
    }
   ],
   "source": [
    "allpredictions.head()"
   ]
  },
  {
   "cell_type": "code",
   "execution_count": 89,
   "metadata": {
    "collapsed": true
   },
   "outputs": [],
   "source": [
    "sub = pd.read_csv('sample_submission_ROqqAAN.csv')\n",
    "sub['CUSTOMER_ID'] = test['CUSTOMER_ID']\n",
    "sub['RESPONDERS'] = allpredictions.mean(axis=1).values"
   ]
  },
  {
   "cell_type": "code",
   "execution_count": 90,
   "metadata": {
    "collapsed": true
   },
   "outputs": [],
   "source": [
    "sub.to_csv('submissions/xgb_bagging_seven.csv', index=False) # 0.58"
   ]
  },
  {
   "cell_type": "code",
   "execution_count": null,
   "metadata": {
    "collapsed": true
   },
   "outputs": [],
   "source": []
  }
 ],
 "metadata": {
  "kernelspec": {
   "display_name": "Python 3",
   "language": "python",
   "name": "python3"
  },
  "language_info": {
   "codemirror_mode": {
    "name": "ipython",
    "version": 3
   },
   "file_extension": ".py",
   "mimetype": "text/x-python",
   "name": "python",
   "nbconvert_exporter": "python",
   "pygments_lexer": "ipython3",
   "version": "3.5.2"
  }
 },
 "nbformat": 4,
 "nbformat_minor": 2
}
